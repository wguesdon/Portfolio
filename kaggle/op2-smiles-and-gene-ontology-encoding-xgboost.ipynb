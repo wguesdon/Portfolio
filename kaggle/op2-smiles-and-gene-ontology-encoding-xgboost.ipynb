{
 "cells": [
  {
   "cell_type": "markdown",
   "id": "ef0e9df5",
   "metadata": {
    "papermill": {
     "duration": 0.004033,
     "end_time": "2023-10-24T09:36:17.687267",
     "exception": false,
     "start_time": "2023-10-24T09:36:17.683234",
     "status": "completed"
    },
    "tags": []
   },
   "source": [
    "# OP2 - SMILES and Gene Ontology encoding - XGBoost Model"
   ]
  },
  {
   "cell_type": "markdown",
   "id": "238f42c4",
   "metadata": {
    "papermill": {
     "duration": 0.003562,
     "end_time": "2023-10-24T09:36:17.694496",
     "exception": false,
     "start_time": "2023-10-24T09:36:17.690934",
     "status": "completed"
    },
    "tags": []
   },
   "source": [
    "In this notebook, I tried using a dataset with SMILES and Gene Ontology encoding to train an XGBoost model. \n",
    "So far, I have gotten strong overfitting issues on the original dataset and the one with SMILES and Gene Ontology encoding. I will run hyperparameters tunning with Optuna next.\n",
    "In parallel, I will work on processing the ATAC-seq as it is likely where I could get interesting new features. \n",
    "Gene Ontology seems to have been a miss. SMILES embedding could be helpful if combined with ATAC-seq."
   ]
  },
  {
   "cell_type": "code",
   "execution_count": 1,
   "id": "881a1e8a",
   "metadata": {
    "execution": {
     "iopub.execute_input": "2023-10-24T09:36:17.703007Z",
     "iopub.status.busy": "2023-10-24T09:36:17.702603Z",
     "iopub.status.idle": "2023-10-24T09:36:19.614865Z",
     "shell.execute_reply": "2023-10-24T09:36:19.613985Z"
    },
    "id": "kZ-H-rVshDCm",
    "papermill": {
     "duration": 1.919541,
     "end_time": "2023-10-24T09:36:19.617404",
     "exception": false,
     "start_time": "2023-10-24T09:36:17.697863",
     "status": "completed"
    },
    "tags": []
   },
   "outputs": [
    {
     "name": "stderr",
     "output_type": "stream",
     "text": [
      "/opt/conda/lib/python3.10/site-packages/scipy/__init__.py:146: UserWarning: A NumPy version >=1.16.5 and <1.23.0 is required for this version of SciPy (detected version 1.23.5\n",
      "  warnings.warn(f\"A NumPy version >={np_minversion} and <{np_maxversion}\"\n"
     ]
    }
   ],
   "source": [
    "# Load libraries\n",
    "import datetime\n",
    "\n",
    "import pandas as pd\n",
    "import numpy as np\n",
    "\n",
    "import xgboost as xgb\n",
    "\n",
    "from sklearn.model_selection import train_test_split\n",
    "from sklearn.preprocessing import OneHotEncoder\n",
    "\n",
    "import matplotlib.pyplot as plt"
   ]
  },
  {
   "cell_type": "code",
   "execution_count": 2,
   "id": "2fa54bdf",
   "metadata": {
    "execution": {
     "iopub.execute_input": "2023-10-24T09:36:19.626459Z",
     "iopub.status.busy": "2023-10-24T09:36:19.626012Z",
     "iopub.status.idle": "2023-10-24T09:36:22.314064Z",
     "shell.execute_reply": "2023-10-24T09:36:22.312750Z"
    },
    "papermill": {
     "duration": 2.695516,
     "end_time": "2023-10-24T09:36:22.316723",
     "exception": false,
     "start_time": "2023-10-24T09:36:19.621207",
     "status": "completed"
    },
    "tags": []
   },
   "outputs": [],
   "source": [
    "# Read data\n",
    "df = pd.read_parquet(\"/kaggle/input/op2-train-v3/train_v3_20231023_1630.parquet\")"
   ]
  },
  {
   "cell_type": "code",
   "execution_count": 3,
   "id": "04141510",
   "metadata": {
    "execution": {
     "iopub.execute_input": "2023-10-24T09:36:22.325789Z",
     "iopub.status.busy": "2023-10-24T09:36:22.325096Z",
     "iopub.status.idle": "2023-10-24T09:36:22.373743Z",
     "shell.execute_reply": "2023-10-24T09:36:22.372618Z"
    },
    "papermill": {
     "duration": 0.055516,
     "end_time": "2023-10-24T09:36:22.376054",
     "exception": false,
     "start_time": "2023-10-24T09:36:22.320538",
     "status": "completed"
    },
    "tags": []
   },
   "outputs": [],
   "source": [
    "# shuffle the data\n",
    "df = df.sample(frac=1.0, random_state=42)"
   ]
  },
  {
   "cell_type": "code",
   "execution_count": 4,
   "id": "a8b9054a",
   "metadata": {
    "execution": {
     "iopub.execute_input": "2023-10-24T09:36:22.384754Z",
     "iopub.status.busy": "2023-10-24T09:36:22.384374Z",
     "iopub.status.idle": "2023-10-24T09:36:22.417458Z",
     "shell.execute_reply": "2023-10-24T09:36:22.416534Z"
    },
    "papermill": {
     "duration": 0.039852,
     "end_time": "2023-10-24T09:36:22.419548",
     "exception": false,
     "start_time": "2023-10-24T09:36:22.379696",
     "status": "completed"
    },
    "tags": []
   },
   "outputs": [
    {
     "data": {
      "text/html": [
       "<div>\n",
       "<style scoped>\n",
       "    .dataframe tbody tr th:only-of-type {\n",
       "        vertical-align: middle;\n",
       "    }\n",
       "\n",
       "    .dataframe tbody tr th {\n",
       "        vertical-align: top;\n",
       "    }\n",
       "\n",
       "    .dataframe thead th {\n",
       "        text-align: right;\n",
       "    }\n",
       "</style>\n",
       "<table border=\"1\" class=\"dataframe\">\n",
       "  <thead>\n",
       "    <tr style=\"text-align: right;\">\n",
       "      <th></th>\n",
       "      <th>cell_type</th>\n",
       "      <th>SMILES</th>\n",
       "      <th>A1BG</th>\n",
       "      <th>A1BG-AS1</th>\n",
       "      <th>A2M</th>\n",
       "      <th>A2M-AS1</th>\n",
       "      <th>A2MP1</th>\n",
       "      <th>A4GALT</th>\n",
       "      <th>AAAS</th>\n",
       "      <th>AACS</th>\n",
       "      <th>...</th>\n",
       "      <th>PC16</th>\n",
       "      <th>PC17</th>\n",
       "      <th>PC18</th>\n",
       "      <th>PC19</th>\n",
       "      <th>PC20</th>\n",
       "      <th>PC21</th>\n",
       "      <th>PC22</th>\n",
       "      <th>PC23</th>\n",
       "      <th>PC24</th>\n",
       "      <th>PC25</th>\n",
       "    </tr>\n",
       "  </thead>\n",
       "  <tbody>\n",
       "    <tr>\n",
       "      <th>350</th>\n",
       "      <td>T cells CD8+</td>\n",
       "      <td>Cn1cnc(-c2cc3nccc(Oc4ccc(NC(=S)NC(=O)Cc5ccccc5...</td>\n",
       "      <td>-0.148396</td>\n",
       "      <td>-0.339036</td>\n",
       "      <td>-0.482793</td>\n",
       "      <td>-0.474863</td>\n",
       "      <td>-0.115407</td>\n",
       "      <td>-0.899532</td>\n",
       "      <td>-0.190660</td>\n",
       "      <td>0.173307</td>\n",
       "      <td>...</td>\n",
       "      <td>10.386874</td>\n",
       "      <td>1.312953</td>\n",
       "      <td>0.085567</td>\n",
       "      <td>-5.904007</td>\n",
       "      <td>5.844978</td>\n",
       "      <td>18.896633</td>\n",
       "      <td>3.886024</td>\n",
       "      <td>27.937873</td>\n",
       "      <td>-15.169586</td>\n",
       "      <td>-1.710256</td>\n",
       "    </tr>\n",
       "    <tr>\n",
       "      <th>377</th>\n",
       "      <td>T cells CD8+</td>\n",
       "      <td>CC(C)C[C@H](NC(=O)CNC(=O)c1cc(Cl)ccc1Cl)B(O)O</td>\n",
       "      <td>-0.732587</td>\n",
       "      <td>-0.985970</td>\n",
       "      <td>-2.687669</td>\n",
       "      <td>-4.131173</td>\n",
       "      <td>-6.378904</td>\n",
       "      <td>-6.908058</td>\n",
       "      <td>-0.076590</td>\n",
       "      <td>-0.410899</td>\n",
       "      <td>...</td>\n",
       "      <td>-0.712488</td>\n",
       "      <td>-3.206550</td>\n",
       "      <td>4.464322</td>\n",
       "      <td>-4.885891</td>\n",
       "      <td>2.296637</td>\n",
       "      <td>18.896633</td>\n",
       "      <td>3.886024</td>\n",
       "      <td>27.937873</td>\n",
       "      <td>-15.169586</td>\n",
       "      <td>-1.710256</td>\n",
       "    </tr>\n",
       "    <tr>\n",
       "      <th>163</th>\n",
       "      <td>T cells CD4+</td>\n",
       "      <td>CC#CCn1c(N2CCC[C@@H](N)C2)nc2c1c(=O)n(Cc1nc(C)...</td>\n",
       "      <td>-0.177178</td>\n",
       "      <td>-0.124321</td>\n",
       "      <td>-0.088521</td>\n",
       "      <td>0.363095</td>\n",
       "      <td>-0.491432</td>\n",
       "      <td>0.100916</td>\n",
       "      <td>0.273153</td>\n",
       "      <td>0.276244</td>\n",
       "      <td>...</td>\n",
       "      <td>6.997824</td>\n",
       "      <td>9.931127</td>\n",
       "      <td>11.410383</td>\n",
       "      <td>-1.872614</td>\n",
       "      <td>-5.124198</td>\n",
       "      <td>-84.672927</td>\n",
       "      <td>11.162104</td>\n",
       "      <td>13.415639</td>\n",
       "      <td>22.031963</td>\n",
       "      <td>-0.965761</td>\n",
       "    </tr>\n",
       "    <tr>\n",
       "      <th>609</th>\n",
       "      <td>Myeloid cells</td>\n",
       "      <td>OC1(c2ccc(Cl)c(C(F)(F)F)c2)CCN(CCCC(c2ccc(F)cc...</td>\n",
       "      <td>-0.410827</td>\n",
       "      <td>0.055503</td>\n",
       "      <td>0.567753</td>\n",
       "      <td>0.943381</td>\n",
       "      <td>-0.218468</td>\n",
       "      <td>0.046093</td>\n",
       "      <td>-0.448680</td>\n",
       "      <td>0.055947</td>\n",
       "      <td>...</td>\n",
       "      <td>6.302186</td>\n",
       "      <td>-2.556960</td>\n",
       "      <td>-7.056148</td>\n",
       "      <td>5.333351</td>\n",
       "      <td>-0.048229</td>\n",
       "      <td>-112.705926</td>\n",
       "      <td>-23.501320</td>\n",
       "      <td>-15.499055</td>\n",
       "      <td>-4.531414</td>\n",
       "      <td>-8.835039</td>\n",
       "    </tr>\n",
       "    <tr>\n",
       "      <th>132</th>\n",
       "      <td>NK cells</td>\n",
       "      <td>Cc1cnc(-c2cnc(NCCNc3ccc(C#N)cn3)nc2-c2ccc(Cl)c...</td>\n",
       "      <td>-1.026443</td>\n",
       "      <td>-0.024840</td>\n",
       "      <td>0.204772</td>\n",
       "      <td>-0.861985</td>\n",
       "      <td>-2.972540</td>\n",
       "      <td>0.466931</td>\n",
       "      <td>0.803999</td>\n",
       "      <td>0.007714</td>\n",
       "      <td>...</td>\n",
       "      <td>-4.383883</td>\n",
       "      <td>-6.332726</td>\n",
       "      <td>2.208390</td>\n",
       "      <td>1.616023</td>\n",
       "      <td>6.129006</td>\n",
       "      <td>70.234742</td>\n",
       "      <td>57.008103</td>\n",
       "      <td>-15.063747</td>\n",
       "      <td>-3.160472</td>\n",
       "      <td>0.046180</td>\n",
       "    </tr>\n",
       "  </tbody>\n",
       "</table>\n",
       "<p>5 rows × 18238 columns</p>\n",
       "</div>"
      ],
      "text/plain": [
       "         cell_type                                             SMILES  \\\n",
       "350   T cells CD8+  Cn1cnc(-c2cc3nccc(Oc4ccc(NC(=S)NC(=O)Cc5ccccc5...   \n",
       "377   T cells CD8+      CC(C)C[C@H](NC(=O)CNC(=O)c1cc(Cl)ccc1Cl)B(O)O   \n",
       "163   T cells CD4+  CC#CCn1c(N2CCC[C@@H](N)C2)nc2c1c(=O)n(Cc1nc(C)...   \n",
       "609  Myeloid cells  OC1(c2ccc(Cl)c(C(F)(F)F)c2)CCN(CCCC(c2ccc(F)cc...   \n",
       "132       NK cells  Cc1cnc(-c2cnc(NCCNc3ccc(C#N)cn3)nc2-c2ccc(Cl)c...   \n",
       "\n",
       "         A1BG  A1BG-AS1       A2M   A2M-AS1     A2MP1    A4GALT      AAAS  \\\n",
       "350 -0.148396 -0.339036 -0.482793 -0.474863 -0.115407 -0.899532 -0.190660   \n",
       "377 -0.732587 -0.985970 -2.687669 -4.131173 -6.378904 -6.908058 -0.076590   \n",
       "163 -0.177178 -0.124321 -0.088521  0.363095 -0.491432  0.100916  0.273153   \n",
       "609 -0.410827  0.055503  0.567753  0.943381 -0.218468  0.046093 -0.448680   \n",
       "132 -1.026443 -0.024840  0.204772 -0.861985 -2.972540  0.466931  0.803999   \n",
       "\n",
       "         AACS  ...       PC16      PC17       PC18      PC19      PC20  \\\n",
       "350  0.173307  ...  10.386874  1.312953   0.085567 -5.904007  5.844978   \n",
       "377 -0.410899  ...  -0.712488 -3.206550   4.464322 -4.885891  2.296637   \n",
       "163  0.276244  ...   6.997824  9.931127  11.410383 -1.872614 -5.124198   \n",
       "609  0.055947  ...   6.302186 -2.556960  -7.056148  5.333351 -0.048229   \n",
       "132  0.007714  ...  -4.383883 -6.332726   2.208390  1.616023  6.129006   \n",
       "\n",
       "           PC21       PC22       PC23       PC24      PC25  \n",
       "350   18.896633   3.886024  27.937873 -15.169586 -1.710256  \n",
       "377   18.896633   3.886024  27.937873 -15.169586 -1.710256  \n",
       "163  -84.672927  11.162104  13.415639  22.031963 -0.965761  \n",
       "609 -112.705926 -23.501320 -15.499055  -4.531414 -8.835039  \n",
       "132   70.234742  57.008103 -15.063747  -3.160472  0.046180  \n",
       "\n",
       "[5 rows x 18238 columns]"
      ]
     },
     "execution_count": 4,
     "metadata": {},
     "output_type": "execute_result"
    }
   ],
   "source": [
    "# Pre process data\n",
    "df.head()"
   ]
  },
  {
   "cell_type": "code",
   "execution_count": 5,
   "id": "dba6fee7",
   "metadata": {
    "execution": {
     "iopub.execute_input": "2023-10-24T09:36:22.428299Z",
     "iopub.status.busy": "2023-10-24T09:36:22.427997Z",
     "iopub.status.idle": "2023-10-24T09:36:22.650264Z",
     "shell.execute_reply": "2023-10-24T09:36:22.649093Z"
    },
    "papermill": {
     "duration": 0.229389,
     "end_time": "2023-10-24T09:36:22.652746",
     "exception": false,
     "start_time": "2023-10-24T09:36:22.423357",
     "status": "completed"
    },
    "tags": []
   },
   "outputs": [],
   "source": [
    "# One-hot encode 'cell_type'\n",
    "encoder = OneHotEncoder(sparse_output=False)\n",
    "cell_type_encoded = encoder.fit_transform(df[['cell_type']])\n",
    "cell_type_df = pd.DataFrame(cell_type_encoded, columns=encoder.get_feature_names_out(['cell_type']))\n",
    "\n",
    "# Drop the 'SMILES' and 'cell_type' columns\n",
    "df.drop(['SMILES', 'cell_type'], axis=1, inplace=True)\n",
    "\n",
    "# Concatenate one-hot encoded 'cell_type' to the DataFrame\n",
    "df = pd.concat([cell_type_df, df], axis=1)\n",
    "\n",
    "# Separate the features (X) and labels (y)\n",
    "feature_cols = list(cell_type_df.columns) + [f'PC{i+1}' for i in range(25)]\n",
    "X = df[feature_cols]\n",
    "y = df.drop(feature_cols, axis=1)\n",
    "\n",
    "# Split data into training and test sets\n",
    "X_temp, X_test, y_temp, y_test = train_test_split(X, y, test_size=0.2, random_state=42)\n",
    "X_train, X_val, y_train, y_val = train_test_split(X_temp, y_temp, test_size=0.25, random_state=42)"
   ]
  },
  {
   "cell_type": "code",
   "execution_count": 6,
   "id": "752a1c2b",
   "metadata": {
    "execution": {
     "iopub.execute_input": "2023-10-24T09:36:22.662084Z",
     "iopub.status.busy": "2023-10-24T09:36:22.661742Z",
     "iopub.status.idle": "2023-10-24T09:36:22.668031Z",
     "shell.execute_reply": "2023-10-24T09:36:22.667040Z"
    },
    "papermill": {
     "duration": 0.013125,
     "end_time": "2023-10-24T09:36:22.669972",
     "exception": false,
     "start_time": "2023-10-24T09:36:22.656847",
     "status": "completed"
    },
    "tags": []
   },
   "outputs": [],
   "source": [
    "# Define custom metric (Mean Rowwise Root Mean Squared Error)\n",
    "def mrrmse(preds, dtrain):\n",
    "    labels = dtrain.get_label()\n",
    "    n = labels.shape[1] if len(labels.shape) > 1 else 1  # Get the number of columns\n",
    "    labels_reshaped = labels.reshape(-1, n)\n",
    "    preds_reshaped = preds.reshape(-1, n)\n",
    "    rowwise_errors = np.mean(np.square(labels_reshaped - preds_reshaped), axis=1)\n",
    "    return 'MRRMSE', np.sqrt(np.mean(rowwise_errors))"
   ]
  },
  {
   "cell_type": "code",
   "execution_count": 7,
   "id": "6939472b",
   "metadata": {
    "execution": {
     "iopub.execute_input": "2023-10-24T09:36:22.678851Z",
     "iopub.status.busy": "2023-10-24T09:36:22.678581Z",
     "iopub.status.idle": "2023-10-24T09:42:58.939744Z",
     "shell.execute_reply": "2023-10-24T09:42:58.938733Z"
    },
    "papermill": {
     "duration": 396.26812,
     "end_time": "2023-10-24T09:42:58.942168",
     "exception": false,
     "start_time": "2023-10-24T09:36:22.674048",
     "status": "completed"
    },
    "tags": []
   },
   "outputs": [
    {
     "name": "stdout",
     "output_type": "stream",
     "text": [
      "[0]\ttrain-rmse:2.30661\ttrain-MRRMSE:2.30661\teval-rmse:2.46678\teval-MRRMSE:2.46678\n",
      "[1]\ttrain-rmse:2.27518\ttrain-MRRMSE:2.27518\teval-rmse:2.46022\teval-MRRMSE:2.46022\n",
      "[2]\ttrain-rmse:2.24488\ttrain-MRRMSE:2.24488\teval-rmse:2.45434\teval-MRRMSE:2.45434\n",
      "[3]\ttrain-rmse:2.21573\ttrain-MRRMSE:2.21573\teval-rmse:2.44909\teval-MRRMSE:2.44909\n",
      "[4]\ttrain-rmse:2.18761\ttrain-MRRMSE:2.18761\teval-rmse:2.44440\teval-MRRMSE:2.44440\n",
      "[5]\ttrain-rmse:2.16035\ttrain-MRRMSE:2.16035\teval-rmse:2.44014\teval-MRRMSE:2.44014\n",
      "[6]\ttrain-rmse:2.13419\ttrain-MRRMSE:2.13419\teval-rmse:2.43640\teval-MRRMSE:2.43640\n",
      "[7]\ttrain-rmse:2.10881\ttrain-MRRMSE:2.10881\teval-rmse:2.43321\teval-MRRMSE:2.43321\n",
      "[8]\ttrain-rmse:2.08442\ttrain-MRRMSE:2.08442\teval-rmse:2.43042\teval-MRRMSE:2.43042\n",
      "[9]\ttrain-rmse:2.06064\ttrain-MRRMSE:2.06064\teval-rmse:2.42785\teval-MRRMSE:2.42785\n",
      "[10]\ttrain-rmse:2.03765\ttrain-MRRMSE:2.03765\teval-rmse:2.42552\teval-MRRMSE:2.42552\n",
      "[11]\ttrain-rmse:2.01566\ttrain-MRRMSE:2.01566\teval-rmse:2.42344\teval-MRRMSE:2.42344\n",
      "[12]\ttrain-rmse:1.99418\ttrain-MRRMSE:1.99419\teval-rmse:2.42170\teval-MRRMSE:2.42170\n",
      "[13]\ttrain-rmse:1.97338\ttrain-MRRMSE:1.97338\teval-rmse:2.42010\teval-MRRMSE:2.42010\n",
      "[14]\ttrain-rmse:1.95326\ttrain-MRRMSE:1.95326\teval-rmse:2.41895\teval-MRRMSE:2.41894\n",
      "[15]\ttrain-rmse:1.93375\ttrain-MRRMSE:1.93375\teval-rmse:2.41798\teval-MRRMSE:2.41798\n",
      "[16]\ttrain-rmse:1.91480\ttrain-MRRMSE:1.91480\teval-rmse:2.41713\teval-MRRMSE:2.41713\n",
      "[17]\ttrain-rmse:1.89646\ttrain-MRRMSE:1.89646\teval-rmse:2.41647\teval-MRRMSE:2.41647\n",
      "[18]\ttrain-rmse:1.87878\ttrain-MRRMSE:1.87878\teval-rmse:2.41590\teval-MRRMSE:2.41590\n",
      "[19]\ttrain-rmse:1.86154\ttrain-MRRMSE:1.86154\teval-rmse:2.41545\teval-MRRMSE:2.41545\n",
      "[20]\ttrain-rmse:1.84464\ttrain-MRRMSE:1.84464\teval-rmse:2.41519\teval-MRRMSE:2.41519\n",
      "[21]\ttrain-rmse:1.82833\ttrain-MRRMSE:1.82833\teval-rmse:2.41499\teval-MRRMSE:2.41499\n",
      "[22]\ttrain-rmse:1.81255\ttrain-MRRMSE:1.81255\teval-rmse:2.41496\teval-MRRMSE:2.41496\n",
      "[23]\ttrain-rmse:1.79714\ttrain-MRRMSE:1.79714\teval-rmse:2.41476\teval-MRRMSE:2.41475\n",
      "[24]\ttrain-rmse:1.78217\ttrain-MRRMSE:1.78217\teval-rmse:2.41480\teval-MRRMSE:2.41480\n",
      "[25]\ttrain-rmse:1.76737\ttrain-MRRMSE:1.76737\teval-rmse:2.41497\teval-MRRMSE:2.41497\n",
      "[26]\ttrain-rmse:1.75313\ttrain-MRRMSE:1.75313\teval-rmse:2.41503\teval-MRRMSE:2.41503\n",
      "[27]\ttrain-rmse:1.73927\ttrain-MRRMSE:1.73927\teval-rmse:2.41521\teval-MRRMSE:2.41521\n",
      "[28]\ttrain-rmse:1.72575\ttrain-MRRMSE:1.72575\teval-rmse:2.41546\teval-MRRMSE:2.41546\n",
      "[29]\ttrain-rmse:1.71252\ttrain-MRRMSE:1.71253\teval-rmse:2.41565\teval-MRRMSE:2.41565\n",
      "[30]\ttrain-rmse:1.69973\ttrain-MRRMSE:1.69973\teval-rmse:2.41602\teval-MRRMSE:2.41602\n",
      "[31]\ttrain-rmse:1.68724\ttrain-MRRMSE:1.68724\teval-rmse:2.41642\teval-MRRMSE:2.41642\n",
      "[32]\ttrain-rmse:1.67506\ttrain-MRRMSE:1.67505\teval-rmse:2.41677\teval-MRRMSE:2.41677\n",
      "[33]\ttrain-rmse:1.66317\ttrain-MRRMSE:1.66317\teval-rmse:2.41704\teval-MRRMSE:2.41704\n",
      "[34]\ttrain-rmse:1.65165\ttrain-MRRMSE:1.65165\teval-rmse:2.41726\teval-MRRMSE:2.41726\n",
      "[35]\ttrain-rmse:1.64032\ttrain-MRRMSE:1.64032\teval-rmse:2.41752\teval-MRRMSE:2.41752\n",
      "[36]\ttrain-rmse:1.62931\ttrain-MRRMSE:1.62931\teval-rmse:2.41786\teval-MRRMSE:2.41786\n",
      "[37]\ttrain-rmse:1.61847\ttrain-MRRMSE:1.61847\teval-rmse:2.41842\teval-MRRMSE:2.41842\n"
     ]
    }
   ],
   "source": [
    "# Ensure data is in float32 format\n",
    "X_train = X_train.astype(np.float32)\n",
    "X_val = X_val.astype(np.float32)\n",
    "\n",
    "# Convert the dataset into the optimized data structure used by XGBoost\n",
    "dtrain = xgb.DMatrix(X_train, label=y_train)\n",
    "dval = xgb.DMatrix(X_val, label=y_val)\n",
    "\n",
    "# Define hyperparameters\n",
    "params = {\n",
    "    'objective': 'reg:squarederror',\n",
    "    'eval_metric': 'rmse',\n",
    "    'tree_method': 'gpu_hist',\n",
    "    'subsample': 0.8,\n",
    "    'eta': 0.05,\n",
    "    'max_depth': 2,\n",
    "    'lambda': 1.5,\n",
    "    'alpha': 0.5,\n",
    "    'colsample_bytree': 0.8\n",
    "}\n",
    "\n",
    "evals = [(dtrain, 'train'), (dval, 'eval')]\n",
    "evals_result = {}\n",
    "\n",
    "num_round = 100  # Number of boosting rounds\n",
    "bst = xgb.train(params, dtrain, num_round, evals=evals, custom_metric=mrrmse, early_stopping_rounds=15, evals_result=evals_result)"
   ]
  },
  {
   "cell_type": "code",
   "execution_count": 8,
   "id": "98e21102",
   "metadata": {
    "execution": {
     "iopub.execute_input": "2023-10-24T09:42:58.957301Z",
     "iopub.status.busy": "2023-10-24T09:42:58.956544Z",
     "iopub.status.idle": "2023-10-24T09:42:59.292092Z",
     "shell.execute_reply": "2023-10-24T09:42:59.291121Z"
    },
    "papermill": {
     "duration": 0.345068,
     "end_time": "2023-10-24T09:42:59.294205",
     "exception": false,
     "start_time": "2023-10-24T09:42:58.949137",
     "status": "completed"
    },
    "tags": []
   },
   "outputs": [
    {
     "data": {
      "image/png": "[encoded data removed]",
      "text/plain": [
       "<Figure size 640x480 with 1 Axes>"
      ]
     },
     "metadata": {},
     "output_type": "display_data"
    }
   ],
   "source": [
    "# Plot the learning curves\n",
    "train_errors = evals_result['train']['MRRMSE']\n",
    "val_errors = evals_result['eval']['MRRMSE']\n",
    "plt.plot(train_errors, label='Training')\n",
    "plt.plot(val_errors, label='Testing')\n",
    "plt.xlabel('Iterations')\n",
    "plt.ylabel('Error')\n",
    "plt.legend()\n",
    "plt.title('Learning Curve')\n",
    "plt.grid(True)\n",
    "plt.show()"
   ]
  }
 ],
 "metadata": {
  "kernelspec": {
   "display_name": "Python 3",
   "language": "python",
   "name": "python3"
  },
  "language_info": {
   "codemirror_mode": {
    "name": "ipython",
    "version": 3
   },
   "file_extension": ".py",
   "mimetype": "text/x-python",
   "name": "python",
   "nbconvert_exporter": "python",
   "pygments_lexer": "ipython3",
   "version": "3.10.12"
  },
  "papermill": {
   "default_parameters": {},
   "duration": 406.228053,
   "end_time": "2023-10-24T09:43:00.325036",
   "environment_variables": {},
   "exception": null,
   "input_path": "__notebook__.ipynb",
   "output_path": "__notebook__.ipynb",
   "parameters": {},
   "start_time": "2023-10-24T09:36:14.096983",
   "version": "2.4.0"
  }
 },
 "nbformat": 4,
 "nbformat_minor": 5
}
