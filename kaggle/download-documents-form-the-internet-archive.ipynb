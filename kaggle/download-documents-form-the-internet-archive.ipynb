{
 "cells": [
  {
   "cell_type": "code",
   "execution_count": 1,
   "id": "c244df5c",
   "metadata": {
    "execution": {
     "iopub.execute_input": "2025-05-16T09:40:56.676267Z",
     "iopub.status.busy": "2025-05-16T09:40:56.675936Z",
     "iopub.status.idle": "2025-05-16T09:41:01.605067Z",
     "shell.execute_reply": "2025-05-16T09:41:01.604040Z"
    },
    "papermill": {
     "duration": 4.934053,
     "end_time": "2025-05-16T09:41:01.606918",
     "exception": false,
     "start_time": "2025-05-16T09:40:56.672865",
     "status": "completed"
    },
    "tags": []
   },
   "outputs": [
    {
     "name": "stdout",
     "output_type": "stream",
     "text": [
      "Collecting internetarchive\r\n",
      "  Downloading internetarchive-5.4.0-py3-none-any.whl.metadata (4.7 kB)\r\n",
      "Requirement already satisfied: requests in /usr/local/lib/python3.11/dist-packages (2.32.3)\r\n",
      "Requirement already satisfied: jsonpatch>=0.4 in /usr/local/lib/python3.11/dist-packages (from internetarchive) (1.33)\r\n",
      "Requirement already satisfied: tqdm>=4.0.0 in /usr/local/lib/python3.11/dist-packages (from internetarchive) (4.67.1)\r\n",
      "Requirement already satisfied: urllib3>=1.26.0 in /usr/local/lib/python3.11/dist-packages (from internetarchive) (2.4.0)\r\n",
      "Requirement already satisfied: charset-normalizer<4,>=2 in /usr/local/lib/python3.11/dist-packages (from requests) (3.4.2)\r\n",
      "Requirement already satisfied: idna<4,>=2.5 in /usr/local/lib/python3.11/dist-packages (from requests) (3.10)\r\n",
      "Requirement already satisfied: certifi>=2017.4.17 in /usr/local/lib/python3.11/dist-packages (from requests) (2025.4.26)\r\n",
      "Requirement already satisfied: jsonpointer>=1.9 in /usr/local/lib/python3.11/dist-packages (from jsonpatch>=0.4->internetarchive) (3.0.0)\r\n",
      "Downloading internetarchive-5.4.0-py3-none-any.whl (105 kB)\r\n",
      "\u001b[2K   \u001b[90m━━━━━━━━━━━━━━━━━━━━━━━━━━━━━━━━━━━━━━━━\u001b[0m \u001b[32m105.9/105.9 kB\u001b[0m \u001b[31m3.3 MB/s\u001b[0m eta \u001b[36m0:00:00\u001b[0m\r\n",
      "\u001b[?25hInstalling collected packages: internetarchive\r\n",
      "Successfully installed internetarchive-5.4.0\r\n"
     ]
    }
   ],
   "source": [
    "!pip install internetarchive requests"
   ]
  },
  {
   "cell_type": "code",
   "execution_count": 2,
   "id": "f8a09a2d",
   "metadata": {
    "execution": {
     "iopub.execute_input": "2025-05-16T09:41:01.612543Z",
     "iopub.status.busy": "2025-05-16T09:41:01.612196Z",
     "iopub.status.idle": "2025-05-16T09:44:50.897895Z",
     "shell.execute_reply": "2025-05-16T09:44:50.897040Z"
    },
    "papermill": {
     "duration": 229.290303,
     "end_time": "2025-05-16T09:44:50.899446",
     "exception": false,
     "start_time": "2025-05-16T09:41:01.609143",
     "status": "completed"
    },
    "tags": []
   },
   "outputs": [
    {
     "name": "stdout",
     "output_type": "stream",
     "text": [
      "Found “(no title)” (ID: 2010-mattievich-enrico-journey-to-the-mythological-inferno-americas-discovery-by)\n"
     ]
    },
    {
     "name": "stderr",
     "output_type": "stream",
     "text": [
      "2010-mattievich-enrico-journey-to-the-mythological-inferno-americas-discovery-by:\n",
      " downloading 1995 Enrico Mattievich ~ Tαξίδι στη μυθολογική κόλαση - Η ανακάλυψη της Αμερικής από τους Έλληνες  #1#.pdf: 100%|██████████| 9.91M/9.91M [00:00<00:00, 13.4MiB/s]\n",
      " downloading 1995 Enrico Mattievich ~ Tαξίδι στη μυθολογική κόλαση - Η ανακάλυψη της Αμερικής από τους Έλληνες  #1#_djvu.txt: 100%|██████████| 480k/480k [00:00<00:00, 1.58MiB/s]\n",
      " downloading 2010 Mattievich, Enrico ~ Journey to the Mythological Inferno_ America's Discovery by the Ancient Greeks [Rogem Press] _.pdf: 100%|██████████| 34.2M/34.2M [00:01<00:00, 23.0MiB/s]\n",
      " downloading 2010 Mattievich, Enrico ~ Journey to the Mythological Inferno_ America's Discovery by the Ancient Greeks [Rogem Press] __djvu.txt: 100%|██████████| 424k/424k [00:00<00:00, 1.41MiB/s]\n"
     ]
    },
    {
     "name": "stdout",
     "output_type": "stream",
     "text": [
      "Found “(no title)” (ID: 3CreepyTv)\n",
      "No public files with extensions ('.pdf', '.lcpdf', '.txt', '.djvu', '.epub') for '3CreepyTv'\n",
      "Found “(no title)” (ID: 4lv08yhcls19uobhwcsegehdjg8x2ptbysyaev8x)\n",
      "No public files with extensions ('.pdf', '.lcpdf', '.txt', '.djvu', '.epub') for '4lv08yhcls19uobhwcsegehdjg8x2ptbysyaev8x'\n",
      "Found “(no title)” (ID: ABudABowlShowHD420PodcastHistoryOfCannabisInTheAncientWorldBCPartTwo)\n",
      "No public files with extensions ('.pdf', '.lcpdf', '.txt', '.djvu', '.epub') for 'ABudABowlShowHD420PodcastHistoryOfCannabisInTheAncientWorldBCPartTwo'\n",
      "Found “(no title)” (ID: AlfredWebreAudio)\n",
      "No public files with extensions ('.pdf', '.lcpdf', '.txt', '.djvu', '.epub') for 'AlfredWebreAudio'\n",
      "Found “(no title)” (ID: AncientSuppressedDiscoveriesWithJonathanGray)\n",
      "No public files with extensions ('.pdf', '.lcpdf', '.txt', '.djvu', '.epub') for 'AncientSuppressedDiscoveriesWithJonathanGray'\n",
      "Found “(no title)” (ID: AssemblyLinesPodcast83)\n",
      "No public files with extensions ('.pdf', '.lcpdf', '.txt', '.djvu', '.epub') for 'AssemblyLinesPodcast83'\n",
      "Found “(no title)” (ID: ERIC_ED371971)\n"
     ]
    },
    {
     "name": "stderr",
     "output_type": "stream",
     "text": [
      "ERIC_ED371971:\n",
      " downloading ERIC_ED371971.djvu: 100%|██████████| 3.67M/3.67M [00:00<00:00, 5.45MiB/s]\n",
      " downloading ERIC_ED371971.pdf: 100%|██████████| 1.35M/1.35M [00:00<00:00, 3.05MiB/s]\n",
      " downloading ERIC_ED371971_djvu.txt: 124kiB [00:00, 1.59MiB/s]\n"
     ]
    },
    {
     "name": "stdout",
     "output_type": "stream",
     "text": [
      "Found “(no title)” (ID: KIDE_91_3_FM_20170217_170000)\n",
      "No public files with extensions ('.pdf', '.lcpdf', '.txt', '.djvu', '.epub') for 'KIDE_91_3_FM_20170217_170000'\n",
      "Found “(no title)” (ID: KIDE_91_3_FM_20170218_020000)\n",
      "No public files with extensions ('.pdf', '.lcpdf', '.txt', '.djvu', '.epub') for 'KIDE_91_3_FM_20170218_020000'\n",
      "Found “(no title)” (ID: KIDE_91_3_FM_20170224_170000)\n",
      "No public files with extensions ('.pdf', '.lcpdf', '.txt', '.djvu', '.epub') for 'KIDE_91_3_FM_20170224_170000'\n",
      "Found “(no title)” (ID: KPFA_94_1_FM_20180312_010000)\n",
      "No public files with extensions ('.pdf', '.lcpdf', '.txt', '.djvu', '.epub') for 'KPFA_94_1_FM_20180312_010000'\n",
      "Found “(no title)” (ID: KSKA_91_1_FM_20170218_050000)\n",
      "No public files with extensions ('.pdf', '.lcpdf', '.txt', '.djvu', '.epub') for 'KSKA_91_1_FM_20170218_050000'\n",
      "Found “(no title)” (ID: ManlyPhall)\n"
     ]
    },
    {
     "name": "stderr",
     "output_type": "stream",
     "text": [
      "ManlyPhall:\n",
      " error downloading file downloads/ManlyPhall/ManlyPhall/Astrology-and-Reincarnation-Manly-Palmer-Hall.pdf, exception raised: 403 Client Error: Forbidden for url: https://ia902904.us.archive.org/34/items/ManlyPhall/Astrology-and-Reincarnation-Manly-Palmer-Hall.pdf\n"
     ]
    },
    {
     "name": "stdout",
     "output_type": "stream",
     "text": [
      "Error downloading from ManlyPhall: 403 Client Error: Forbidden for url: https://ia902904.us.archive.org/34/items/ManlyPhall/Astrology-and-Reincarnation-Manly-Palmer-Hall.pdf\n",
      "Found “(no title)” (ID: NASA_NTRS_Archive_20030016612)\n"
     ]
    },
    {
     "name": "stderr",
     "output_type": "stream",
     "text": [
      "NASA_NTRS_Archive_20030016612:\n",
      " downloading NASA_NTRS_Archive_20030016612.pdf: 100%|██████████| 3.10M/3.10M [00:00<00:00, 5.31MiB/s]\n",
      " downloading NASA_NTRS_Archive_20030016612_djvu.txt: 100%|██████████| 225k/225k [00:00<00:00, 1.04MiB/s]\n"
     ]
    },
    {
     "name": "stdout",
     "output_type": "stream",
     "text": [
      "Found “(no title)” (ID: Pmb094PersonalSpaceBrianBennettGiantClawComoCarouselMakersBuddy)\n",
      "No public files with extensions ('.pdf', '.lcpdf', '.txt', '.djvu', '.epub') for 'Pmb094PersonalSpaceBrianBennettGiantClawComoCarouselMakersBuddy'\n",
      "Found “(no title)” (ID: ROTAmiolo)\n"
     ]
    },
    {
     "name": "stderr",
     "output_type": "stream",
     "text": [
      "ROTAmiolo:\n",
      " downloading ROTAmiolo.pdf: 100%|██████████| 180M/180M [00:04<00:00, 43.5MiB/s]\n",
      " downloading ROTAmiolo_djvu.txt: 1.56MiB [00:00, 5.10MiB/s]\n"
     ]
    },
    {
     "name": "stdout",
     "output_type": "stream",
     "text": [
      "Found “(no title)” (ID: SanAgustnastronautaDePiedraSingle)\n",
      "No public files with extensions ('.pdf', '.lcpdf', '.txt', '.djvu', '.epub') for 'SanAgustnastronautaDePiedraSingle'\n",
      "Found “(no title)” (ID: VOA_Africa_20181105_190000)\n",
      "No public files with extensions ('.pdf', '.lcpdf', '.txt', '.djvu', '.epub') for 'VOA_Africa_20181105_190000'\n",
      "Found “(no title)” (ID: VOA_Global_English_20181105_130000)\n",
      "No public files with extensions ('.pdf', '.lcpdf', '.txt', '.djvu', '.epub') for 'VOA_Global_English_20181105_130000'\n",
      "Found “(no title)” (ID: VOA_Global_English_20181105_190000)\n",
      "No public files with extensions ('.pdf', '.lcpdf', '.txt', '.djvu', '.epub') for 'VOA_Global_English_20181105_190000'\n",
      "Found “(no title)” (ID: VirtualSkeptics118242015)\n",
      "No public files with extensions ('.pdf', '.lcpdf', '.txt', '.djvu', '.epub') for 'VirtualSkeptics118242015'\n",
      "Found “(no title)” (ID: ancientastronautarchive)\n"
     ]
    },
    {
     "name": "stderr",
     "output_type": "stream",
     "text": [
      "ancientastronautarchive:\n",
      " downloading Lost Book of Enki, Memories and Prophecies of an Extraterrestrial God - Zecharia Sitchin.pdf: 100%|██████████| 970k/970k [00:00<00:00, 2.73MiB/s]\n",
      " downloading Lost Book of Enki, Memories and Prophecies of an Extraterrestrial God - Zecharia Sitchin_djvu.txt: 453kiB [00:00, 2.57MiB/s]\n",
      " downloading Lost Tablets of Enki.pdf: 100%|██████████| 945k/945k [00:00<00:00, 2.71MiB/s]\n",
      " downloading Lost Tablets of Enki_djvu.txt: 452kiB [00:00, 2.50MiB/s]\n"
     ]
    },
    {
     "name": "stdout",
     "output_type": "stream",
     "text": [
      "Found “(no title)” (ID: annualreviewofan15sieg)\n"
     ]
    },
    {
     "name": "stderr",
     "output_type": "stream",
     "text": [
      "annualreviewofan15sieg:\n",
      " downloading annualreviewofan15sieg.lcpdf: 100%|██████████| 27.6M/27.6M [00:10<00:00, 2.88MiB/s]\n",
      " error downloading file downloads/annualreviewofan15sieg/annualreviewofan15sieg/annualreviewofan15sieg.pdf, exception raised: 403 Client Error: Forbidden for url: https://ia801309.us.archive.org/1/items/annualreviewofan15sieg/annualreviewofan15sieg.pdf\n"
     ]
    },
    {
     "name": "stdout",
     "output_type": "stream",
     "text": [
      "Error downloading from annualreviewofan15sieg: 403 Client Error: Forbidden for url: https://ia801309.us.archive.org/1/items/annualreviewofan15sieg/annualreviewofan15sieg.pdf\n",
      "Found “(no title)” (ID: archaologischeun0000hilb)\n"
     ]
    },
    {
     "name": "stderr",
     "output_type": "stream",
     "text": [
      "archaologischeun0000hilb:\n",
      " downloading archaologischeun0000hilb.lcpdf: 100%|██████████| 20.4M/20.4M [00:00<00:00, 25.7MiB/s]\n",
      " error downloading file downloads/archaologischeun0000hilb/archaologischeun0000hilb/archaologischeun0000hilb.pdf, exception raised: 403 Client Error: Forbidden for url: https://ia601009.us.archive.org/28/items/archaologischeun0000hilb/archaologischeun0000hilb.pdf\n"
     ]
    },
    {
     "name": "stdout",
     "output_type": "stream",
     "text": [
      "Error downloading from archaologischeun0000hilb: 403 Client Error: Forbidden for url: https://ia601009.us.archive.org/28/items/archaologischeun0000hilb/archaologischeun0000hilb.pdf\n",
      "Found “(no title)” (ID: borderlines-false-self-unlike-narcissists-see-pinned-comment)\n",
      "No public files with extensions ('.pdf', '.lcpdf', '.txt', '.djvu', '.epub') for 'borderlines-false-self-unlike-narcissists-see-pinned-comment'\n",
      "Found “(no title)” (ID: davidicke)\n"
     ]
    },
    {
     "name": "stderr",
     "output_type": "stream",
     "text": [
      "davidicke:\n",
      " error downloading file downloads/davidicke/davidicke/David Icke - Alice In Wonderland And The World Trade Center Disaster.pdf, exception raised: 403 Client Error: Forbidden for url: https://ia802902.us.archive.org/9/items/davidicke/David%20Icke%20-%20Alice%20In%20Wonderland%20And%20The%20World%20Trade%20Center%20Disaster.pdf\n"
     ]
    },
    {
     "name": "stdout",
     "output_type": "stream",
     "text": [
      "Error downloading from davidicke: 403 Client Error: Forbidden for url: https://ia802902.us.archive.org/9/items/davidicke/David%20Icke%20-%20Alice%20In%20Wonderland%20And%20The%20World%20Trade%20Center%20Disaster.pdf\n",
      "Found “(no title)” (ID: dudufilm)\n",
      "No public files with extensions ('.pdf', '.lcpdf', '.txt', '.djvu', '.epub') for 'dudufilm'\n",
      "Found “(no title)” (ID: encyclopediaofge00dina)\n"
     ]
    },
    {
     "name": "stderr",
     "output_type": "stream",
     "text": [
      "encyclopediaofge00dina:\n",
      " downloading encyclopediaofge00dina.lcpdf: 100%|██████████| 58.5M/58.5M [00:03<00:00, 16.2MiB/s]\n",
      " error downloading file downloads/encyclopediaofge00dina/encyclopediaofge00dina/encyclopediaofge00dina.pdf, exception raised: 403 Client Error: Forbidden for url: https://ia800504.us.archive.org/24/items/encyclopediaofge00dina/encyclopediaofge00dina.pdf\n"
     ]
    },
    {
     "name": "stdout",
     "output_type": "stream",
     "text": [
      "Error downloading from encyclopediaofge00dina: 403 Client Error: Forbidden for url: https://ia800504.us.archive.org/24/items/encyclopediaofge00dina/encyclopediaofge00dina.pdf\n",
      "Found “(no title)” (ID: encyclopediaofge00dina_0)\n"
     ]
    },
    {
     "name": "stderr",
     "output_type": "stream",
     "text": [
      "encyclopediaofge00dina_0:\n",
      " downloading encyclopediaofge00dina_0.lcpdf: 100%|██████████| 55.6M/55.6M [00:01<00:00, 31.3MiB/s]\n",
      " error downloading file downloads/encyclopediaofge00dina_0/encyclopediaofge00dina_0/encyclopediaofge00dina_0.pdf, exception raised: 401 Client Error: Unauthorized for url: https://dn790007.ca.archive.org/0/items/encyclopediaofge00dina_0/encyclopediaofge00dina_0.pdf\n"
     ]
    },
    {
     "name": "stdout",
     "output_type": "stream",
     "text": [
      "Error downloading from encyclopediaofge00dina_0: 401 Client Error: Unauthorized for url: https://dn790007.ca.archive.org/0/items/encyclopediaofge00dina_0/encyclopediaofge00dina_0.pdf\n",
      "Found “(no title)” (ID: encyclopediaofge00dina_1)\n"
     ]
    },
    {
     "name": "stderr",
     "output_type": "stream",
     "text": [
      "encyclopediaofge00dina_1:\n",
      " downloading encyclopediaofge00dina_1.lcpdf: 100%|██████████| 54.6M/54.6M [00:02<00:00, 28.6MiB/s]\n",
      " error downloading file downloads/encyclopediaofge00dina_1/encyclopediaofge00dina_1/encyclopediaofge00dina_1.pdf, exception raised: 401 Client Error: Unauthorized for url: https://dn790001.ca.archive.org/0/items/encyclopediaofge00dina_1/encyclopediaofge00dina_1.pdf\n"
     ]
    },
    {
     "name": "stdout",
     "output_type": "stream",
     "text": [
      "Error downloading from encyclopediaofge00dina_1: 401 Client Error: Unauthorized for url: https://dn790001.ca.archive.org/0/items/encyclopediaofge00dina_1/encyclopediaofge00dina_1.pdf\n",
      "Found “(no title)” (ID: encyclopediaofwo0000unse_d8h7)\n"
     ]
    },
    {
     "name": "stderr",
     "output_type": "stream",
     "text": [
      "encyclopediaofwo0000unse_d8h7:\n",
      " downloading encyclopediaofwo0000unse_d8h7.lcpdf: 100%|██████████| 46.3M/46.3M [00:01<00:00, 27.6MiB/s]\n",
      " error downloading file downloads/encyclopediaofwo0000unse_d8h7/encyclopediaofwo0000unse_d8h7/encyclopediaofwo0000unse_d8h7.pdf, exception raised: 403 Client Error: Forbidden for url: https://ia803202.us.archive.org/26/items/encyclopediaofwo0000unse_d8h7/encyclopediaofwo0000unse_d8h7.pdf\n"
     ]
    },
    {
     "name": "stdout",
     "output_type": "stream",
     "text": [
      "Error downloading from encyclopediaofwo0000unse_d8h7: 403 Client Error: Forbidden for url: https://ia803202.us.archive.org/26/items/encyclopediaofwo0000unse_d8h7/encyclopediaofwo0000unse_d8h7.pdf\n",
      "Found “(no title)” (ID: eustacemullinscollection1)\n"
     ]
    },
    {
     "name": "stderr",
     "output_type": "stream",
     "text": [
      "eustacemullinscollection1:\n",
      " error downloading file downloads/eustacemullinscollection1/eustacemullinscollection1/Eusatce Mullins Secrets of The Fed.pdf, exception raised: 403 Client Error: Forbidden for url: https://ia802902.us.archive.org/13/items/eustacemullinscollection1/Eusatce%20Mullins%20Secrets%20of%20The%20Fed.pdf\n"
     ]
    },
    {
     "name": "stdout",
     "output_type": "stream",
     "text": [
      "Error downloading from eustacemullinscollection1: 403 Client Error: Forbidden for url: https://ia802902.us.archive.org/13/items/eustacemullinscollection1/Eusatce%20Mullins%20Secrets%20of%20The%20Fed.pdf\n",
      "Found “(no title)” (ID: michaeltsarion)\n"
     ]
    },
    {
     "name": "stderr",
     "output_type": "stream",
     "text": [
      "michaeltsarion:\n",
      " error downloading file downloads/michaeltsarion/michaeltsarion/Michael Tsarion - Astro-Theology And Sidereal Mythology.pdf, exception raised: 403 Client Error: Forbidden for url: https://ia902802.us.archive.org/7/items/michaeltsarion/Michael%20Tsarion%20-%20Astro-Theology%20And%20Sidereal%20Mythology.pdf\n"
     ]
    },
    {
     "name": "stdout",
     "output_type": "stream",
     "text": [
      "Error downloading from michaeltsarion: 403 Client Error: Forbidden for url: https://ia902802.us.archive.org/7/items/michaeltsarion/Michael%20Tsarion%20-%20Astro-Theology%20And%20Sidereal%20Mythology.pdf\n",
      "Found “(no title)” (ID: moundbuildersofa0000roos)\n"
     ]
    },
    {
     "name": "stderr",
     "output_type": "stream",
     "text": [
      "moundbuildersofa0000roos:\n",
      " downloading moundbuildersofa0000roos.lcpdf: 100%|██████████| 38.1M/38.1M [00:01<00:00, 27.7MiB/s]\n",
      " error downloading file downloads/moundbuildersofa0000roos/moundbuildersofa0000roos/moundbuildersofa0000roos.pdf, exception raised: 401 Client Error: Unauthorized for url: https://dn720006.ca.archive.org/0/items/moundbuildersofa0000roos/moundbuildersofa0000roos.pdf\n"
     ]
    },
    {
     "name": "stdout",
     "output_type": "stream",
     "text": [
      "Error downloading from moundbuildersofa0000roos: 401 Client Error: Unauthorized for url: https://dn720006.ca.archive.org/0/items/moundbuildersofa0000roos/moundbuildersofa0000roos.pdf\n",
      "Found “(no title)” (ID: n0djrpzdyullrq6h1we6qrpb1ii1owgv9wacm9ow)\n",
      "No public files with extensions ('.pdf', '.lcpdf', '.txt', '.djvu', '.epub') for 'n0djrpzdyullrq6h1we6qrpb1ii1owgv9wacm9ow'\n",
      "Found “(no title)” (ID: nitaiveda)\n",
      "No public files with extensions ('.pdf', '.lcpdf', '.txt', '.djvu', '.epub') for 'nitaiveda'\n",
      "Found “(no title)” (ID: paulwallis)\n",
      "No public files with extensions ('.pdf', '.lcpdf', '.txt', '.djvu', '.epub') for 'paulwallis'\n",
      "Found “(no title)” (ID: postcolonialamaz0000penr_e8i4)\n"
     ]
    },
    {
     "name": "stderr",
     "output_type": "stream",
     "text": [
      "postcolonialamaz0000penr_e8i4:\n",
      " downloading postcolonialamaz0000penr_e8i4.lcpdf: 100%|██████████| 21.2M/21.2M [00:01<00:00, 20.8MiB/s]\n",
      " error downloading file downloads/postcolonialamaz0000penr_e8i4/postcolonialamaz0000penr_e8i4/postcolonialamaz0000penr_e8i4.pdf, exception raised: 401 Client Error: Unauthorized for url: https://dn720006.ca.archive.org/0/items/postcolonialamaz0000penr_e8i4/postcolonialamaz0000penr_e8i4.pdf\n"
     ]
    },
    {
     "name": "stdout",
     "output_type": "stream",
     "text": [
      "Error downloading from postcolonialamaz0000penr_e8i4: 401 Client Error: Unauthorized for url: https://dn720006.ca.archive.org/0/items/postcolonialamaz0000penr_e8i4/postcolonialamaz0000penr_e8i4.pdf\n",
      "Found “(no title)” (ID: retncrv2006vtarchaeologyjpetersentribute)\n",
      "No public files with extensions ('.pdf', '.lcpdf', '.txt', '.djvu', '.epub') for 'retncrv2006vtarchaeologyjpetersentribute'\n",
      "Found “(no title)” (ID: rwugbiupl1umttkibxzx4vjh4jd0c8nszblewbpb)\n",
      "No public files with extensions ('.pdf', '.lcpdf', '.txt', '.djvu', '.epub') for 'rwugbiupl1umttkibxzx4vjh4jd0c8nszblewbpb'\n",
      "Found “(no title)” (ID: siytdc-Aerial_Archaeology_-_STEM_in_30_-_Season_11_-_Episode_3)\n",
      "No public files with extensions ('.pdf', '.lcpdf', '.txt', '.djvu', '.epub') for 'siytdc-Aerial_Archaeology_-_STEM_in_30_-_Season_11_-_Episode_3'\n",
      "Found “(no title)” (ID: swastika-remixed-third-reich-documentary)\n",
      "No public files with extensions ('.pdf', '.lcpdf', '.txt', '.djvu', '.epub') for 'swastika-remixed-third-reich-documentary'\n",
      "Found “(no title)” (ID: talknationradio_20210210)\n",
      "No public files with extensions ('.pdf', '.lcpdf', '.txt', '.djvu', '.epub') for 'talknationradio_20210210'\n",
      "Found “(no title)” (ID: the5thkind)\n",
      "No public files with extensions ('.pdf', '.lcpdf', '.txt', '.djvu', '.epub') for 'the5thkind'\n",
      "Found “(no title)” (ID: thingiverse-3761387)\n",
      "No public files with extensions ('.pdf', '.lcpdf', '.txt', '.djvu', '.epub') for 'thingiverse-3761387'\n",
      "Found “(no title)” (ID: thingiverse-4213160)\n",
      "No public files with extensions ('.pdf', '.lcpdf', '.txt', '.djvu', '.epub') for 'thingiverse-4213160'\n",
      "Found “(no title)” (ID: voltairecollection)\n"
     ]
    },
    {
     "name": "stderr",
     "output_type": "stream",
     "text": [
      "voltairecollection:\n",
      " error downloading file downloads/voltairecollection/voltairecollection/VOL9.pdf, exception raised: 401 Client Error: Unauthorized for url: https://dn790000.ca.archive.org/0/items/voltairecollection/VOL9.pdf\n"
     ]
    },
    {
     "name": "stdout",
     "output_type": "stream",
     "text": [
      "Error downloading from voltairecollection: 401 Client Error: Unauthorized for url: https://dn790000.ca.archive.org/0/items/voltairecollection/VOL9.pdf\n",
      "Found “(no title)” (ID: wcn8gzsww7tumgb4jqtbmlmidolufmmsdabftrhj)\n",
      "No public files with extensions ('.pdf', '.lcpdf', '.txt', '.djvu', '.epub') for 'wcn8gzsww7tumgb4jqtbmlmidolufmmsdabftrhj'\n",
      "Found “(no title)” (ID: wgcgccnc0coljdauunpmvxjptjtutyvzibqbhw8r)\n",
      "No public files with extensions ('.pdf', '.lcpdf', '.txt', '.djvu', '.epub') for 'wgcgccnc0coljdauunpmvxjptjtutyvzibqbhw8r'\n",
      "Found “(no title)” (ID: worldheritagecon0000cave)\n"
     ]
    },
    {
     "name": "stderr",
     "output_type": "stream",
     "text": [
      "worldheritagecon0000cave:\n",
      " downloading worldheritagecon0000cave.lcpdf: 100%|██████████| 20.3M/20.3M [00:14<00:00, 1.43MiB/s]\n",
      " error downloading file downloads/worldheritagecon0000cave/worldheritagecon0000cave/worldheritagecon0000cave.pdf, exception raised: 401 Client Error: Unauthorized for url: https://dn790006.ca.archive.org/0/items/worldheritagecon0000cave/worldheritagecon0000cave.pdf\n"
     ]
    },
    {
     "name": "stdout",
     "output_type": "stream",
     "text": [
      "Error downloading from worldheritagecon0000cave: 401 Client Error: Unauthorized for url: https://dn790006.ca.archive.org/0/items/worldheritagecon0000cave/worldheritagecon0000cave.pdf\n",
      "Found “(no title)” (ID: ybpzahaflaub4f0vhelm5dt1inay8qlsshvlvso4)\n",
      "No public files with extensions ('.pdf', '.lcpdf', '.txt', '.djvu', '.epub') for 'ybpzahaflaub4f0vhelm5dt1inay8qlsshvlvso4'\n",
      "Found “(no title)” (ID: youtube--3oSd8DC8Kc)\n",
      "No public files with extensions ('.pdf', '.lcpdf', '.txt', '.djvu', '.epub') for 'youtube--3oSd8DC8Kc'\n",
      "Found “(no title)” (ID: youtube-AW55J2zE3N4)\n",
      "No public files with extensions ('.pdf', '.lcpdf', '.txt', '.djvu', '.epub') for 'youtube-AW55J2zE3N4'\n",
      "Found “(no title)” (ID: youtube-DmKU44ZeuRQ)\n",
      "No public files with extensions ('.pdf', '.lcpdf', '.txt', '.djvu', '.epub') for 'youtube-DmKU44ZeuRQ'\n",
      "Found “(no title)” (ID: youtube-FsrYR52Tv54)\n",
      "No public files with extensions ('.pdf', '.lcpdf', '.txt', '.djvu', '.epub') for 'youtube-FsrYR52Tv54'\n",
      "Found “(no title)” (ID: youtube-MhsJKTMOrTk)\n",
      "No public files with extensions ('.pdf', '.lcpdf', '.txt', '.djvu', '.epub') for 'youtube-MhsJKTMOrTk'\n",
      "Found “(no title)” (ID: youtube-RK49OOHmZhA)\n",
      "No public files with extensions ('.pdf', '.lcpdf', '.txt', '.djvu', '.epub') for 'youtube-RK49OOHmZhA'\n",
      "Found “(no title)” (ID: youtube-U8bfeweUBzc)\n",
      "No public files with extensions ('.pdf', '.lcpdf', '.txt', '.djvu', '.epub') for 'youtube-U8bfeweUBzc'\n",
      "Found “(no title)” (ID: youtube-WvNEVvHgOOY)\n",
      "No public files with extensions ('.pdf', '.lcpdf', '.txt', '.djvu', '.epub') for 'youtube-WvNEVvHgOOY'\n",
      "Found “(no title)” (ID: z8uhkaqpnhgwxa9kwqknf7ifoxvueggchmk3peos)\n",
      "No public files with extensions ('.pdf', '.lcpdf', '.txt', '.djvu', '.epub') for 'z8uhkaqpnhgwxa9kwqknf7ifoxvueggchmk3peos'\n",
      "Downloaded Gutenberg book 12472 as 12472-0.txt\n",
      "Downloaded Gutenberg book 22752 as 22752.txt\n"
     ]
    }
   ],
   "source": [
    "import os\n",
    "import requests\n",
    "from internetarchive import search_items, get_item, download\n",
    "\n",
    "def search_internet_archive(query, max_results=5):\n",
    "    \"\"\"\n",
    "    Search IA for items that mention `query` in title OR subject OR description.\n",
    "    Returns up to max_results dicts with 'identifier' and 'title'.\n",
    "    \"\"\"\n",
    "    # broadened JQL to search multiple metadata fields\n",
    "    jql = (\n",
    "        f'title:({query}) '\n",
    "        f'OR subject:({query}) '\n",
    "        f'OR description:({query})'\n",
    "    )\n",
    "    results = []\n",
    "    for count, item in enumerate(search_items(jql), start=1):\n",
    "        results.append({\n",
    "            'identifier': item['identifier'],\n",
    "            'title': item.get('title', '(no title)')\n",
    "        })\n",
    "        if count >= max_results:\n",
    "            break\n",
    "    return results\n",
    "\n",
    "def download_from_internet_archive(\n",
    "    identifier,\n",
    "    download_dir='downloads',\n",
    "    max_downloads=10,\n",
    "    extensions=('.pdf', '.lcpdf', '.txt', '.djvu', '.epub')\n",
    "):\n",
    "    \"\"\"\n",
    "    Download up to max_downloads files for `identifier` whose names end\n",
    "    with one of extensions, skipping only those explicitly marked restricted.\n",
    "    \"\"\"\n",
    "    item = get_item(identifier)\n",
    "    os.makedirs(os.path.join(download_dir, identifier), exist_ok=True)\n",
    "\n",
    "    to_fetch = []\n",
    "    for f in item.files:\n",
    "        name = f.get('name', '')\n",
    "        if any(name.lower().endswith(ext) for ext in extensions):\n",
    "            if f.get('restricted') == '1':\n",
    "                print(f\"Skipping restricted: {name}\")\n",
    "                continue\n",
    "            to_fetch.append(name)\n",
    "            if len(to_fetch) >= max_downloads:\n",
    "                break\n",
    "\n",
    "    if not to_fetch:\n",
    "        print(f\"No public files with extensions {extensions} for '{identifier}'\")\n",
    "        return\n",
    "\n",
    "    try:\n",
    "        download(\n",
    "            identifier,\n",
    "            files=to_fetch,\n",
    "            destdir=os.path.join(download_dir, identifier),\n",
    "            verbose=True\n",
    "        )\n",
    "    except Exception as e:\n",
    "        print(f\"Error downloading from {identifier}: {e}\")\n",
    "\n",
    "def download_gutenberg_text(book_id, save_dir='downloads/gutenberg'):\n",
    "    \"\"\"\n",
    "    Download the plain-text version of a Gutenberg book by its ID.\n",
    "    \"\"\"\n",
    "    os.makedirs(save_dir, exist_ok=True)\n",
    "    for variant in (f'{book_id}-0.txt', f'{book_id}.txt'):\n",
    "        url = f'https://www.gutenberg.org/files/{book_id}/{variant}'\n",
    "        try:\n",
    "            r = requests.get(url)\n",
    "            r.raise_for_status()\n",
    "            path = os.path.join(save_dir, f'gutenberg_{book_id}.txt')\n",
    "            with open(path, 'w', encoding='utf-8') as out:\n",
    "                out.write(r.text)\n",
    "            print(f\"Downloaded Gutenberg book {book_id} as {variant}\")\n",
    "            return\n",
    "        except requests.HTTPError:\n",
    "            continue\n",
    "    print(f\"No text file found for Gutenberg ID {book_id}\")\n",
    "\n",
    "if __name__ == '__main__':\n",
    "    # 1) search & download IA items for \"Amazon archaeology\"\n",
    "    items = search_internet_archive('Amazon archaeology', max_results=100)\n",
    "    for itm in items:\n",
    "        print(f\"Found “{itm['title']}” (ID: {itm['identifier']})\")\n",
    "        download_from_internet_archive(\n",
    "            itm['identifier'],\n",
    "            max_downloads=10\n",
    "        )\n",
    "\n",
    "    # 2) Gutenberg examples (optional)\n",
    "    for gid in (12472, 22752):\n",
    "        download_gutenberg_text(gid)"
   ]
  }
 ],
 "metadata": {
  "kaggle": {
   "accelerator": "none",
   "dataSources": [
    {
     "sourceId": 101597,
     "sourceType": "competition"
    }
   ],
   "dockerImageVersionId": 31040,
   "isGpuEnabled": false,
   "isInternetEnabled": true,
   "language": "python",
   "sourceType": "notebook"
  },
  "kernelspec": {
   "display_name": "Python 3",
   "language": "python",
   "name": "python3"
  },
  "language_info": {
   "codemirror_mode": {
    "name": "ipython",
    "version": 3
   },
   "file_extension": ".py",
   "mimetype": "text/x-python",
   "name": "python",
   "nbconvert_exporter": "python",
   "pygments_lexer": "ipython3",
   "version": "3.11.11"
  },
  "papermill": {
   "default_parameters": {},
   "duration": 239.166764,
   "end_time": "2025-05-16T09:44:51.336179",
   "environment_variables": {},
   "exception": null,
   "input_path": "__notebook__.ipynb",
   "output_path": "__notebook__.ipynb",
   "parameters": {},
   "start_time": "2025-05-16T09:40:52.169415",
   "version": "2.6.0"
  }
 },
 "nbformat": 4,
 "nbformat_minor": 5
}
