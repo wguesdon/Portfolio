{
 "cells": [
  {
   "cell_type": "code",
   "execution_count": 1,
   "id": "8c41551f",
   "metadata": {
    "execution": {
     "iopub.execute_input": "2024-12-09T15:46:44.346620Z",
     "iopub.status.busy": "2024-12-09T15:46:44.346174Z",
     "iopub.status.idle": "2024-12-09T15:47:01.188149Z",
     "shell.execute_reply": "2024-12-09T15:47:01.186890Z"
    },
    "papermill": {
     "duration": 16.849127,
     "end_time": "2024-12-09T15:47:01.190905",
     "exception": false,
     "start_time": "2024-12-09T15:46:44.341778",
     "status": "completed"
    },
    "tags": []
   },
   "outputs": [
    {
     "name": "stdout",
     "output_type": "stream",
     "text": [
      "Collecting scikit-survival\r\n",
      "  Downloading scikit_survival-0.23.1-cp310-cp310-manylinux_2_17_x86_64.manylinux2014_x86_64.whl.metadata (48 kB)\r\n",
      "\u001b[2K     \u001b[90m━━━━━━━━━━━━━━━━━━━━━━━━━━━━━━━━━━━━━━━━\u001b[0m \u001b[32m49.0/49.0 kB\u001b[0m \u001b[31m1.9 MB/s\u001b[0m eta \u001b[36m0:00:00\u001b[0m\r\n",
      "\u001b[?25hRequirement already satisfied: ecos in /opt/conda/lib/python3.10/site-packages (from scikit-survival) (2.0.14)\r\n",
      "Requirement already satisfied: joblib in /opt/conda/lib/python3.10/site-packages (from scikit-survival) (1.4.2)\r\n",
      "Requirement already satisfied: numexpr in /opt/conda/lib/python3.10/site-packages (from scikit-survival) (2.10.2)\r\n",
      "Requirement already satisfied: numpy in /opt/conda/lib/python3.10/site-packages (from scikit-survival) (1.26.4)\r\n",
      "Collecting osqp!=0.6.0,!=0.6.1 (from scikit-survival)\r\n",
      "  Downloading osqp-0.6.7.post3-cp310-cp310-manylinux_2_5_x86_64.manylinux1_x86_64.manylinux_2_17_x86_64.manylinux2014_x86_64.whl.metadata (1.9 kB)\r\n",
      "Requirement already satisfied: pandas>=1.4.0 in /opt/conda/lib/python3.10/site-packages (from scikit-survival) (2.2.3)\r\n",
      "Requirement already satisfied: scipy>=1.3.2 in /opt/conda/lib/python3.10/site-packages (from scikit-survival) (1.14.1)\r\n",
      "Collecting scikit-learn<1.6,>=1.4.0 (from scikit-survival)\r\n",
      "  Downloading scikit_learn-1.5.2-cp310-cp310-manylinux_2_17_x86_64.manylinux2014_x86_64.whl.metadata (13 kB)\r\n",
      "Collecting qdldl (from osqp!=0.6.0,!=0.6.1->scikit-survival)\r\n",
      "  Downloading qdldl-0.1.7.post4-cp310-cp310-manylinux_2_17_x86_64.manylinux2014_x86_64.whl.metadata (1.7 kB)\r\n",
      "Requirement already satisfied: python-dateutil>=2.8.2 in /opt/conda/lib/python3.10/site-packages (from pandas>=1.4.0->scikit-survival) (2.9.0.post0)\r\n",
      "Requirement already satisfied: pytz>=2020.1 in /opt/conda/lib/python3.10/site-packages (from pandas>=1.4.0->scikit-survival) (2024.1)\r\n",
      "Requirement already satisfied: tzdata>=2022.7 in /opt/conda/lib/python3.10/site-packages (from pandas>=1.4.0->scikit-survival) (2024.1)\r\n",
      "Requirement already satisfied: threadpoolctl>=3.1.0 in /opt/conda/lib/python3.10/site-packages (from scikit-learn<1.6,>=1.4.0->scikit-survival) (3.5.0)\r\n",
      "Requirement already satisfied: six>=1.5 in /opt/conda/lib/python3.10/site-packages (from python-dateutil>=2.8.2->pandas>=1.4.0->scikit-survival) (1.16.0)\r\n",
      "Downloading scikit_survival-0.23.1-cp310-cp310-manylinux_2_17_x86_64.manylinux2014_x86_64.whl (3.7 MB)\r\n",
      "\u001b[2K   \u001b[90m━━━━━━━━━━━━━━━━━━━━━━━━━━━━━━━━━━━━━━━━\u001b[0m \u001b[32m3.7/3.7 MB\u001b[0m \u001b[31m34.4 MB/s\u001b[0m eta \u001b[36m0:00:00\u001b[0m\r\n",
      "\u001b[?25hDownloading osqp-0.6.7.post3-cp310-cp310-manylinux_2_5_x86_64.manylinux1_x86_64.manylinux_2_17_x86_64.manylinux2014_x86_64.whl (297 kB)\r\n",
      "\u001b[2K   \u001b[90m━━━━━━━━━━━━━━━━━━━━━━━━━━━━━━━━━━━━━━━━\u001b[0m \u001b[32m297.5/297.5 kB\u001b[0m \u001b[31m14.2 MB/s\u001b[0m eta \u001b[36m0:00:00\u001b[0m\r\n",
      "\u001b[?25hDownloading scikit_learn-1.5.2-cp310-cp310-manylinux_2_17_x86_64.manylinux2014_x86_64.whl (13.3 MB)\r\n",
      "\u001b[2K   \u001b[90m━━━━━━━━━━━━━━━━━━━━━━━━━━━━━━━━━━━━━━━━\u001b[0m \u001b[32m13.3/13.3 MB\u001b[0m \u001b[31m85.6 MB/s\u001b[0m eta \u001b[36m0:00:00\u001b[0m\r\n",
      "\u001b[?25hDownloading qdldl-0.1.7.post4-cp310-cp310-manylinux_2_17_x86_64.manylinux2014_x86_64.whl (1.1 MB)\r\n",
      "\u001b[2K   \u001b[90m━━━━━━━━━━━━━━━━━━━━━━━━━━━━━━━━━━━━━━━━\u001b[0m \u001b[32m1.1/1.1 MB\u001b[0m \u001b[31m43.1 MB/s\u001b[0m eta \u001b[36m0:00:00\u001b[0m\r\n",
      "\u001b[?25hInstalling collected packages: scikit-learn, qdldl, osqp, scikit-survival\r\n",
      "  Attempting uninstall: scikit-learn\r\n",
      "    Found existing installation: scikit-learn 1.2.2\r\n",
      "    Uninstalling scikit-learn-1.2.2:\r\n",
      "      Successfully uninstalled scikit-learn-1.2.2\r\n",
      "\u001b[31mERROR: pip's dependency resolver does not currently take into account all the packages that are installed. This behaviour is the source of the following dependency conflicts.\r\n",
      "bigframes 0.22.0 requires google-cloud-bigquery[bqstorage,pandas]>=3.10.0, but you have google-cloud-bigquery 2.34.4 which is incompatible.\r\n",
      "bigframes 0.22.0 requires google-cloud-storage>=2.0.0, but you have google-cloud-storage 1.44.0 which is incompatible.\r\n",
      "bigframes 0.22.0 requires pandas<2.1.4,>=1.5.0, but you have pandas 2.2.3 which is incompatible.\r\n",
      "cesium 0.12.3 requires numpy<3.0,>=2.0, but you have numpy 1.26.4 which is incompatible.\r\n",
      "dataproc-jupyter-plugin 0.1.79 requires pydantic~=1.10.0, but you have pydantic 2.10.2 which is incompatible.\u001b[0m\u001b[31m\r\n",
      "\u001b[0mSuccessfully installed osqp-0.6.7.post3 qdldl-0.1.7.post4 scikit-learn-1.5.2 scikit-survival-0.23.1\r\n"
     ]
    }
   ],
   "source": [
    "!pip install scikit-survival"
   ]
  },
  {
   "cell_type": "code",
   "execution_count": 2,
   "id": "a4b3d942",
   "metadata": {
    "execution": {
     "iopub.execute_input": "2024-12-09T15:47:01.200535Z",
     "iopub.status.busy": "2024-12-09T15:47:01.200161Z",
     "iopub.status.idle": "2024-12-09T15:47:08.281730Z",
     "shell.execute_reply": "2024-12-09T15:47:08.280676Z"
    },
    "papermill": {
     "duration": 7.088635,
     "end_time": "2024-12-09T15:47:08.283776",
     "exception": false,
     "start_time": "2024-12-09T15:47:01.195141",
     "status": "completed"
    },
    "tags": []
   },
   "outputs": [
    {
     "name": "stdout",
     "output_type": "stream",
     "text": [
      "os: Standard library module (no version info)\n",
      "warnings: Standard library module (no version info)\n",
      "numpy: Version 1.26.4\n",
      "pandas: Version 2.2.3\n",
      "seaborn: Version 0.12.2\n",
      "matplotlib: Version 3.7.5\n",
      "sklearn: Version 1.5.2\n",
      "sksurv: Version 0.23.1\n",
      "xgboost: Version 2.0.3\n",
      "shap: Version 0.44.1\n"
     ]
    }
   ],
   "source": [
    "import importlib\n",
    "\n",
    "# List of packages to check\n",
    "packages = {\n",
    "    'os': 'os',\n",
    "    'warnings': 'warnings',\n",
    "    'numpy': 'numpy',\n",
    "    'pandas': 'pandas',\n",
    "    'seaborn': 'seaborn',\n",
    "    'matplotlib': 'matplotlib',\n",
    "    'sklearn': 'sklearn',\n",
    "    'sksurv': 'sksurv',\n",
    "    'xgboost': 'xgboost',\n",
    "    'shap': 'shap'\n",
    "}\n",
    "\n",
    "# Function to get version or indicate if it's a standard library\n",
    "def get_package_info(pkg_name, import_name):\n",
    "    try:\n",
    "        pkg = importlib.import_module(import_name)\n",
    "        # Attempt to get the version attribute\n",
    "        version = getattr(pkg, '__version__', None)\n",
    "        if version:\n",
    "            return f\"{pkg_name}: Version {version}\"\n",
    "        else:\n",
    "            # Likely a standard library module\n",
    "            return f\"{pkg_name}: Standard library module (no version info)\"\n",
    "    except ImportError:\n",
    "        return f\"{pkg_name}: Not installed\"\n",
    "\n",
    "# Iterate through the packages and print their status\n",
    "for pkg_name, import_name in packages.items():\n",
    "    info = get_package_info(pkg_name, import_name)\n",
    "    print(info)"
   ]
  },
  {
   "cell_type": "code",
   "execution_count": 3,
   "id": "e0463b3b",
   "metadata": {
    "execution": {
     "iopub.execute_input": "2024-12-09T15:47:08.293310Z",
     "iopub.status.busy": "2024-12-09T15:47:08.292422Z",
     "iopub.status.idle": "2024-12-09T15:47:08.299141Z",
     "shell.execute_reply": "2024-12-09T15:47:08.298056Z"
    },
    "papermill": {
     "duration": 0.013544,
     "end_time": "2024-12-09T15:47:08.301147",
     "exception": false,
     "start_time": "2024-12-09T15:47:08.287603",
     "status": "completed"
    },
    "tags": []
   },
   "outputs": [
    {
     "name": "stdout",
     "output_type": "stream",
     "text": [
      "Writing /kaggle/working/requirements.txt\n"
     ]
    }
   ],
   "source": [
    "%%writefile /kaggle/working/requirements.txt\n",
    "scikit-learn==1.3.0\n",
    "scikit-survival==0.22.2"
   ]
  },
  {
   "cell_type": "code",
   "execution_count": 4,
   "id": "98369a93",
   "metadata": {
    "_cell_guid": "b1076dfc-b9ad-4769-8c92-a6c4dae69d19",
    "_uuid": "8f2839f25d086af736a60e9eeb907d3b93b6e0e5",
    "execution": {
     "iopub.execute_input": "2024-12-09T15:47:08.311046Z",
     "iopub.status.busy": "2024-12-09T15:47:08.310229Z",
     "iopub.status.idle": "2024-12-09T15:47:43.592129Z",
     "shell.execute_reply": "2024-12-09T15:47:43.591098Z"
    },
    "papermill": {
     "duration": 35.289088,
     "end_time": "2024-12-09T15:47:43.594196",
     "exception": false,
     "start_time": "2024-12-09T15:47:08.305108",
     "status": "completed"
    },
    "tags": []
   },
   "outputs": [
    {
     "name": "stdout",
     "output_type": "stream",
     "text": [
      "Internet is available. Installing packages from PyPI...\n"
     ]
    },
    {
     "name": "stderr",
     "output_type": "stream",
     "text": [
      "\u001b[31mERROR: pip's dependency resolver does not currently take into account all the packages that are installed. This behaviour is the source of the following dependency conflicts.\n",
      "apache-beam 2.46.0 requires cloudpickle~=2.2.1, but you have cloudpickle 3.1.0 which is incompatible.\n",
      "apache-beam 2.46.0 requires dill<0.3.2,>=0.3.1.1, but you have dill 0.3.8 which is incompatible.\n",
      "apache-beam 2.46.0 requires numpy<1.25.0,>=1.14.3, but you have numpy 2.2.0 which is incompatible.\n",
      "apache-beam 2.46.0 requires pyarrow<10.0.0,>=3.0.0, but you have pyarrow 18.1.0 which is incompatible.\n",
      "beatrix-jupyterlab 2024.66.154055 requires jupyterlab~=3.6.0, but you have jupyterlab 4.3.1 which is incompatible.\n",
      "bigframes 0.22.0 requires google-cloud-bigquery[bqstorage,pandas]>=3.10.0, but you have google-cloud-bigquery 2.34.4 which is incompatible.\n",
      "bigframes 0.22.0 requires google-cloud-storage>=2.0.0, but you have google-cloud-storage 1.44.0 which is incompatible.\n",
      "bigframes 0.22.0 requires pandas<2.1.4,>=1.5.0, but you have pandas 2.2.3 which is incompatible.\n",
      "catboost 1.2.7 requires numpy<2.0,>=1.16.0, but you have numpy 2.2.0 which is incompatible.\n",
      "dataproc-jupyter-plugin 0.1.79 requires pydantic~=1.10.0, but you have pydantic 2.10.2 which is incompatible.\n",
      "gensim 4.3.3 requires numpy<2.0,>=1.18.5, but you have numpy 2.2.0 which is incompatible.\n",
      "gensim 4.3.3 requires scipy<1.14.0,>=1.7.0, but you have scipy 1.14.1 which is incompatible.\n",
      "ibis-framework 7.1.0 requires numpy<2,>=1, but you have numpy 2.2.0 which is incompatible.\n",
      "ibis-framework 7.1.0 requires pyarrow<15,>=2, but you have pyarrow 18.1.0 which is incompatible.\n",
      "jupyterlab 4.3.1 requires jupyter-lsp>=2.0.0, but you have jupyter-lsp 1.5.1 which is incompatible.\n",
      "jupyterlab-lsp 5.1.0 requires jupyter-lsp>=2.0.0, but you have jupyter-lsp 1.5.1 which is incompatible.\n",
      "kfp 2.5.0 requires google-cloud-storage<3,>=2.2.1, but you have google-cloud-storage 1.44.0 which is incompatible.\n",
      "libpysal 4.9.2 requires packaging>=22, but you have packaging 21.3 which is incompatible.\n",
      "libpysal 4.9.2 requires shapely>=2.0.1, but you have shapely 1.8.5.post1 which is incompatible.\n",
      "matplotlib 3.7.5 requires numpy<2,>=1.20, but you have numpy 2.2.0 which is incompatible.\n",
      "mlxtend 0.23.3 requires scikit-learn>=1.3.1, but you have scikit-learn 1.3.0 which is incompatible.\n",
      "numba 0.60.0 requires numpy<2.1,>=1.22, but you have numpy 2.2.0 which is incompatible.\n",
      "plotnine 0.14.3 requires matplotlib>=3.8.0, but you have matplotlib 3.7.5 which is incompatible.\n",
      "tensorflow 2.16.1 requires ml-dtypes~=0.3.1, but you have ml-dtypes 0.5.0 which is incompatible.\n",
      "tensorflow 2.16.1 requires numpy<2.0.0,>=1.23.5; python_version <= \"3.11\", but you have numpy 2.2.0 which is incompatible.\n",
      "tensorflow-transform 0.14.0 requires numpy<2,>=1.16, but you have numpy 2.2.0 which is incompatible.\n",
      "textblob 0.18.0.post0 requires nltk>=3.8, but you have nltk 3.2.4 which is incompatible.\n",
      "thinc 8.3.2 requires numpy<2.1.0,>=2.0.0; python_version >= \"3.9\", but you have numpy 2.2.0 which is incompatible.\n",
      "xarray 2024.11.0 requires packaging>=23.2, but you have packaging 21.3 which is incompatible.\n",
      "ydata-profiling 4.12.0 requires numpy<2.2,>=1.16.0, but you have numpy 2.2.0 which is incompatible.\n",
      "ydata-profiling 4.12.0 requires scipy<1.14,>=1.4.1, but you have scipy 1.14.1 which is incompatible.\u001b[0m\u001b[31m\n",
      "\u001b[0m"
     ]
    },
    {
     "name": "stdout",
     "output_type": "stream",
     "text": [
      "Downloading .whl files for offline usage...\n",
      ".whl files downloaded for offline usage.\n",
      "scikit-survival installed successfully!\n"
     ]
    }
   ],
   "source": [
    "import os\n",
    "import subprocess\n",
    "import sys\n",
    "import glob\n",
    "\n",
    "# ======================================\n",
    "# Configuration\n",
    "# ======================================\n",
    "INTERNET_AVAILABLE = True\n",
    "\n",
    "# Paths\n",
    "REQUIREMENTS_PATH = '/kaggle/working/requirements.txt'\n",
    "LOCAL_WHL_DIR = '/kaggle/working/'  # Directory containing .whl files\n",
    "\n",
    "def install_packages():\n",
    "    if INTERNET_AVAILABLE:\n",
    "        print(\"Internet is available. Installing packages from PyPI...\")\n",
    "        # Add --upgrade and --ignore-installed to ensure proper version resolution\n",
    "        subprocess.check_call([\n",
    "            sys.executable, '-m', 'pip', 'install', '--upgrade', '--ignore-installed', '-r', REQUIREMENTS_PATH, '-q'\n",
    "        ])\n",
    "\n",
    "        print(\"Downloading .whl files for offline usage...\")\n",
    "        subprocess.check_call([\n",
    "            sys.executable, '-m', 'pip', 'download', '-r', REQUIREMENTS_PATH,\n",
    "            '--dest', '/kaggle/working/', '-q', '--no-cache-dir'\n",
    "        ])\n",
    "        print(\".whl files downloaded for offline usage.\")\n",
    "    else:\n",
    "        print(\"Internet is not available. Installing packages from local .whl files...\")\n",
    "\n",
    "        # Check if all required .whl files are present\n",
    "        with open(REQUIREMENTS_PATH, 'r') as f:\n",
    "            packages = [line.strip() for line in f if line.strip() and not line.startswith('#')]\n",
    "\n",
    "        missing_wheels = []\n",
    "        for pkg in packages:\n",
    "            pkg_name = pkg.split('==')[0]\n",
    "            wheel_files = glob.glob(os.path.join(LOCAL_WHL_DIR, f\"{pkg_name}-*.whl\"))\n",
    "            if not wheel_files:\n",
    "                missing_wheels.append(pkg)\n",
    "\n",
    "        if missing_wheels:\n",
    "            print(\"The following packages are missing .whl files in the local directory:\")\n",
    "            for pkg in missing_wheels:\n",
    "                print(f\" - {pkg}\")\n",
    "            print(\"Please ensure all required .whl files are uploaded to your environment.\")\n",
    "            return\n",
    "        else:\n",
    "            print(\"All required .whl files are present. Proceeding with installation.\")\n",
    "\n",
    "        subprocess.check_call([\n",
    "            sys.executable, '-m', 'pip', 'install', '--no-index',\n",
    "            '--find-links', LOCAL_WHL_DIR, '-r', REQUIREMENTS_PATH, '-q', '--upgrade', '--ignore-installed'\n",
    "        ])\n",
    "        print(\"All packages have been installed from local .whl files.\")\n",
    "\n",
    "# Execute the installation function\n",
    "install_packages()\n",
    "\n",
    "# ======================================\n",
    "# Verification\n",
    "# ======================================\n",
    "try:\n",
    "    import sksurv\n",
    "    print(\"scikit-survival installed successfully!\")\n",
    "except ImportError as e:\n",
    "    print(\"scikit-survival installation failed.\")\n",
    "    print(e)\n"
   ]
  },
  {
   "cell_type": "code",
   "execution_count": 5,
   "id": "b5692d88",
   "metadata": {
    "execution": {
     "iopub.execute_input": "2024-12-09T15:47:43.604169Z",
     "iopub.status.busy": "2024-12-09T15:47:43.603799Z",
     "iopub.status.idle": "2024-12-09T15:47:43.616366Z",
     "shell.execute_reply": "2024-12-09T15:47:43.615313Z"
    },
    "papermill": {
     "duration": 0.020038,
     "end_time": "2024-12-09T15:47:43.618407",
     "exception": false,
     "start_time": "2024-12-09T15:47:43.598369",
     "status": "completed"
    },
    "tags": []
   },
   "outputs": [
    {
     "name": "stdout",
     "output_type": "stream",
     "text": [
      "Internet is not available. Installing packages from local .whl files...\n",
      "The following packages are missing .whl files in the local directory:\n",
      " - scikit-learn==1.3.0\n",
      " - scikit-survival==0.22.2\n",
      "Please ensure all required .whl files are uploaded to your environment.\n",
      "scikit-survival installed successfully!\n"
     ]
    }
   ],
   "source": [
    "import os\n",
    "import subprocess\n",
    "import sys\n",
    "import glob\n",
    "\n",
    "# ======================================\n",
    "# Configuration\n",
    "# ======================================\n",
    "INTERNET_AVAILABLE = False\n",
    "\n",
    "# Paths\n",
    "REQUIREMENTS_PATH = '/kaggle/working/requirements.txt'\n",
    "LOCAL_WHL_DIR = '/kaggle/working/'  # Directory containing .whl files\n",
    "\n",
    "def install_packages():\n",
    "    if INTERNET_AVAILABLE:\n",
    "        print(\"Internet is available. Installing packages from PyPI...\")\n",
    "        # Add --upgrade and --ignore-installed to ensure proper version resolution\n",
    "        subprocess.check_call([\n",
    "            sys.executable, '-m', 'pip', 'install', '--upgrade', '--ignore-installed', '-r', REQUIREMENTS_PATH, '-q'\n",
    "        ])\n",
    "\n",
    "        print(\"Downloading .whl files for offline usage...\")\n",
    "        subprocess.check_call([\n",
    "            sys.executable, '-m', 'pip', 'download', '-r', REQUIREMENTS_PATH,\n",
    "            '--dest', '/kaggle/working/', '-q', '--no-cache-dir'\n",
    "        ])\n",
    "        print(\".whl files downloaded for offline usage.\")\n",
    "    else:\n",
    "        print(\"Internet is not available. Installing packages from local .whl files...\")\n",
    "\n",
    "        # Check if all required .whl files are present\n",
    "        with open(REQUIREMENTS_PATH, 'r') as f:\n",
    "            packages = [line.strip() for line in f if line.strip() and not line.startswith('#')]\n",
    "\n",
    "        missing_wheels = []\n",
    "        for pkg in packages:\n",
    "            pkg_name = pkg.split('==')[0]\n",
    "            wheel_files = glob.glob(os.path.join(LOCAL_WHL_DIR, f\"{pkg_name}-*.whl\"))\n",
    "            if not wheel_files:\n",
    "                missing_wheels.append(pkg)\n",
    "\n",
    "        if missing_wheels:\n",
    "            print(\"The following packages are missing .whl files in the local directory:\")\n",
    "            for pkg in missing_wheels:\n",
    "                print(f\" - {pkg}\")\n",
    "            print(\"Please ensure all required .whl files are uploaded to your environment.\")\n",
    "            return\n",
    "        else:\n",
    "            print(\"All required .whl files are present. Proceeding with installation.\")\n",
    "\n",
    "        subprocess.check_call([\n",
    "            sys.executable, '-m', 'pip', 'install', '--no-index',\n",
    "            '--find-links', LOCAL_WHL_DIR, '-r', REQUIREMENTS_PATH, '-q', '--upgrade', '--ignore-installed'\n",
    "        ])\n",
    "        print(\"All packages have been installed from local .whl files.\")\n",
    "\n",
    "# Execute the installation function\n",
    "install_packages()\n",
    "\n",
    "# ======================================\n",
    "# Verification\n",
    "# ======================================\n",
    "try:\n",
    "    import sksurv\n",
    "    print(\"scikit-survival installed successfully!\")\n",
    "except ImportError as e:\n",
    "    print(\"scikit-survival installation failed.\")\n",
    "    print(e)"
   ]
  }
 ],
 "metadata": {
  "kaggle": {
   "accelerator": "none",
   "dataSources": [
    {
     "databundleVersionId": 10381525,
     "sourceId": 70942,
     "sourceType": "competition"
    }
   ],
   "dockerImageVersionId": 30804,
   "isGpuEnabled": false,
   "isInternetEnabled": true,
   "language": "python",
   "sourceType": "notebook"
  },
  "kernelspec": {
   "display_name": "Python 3",
   "language": "python",
   "name": "python3"
  },
  "language_info": {
   "codemirror_mode": {
    "name": "ipython",
    "version": 3
   },
   "file_extension": ".py",
   "mimetype": "text/x-python",
   "name": "python",
   "nbconvert_exporter": "python",
   "pygments_lexer": "ipython3",
   "version": "3.10.14"
  },
  "papermill": {
   "default_parameters": {},
   "duration": 63.057054,
   "end_time": "2024-12-09T15:47:44.844718",
   "environment_variables": {},
   "exception": null,
   "input_path": "__notebook__.ipynb",
   "output_path": "__notebook__.ipynb",
   "parameters": {},
   "start_time": "2024-12-09T15:46:41.787664",
   "version": "2.6.0"
  }
 },
 "nbformat": 4,
 "nbformat_minor": 5
}
