{
 "cells": [
  {
   "cell_type": "markdown",
   "id": "cedf0bed",
   "metadata": {
    "papermill": {
     "duration": 0.004852,
     "end_time": "2023-10-22T22:00:56.548123",
     "exception": false,
     "start_time": "2023-10-22T22:00:56.543271",
     "status": "completed"
    },
    "tags": []
   },
   "source": [
    "# OP2 - Genes ontology analysis"
   ]
  },
  {
   "cell_type": "markdown",
   "id": "9c5545a9",
   "metadata": {
    "papermill": {
     "duration": 0.004095,
     "end_time": "2023-10-22T22:00:56.558788",
     "exception": false,
     "start_time": "2023-10-22T22:00:56.554693",
     "status": "completed"
    },
    "tags": []
   },
   "source": [
    "In this notebook, I perform gene ontology analysis on the differential expression data from the 'Open Problems - Single-Cell Perturbations' competition, which aims to predict how small molecule perturbations affect gene expression in different cell types.\n",
    "In my analysis, I filter the differential expression p-values at 0.05 significance and identify the enriched genes for each cell type and compound treatment. I then analyze the gene lists using Enrichr to identify enriched gene ontology terms and pathways from the KEGG database.\n",
    "I combine the results into a DataFrame containing the enriched terms, adjusted p-values, and associated genes for each cell type and compound pair.\n"
   ]
  },
  {
   "cell_type": "code",
   "execution_count": 1,
   "id": "9d753336",
   "metadata": {
    "execution": {
     "iopub.execute_input": "2023-10-22T22:00:56.569406Z",
     "iopub.status.busy": "2023-10-22T22:00:56.568991Z",
     "iopub.status.idle": "2023-10-22T22:01:12.339383Z",
     "shell.execute_reply": "2023-10-22T22:01:12.337901Z"
    },
    "papermill": {
     "duration": 15.77893,
     "end_time": "2023-10-22T22:01:12.342332",
     "exception": false,
     "start_time": "2023-10-22T22:00:56.563402",
     "status": "completed"
    },
    "tags": []
   },
   "outputs": [],
   "source": [
    "!pip install --quiet gseapy"
   ]
  },
  {
   "cell_type": "code",
   "execution_count": 2,
   "id": "6328762d",
   "metadata": {
    "execution": {
     "iopub.execute_input": "2023-10-22T22:01:12.353087Z",
     "iopub.status.busy": "2023-10-22T22:01:12.352707Z",
     "iopub.status.idle": "2023-10-22T22:01:13.850083Z",
     "shell.execute_reply": "2023-10-22T22:01:13.849005Z"
    },
    "papermill": {
     "duration": 1.506062,
     "end_time": "2023-10-22T22:01:13.852900",
     "exception": false,
     "start_time": "2023-10-22T22:01:12.346838",
     "status": "completed"
    },
    "tags": []
   },
   "outputs": [],
   "source": [
    "# Load libraries\n",
    "import datetime\n",
    "import pandas as pd\n",
    "import gseapy as gp"
   ]
  },
  {
   "cell_type": "code",
   "execution_count": 3,
   "id": "fc722b6b",
   "metadata": {
    "execution": {
     "iopub.execute_input": "2023-10-22T22:01:13.863720Z",
     "iopub.status.busy": "2023-10-22T22:01:13.863173Z",
     "iopub.status.idle": "2023-10-22T22:01:16.419752Z",
     "shell.execute_reply": "2023-10-22T22:01:16.418686Z"
    },
    "papermill": {
     "duration": 2.564999,
     "end_time": "2023-10-22T22:01:16.422464",
     "exception": false,
     "start_time": "2023-10-22T22:01:13.857465",
     "status": "completed"
    },
    "tags": []
   },
   "outputs": [],
   "source": [
    "# Load data\n",
    "de_train =   pd.read_parquet(\"/kaggle/input/open-problems-single-cell-perturbations/de_train.parquet\")\n",
    "id_map = pd.read_csv(\"/kaggle/input/open-problems-single-cell-perturbations/id_map.csv\")"
   ]
  },
  {
   "cell_type": "code",
   "execution_count": 4,
   "id": "e6420168",
   "metadata": {
    "execution": {
     "iopub.execute_input": "2023-10-22T22:01:16.432912Z",
     "iopub.status.busy": "2023-10-22T22:01:16.432526Z",
     "iopub.status.idle": "2023-10-22T22:01:21.979576Z",
     "shell.execute_reply": "2023-10-22T22:01:21.978466Z"
    },
    "papermill": {
     "duration": 5.554969,
     "end_time": "2023-10-22T22:01:21.981864",
     "exception": false,
     "start_time": "2023-10-22T22:01:16.426895",
     "status": "completed"
    },
    "tags": []
   },
   "outputs": [
    {
     "data": {
      "text/html": [
       "<div>\n",
       "<style scoped>\n",
       "    .dataframe tbody tr th:only-of-type {\n",
       "        vertical-align: middle;\n",
       "    }\n",
       "\n",
       "    .dataframe tbody tr th {\n",
       "        vertical-align: top;\n",
       "    }\n",
       "\n",
       "    .dataframe thead th {\n",
       "        text-align: right;\n",
       "    }\n",
       "</style>\n",
       "<table border=\"1\" class=\"dataframe\">\n",
       "  <thead>\n",
       "    <tr style=\"text-align: right;\">\n",
       "      <th></th>\n",
       "      <th>cell_type</th>\n",
       "      <th>sm_name</th>\n",
       "      <th>sm_lincs_id</th>\n",
       "      <th>SMILES</th>\n",
       "      <th>control</th>\n",
       "      <th>Gene</th>\n",
       "      <th>p_value</th>\n",
       "    </tr>\n",
       "  </thead>\n",
       "  <tbody>\n",
       "    <tr>\n",
       "      <th>0</th>\n",
       "      <td>NK cells</td>\n",
       "      <td>Clotrimazole</td>\n",
       "      <td>LSM-5341</td>\n",
       "      <td>Clc1ccccc1C(c1ccccc1)(c1ccccc1)n1ccnc1</td>\n",
       "      <td>False</td>\n",
       "      <td>A1BG</td>\n",
       "      <td>0.104720</td>\n",
       "    </tr>\n",
       "    <tr>\n",
       "      <th>1</th>\n",
       "      <td>T cells CD4+</td>\n",
       "      <td>Clotrimazole</td>\n",
       "      <td>LSM-5341</td>\n",
       "      <td>Clc1ccccc1C(c1ccccc1)(c1ccccc1)n1ccnc1</td>\n",
       "      <td>False</td>\n",
       "      <td>A1BG</td>\n",
       "      <td>0.915953</td>\n",
       "    </tr>\n",
       "    <tr>\n",
       "      <th>2</th>\n",
       "      <td>T cells CD8+</td>\n",
       "      <td>Clotrimazole</td>\n",
       "      <td>LSM-5341</td>\n",
       "      <td>Clc1ccccc1C(c1ccccc1)(c1ccccc1)n1ccnc1</td>\n",
       "      <td>False</td>\n",
       "      <td>A1BG</td>\n",
       "      <td>-0.387721</td>\n",
       "    </tr>\n",
       "    <tr>\n",
       "      <th>3</th>\n",
       "      <td>T regulatory cells</td>\n",
       "      <td>Clotrimazole</td>\n",
       "      <td>LSM-5341</td>\n",
       "      <td>Clc1ccccc1C(c1ccccc1)(c1ccccc1)n1ccnc1</td>\n",
       "      <td>False</td>\n",
       "      <td>A1BG</td>\n",
       "      <td>0.232893</td>\n",
       "    </tr>\n",
       "    <tr>\n",
       "      <th>4</th>\n",
       "      <td>NK cells</td>\n",
       "      <td>Mometasone Furoate</td>\n",
       "      <td>LSM-3349</td>\n",
       "      <td>C[C@@H]1C[C@H]2[C@@H]3CCC4=CC(=O)C=C[C@]4(C)[C...</td>\n",
       "      <td>False</td>\n",
       "      <td>A1BG</td>\n",
       "      <td>4.290652</td>\n",
       "    </tr>\n",
       "  </tbody>\n",
       "</table>\n",
       "</div>"
      ],
      "text/plain": [
       "            cell_type             sm_name sm_lincs_id  \\\n",
       "0            NK cells        Clotrimazole    LSM-5341   \n",
       "1        T cells CD4+        Clotrimazole    LSM-5341   \n",
       "2        T cells CD8+        Clotrimazole    LSM-5341   \n",
       "3  T regulatory cells        Clotrimazole    LSM-5341   \n",
       "4            NK cells  Mometasone Furoate    LSM-3349   \n",
       "\n",
       "                                              SMILES  control  Gene   p_value  \n",
       "0             Clc1ccccc1C(c1ccccc1)(c1ccccc1)n1ccnc1    False  A1BG  0.104720  \n",
       "1             Clc1ccccc1C(c1ccccc1)(c1ccccc1)n1ccnc1    False  A1BG  0.915953  \n",
       "2             Clc1ccccc1C(c1ccccc1)(c1ccccc1)n1ccnc1    False  A1BG -0.387721  \n",
       "3             Clc1ccccc1C(c1ccccc1)(c1ccccc1)n1ccnc1    False  A1BG  0.232893  \n",
       "4  C[C@@H]1C[C@H]2[C@@H]3CCC4=CC(=O)C=C[C@]4(C)[C...    False  A1BG  4.290652  "
      ]
     },
     "execution_count": 4,
     "metadata": {},
     "output_type": "execute_result"
    }
   ],
   "source": [
    "# pivot to long\n",
    "id_vars = ['cell_type', 'sm_name', 'sm_lincs_id', 'SMILES', 'control']\n",
    "df_long = pd.melt(de_train, id_vars=id_vars, var_name='Gene', value_name='p_value')\n",
    "df_long.head()"
   ]
  },
  {
   "cell_type": "code",
   "execution_count": 5,
   "id": "cbb4a486",
   "metadata": {
    "execution": {
     "iopub.execute_input": "2023-10-22T22:01:21.993339Z",
     "iopub.status.busy": "2023-10-22T22:01:21.992393Z",
     "iopub.status.idle": "2023-10-22T22:01:29.649434Z",
     "shell.execute_reply": "2023-10-22T22:01:29.648301Z"
    },
    "papermill": {
     "duration": 7.665588,
     "end_time": "2023-10-22T22:01:29.652192",
     "exception": false,
     "start_time": "2023-10-22T22:01:21.986604",
     "status": "completed"
    },
    "tags": []
   },
   "outputs": [
    {
     "data": {
      "text/html": [
       "<div>\n",
       "<style scoped>\n",
       "    .dataframe tbody tr th:only-of-type {\n",
       "        vertical-align: middle;\n",
       "    }\n",
       "\n",
       "    .dataframe tbody tr th {\n",
       "        vertical-align: top;\n",
       "    }\n",
       "\n",
       "    .dataframe thead th {\n",
       "        text-align: right;\n",
       "    }\n",
       "</style>\n",
       "<table border=\"1\" class=\"dataframe\">\n",
       "  <thead>\n",
       "    <tr style=\"text-align: right;\">\n",
       "      <th></th>\n",
       "      <th>cell_type</th>\n",
       "      <th>SMILES</th>\n",
       "      <th>Gene</th>\n",
       "    </tr>\n",
       "  </thead>\n",
       "  <tbody>\n",
       "    <tr>\n",
       "      <th>0</th>\n",
       "      <td>B cells</td>\n",
       "      <td>CC#CCn1c(N2CCC[C@@H](N)C2)nc2c1c(=O)n(Cc1nc(C)...</td>\n",
       "      <td>[A1BG, A1BG-AS1, A2M, A2M-AS1, A2MP1, A4GALT, ...</td>\n",
       "    </tr>\n",
       "    <tr>\n",
       "      <th>1</th>\n",
       "      <td>B cells</td>\n",
       "      <td>CC(=O)c1c(C)c2cnc(Nc3ccc(N4CCNCC4)cn3)nc2n(C2C...</td>\n",
       "      <td>[A1BG, A1BG-AS1, A2M, A2M-AS1, A2MP1, A4GALT, ...</td>\n",
       "    </tr>\n",
       "    <tr>\n",
       "      <th>2</th>\n",
       "      <td>B cells</td>\n",
       "      <td>CC(C)(C)c1nc(-c2cccc(NS(=O)(=O)c3c(F)cccc3F)c2...</td>\n",
       "      <td>[A1BG, A1BG-AS1, A2M, A2M-AS1, A2MP1, A4GALT, ...</td>\n",
       "    </tr>\n",
       "    <tr>\n",
       "      <th>3</th>\n",
       "      <td>B cells</td>\n",
       "      <td>CC(C)C[C@H](NC(=O)CNC(=O)c1cc(Cl)ccc1Cl)B(O)O</td>\n",
       "      <td>[A1BG, A1BG-AS1, A2M, A2M-AS1, A2MP1, A4GALT, ...</td>\n",
       "    </tr>\n",
       "    <tr>\n",
       "      <th>4</th>\n",
       "      <td>B cells</td>\n",
       "      <td>CC[C@H](Nc1ncnc2[nH]cnc12)c1nc2cccc(F)c2c(=O)n...</td>\n",
       "      <td>[A1BG, A1BG-AS1, A2M, A2M-AS1, A2MP1, A4GALT, ...</td>\n",
       "    </tr>\n",
       "  </tbody>\n",
       "</table>\n",
       "</div>"
      ],
      "text/plain": [
       "  cell_type                                             SMILES  \\\n",
       "0   B cells  CC#CCn1c(N2CCC[C@@H](N)C2)nc2c1c(=O)n(Cc1nc(C)...   \n",
       "1   B cells  CC(=O)c1c(C)c2cnc(Nc3ccc(N4CCNCC4)cn3)nc2n(C2C...   \n",
       "2   B cells  CC(C)(C)c1nc(-c2cccc(NS(=O)(=O)c3c(F)cccc3F)c2...   \n",
       "3   B cells      CC(C)C[C@H](NC(=O)CNC(=O)c1cc(Cl)ccc1Cl)B(O)O   \n",
       "4   B cells  CC[C@H](Nc1ncnc2[nH]cnc12)c1nc2cccc(F)c2c(=O)n...   \n",
       "\n",
       "                                                Gene  \n",
       "0  [A1BG, A1BG-AS1, A2M, A2M-AS1, A2MP1, A4GALT, ...  \n",
       "1  [A1BG, A1BG-AS1, A2M, A2M-AS1, A2MP1, A4GALT, ...  \n",
       "2  [A1BG, A1BG-AS1, A2M, A2M-AS1, A2MP1, A4GALT, ...  \n",
       "3  [A1BG, A1BG-AS1, A2M, A2M-AS1, A2MP1, A4GALT, ...  \n",
       "4  [A1BG, A1BG-AS1, A2M, A2M-AS1, A2MP1, A4GALT, ...  "
      ]
     },
     "execution_count": 5,
     "metadata": {},
     "output_type": "execute_result"
    }
   ],
   "source": [
    "grouped = df_long.groupby(['cell_type', 'SMILES'])['Gene'].apply(list).reset_index()\n",
    "grouped.head()"
   ]
  },
  {
   "cell_type": "code",
   "execution_count": 6,
   "id": "4efc0b6f",
   "metadata": {
    "execution": {
     "iopub.execute_input": "2023-10-22T22:01:29.664390Z",
     "iopub.status.busy": "2023-10-22T22:01:29.663499Z",
     "iopub.status.idle": "2023-10-22T22:01:29.673924Z",
     "shell.execute_reply": "2023-10-22T22:01:29.673135Z"
    },
    "papermill": {
     "duration": 0.019292,
     "end_time": "2023-10-22T22:01:29.676518",
     "exception": false,
     "start_time": "2023-10-22T22:01:29.657226",
     "status": "completed"
    },
    "tags": []
   },
   "outputs": [],
   "source": [
    "grouped_genes = grouped.groupby(['cell_type', 'SMILES'])['Gene'].sum()"
   ]
  },
  {
   "cell_type": "code",
   "execution_count": 7,
   "id": "85ff8c0e",
   "metadata": {
    "execution": {
     "iopub.execute_input": "2023-10-22T22:01:29.687808Z",
     "iopub.status.busy": "2023-10-22T22:01:29.687425Z",
     "iopub.status.idle": "2023-10-22T22:01:29.698952Z",
     "shell.execute_reply": "2023-10-22T22:01:29.697867Z"
    },
    "papermill": {
     "duration": 0.020035,
     "end_time": "2023-10-22T22:01:29.701439",
     "exception": false,
     "start_time": "2023-10-22T22:01:29.681404",
     "status": "completed"
    },
    "tags": []
   },
   "outputs": [
    {
     "data": {
      "text/plain": [
       "cell_type  SMILES                                                           \n",
       "B cells    CC#CCn1c(N2CCC[C@@H](N)C2)nc2c1c(=O)n(Cc1nc(C)c3ccccc3n1)c(=O)n2C    [A1BG, A1BG-AS1, A2M, A2M-AS1, A2MP1, A4GALT, ...\n",
       "           CC(=O)c1c(C)c2cnc(Nc3ccc(N4CCNCC4)cn3)nc2n(C2CCCC2)c1=O              [A1BG, A1BG-AS1, A2M, A2M-AS1, A2MP1, A4GALT, ...\n",
       "           CC(C)(C)c1nc(-c2cccc(NS(=O)(=O)c3c(F)cccc3F)c2F)c(-c2ccnc(N)n2)s1    [A1BG, A1BG-AS1, A2M, A2M-AS1, A2MP1, A4GALT, ...\n",
       "           CC(C)C[C@H](NC(=O)CNC(=O)c1cc(Cl)ccc1Cl)B(O)O                        [A1BG, A1BG-AS1, A2M, A2M-AS1, A2MP1, A4GALT, ...\n",
       "           CC[C@H](Nc1ncnc2[nH]cnc12)c1nc2cccc(F)c2c(=O)n1-c1ccccc1             [A1BG, A1BG-AS1, A2M, A2M-AS1, A2MP1, A4GALT, ...\n",
       "Name: Gene, dtype: object"
      ]
     },
     "execution_count": 7,
     "metadata": {},
     "output_type": "execute_result"
    }
   ],
   "source": [
    "grouped_genes.head()"
   ]
  },
  {
   "cell_type": "code",
   "execution_count": 8,
   "id": "ed0d5b30",
   "metadata": {
    "execution": {
     "iopub.execute_input": "2023-10-22T22:01:29.713458Z",
     "iopub.status.busy": "2023-10-22T22:01:29.712810Z",
     "iopub.status.idle": "2023-10-23T06:07:47.281123Z",
     "shell.execute_reply": "2023-10-23T06:07:47.279881Z"
    },
    "papermill": {
     "duration": 29177.577898,
     "end_time": "2023-10-23T06:07:47.284357",
     "exception": false,
     "start_time": "2023-10-22T22:01:29.706459",
     "status": "completed"
    },
    "tags": []
   },
   "outputs": [],
   "source": [
    "results = []\n",
    "\n",
    "for (cell_type, smiles), genes in grouped_genes.items():\n",
    "    enrichment_result = gp.enrichr(gene_list=genes,  \n",
    "                                   gene_sets='KEGG_2019_Human',  \n",
    "                                   no_plot=True,\n",
    "                                   cutoff=0.01)\n",
    "    \n",
    "    # Add cell_type and SMILES columns to the result DataFrame\n",
    "    enrichment_result.res2d['cell_type'] = cell_type\n",
    "    enrichment_result.res2d['SMILES'] = smiles\n",
    "\n",
    "    results.append(enrichment_result.res2d)\n",
    "\n",
    "# Concatenate results\n",
    "combined_results = pd.concat(results, axis=0)\n",
    "\n",
    "# Reorder columns to have 'cell_type' and 'SMILES' as the first columns\n",
    "cols = ['cell_type', 'SMILES'] + [col for col in combined_results if col not in ['cell_type', 'SMILES']]\n",
    "combined_results = combined_results[cols]"
   ]
  },
  {
   "cell_type": "code",
   "execution_count": 9,
   "id": "7bf752cd",
   "metadata": {
    "execution": {
     "iopub.execute_input": "2023-10-23T06:07:47.297928Z",
     "iopub.status.busy": "2023-10-23T06:07:47.297514Z",
     "iopub.status.idle": "2023-10-23T06:07:47.322012Z",
     "shell.execute_reply": "2023-10-23T06:07:47.321204Z"
    },
    "papermill": {
     "duration": 0.034191,
     "end_time": "2023-10-23T06:07:47.324711",
     "exception": false,
     "start_time": "2023-10-23T06:07:47.290520",
     "status": "completed"
    },
    "tags": []
   },
   "outputs": [
    {
     "data": {
      "text/html": [
       "<div>\n",
       "<style scoped>\n",
       "    .dataframe tbody tr th:only-of-type {\n",
       "        vertical-align: middle;\n",
       "    }\n",
       "\n",
       "    .dataframe tbody tr th {\n",
       "        vertical-align: top;\n",
       "    }\n",
       "\n",
       "    .dataframe thead th {\n",
       "        text-align: right;\n",
       "    }\n",
       "</style>\n",
       "<table border=\"1\" class=\"dataframe\">\n",
       "  <thead>\n",
       "    <tr style=\"text-align: right;\">\n",
       "      <th></th>\n",
       "      <th>cell_type</th>\n",
       "      <th>SMILES</th>\n",
       "      <th>Gene_set</th>\n",
       "      <th>Term</th>\n",
       "      <th>Overlap</th>\n",
       "      <th>P-value</th>\n",
       "      <th>Adjusted P-value</th>\n",
       "      <th>Old P-value</th>\n",
       "      <th>Old Adjusted P-value</th>\n",
       "      <th>Odds Ratio</th>\n",
       "      <th>Combined Score</th>\n",
       "      <th>Genes</th>\n",
       "    </tr>\n",
       "  </thead>\n",
       "  <tbody>\n",
       "    <tr>\n",
       "      <th>0</th>\n",
       "      <td>B cells</td>\n",
       "      <td>CC#CCn1c(N2CCC[C@@H](N)C2)nc2c1c(=O)n(Cc1nc(C)...</td>\n",
       "      <td>KEGG_2019_Human</td>\n",
       "      <td>Spliceosome</td>\n",
       "      <td>130/134</td>\n",
       "      <td>0.005755</td>\n",
       "      <td>0.999999</td>\n",
       "      <td>0</td>\n",
       "      <td>0</td>\n",
       "      <td>3.208479</td>\n",
       "      <td>1.654854e+01</td>\n",
       "      <td>TCERG1;EIF4A3;HNRNPU;EFTUD2;SNRPD2;SNRPD1;MAGO...</td>\n",
       "    </tr>\n",
       "    <tr>\n",
       "      <th>1</th>\n",
       "      <td>B cells</td>\n",
       "      <td>CC#CCn1c(N2CCC[C@@H](N)C2)nc2c1c(=O)n(Cc1nc(C)...</td>\n",
       "      <td>KEGG_2019_Human</td>\n",
       "      <td>Mitophagy</td>\n",
       "      <td>64/65</td>\n",
       "      <td>0.016596</td>\n",
       "      <td>0.999999</td>\n",
       "      <td>0</td>\n",
       "      <td>0</td>\n",
       "      <td>6.305836</td>\n",
       "      <td>2.584520e+01</td>\n",
       "      <td>CITED2;CALCOCO2;TBK1;FUNDC1;USP30;HRAS;USP8;GA...</td>\n",
       "    </tr>\n",
       "    <tr>\n",
       "      <th>2</th>\n",
       "      <td>B cells</td>\n",
       "      <td>CC#CCn1c(N2CCC[C@@H](N)C2)nc2c1c(=O)n(Cc1nc(C)...</td>\n",
       "      <td>KEGG_2019_Human</td>\n",
       "      <td>DNA replication</td>\n",
       "      <td>36/36</td>\n",
       "      <td>0.034166</td>\n",
       "      <td>0.999999</td>\n",
       "      <td>0</td>\n",
       "      <td>0</td>\n",
       "      <td>64404.000000</td>\n",
       "      <td>2.174625e+05</td>\n",
       "      <td>RNASEH2C;PRIM2;FEN1;RNASEH2B;RNASEH2A;PCNA;MCM...</td>\n",
       "    </tr>\n",
       "    <tr>\n",
       "      <th>3</th>\n",
       "      <td>B cells</td>\n",
       "      <td>CC#CCn1c(N2CCC[C@@H](N)C2)nc2c1c(=O)n(Cc1nc(C)...</td>\n",
       "      <td>KEGG_2019_Human</td>\n",
       "      <td>Legionellosis</td>\n",
       "      <td>54/55</td>\n",
       "      <td>0.036814</td>\n",
       "      <td>0.999999</td>\n",
       "      <td>0</td>\n",
       "      <td>0</td>\n",
       "      <td>5.317619</td>\n",
       "      <td>1.755819e+01</td>\n",
       "      <td>HBS1L;ARF1;CXCL8;ITGAM;ITGB2;CXCL1;CXCL3;CXCL2...</td>\n",
       "    </tr>\n",
       "    <tr>\n",
       "      <th>4</th>\n",
       "      <td>B cells</td>\n",
       "      <td>CC#CCn1c(N2CCC[C@@H](N)C2)nc2c1c(=O)n(Cc1nc(C)...</td>\n",
       "      <td>KEGG_2019_Human</td>\n",
       "      <td>B cell receptor signaling pathway</td>\n",
       "      <td>69/71</td>\n",
       "      <td>0.040972</td>\n",
       "      <td>0.999999</td>\n",
       "      <td>0</td>\n",
       "      <td>0</td>\n",
       "      <td>3.398275</td>\n",
       "      <td>1.085703e+01</td>\n",
       "      <td>GSK3B;IFITM1;CD81;INPPL1;PIK3CD;PIK3CB;IKBKB;P...</td>\n",
       "    </tr>\n",
       "    <tr>\n",
       "      <th>...</th>\n",
       "      <td>...</td>\n",
       "      <td>...</td>\n",
       "      <td>...</td>\n",
       "      <td>...</td>\n",
       "      <td>...</td>\n",
       "      <td>...</td>\n",
       "      <td>...</td>\n",
       "      <td>...</td>\n",
       "      <td>...</td>\n",
       "      <td>...</td>\n",
       "      <td>...</td>\n",
       "      <td>...</td>\n",
       "    </tr>\n",
       "    <tr>\n",
       "      <th>303</th>\n",
       "      <td>T regulatory cells</td>\n",
       "      <td>c1ccc2c(-c3cnn4cc(-c5ccc(N6CCNCC6)cc5)cnc34)cc...</td>\n",
       "      <td>KEGG_2019_Human</td>\n",
       "      <td>Renin-angiotensin system</td>\n",
       "      <td>12/23</td>\n",
       "      <td>0.999998</td>\n",
       "      <td>0.999999</td>\n",
       "      <td>0</td>\n",
       "      <td>0</td>\n",
       "      <td>0.106579</td>\n",
       "      <td>1.793597e-07</td>\n",
       "      <td>CTSA;NLN;MAS1;ACE;KLK1;MME;ANPEP;ATP6AP2;PREP;...</td>\n",
       "    </tr>\n",
       "    <tr>\n",
       "      <th>304</th>\n",
       "      <td>T regulatory cells</td>\n",
       "      <td>c1ccc2c(-c3cnn4cc(-c5ccc(N6CCNCC6)cc5)cnc34)cc...</td>\n",
       "      <td>KEGG_2019_Human</td>\n",
       "      <td>Maturity onset diabetes of the young</td>\n",
       "      <td>4/26</td>\n",
       "      <td>0.999998</td>\n",
       "      <td>0.999999</td>\n",
       "      <td>0</td>\n",
       "      <td>0</td>\n",
       "      <td>0.017646</td>\n",
       "      <td>2.936651e-08</td>\n",
       "      <td>NEUROD1;HHEX;HES1;PAX6</td>\n",
       "    </tr>\n",
       "    <tr>\n",
       "      <th>305</th>\n",
       "      <td>T regulatory cells</td>\n",
       "      <td>c1ccc2c(-c3cnn4cc(-c5ccc(N6CCNCC6)cc5)cnc34)cc...</td>\n",
       "      <td>KEGG_2019_Human</td>\n",
       "      <td>Nitrogen metabolism</td>\n",
       "      <td>8/17</td>\n",
       "      <td>0.999998</td>\n",
       "      <td>0.999999</td>\n",
       "      <td>0</td>\n",
       "      <td>0</td>\n",
       "      <td>0.086921</td>\n",
       "      <td>1.416149e-07</td>\n",
       "      <td>GLUD1;CPS1;CA5B;CA2;CA5A;CA6;GLUL;CA13</td>\n",
       "    </tr>\n",
       "    <tr>\n",
       "      <th>306</th>\n",
       "      <td>T regulatory cells</td>\n",
       "      <td>c1ccc2c(-c3cnn4cc(-c5ccc(N6CCNCC6)cc5)cnc34)cc...</td>\n",
       "      <td>KEGG_2019_Human</td>\n",
       "      <td>alpha-Linolenic acid metabolism</td>\n",
       "      <td>11/25</td>\n",
       "      <td>0.999998</td>\n",
       "      <td>0.999999</td>\n",
       "      <td>0</td>\n",
       "      <td>0</td>\n",
       "      <td>0.076629</td>\n",
       "      <td>1.246889e-07</td>\n",
       "      <td>FADS2;PLA2G16;PLA2G12A;PLA2G2D;ACOX1;PLA2G4C;P...</td>\n",
       "    </tr>\n",
       "    <tr>\n",
       "      <th>307</th>\n",
       "      <td>T regulatory cells</td>\n",
       "      <td>c1ccc2c(-c3cnn4cc(-c5ccc(N6CCNCC6)cc5)cnc34)cc...</td>\n",
       "      <td>KEGG_2019_Human</td>\n",
       "      <td>Phenylalanine metabolism</td>\n",
       "      <td>6/17</td>\n",
       "      <td>0.999999</td>\n",
       "      <td>0.999999</td>\n",
       "      <td>0</td>\n",
       "      <td>0</td>\n",
       "      <td>0.053272</td>\n",
       "      <td>6.842882e-08</td>\n",
       "      <td>IL4I1;GOT1;MAOA;ALDH3B1;GOT2;MIF</td>\n",
       "    </tr>\n",
       "  </tbody>\n",
       "</table>\n",
       "<p>189112 rows × 12 columns</p>\n",
       "</div>"
      ],
      "text/plain": [
       "              cell_type                                             SMILES  \\\n",
       "0               B cells  CC#CCn1c(N2CCC[C@@H](N)C2)nc2c1c(=O)n(Cc1nc(C)...   \n",
       "1               B cells  CC#CCn1c(N2CCC[C@@H](N)C2)nc2c1c(=O)n(Cc1nc(C)...   \n",
       "2               B cells  CC#CCn1c(N2CCC[C@@H](N)C2)nc2c1c(=O)n(Cc1nc(C)...   \n",
       "3               B cells  CC#CCn1c(N2CCC[C@@H](N)C2)nc2c1c(=O)n(Cc1nc(C)...   \n",
       "4               B cells  CC#CCn1c(N2CCC[C@@H](N)C2)nc2c1c(=O)n(Cc1nc(C)...   \n",
       "..                  ...                                                ...   \n",
       "303  T regulatory cells  c1ccc2c(-c3cnn4cc(-c5ccc(N6CCNCC6)cc5)cnc34)cc...   \n",
       "304  T regulatory cells  c1ccc2c(-c3cnn4cc(-c5ccc(N6CCNCC6)cc5)cnc34)cc...   \n",
       "305  T regulatory cells  c1ccc2c(-c3cnn4cc(-c5ccc(N6CCNCC6)cc5)cnc34)cc...   \n",
       "306  T regulatory cells  c1ccc2c(-c3cnn4cc(-c5ccc(N6CCNCC6)cc5)cnc34)cc...   \n",
       "307  T regulatory cells  c1ccc2c(-c3cnn4cc(-c5ccc(N6CCNCC6)cc5)cnc34)cc...   \n",
       "\n",
       "            Gene_set                                  Term  Overlap   P-value  \\\n",
       "0    KEGG_2019_Human                           Spliceosome  130/134  0.005755   \n",
       "1    KEGG_2019_Human                             Mitophagy    64/65  0.016596   \n",
       "2    KEGG_2019_Human                       DNA replication    36/36  0.034166   \n",
       "3    KEGG_2019_Human                         Legionellosis    54/55  0.036814   \n",
       "4    KEGG_2019_Human     B cell receptor signaling pathway    69/71  0.040972   \n",
       "..               ...                                   ...      ...       ...   \n",
       "303  KEGG_2019_Human              Renin-angiotensin system    12/23  0.999998   \n",
       "304  KEGG_2019_Human  Maturity onset diabetes of the young     4/26  0.999998   \n",
       "305  KEGG_2019_Human                   Nitrogen metabolism     8/17  0.999998   \n",
       "306  KEGG_2019_Human       alpha-Linolenic acid metabolism    11/25  0.999998   \n",
       "307  KEGG_2019_Human              Phenylalanine metabolism     6/17  0.999999   \n",
       "\n",
       "     Adjusted P-value  Old P-value  Old Adjusted P-value    Odds Ratio  \\\n",
       "0            0.999999            0                     0      3.208479   \n",
       "1            0.999999            0                     0      6.305836   \n",
       "2            0.999999            0                     0  64404.000000   \n",
       "3            0.999999            0                     0      5.317619   \n",
       "4            0.999999            0                     0      3.398275   \n",
       "..                ...          ...                   ...           ...   \n",
       "303          0.999999            0                     0      0.106579   \n",
       "304          0.999999            0                     0      0.017646   \n",
       "305          0.999999            0                     0      0.086921   \n",
       "306          0.999999            0                     0      0.076629   \n",
       "307          0.999999            0                     0      0.053272   \n",
       "\n",
       "     Combined Score                                              Genes  \n",
       "0      1.654854e+01  TCERG1;EIF4A3;HNRNPU;EFTUD2;SNRPD2;SNRPD1;MAGO...  \n",
       "1      2.584520e+01  CITED2;CALCOCO2;TBK1;FUNDC1;USP30;HRAS;USP8;GA...  \n",
       "2      2.174625e+05  RNASEH2C;PRIM2;FEN1;RNASEH2B;RNASEH2A;PCNA;MCM...  \n",
       "3      1.755819e+01  HBS1L;ARF1;CXCL8;ITGAM;ITGB2;CXCL1;CXCL3;CXCL2...  \n",
       "4      1.085703e+01  GSK3B;IFITM1;CD81;INPPL1;PIK3CD;PIK3CB;IKBKB;P...  \n",
       "..              ...                                                ...  \n",
       "303    1.793597e-07  CTSA;NLN;MAS1;ACE;KLK1;MME;ANPEP;ATP6AP2;PREP;...  \n",
       "304    2.936651e-08                             NEUROD1;HHEX;HES1;PAX6  \n",
       "305    1.416149e-07             GLUD1;CPS1;CA5B;CA2;CA5A;CA6;GLUL;CA13  \n",
       "306    1.246889e-07  FADS2;PLA2G16;PLA2G12A;PLA2G2D;ACOX1;PLA2G4C;P...  \n",
       "307    6.842882e-08                   IL4I1;GOT1;MAOA;ALDH3B1;GOT2;MIF  \n",
       "\n",
       "[189112 rows x 12 columns]"
      ]
     },
     "execution_count": 9,
     "metadata": {},
     "output_type": "execute_result"
    }
   ],
   "source": [
    "combined_results"
   ]
  },
  {
   "cell_type": "code",
   "execution_count": 10,
   "id": "e28a4e33",
   "metadata": {
    "execution": {
     "iopub.execute_input": "2023-10-23T06:07:47.338743Z",
     "iopub.status.busy": "2023-10-23T06:07:47.338066Z",
     "iopub.status.idle": "2023-10-23T06:07:55.321850Z",
     "shell.execute_reply": "2023-10-23T06:07:55.320942Z"
    },
    "papermill": {
     "duration": 7.993995,
     "end_time": "2023-10-23T06:07:55.324586",
     "exception": false,
     "start_time": "2023-10-23T06:07:47.330591",
     "status": "completed"
    },
    "tags": []
   },
   "outputs": [],
   "source": [
    "combined_results.to_csv(\"/kaggle/working/genes_ontology.csv\")"
   ]
  }
 ],
 "metadata": {
  "kernelspec": {
   "display_name": "Python 3",
   "language": "python",
   "name": "python3"
  },
  "language_info": {
   "codemirror_mode": {
    "name": "ipython",
    "version": 3
   },
   "file_extension": ".py",
   "mimetype": "text/x-python",
   "name": "python",
   "nbconvert_exporter": "python",
   "pygments_lexer": "ipython3",
   "version": "3.10.12"
  },
  "papermill": {
   "default_parameters": {},
   "duration": 29224.61866,
   "end_time": "2023-10-23T06:07:57.634964",
   "environment_variables": {},
   "exception": null,
   "input_path": "__notebook__.ipynb",
   "output_path": "__notebook__.ipynb",
   "parameters": {},
   "start_time": "2023-10-22T22:00:53.016304",
   "version": "2.4.0"
  }
 },
 "nbformat": 4,
 "nbformat_minor": 5
}
