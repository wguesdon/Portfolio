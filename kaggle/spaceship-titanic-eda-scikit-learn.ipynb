{
 "cells": [
  {
   "cell_type": "markdown",
   "id": "3871f0bf",
   "metadata": {
    "papermill": {
     "duration": 0.010631,
     "end_time": "2024-11-17T23:47:56.544003",
     "exception": false,
     "start_time": "2024-11-17T23:47:56.533372",
     "status": "completed"
    },
    "tags": []
   },
   "source": [
    "<div style=\"font-family: 'Poppins'; font-weight: bold; letter-spacing: 0px; color: #FFFFFF; font-size: 300%; text-align: center; padding: 15px; background: #0A0F29; border: 8px solid #00FFFF; border-radius: 15px; box-shadow: 5px 5px 20px rgba(0, 0, 0, 0.5);\">\n",
    "    Spaceship Titanic - EDA - Scikit-learn\n",
    "</div>\n"
   ]
  },
  {
   "cell_type": "markdown",
   "id": "9a8182fe",
   "metadata": {
    "papermill": {
     "duration": 0.009993,
     "end_time": "2024-11-17T23:47:56.564303",
     "exception": false,
     "start_time": "2024-11-17T23:47:56.554310",
     "status": "completed"
    },
    "tags": []
   },
   "source": [
    "<img src=\"https://imgur.com/D6A6wza.jpg\" width=\"1200px\">"
   ]
  },
  {
   "cell_type": "markdown",
   "id": "6fa4b9eb",
   "metadata": {
    "papermill": {
     "duration": 0.009926,
     "end_time": "2024-11-17T23:47:56.584426",
     "exception": false,
     "start_time": "2024-11-17T23:47:56.574500",
     "status": "completed"
    },
    "tags": []
   },
   "source": [
    "Photo by [Alek Kalinowski](https://unsplash.com/fr/@alekversusworld) on Unsplash"
   ]
  },
  {
   "cell_type": "markdown",
   "id": "62654732",
   "metadata": {
    "papermill": {
     "duration": 0.010042,
     "end_time": "2024-11-17T23:47:56.604715",
     "exception": false,
     "start_time": "2024-11-17T23:47:56.594673",
     "status": "completed"
    },
    "tags": []
   },
   "source": [
    "# <div style=\"background-color:#0A0F29; font-family:'Poppins', cursive; color:#E0F7FA; font-size:140%; text-align:center; border: 2px solid #00FFFF; border-radius:15px; padding: 15px; box-shadow: 5px 5px 20px rgba(0, 0, 0, 0.5); font-weight: bold; letter-spacing: 1px; text-transform: uppercase;\">Introduction</div> "
   ]
  },
  {
   "cell_type": "markdown",
   "id": "e1c69802",
   "metadata": {
    "papermill": {
     "duration": 0.01007,
     "end_time": "2024-11-17T23:47:56.625001",
     "exception": false,
     "start_time": "2024-11-17T23:47:56.614931",
     "status": "completed"
    },
    "tags": []
   },
   "source": [
    "## <div style=\"background-color:#0A0F29; font-family:'Poppins', cursive; color:#E0F7FA; font-size:100%; text-align:center; border: 2px solid #0A0F29; border-radius:10px; padding: 10px; box-shadow: 5px 5px 20px rgba(0, 0, 0, 0.5); font-weight: bold; letter-spacing: 1px; text-transform: uppercase;\">Challenge Overview</div>"
   ]
  },
  {
   "cell_type": "markdown",
   "id": "dbb0d30f",
   "metadata": {
    "papermill": {
     "duration": 0.010082,
     "end_time": "2024-11-17T23:47:56.645475",
     "exception": false,
     "start_time": "2024-11-17T23:47:56.635393",
     "status": "completed"
    },
    "tags": []
   },
   "source": [
    "This challenge is a variation on the famous Titanic dataset. I am using it as support to create a simple scikit-learn pipeline for classification.\n",
    "The dataset simulates a situation where a space anomaly may have transported passengers to an alternate dimension. The aim is to build a model to determine the likelihood of a passenger being transported based on various features."
   ]
  },
  {
   "cell_type": "markdown",
   "id": "bb8fb18c",
   "metadata": {
    "papermill": {
     "duration": 0.010003,
     "end_time": "2024-11-17T23:47:56.665849",
     "exception": false,
     "start_time": "2024-11-17T23:47:56.655846",
     "status": "completed"
    },
    "tags": []
   },
   "source": [
    "## <div style=\"background-color:#0A0F29; font-family:'Poppins', cursive; color:#E0F7FA; font-size:100%; text-align:center; border: 2px solid #0A0F29; border-radius:10px; padding: 10px; box-shadow: 5px 5px 20px rgba(0, 0, 0, 0.5); font-weight: bold; letter-spacing: 1px; text-transform: uppercase;\">Dataset Description</div>"
   ]
  },
  {
   "cell_type": "markdown",
   "id": "245e2ef3",
   "metadata": {
    "papermill": {
     "duration": 0.009991,
     "end_time": "2024-11-17T23:47:56.686155",
     "exception": false,
     "start_time": "2024-11-17T23:47:56.676164",
     "status": "completed"
    },
    "tags": []
   },
   "source": [
    "The dataset for this challenge is split into two main parts:\n",
    "\n",
    "* train.csv: This file contains personal records for approximately two-thirds of the passengers (about 8700 records). It includes both the features and the target variable Transported, which we need to predict. Features include categorical and numerical data such as PassengerId, HomePlanet, CryoSleep, Cabin, Destination, Age, VIP status, and expenditures on various onboard services.\n",
    "* test.csv: This file contains records for the remaining one-third of the passengers (around 4300 records). It includes the same features as the training set but lacks the target variable; our model's predictions for this set will be evaluated."
   ]
  },
  {
   "cell_type": "markdown",
   "id": "c52cddc3",
   "metadata": {
    "papermill": {
     "duration": 0.009825,
     "end_time": "2024-11-17T23:47:56.706296",
     "exception": false,
     "start_time": "2024-11-17T23:47:56.696471",
     "status": "completed"
    },
    "tags": []
   },
   "source": [
    "## <div style=\"background-color:#0A0F29; font-family:'Poppins', cursive; color:#E0F7FA; font-size:100%; text-align:center; border: 2px solid #0A0F29; border-radius:10px; padding: 10px; box-shadow: 5px 5px 20px rgba(0, 0, 0, 0.5); font-weight: bold; letter-spacing: 1px; text-transform: uppercase;\">Evaluation Metric</div>"
   ]
  },
  {
   "cell_type": "markdown",
   "id": "25f644d5",
   "metadata": {
    "papermill": {
     "duration": 0.009882,
     "end_time": "2024-11-17T23:47:56.726508",
     "exception": false,
     "start_time": "2024-11-17T23:47:56.716626",
     "status": "completed"
    },
    "tags": []
   },
   "source": [
    "The primary metric for evaluating submissions is classification accuracy, which measures the proportion of correctly predicted labels (whether a passenger was transported or not) against the total number of cases."
   ]
  },
  {
   "cell_type": "markdown",
   "id": "7c810831",
   "metadata": {
    "papermill": {
     "duration": 0.010506,
     "end_time": "2024-11-17T23:47:56.747568",
     "exception": false,
     "start_time": "2024-11-17T23:47:56.737062",
     "status": "completed"
    },
    "tags": []
   },
   "source": [
    "## <div style=\"background-color:#0A0F29; font-family:'Poppins', cursive; color:#E0F7FA; font-size:100%; text-align:center; border: 2px solid #0A0F29; border-radius:10px; padding: 10px; box-shadow: 5px 5px 20px rgba(0, 0, 0, 0.5); font-weight: bold; letter-spacing: 1px; text-transform: uppercase;\">Approach using Scikit-Learn</div> "
   ]
  },
  {
   "cell_type": "markdown",
   "id": "b5a0b34e",
   "metadata": {
    "papermill": {
     "duration": 0.009993,
     "end_time": "2024-11-17T23:47:56.767888",
     "exception": false,
     "start_time": "2024-11-17T23:47:56.757895",
     "status": "completed"
    },
    "tags": []
   },
   "source": [
    "## Preprocessing Pipeline Overview\n",
    "The preprocessing pipeline is divided into two main parts to handle different data types: one for categorical data and the other for numerical data. These are then combined into a single pipeline using Scikit-learn's ColumnTransformer.\n",
    "\n",
    "### Categorical Data Preprocessing\n",
    "\n",
    "* SimpleImputer (Most Frequent Strategy): This step fills missing values in categorical columns with the most frequent value in each column. It's a common approach to handle missing data in categorical features.\n",
    "* OneHotEncoder: This step converts categorical variables into a form that could be provided to machine learning algorithms to do a better job in prediction. It creates binary (0 or 1) columns for each category of the original categorical variables. The handle_unknown='ignore' option ensures that the encoder ignores any unseen categories in the test data.\n",
    "\n",
    "### Numerical Data Preprocessing\n",
    "* SimpleImputer (Median Strategy): For numerical data, missing values are filled with the median value of each column. The median is less sensitive to outliers than the mean and is a common choice for imputation in numerical data.\n",
    "* StandardScaler: This step standardizes the features by removing the mean and scaling to unit variance. Standardization is a common requirement for many machine learning estimators in Scikit-learn, as they might behave badly if the individual features do not resemble standard normally distributed data.\n",
    "\n",
    "### Combining the Pipelines\n",
    "* ColumnTransformer: This Scikit-learn tool combines the two pipelines. It applies the appropriate preprocessing steps to each column type (numerical or categorical). The transformers are defined as follows:\n",
    "'num' for the numerical pipeline, applied to numerical_cols.\n",
    "'cat' for the categorical pipeline, applied to categorical_cols.\n",
    "\n",
    "## Explore Best Models\n",
    "\n",
    "* The training dataset is split into train, validation, and test sets.\n",
    "* Preprocessing pipelines for categorical and numerical data are created.\n",
    "* A range of models including RandomForest, LogisticRegression, SVC, SGDClassifier, RidgeClassifier, XGBoost, and LightGBM are trained and evaluated using cross-validation.\n",
    "* The models' performances are compared using F1 scores.\n",
    "\n",
    "## Train Model\n",
    "\n",
    "* Top performing models (LightGBM, XGBoost, SVC) are identified for ensemble.\n",
    "* These models are fine-tuned using GridSearchCV.\n",
    "* A VotingClassifier is used to create an ensemble model, combining the fine-tuned models.\n",
    "* The ensemble model is trained and evaluated on the split datasets, with performance metrics like Precision, Recall, and F1-Score reported.\n",
    "\n",
    "## Prepare Final Submission\n",
    "\n",
    "* The final model is trained on the full training dataset.\n",
    "* Predictions are made on the test dataset.\n",
    "* A submission file is prepared and saved, ready for submission."
   ]
  },
  {
   "cell_type": "markdown",
   "id": "97979098",
   "metadata": {
    "papermill": {
     "duration": 0.0103,
     "end_time": "2024-11-17T23:47:56.788746",
     "exception": false,
     "start_time": "2024-11-17T23:47:56.778446",
     "status": "completed"
    },
    "tags": []
   },
   "source": [
    "# <div style=\"background-color:#0A0F29; font-family:'Poppins', cursive; color:#E0F7FA; font-size:140%; text-align:center; border: 2px solid #00FFFF; border-radius:15px; padding: 15px; box-shadow: 5px 5px 20px rgba(0, 0, 0, 0.5); font-weight: bold; letter-spacing: 1px; text-transform: uppercase;\">Simple EDA</div>"
   ]
  },
  {
   "cell_type": "code",
   "execution_count": 1,
   "id": "9d44bfb7",
   "metadata": {
    "execution": {
     "iopub.execute_input": "2024-11-17T23:47:56.812205Z",
     "iopub.status.busy": "2024-11-17T23:47:56.810914Z",
     "iopub.status.idle": "2024-11-17T23:48:13.893936Z",
     "shell.execute_reply": "2024-11-17T23:48:13.892567Z"
    },
    "papermill": {
     "duration": 17.09778,
     "end_time": "2024-11-17T23:48:13.896822",
     "exception": false,
     "start_time": "2024-11-17T23:47:56.799042",
     "status": "completed"
    },
    "tags": []
   },
   "outputs": [],
   "source": [
    "!pip install sweetviz > /dev/null 2>&1"
   ]
  },
  {
   "cell_type": "code",
   "execution_count": 2,
   "id": "b5f48768",
   "metadata": {
    "execution": {
     "iopub.execute_input": "2024-11-17T23:48:13.920237Z",
     "iopub.status.busy": "2024-11-17T23:48:13.919458Z",
     "iopub.status.idle": "2024-11-17T23:48:18.669918Z",
     "shell.execute_reply": "2024-11-17T23:48:18.668772Z"
    },
    "papermill": {
     "duration": 4.765716,
     "end_time": "2024-11-17T23:48:18.673007",
     "exception": false,
     "start_time": "2024-11-17T23:48:13.907291",
     "status": "completed"
    },
    "tags": []
   },
   "outputs": [],
   "source": [
    "# Import libraries\n",
    "import numpy as np\n",
    "import sweetviz as sv\n",
    "import pandas as pd\n",
    "import seaborn as sns\n",
    "import matplotlib.pyplot as plt\n",
    "from itertools import product\n",
    "from sklearn.compose import ColumnTransformer\n",
    "from sklearn.ensemble import (RandomForestClassifier, GradientBoostingClassifier, \n",
    "                              AdaBoostClassifier, VotingClassifier)\n",
    "from sklearn.impute import SimpleImputer\n",
    "from sklearn.linear_model import LogisticRegression, SGDClassifier, RidgeClassifier\n",
    "from sklearn.model_selection import (train_test_split, StratifiedKFold, \n",
    "                                     cross_val_score, RandomizedSearchCV)\n",
    "from sklearn.naive_bayes import GaussianNB\n",
    "from sklearn.neighbors import KNeighborsClassifier\n",
    "from sklearn.pipeline import Pipeline\n",
    "from sklearn.preprocessing import StandardScaler, OneHotEncoder\n",
    "from sklearn.svm import SVC\n",
    "from sklearn.tree import DecisionTreeClassifier\n",
    "from xgboost import XGBClassifier\n",
    "from lightgbm import LGBMClassifier\n",
    "from sklearn.metrics import accuracy_score, precision_score, recall_score, f1_score, make_scorer"
   ]
  },
  {
   "cell_type": "code",
   "execution_count": 3,
   "id": "86589bc8",
   "metadata": {
    "execution": {
     "iopub.execute_input": "2024-11-17T23:48:18.695842Z",
     "iopub.status.busy": "2024-11-17T23:48:18.695414Z",
     "iopub.status.idle": "2024-11-17T23:48:18.807980Z",
     "shell.execute_reply": "2024-11-17T23:48:18.806886Z"
    },
    "papermill": {
     "duration": 0.127227,
     "end_time": "2024-11-17T23:48:18.810822",
     "exception": false,
     "start_time": "2024-11-17T23:48:18.683595",
     "status": "completed"
    },
    "tags": []
   },
   "outputs": [],
   "source": [
    "train_data = pd.read_csv('/kaggle/input/spaceship-titanic/train.csv')\n",
    "test_data = pd.read_csv('/kaggle/input/spaceship-titanic/test.csv')\n",
    "sample_submission = pd.read_csv('/kaggle/input/spaceship-titanic/sample_submission.csv')"
   ]
  },
  {
   "cell_type": "code",
   "execution_count": 4,
   "id": "37707d25",
   "metadata": {
    "execution": {
     "iopub.execute_input": "2024-11-17T23:48:18.833966Z",
     "iopub.status.busy": "2024-11-17T23:48:18.833533Z",
     "iopub.status.idle": "2024-11-17T23:48:18.867925Z",
     "shell.execute_reply": "2024-11-17T23:48:18.866882Z"
    },
    "papermill": {
     "duration": 0.049149,
     "end_time": "2024-11-17T23:48:18.870723",
     "exception": false,
     "start_time": "2024-11-17T23:48:18.821574",
     "status": "completed"
    },
    "tags": []
   },
   "outputs": [
    {
     "data": {
      "text/html": [
       "<div>\n",
       "<style scoped>\n",
       "    .dataframe tbody tr th:only-of-type {\n",
       "        vertical-align: middle;\n",
       "    }\n",
       "\n",
       "    .dataframe tbody tr th {\n",
       "        vertical-align: top;\n",
       "    }\n",
       "\n",
       "    .dataframe thead th {\n",
       "        text-align: right;\n",
       "    }\n",
       "</style>\n",
       "<table border=\"1\" class=\"dataframe\">\n",
       "  <thead>\n",
       "    <tr style=\"text-align: right;\">\n",
       "      <th></th>\n",
       "      <th>PassengerId</th>\n",
       "      <th>HomePlanet</th>\n",
       "      <th>CryoSleep</th>\n",
       "      <th>Cabin</th>\n",
       "      <th>Destination</th>\n",
       "      <th>Age</th>\n",
       "      <th>VIP</th>\n",
       "      <th>RoomService</th>\n",
       "      <th>FoodCourt</th>\n",
       "      <th>ShoppingMall</th>\n",
       "      <th>Spa</th>\n",
       "      <th>VRDeck</th>\n",
       "      <th>Name</th>\n",
       "      <th>Transported</th>\n",
       "    </tr>\n",
       "  </thead>\n",
       "  <tbody>\n",
       "    <tr>\n",
       "      <th>0</th>\n",
       "      <td>0001_01</td>\n",
       "      <td>Europa</td>\n",
       "      <td>False</td>\n",
       "      <td>B/0/P</td>\n",
       "      <td>TRAPPIST-1e</td>\n",
       "      <td>39.0</td>\n",
       "      <td>False</td>\n",
       "      <td>0.0</td>\n",
       "      <td>0.0</td>\n",
       "      <td>0.0</td>\n",
       "      <td>0.0</td>\n",
       "      <td>0.0</td>\n",
       "      <td>Maham Ofracculy</td>\n",
       "      <td>False</td>\n",
       "    </tr>\n",
       "    <tr>\n",
       "      <th>1</th>\n",
       "      <td>0002_01</td>\n",
       "      <td>Earth</td>\n",
       "      <td>False</td>\n",
       "      <td>F/0/S</td>\n",
       "      <td>TRAPPIST-1e</td>\n",
       "      <td>24.0</td>\n",
       "      <td>False</td>\n",
       "      <td>109.0</td>\n",
       "      <td>9.0</td>\n",
       "      <td>25.0</td>\n",
       "      <td>549.0</td>\n",
       "      <td>44.0</td>\n",
       "      <td>Juanna Vines</td>\n",
       "      <td>True</td>\n",
       "    </tr>\n",
       "    <tr>\n",
       "      <th>2</th>\n",
       "      <td>0003_01</td>\n",
       "      <td>Europa</td>\n",
       "      <td>False</td>\n",
       "      <td>A/0/S</td>\n",
       "      <td>TRAPPIST-1e</td>\n",
       "      <td>58.0</td>\n",
       "      <td>True</td>\n",
       "      <td>43.0</td>\n",
       "      <td>3576.0</td>\n",
       "      <td>0.0</td>\n",
       "      <td>6715.0</td>\n",
       "      <td>49.0</td>\n",
       "      <td>Altark Susent</td>\n",
       "      <td>False</td>\n",
       "    </tr>\n",
       "    <tr>\n",
       "      <th>3</th>\n",
       "      <td>0003_02</td>\n",
       "      <td>Europa</td>\n",
       "      <td>False</td>\n",
       "      <td>A/0/S</td>\n",
       "      <td>TRAPPIST-1e</td>\n",
       "      <td>33.0</td>\n",
       "      <td>False</td>\n",
       "      <td>0.0</td>\n",
       "      <td>1283.0</td>\n",
       "      <td>371.0</td>\n",
       "      <td>3329.0</td>\n",
       "      <td>193.0</td>\n",
       "      <td>Solam Susent</td>\n",
       "      <td>False</td>\n",
       "    </tr>\n",
       "    <tr>\n",
       "      <th>4</th>\n",
       "      <td>0004_01</td>\n",
       "      <td>Earth</td>\n",
       "      <td>False</td>\n",
       "      <td>F/1/S</td>\n",
       "      <td>TRAPPIST-1e</td>\n",
       "      <td>16.0</td>\n",
       "      <td>False</td>\n",
       "      <td>303.0</td>\n",
       "      <td>70.0</td>\n",
       "      <td>151.0</td>\n",
       "      <td>565.0</td>\n",
       "      <td>2.0</td>\n",
       "      <td>Willy Santantines</td>\n",
       "      <td>True</td>\n",
       "    </tr>\n",
       "  </tbody>\n",
       "</table>\n",
       "</div>"
      ],
      "text/plain": [
       "  PassengerId HomePlanet CryoSleep  Cabin  Destination   Age    VIP  \\\n",
       "0     0001_01     Europa     False  B/0/P  TRAPPIST-1e  39.0  False   \n",
       "1     0002_01      Earth     False  F/0/S  TRAPPIST-1e  24.0  False   \n",
       "2     0003_01     Europa     False  A/0/S  TRAPPIST-1e  58.0   True   \n",
       "3     0003_02     Europa     False  A/0/S  TRAPPIST-1e  33.0  False   \n",
       "4     0004_01      Earth     False  F/1/S  TRAPPIST-1e  16.0  False   \n",
       "\n",
       "   RoomService  FoodCourt  ShoppingMall     Spa  VRDeck               Name  \\\n",
       "0          0.0        0.0           0.0     0.0     0.0    Maham Ofracculy   \n",
       "1        109.0        9.0          25.0   549.0    44.0       Juanna Vines   \n",
       "2         43.0     3576.0           0.0  6715.0    49.0      Altark Susent   \n",
       "3          0.0     1283.0         371.0  3329.0   193.0       Solam Susent   \n",
       "4        303.0       70.0         151.0   565.0     2.0  Willy Santantines   \n",
       "\n",
       "   Transported  \n",
       "0        False  \n",
       "1         True  \n",
       "2        False  \n",
       "3        False  \n",
       "4         True  "
      ]
     },
     "execution_count": 4,
     "metadata": {},
     "output_type": "execute_result"
    }
   ],
   "source": [
    "# Basic Exploration\n",
    "train_data.head()"
   ]
  },
  {
   "cell_type": "code",
   "execution_count": 5,
   "id": "b3b35983",
   "metadata": {
    "execution": {
     "iopub.execute_input": "2024-11-17T23:48:18.894202Z",
     "iopub.status.busy": "2024-11-17T23:48:18.893776Z",
     "iopub.status.idle": "2024-11-17T23:48:18.917083Z",
     "shell.execute_reply": "2024-11-17T23:48:18.915990Z"
    },
    "papermill": {
     "duration": 0.0377,
     "end_time": "2024-11-17T23:48:18.919418",
     "exception": false,
     "start_time": "2024-11-17T23:48:18.881718",
     "status": "completed"
    },
    "tags": []
   },
   "outputs": [
    {
     "data": {
      "text/html": [
       "<div>\n",
       "<style scoped>\n",
       "    .dataframe tbody tr th:only-of-type {\n",
       "        vertical-align: middle;\n",
       "    }\n",
       "\n",
       "    .dataframe tbody tr th {\n",
       "        vertical-align: top;\n",
       "    }\n",
       "\n",
       "    .dataframe thead th {\n",
       "        text-align: right;\n",
       "    }\n",
       "</style>\n",
       "<table border=\"1\" class=\"dataframe\">\n",
       "  <thead>\n",
       "    <tr style=\"text-align: right;\">\n",
       "      <th></th>\n",
       "      <th>PassengerId</th>\n",
       "      <th>HomePlanet</th>\n",
       "      <th>CryoSleep</th>\n",
       "      <th>Cabin</th>\n",
       "      <th>Destination</th>\n",
       "      <th>Age</th>\n",
       "      <th>VIP</th>\n",
       "      <th>RoomService</th>\n",
       "      <th>FoodCourt</th>\n",
       "      <th>ShoppingMall</th>\n",
       "      <th>Spa</th>\n",
       "      <th>VRDeck</th>\n",
       "      <th>Name</th>\n",
       "    </tr>\n",
       "  </thead>\n",
       "  <tbody>\n",
       "    <tr>\n",
       "      <th>0</th>\n",
       "      <td>0013_01</td>\n",
       "      <td>Earth</td>\n",
       "      <td>True</td>\n",
       "      <td>G/3/S</td>\n",
       "      <td>TRAPPIST-1e</td>\n",
       "      <td>27.0</td>\n",
       "      <td>False</td>\n",
       "      <td>0.0</td>\n",
       "      <td>0.0</td>\n",
       "      <td>0.0</td>\n",
       "      <td>0.0</td>\n",
       "      <td>0.0</td>\n",
       "      <td>Nelly Carsoning</td>\n",
       "    </tr>\n",
       "    <tr>\n",
       "      <th>1</th>\n",
       "      <td>0018_01</td>\n",
       "      <td>Earth</td>\n",
       "      <td>False</td>\n",
       "      <td>F/4/S</td>\n",
       "      <td>TRAPPIST-1e</td>\n",
       "      <td>19.0</td>\n",
       "      <td>False</td>\n",
       "      <td>0.0</td>\n",
       "      <td>9.0</td>\n",
       "      <td>0.0</td>\n",
       "      <td>2823.0</td>\n",
       "      <td>0.0</td>\n",
       "      <td>Lerome Peckers</td>\n",
       "    </tr>\n",
       "    <tr>\n",
       "      <th>2</th>\n",
       "      <td>0019_01</td>\n",
       "      <td>Europa</td>\n",
       "      <td>True</td>\n",
       "      <td>C/0/S</td>\n",
       "      <td>55 Cancri e</td>\n",
       "      <td>31.0</td>\n",
       "      <td>False</td>\n",
       "      <td>0.0</td>\n",
       "      <td>0.0</td>\n",
       "      <td>0.0</td>\n",
       "      <td>0.0</td>\n",
       "      <td>0.0</td>\n",
       "      <td>Sabih Unhearfus</td>\n",
       "    </tr>\n",
       "    <tr>\n",
       "      <th>3</th>\n",
       "      <td>0021_01</td>\n",
       "      <td>Europa</td>\n",
       "      <td>False</td>\n",
       "      <td>C/1/S</td>\n",
       "      <td>TRAPPIST-1e</td>\n",
       "      <td>38.0</td>\n",
       "      <td>False</td>\n",
       "      <td>0.0</td>\n",
       "      <td>6652.0</td>\n",
       "      <td>0.0</td>\n",
       "      <td>181.0</td>\n",
       "      <td>585.0</td>\n",
       "      <td>Meratz Caltilter</td>\n",
       "    </tr>\n",
       "    <tr>\n",
       "      <th>4</th>\n",
       "      <td>0023_01</td>\n",
       "      <td>Earth</td>\n",
       "      <td>False</td>\n",
       "      <td>F/5/S</td>\n",
       "      <td>TRAPPIST-1e</td>\n",
       "      <td>20.0</td>\n",
       "      <td>False</td>\n",
       "      <td>10.0</td>\n",
       "      <td>0.0</td>\n",
       "      <td>635.0</td>\n",
       "      <td>0.0</td>\n",
       "      <td>0.0</td>\n",
       "      <td>Brence Harperez</td>\n",
       "    </tr>\n",
       "  </tbody>\n",
       "</table>\n",
       "</div>"
      ],
      "text/plain": [
       "  PassengerId HomePlanet CryoSleep  Cabin  Destination   Age    VIP  \\\n",
       "0     0013_01      Earth      True  G/3/S  TRAPPIST-1e  27.0  False   \n",
       "1     0018_01      Earth     False  F/4/S  TRAPPIST-1e  19.0  False   \n",
       "2     0019_01     Europa      True  C/0/S  55 Cancri e  31.0  False   \n",
       "3     0021_01     Europa     False  C/1/S  TRAPPIST-1e  38.0  False   \n",
       "4     0023_01      Earth     False  F/5/S  TRAPPIST-1e  20.0  False   \n",
       "\n",
       "   RoomService  FoodCourt  ShoppingMall     Spa  VRDeck              Name  \n",
       "0          0.0        0.0           0.0     0.0     0.0   Nelly Carsoning  \n",
       "1          0.0        9.0           0.0  2823.0     0.0    Lerome Peckers  \n",
       "2          0.0        0.0           0.0     0.0     0.0   Sabih Unhearfus  \n",
       "3          0.0     6652.0           0.0   181.0   585.0  Meratz Caltilter  \n",
       "4         10.0        0.0         635.0     0.0     0.0   Brence Harperez  "
      ]
     },
     "execution_count": 5,
     "metadata": {},
     "output_type": "execute_result"
    }
   ],
   "source": [
    "test_data.head()"
   ]
  },
  {
   "cell_type": "code",
   "execution_count": 6,
   "id": "b66f429b",
   "metadata": {
    "execution": {
     "iopub.execute_input": "2024-11-17T23:48:18.944892Z",
     "iopub.status.busy": "2024-11-17T23:48:18.944447Z",
     "iopub.status.idle": "2024-11-17T23:48:18.955221Z",
     "shell.execute_reply": "2024-11-17T23:48:18.954167Z"
    },
    "papermill": {
     "duration": 0.026375,
     "end_time": "2024-11-17T23:48:18.957548",
     "exception": false,
     "start_time": "2024-11-17T23:48:18.931173",
     "status": "completed"
    },
    "tags": []
   },
   "outputs": [
    {
     "data": {
      "text/html": [
       "<div>\n",
       "<style scoped>\n",
       "    .dataframe tbody tr th:only-of-type {\n",
       "        vertical-align: middle;\n",
       "    }\n",
       "\n",
       "    .dataframe tbody tr th {\n",
       "        vertical-align: top;\n",
       "    }\n",
       "\n",
       "    .dataframe thead th {\n",
       "        text-align: right;\n",
       "    }\n",
       "</style>\n",
       "<table border=\"1\" class=\"dataframe\">\n",
       "  <thead>\n",
       "    <tr style=\"text-align: right;\">\n",
       "      <th></th>\n",
       "      <th>PassengerId</th>\n",
       "      <th>Transported</th>\n",
       "    </tr>\n",
       "  </thead>\n",
       "  <tbody>\n",
       "    <tr>\n",
       "      <th>0</th>\n",
       "      <td>0013_01</td>\n",
       "      <td>False</td>\n",
       "    </tr>\n",
       "    <tr>\n",
       "      <th>1</th>\n",
       "      <td>0018_01</td>\n",
       "      <td>False</td>\n",
       "    </tr>\n",
       "    <tr>\n",
       "      <th>2</th>\n",
       "      <td>0019_01</td>\n",
       "      <td>False</td>\n",
       "    </tr>\n",
       "    <tr>\n",
       "      <th>3</th>\n",
       "      <td>0021_01</td>\n",
       "      <td>False</td>\n",
       "    </tr>\n",
       "    <tr>\n",
       "      <th>4</th>\n",
       "      <td>0023_01</td>\n",
       "      <td>False</td>\n",
       "    </tr>\n",
       "  </tbody>\n",
       "</table>\n",
       "</div>"
      ],
      "text/plain": [
       "  PassengerId  Transported\n",
       "0     0013_01        False\n",
       "1     0018_01        False\n",
       "2     0019_01        False\n",
       "3     0021_01        False\n",
       "4     0023_01        False"
      ]
     },
     "execution_count": 6,
     "metadata": {},
     "output_type": "execute_result"
    }
   ],
   "source": [
    "sample_submission.head()"
   ]
  },
  {
   "cell_type": "code",
   "execution_count": 7,
   "id": "184bd8c1",
   "metadata": {
    "execution": {
     "iopub.execute_input": "2024-11-17T23:48:18.982274Z",
     "iopub.status.busy": "2024-11-17T23:48:18.981882Z",
     "iopub.status.idle": "2024-11-17T23:48:18.989088Z",
     "shell.execute_reply": "2024-11-17T23:48:18.987972Z"
    },
    "papermill": {
     "duration": 0.022499,
     "end_time": "2024-11-17T23:48:18.991564",
     "exception": false,
     "start_time": "2024-11-17T23:48:18.969065",
     "status": "completed"
    },
    "tags": []
   },
   "outputs": [
    {
     "data": {
      "text/plain": [
       "(8693, 14)"
      ]
     },
     "execution_count": 7,
     "metadata": {},
     "output_type": "execute_result"
    }
   ],
   "source": [
    "train_data.shape"
   ]
  },
  {
   "cell_type": "code",
   "execution_count": 8,
   "id": "bddc981e",
   "metadata": {
    "execution": {
     "iopub.execute_input": "2024-11-17T23:48:19.017711Z",
     "iopub.status.busy": "2024-11-17T23:48:19.016840Z",
     "iopub.status.idle": "2024-11-17T23:48:19.023834Z",
     "shell.execute_reply": "2024-11-17T23:48:19.022740Z"
    },
    "papermill": {
     "duration": 0.022824,
     "end_time": "2024-11-17T23:48:19.026429",
     "exception": false,
     "start_time": "2024-11-17T23:48:19.003605",
     "status": "completed"
    },
    "tags": []
   },
   "outputs": [
    {
     "data": {
      "text/plain": [
       "(4277, 13)"
      ]
     },
     "execution_count": 8,
     "metadata": {},
     "output_type": "execute_result"
    }
   ],
   "source": [
    "test_data.shape"
   ]
  },
  {
   "cell_type": "code",
   "execution_count": 9,
   "id": "cb27a208",
   "metadata": {
    "execution": {
     "iopub.execute_input": "2024-11-17T23:48:19.054569Z",
     "iopub.status.busy": "2024-11-17T23:48:19.053637Z",
     "iopub.status.idle": "2024-11-17T23:48:19.089602Z",
     "shell.execute_reply": "2024-11-17T23:48:19.088352Z"
    },
    "papermill": {
     "duration": 0.053764,
     "end_time": "2024-11-17T23:48:19.092295",
     "exception": false,
     "start_time": "2024-11-17T23:48:19.038531",
     "status": "completed"
    },
    "tags": []
   },
   "outputs": [
    {
     "data": {
      "text/html": [
       "<div>\n",
       "<style scoped>\n",
       "    .dataframe tbody tr th:only-of-type {\n",
       "        vertical-align: middle;\n",
       "    }\n",
       "\n",
       "    .dataframe tbody tr th {\n",
       "        vertical-align: top;\n",
       "    }\n",
       "\n",
       "    .dataframe thead th {\n",
       "        text-align: right;\n",
       "    }\n",
       "</style>\n",
       "<table border=\"1\" class=\"dataframe\">\n",
       "  <thead>\n",
       "    <tr style=\"text-align: right;\">\n",
       "      <th></th>\n",
       "      <th>Age</th>\n",
       "      <th>RoomService</th>\n",
       "      <th>FoodCourt</th>\n",
       "      <th>ShoppingMall</th>\n",
       "      <th>Spa</th>\n",
       "      <th>VRDeck</th>\n",
       "    </tr>\n",
       "  </thead>\n",
       "  <tbody>\n",
       "    <tr>\n",
       "      <th>count</th>\n",
       "      <td>4186.000000</td>\n",
       "      <td>4195.000000</td>\n",
       "      <td>4171.000000</td>\n",
       "      <td>4179.000000</td>\n",
       "      <td>4176.000000</td>\n",
       "      <td>4197.000000</td>\n",
       "    </tr>\n",
       "    <tr>\n",
       "      <th>mean</th>\n",
       "      <td>28.658146</td>\n",
       "      <td>219.266269</td>\n",
       "      <td>439.484296</td>\n",
       "      <td>177.295525</td>\n",
       "      <td>303.052443</td>\n",
       "      <td>310.710031</td>\n",
       "    </tr>\n",
       "    <tr>\n",
       "      <th>std</th>\n",
       "      <td>14.179072</td>\n",
       "      <td>607.011289</td>\n",
       "      <td>1527.663045</td>\n",
       "      <td>560.821123</td>\n",
       "      <td>1117.186015</td>\n",
       "      <td>1246.994742</td>\n",
       "    </tr>\n",
       "    <tr>\n",
       "      <th>min</th>\n",
       "      <td>0.000000</td>\n",
       "      <td>0.000000</td>\n",
       "      <td>0.000000</td>\n",
       "      <td>0.000000</td>\n",
       "      <td>0.000000</td>\n",
       "      <td>0.000000</td>\n",
       "    </tr>\n",
       "    <tr>\n",
       "      <th>25%</th>\n",
       "      <td>19.000000</td>\n",
       "      <td>0.000000</td>\n",
       "      <td>0.000000</td>\n",
       "      <td>0.000000</td>\n",
       "      <td>0.000000</td>\n",
       "      <td>0.000000</td>\n",
       "    </tr>\n",
       "    <tr>\n",
       "      <th>50%</th>\n",
       "      <td>26.000000</td>\n",
       "      <td>0.000000</td>\n",
       "      <td>0.000000</td>\n",
       "      <td>0.000000</td>\n",
       "      <td>0.000000</td>\n",
       "      <td>0.000000</td>\n",
       "    </tr>\n",
       "    <tr>\n",
       "      <th>75%</th>\n",
       "      <td>37.000000</td>\n",
       "      <td>53.000000</td>\n",
       "      <td>78.000000</td>\n",
       "      <td>33.000000</td>\n",
       "      <td>50.000000</td>\n",
       "      <td>36.000000</td>\n",
       "    </tr>\n",
       "    <tr>\n",
       "      <th>max</th>\n",
       "      <td>79.000000</td>\n",
       "      <td>11567.000000</td>\n",
       "      <td>25273.000000</td>\n",
       "      <td>8292.000000</td>\n",
       "      <td>19844.000000</td>\n",
       "      <td>22272.000000</td>\n",
       "    </tr>\n",
       "  </tbody>\n",
       "</table>\n",
       "</div>"
      ],
      "text/plain": [
       "               Age   RoomService     FoodCourt  ShoppingMall           Spa  \\\n",
       "count  4186.000000   4195.000000   4171.000000   4179.000000   4176.000000   \n",
       "mean     28.658146    219.266269    439.484296    177.295525    303.052443   \n",
       "std      14.179072    607.011289   1527.663045    560.821123   1117.186015   \n",
       "min       0.000000      0.000000      0.000000      0.000000      0.000000   \n",
       "25%      19.000000      0.000000      0.000000      0.000000      0.000000   \n",
       "50%      26.000000      0.000000      0.000000      0.000000      0.000000   \n",
       "75%      37.000000     53.000000     78.000000     33.000000     50.000000   \n",
       "max      79.000000  11567.000000  25273.000000   8292.000000  19844.000000   \n",
       "\n",
       "             VRDeck  \n",
       "count   4197.000000  \n",
       "mean     310.710031  \n",
       "std     1246.994742  \n",
       "min        0.000000  \n",
       "25%        0.000000  \n",
       "50%        0.000000  \n",
       "75%       36.000000  \n",
       "max    22272.000000  "
      ]
     },
     "execution_count": 9,
     "metadata": {},
     "output_type": "execute_result"
    }
   ],
   "source": [
    "test_data.describe()"
   ]
  },
  {
   "cell_type": "code",
   "execution_count": 10,
   "id": "1583bdba",
   "metadata": {
    "execution": {
     "iopub.execute_input": "2024-11-17T23:48:19.119918Z",
     "iopub.status.busy": "2024-11-17T23:48:19.119460Z",
     "iopub.status.idle": "2024-11-17T23:48:19.153013Z",
     "shell.execute_reply": "2024-11-17T23:48:19.151677Z"
    },
    "papermill": {
     "duration": 0.050646,
     "end_time": "2024-11-17T23:48:19.155994",
     "exception": false,
     "start_time": "2024-11-17T23:48:19.105348",
     "status": "completed"
    },
    "tags": []
   },
   "outputs": [
    {
     "data": {
      "text/html": [
       "<div>\n",
       "<style scoped>\n",
       "    .dataframe tbody tr th:only-of-type {\n",
       "        vertical-align: middle;\n",
       "    }\n",
       "\n",
       "    .dataframe tbody tr th {\n",
       "        vertical-align: top;\n",
       "    }\n",
       "\n",
       "    .dataframe thead th {\n",
       "        text-align: right;\n",
       "    }\n",
       "</style>\n",
       "<table border=\"1\" class=\"dataframe\">\n",
       "  <thead>\n",
       "    <tr style=\"text-align: right;\">\n",
       "      <th></th>\n",
       "      <th>Age</th>\n",
       "      <th>RoomService</th>\n",
       "      <th>FoodCourt</th>\n",
       "      <th>ShoppingMall</th>\n",
       "      <th>Spa</th>\n",
       "      <th>VRDeck</th>\n",
       "    </tr>\n",
       "  </thead>\n",
       "  <tbody>\n",
       "    <tr>\n",
       "      <th>count</th>\n",
       "      <td>4186.000000</td>\n",
       "      <td>4195.000000</td>\n",
       "      <td>4171.000000</td>\n",
       "      <td>4179.000000</td>\n",
       "      <td>4176.000000</td>\n",
       "      <td>4197.000000</td>\n",
       "    </tr>\n",
       "    <tr>\n",
       "      <th>mean</th>\n",
       "      <td>28.658146</td>\n",
       "      <td>219.266269</td>\n",
       "      <td>439.484296</td>\n",
       "      <td>177.295525</td>\n",
       "      <td>303.052443</td>\n",
       "      <td>310.710031</td>\n",
       "    </tr>\n",
       "    <tr>\n",
       "      <th>std</th>\n",
       "      <td>14.179072</td>\n",
       "      <td>607.011289</td>\n",
       "      <td>1527.663045</td>\n",
       "      <td>560.821123</td>\n",
       "      <td>1117.186015</td>\n",
       "      <td>1246.994742</td>\n",
       "    </tr>\n",
       "    <tr>\n",
       "      <th>min</th>\n",
       "      <td>0.000000</td>\n",
       "      <td>0.000000</td>\n",
       "      <td>0.000000</td>\n",
       "      <td>0.000000</td>\n",
       "      <td>0.000000</td>\n",
       "      <td>0.000000</td>\n",
       "    </tr>\n",
       "    <tr>\n",
       "      <th>25%</th>\n",
       "      <td>19.000000</td>\n",
       "      <td>0.000000</td>\n",
       "      <td>0.000000</td>\n",
       "      <td>0.000000</td>\n",
       "      <td>0.000000</td>\n",
       "      <td>0.000000</td>\n",
       "    </tr>\n",
       "    <tr>\n",
       "      <th>50%</th>\n",
       "      <td>26.000000</td>\n",
       "      <td>0.000000</td>\n",
       "      <td>0.000000</td>\n",
       "      <td>0.000000</td>\n",
       "      <td>0.000000</td>\n",
       "      <td>0.000000</td>\n",
       "    </tr>\n",
       "    <tr>\n",
       "      <th>75%</th>\n",
       "      <td>37.000000</td>\n",
       "      <td>53.000000</td>\n",
       "      <td>78.000000</td>\n",
       "      <td>33.000000</td>\n",
       "      <td>50.000000</td>\n",
       "      <td>36.000000</td>\n",
       "    </tr>\n",
       "    <tr>\n",
       "      <th>max</th>\n",
       "      <td>79.000000</td>\n",
       "      <td>11567.000000</td>\n",
       "      <td>25273.000000</td>\n",
       "      <td>8292.000000</td>\n",
       "      <td>19844.000000</td>\n",
       "      <td>22272.000000</td>\n",
       "    </tr>\n",
       "  </tbody>\n",
       "</table>\n",
       "</div>"
      ],
      "text/plain": [
       "               Age   RoomService     FoodCourt  ShoppingMall           Spa  \\\n",
       "count  4186.000000   4195.000000   4171.000000   4179.000000   4176.000000   \n",
       "mean     28.658146    219.266269    439.484296    177.295525    303.052443   \n",
       "std      14.179072    607.011289   1527.663045    560.821123   1117.186015   \n",
       "min       0.000000      0.000000      0.000000      0.000000      0.000000   \n",
       "25%      19.000000      0.000000      0.000000      0.000000      0.000000   \n",
       "50%      26.000000      0.000000      0.000000      0.000000      0.000000   \n",
       "75%      37.000000     53.000000     78.000000     33.000000     50.000000   \n",
       "max      79.000000  11567.000000  25273.000000   8292.000000  19844.000000   \n",
       "\n",
       "             VRDeck  \n",
       "count   4197.000000  \n",
       "mean     310.710031  \n",
       "std     1246.994742  \n",
       "min        0.000000  \n",
       "25%        0.000000  \n",
       "50%        0.000000  \n",
       "75%       36.000000  \n",
       "max    22272.000000  "
      ]
     },
     "execution_count": 10,
     "metadata": {},
     "output_type": "execute_result"
    }
   ],
   "source": [
    "test_data.describe()"
   ]
  },
  {
   "cell_type": "code",
   "execution_count": 11,
   "id": "8b5c2e1b",
   "metadata": {
    "execution": {
     "iopub.execute_input": "2024-11-17T23:48:19.183956Z",
     "iopub.status.busy": "2024-11-17T23:48:19.183520Z",
     "iopub.status.idle": "2024-11-17T23:48:28.927220Z",
     "shell.execute_reply": "2024-11-17T23:48:28.926020Z"
    },
    "papermill": {
     "duration": 9.760943,
     "end_time": "2024-11-17T23:48:28.930061",
     "exception": false,
     "start_time": "2024-11-17T23:48:19.169118",
     "status": "completed"
    },
    "tags": []
   },
   "outputs": [
    {
     "data": {
      "application/vnd.jupyter.widget-view+json": {
       "model_id": "0e830aa5b4ce4ea39bc987b0c4aa31d1",
       "version_major": 2,
       "version_minor": 0
      },
      "text/plain": [
       "                                             |          | [  0%]   00:00 -> (? left)"
      ]
     },
     "metadata": {},
     "output_type": "display_data"
    },
    {
     "name": "stdout",
     "output_type": "stream",
     "text": [
      "Report /kaggle/working/Comparative_EDA_Report.html was generated.\n"
     ]
    }
   ],
   "source": [
    "# Automated EDA report with sweetviz\n",
    "\n",
    "# Comparing the train and test datasets\n",
    "report = sv.compare([train_data, \"Train\"], [test_data, \"Test\"])\n",
    "report.show_html(filepath='/kaggle/working/Comparative_EDA_Report.html', open_browser=False)"
   ]
  },
  {
   "cell_type": "markdown",
   "id": "e29e3563",
   "metadata": {
    "papermill": {
     "duration": 0.012846,
     "end_time": "2024-11-17T23:48:28.956290",
     "exception": false,
     "start_time": "2024-11-17T23:48:28.943444",
     "status": "completed"
    },
    "tags": []
   },
   "source": [
    "# <div style=\"background-color:#0A0F29; font-family:'Poppins', cursive; color:#E0F7FA; font-size:140%; text-align:center; border: 2px solid #00FFFF; border-radius:15px; padding: 15px; box-shadow: 5px 5px 20px rgba(0, 0, 0, 0.5); font-weight: bold; letter-spacing: 1px; text-transform: uppercase;\">Explore best models</div> "
   ]
  },
  {
   "cell_type": "code",
   "execution_count": 12,
   "id": "fab3a338",
   "metadata": {
    "execution": {
     "iopub.execute_input": "2024-11-17T23:48:28.984942Z",
     "iopub.status.busy": "2024-11-17T23:48:28.984081Z",
     "iopub.status.idle": "2024-11-17T23:48:29.000300Z",
     "shell.execute_reply": "2024-11-17T23:48:28.999156Z"
    },
    "papermill": {
     "duration": 0.033491,
     "end_time": "2024-11-17T23:48:29.002987",
     "exception": false,
     "start_time": "2024-11-17T23:48:28.969496",
     "status": "completed"
    },
    "tags": []
   },
   "outputs": [],
   "source": [
    "# Splitting dataset into train and test\n",
    "X = train_data.drop('Transported', axis=1)\n",
    "y = train_data['Transported']\n",
    "\n",
    "# Splitting the original dataset into training and a temporary set\n",
    "X_train, X_temp, y_train, y_temp = train_test_split(X, y, test_size=0.4, random_state=42)\n",
    "\n",
    "# Splitting the temporary set into validation and testing sets\n",
    "X_val, X_test, y_val, y_test = train_test_split(X_temp, y_temp, test_size=0.5, random_state=42)"
   ]
  },
  {
   "cell_type": "code",
   "execution_count": 13,
   "id": "33a1879c",
   "metadata": {
    "execution": {
     "iopub.execute_input": "2024-11-17T23:48:29.099476Z",
     "iopub.status.busy": "2024-11-17T23:48:29.098518Z",
     "iopub.status.idle": "2024-11-17T23:48:29.106782Z",
     "shell.execute_reply": "2024-11-17T23:48:29.105626Z"
    },
    "papermill": {
     "duration": 0.028435,
     "end_time": "2024-11-17T23:48:29.109915",
     "exception": false,
     "start_time": "2024-11-17T23:48:29.081480",
     "status": "completed"
    },
    "tags": []
   },
   "outputs": [],
   "source": [
    "# Identifying categorical and numerical columns\n",
    "categorical_cols = X_train.select_dtypes(include=['object', 'bool']).columns\n",
    "numerical_cols = X_train.select_dtypes(include=['int64', 'float64']).columns"
   ]
  },
  {
   "cell_type": "code",
   "execution_count": 14,
   "id": "851994c8",
   "metadata": {
    "execution": {
     "iopub.execute_input": "2024-11-17T23:48:29.139885Z",
     "iopub.status.busy": "2024-11-17T23:48:29.139395Z",
     "iopub.status.idle": "2024-11-17T23:48:29.146703Z",
     "shell.execute_reply": "2024-11-17T23:48:29.145583Z"
    },
    "papermill": {
     "duration": 0.025552,
     "end_time": "2024-11-17T23:48:29.149375",
     "exception": false,
     "start_time": "2024-11-17T23:48:29.123823",
     "status": "completed"
    },
    "tags": []
   },
   "outputs": [],
   "source": [
    "# Creating a preprocessing pipeline\n",
    "categorical_preprocessor = Pipeline(steps=[\n",
    "    ('imputer', SimpleImputer(strategy='most_frequent')),\n",
    "    ('onehot', OneHotEncoder(handle_unknown='ignore'))\n",
    "])\n",
    "\n",
    "numerical_preprocessor = Pipeline(steps=[\n",
    "    ('imputer', SimpleImputer(strategy='median')),\n",
    "    ('scaler', StandardScaler())\n",
    "])\n",
    "\n",
    "preprocessor = ColumnTransformer(\n",
    "    transformers=[\n",
    "        ('num', numerical_preprocessor, numerical_cols),\n",
    "        ('cat', categorical_preprocessor, categorical_cols)\n",
    "    ])"
   ]
  },
  {
   "cell_type": "code",
   "execution_count": 15,
   "id": "4108de24",
   "metadata": {
    "execution": {
     "iopub.execute_input": "2024-11-17T23:48:29.178533Z",
     "iopub.status.busy": "2024-11-17T23:48:29.178094Z",
     "iopub.status.idle": "2024-11-17T23:49:15.474011Z",
     "shell.execute_reply": "2024-11-17T23:49:15.472725Z"
    },
    "papermill": {
     "duration": 46.313694,
     "end_time": "2024-11-17T23:49:15.476783",
     "exception": false,
     "start_time": "2024-11-17T23:48:29.163089",
     "status": "completed"
    },
    "tags": []
   },
   "outputs": [
    {
     "name": "stdout",
     "output_type": "stream",
     "text": [
      "RandomForest: 0.7747543192229541 ± 0.005046186128520279\n",
      "LogisticRegression: 0.79082915258921 ± 0.006366533801778407\n",
      "SVC: 0.788947992788848 ± 0.0062248515062467424\n",
      "SGDClassifier: 0.7866142858590279 ± 0.008084288405702236\n",
      "RidgeClassifier: 0.7555429670097213 ± 0.01030178535688885\n",
      "XGBoost: 0.7905762354140837 ± 0.008508771294248868\n",
      "LightGBM: 0.7966016515827464 ± 0.007709180292657317\n"
     ]
    },
    {
     "data": {
      "image/png": "[encoded data removed]",
      "text/plain": [
       "<Figure size 640x480 with 1 Axes>"
      ]
     },
     "metadata": {},
     "output_type": "display_data"
    }
   ],
   "source": [
    "# Models to train\n",
    "models = {\n",
    "    'RandomForest': RandomForestClassifier(random_state=42),\n",
    "    'LogisticRegression': LogisticRegression(max_iter=1000, random_state=42),\n",
    "    'SVC': SVC(random_state=42),\n",
    "    'SGDClassifier': SGDClassifier(max_iter=1000, random_state=42),\n",
    "    'RidgeClassifier': RidgeClassifier(random_state=42),\n",
    "    'XGBoost': XGBClassifier(use_label_encoder=False, eval_metric='logloss', random_state=42),\n",
    "    'LightGBM': LGBMClassifier(random_state=42)\n",
    "}\n",
    "\n",
    "# Stratified K-Fold for balanced sampling\n",
    "skf = StratifiedKFold(n_splits=5, shuffle=True, random_state=42)\n",
    "\n",
    "# Training models and evaluating performance\n",
    "scores = {}\n",
    "for name, model in models.items():\n",
    "    pipeline = Pipeline(steps=[('preprocessor', preprocessor), ('model', model)])\n",
    "    cv_scores = cross_val_score(pipeline, X_train, y_train, cv=skf, scoring=make_scorer(f1_score))\n",
    "    scores[name] = cv_scores\n",
    "    print(f\"{name}: {cv_scores.mean()} ± {cv_scores.std()}\")\n",
    "\n",
    "# Ordering models by median F1 score\n",
    "sorted_scores = {k: v for k, v in sorted(scores.items(), key=lambda item: -np.median(item[1]))}\n",
    "\n",
    "# Plotting model performances\n",
    "plt.boxplot(sorted_scores.values(), labels=sorted_scores.keys())\n",
    "plt.xticks(rotation=45)\n",
    "plt.title('Model Performance Comparison (F1 Score)')\n",
    "plt.ylabel('F1 Score')\n",
    "plt.show()"
   ]
  },
  {
   "cell_type": "markdown",
   "id": "97511803",
   "metadata": {
    "papermill": {
     "duration": 0.014768,
     "end_time": "2024-11-17T23:49:15.506885",
     "exception": false,
     "start_time": "2024-11-17T23:49:15.492117",
     "status": "completed"
    },
    "tags": []
   },
   "source": [
    "model to ensemble:\n",
    "\n",
    "* LightGBM \n",
    "* XGBoost\n",
    "* SVC"
   ]
  },
  {
   "cell_type": "markdown",
   "id": "af01e833",
   "metadata": {
    "papermill": {
     "duration": 0.014622,
     "end_time": "2024-11-17T23:49:15.536555",
     "exception": false,
     "start_time": "2024-11-17T23:49:15.521933",
     "status": "completed"
    },
    "tags": []
   },
   "source": [
    "# <div style=\"background-color:#0A0F29; font-family:'Poppins', cursive; color:#E0F7FA; font-size:140%; text-align:center; border: 2px solid #00FFFF; border-radius:15px; padding: 15px; box-shadow: 5px 5px 20px rgba(0, 0, 0, 0.5); font-weight: bold; letter-spacing: 1px; text-transform: uppercase;\">Train model</div>"
   ]
  },
  {
   "cell_type": "code",
   "execution_count": 16,
   "id": "ce4e9f49",
   "metadata": {
    "execution": {
     "iopub.execute_input": "2024-11-17T23:49:15.568487Z",
     "iopub.status.busy": "2024-11-17T23:49:15.568095Z",
     "iopub.status.idle": "2024-11-17T23:49:15.579149Z",
     "shell.execute_reply": "2024-11-17T23:49:15.577900Z"
    },
    "papermill": {
     "duration": 0.030047,
     "end_time": "2024-11-17T23:49:15.581541",
     "exception": false,
     "start_time": "2024-11-17T23:49:15.551494",
     "status": "completed"
    },
    "tags": []
   },
   "outputs": [],
   "source": [
    "# Initialize models\n",
    "lgbm = LGBMClassifier(random_state=42)\n",
    "xgb = XGBClassifier(random_state=42)\n",
    "svc = SVC(probability=True, random_state=42)\n",
    "\n",
    "# Fine-tuning models using Random search\n",
    "\n",
    "# LightGBM parameter grid\n",
    "lgbm_param_grid = {\n",
    "    'lgbm__n_estimators': [100, 200, 300, 400, 500, 1000],\n",
    "    'lgbm__learning_rate': [0.01, 0.05, 0.1, 0.2, 0.3, 0.4, 0.5],\n",
    "    'lgbm__max_depth': [3, 5, 7, 10, 12, 15],\n",
    "    'lgbm__num_leaves': [31, 50],\n",
    "}\n",
    "\n",
    "# Fine-tuning XGBoost\n",
    "# XGBoost parameter grid\n",
    "xgb_param_grid = {\n",
    "    'xgb__n_estimators': [100, 200, 300, 400, 500, 1000],\n",
    "    'xgb__learning_rate': [0.01, 0.05, 0.1, 0.2, 0.3, 0.4, 0.5],\n",
    "    'xgb__max_depth': [3, 5, 7, 10],\n",
    "    'xgb__subsample': [0.6, 0.8, 1.0],\n",
    "}\n",
    "\n",
    "# SVC parameter grid\n",
    "svc_param_grid = {\n",
    "    'svc__C': [1, 10, 100],  # critical parameter\n",
    "    'svc__kernel': ['linear', 'rbf'],  # important parameter\n",
    "    # Removed gamma and other less critical parameters for simplicity\n",
    "}\n",
    "\n",
    "svc_param_grid = {\n",
    "    'svc__C': [0.1, 1, 10, 100, 1000],\n",
    "    'svc__kernel': ['linear', 'rbf', 'poly', 'sigmoid'],\n",
    "    'svc__gamma': ['scale', 'auto', 0.1, 0.01, 0.001],\n",
    "}"
   ]
  },
  {
   "cell_type": "code",
   "execution_count": 17,
   "id": "2c174de4",
   "metadata": {
    "execution": {
     "iopub.execute_input": "2024-11-17T23:49:15.613506Z",
     "iopub.status.busy": "2024-11-17T23:49:15.613114Z",
     "iopub.status.idle": "2024-11-17T23:49:15.621097Z",
     "shell.execute_reply": "2024-11-17T23:49:15.619779Z"
    },
    "papermill": {
     "duration": 0.026859,
     "end_time": "2024-11-17T23:49:15.623500",
     "exception": false,
     "start_time": "2024-11-17T23:49:15.596641",
     "status": "completed"
    },
    "tags": []
   },
   "outputs": [
    {
     "name": "stdout",
     "output_type": "stream",
     "text": [
      "lgbm parameters combinations: 504\n"
     ]
    }
   ],
   "source": [
    "num_combinations = len(list(product(*lgbm_param_grid.values())))\n",
    "num_combinations\n",
    "print(\"lgbm parameters combinations:\", num_combinations)"
   ]
  },
  {
   "cell_type": "code",
   "execution_count": 18,
   "id": "6fb23bc5",
   "metadata": {
    "execution": {
     "iopub.execute_input": "2024-11-17T23:49:15.655640Z",
     "iopub.status.busy": "2024-11-17T23:49:15.655256Z",
     "iopub.status.idle": "2024-11-17T23:49:15.661429Z",
     "shell.execute_reply": "2024-11-17T23:49:15.660351Z"
    },
    "papermill": {
     "duration": 0.025349,
     "end_time": "2024-11-17T23:49:15.664015",
     "exception": false,
     "start_time": "2024-11-17T23:49:15.638666",
     "status": "completed"
    },
    "tags": []
   },
   "outputs": [
    {
     "name": "stdout",
     "output_type": "stream",
     "text": [
      "xgb parameters combinations: 504\n"
     ]
    }
   ],
   "source": [
    "num_combinations = len(list(product(*xgb_param_grid.values())))\n",
    "num_combinations\n",
    "print(\"xgb parameters combinations:\", num_combinations)"
   ]
  },
  {
   "cell_type": "code",
   "execution_count": 19,
   "id": "03e207e0",
   "metadata": {
    "execution": {
     "iopub.execute_input": "2024-11-17T23:49:15.696223Z",
     "iopub.status.busy": "2024-11-17T23:49:15.695828Z",
     "iopub.status.idle": "2024-11-17T23:49:15.702224Z",
     "shell.execute_reply": "2024-11-17T23:49:15.700993Z"
    },
    "papermill": {
     "duration": 0.026052,
     "end_time": "2024-11-17T23:49:15.705337",
     "exception": false,
     "start_time": "2024-11-17T23:49:15.679285",
     "status": "completed"
    },
    "tags": []
   },
   "outputs": [
    {
     "name": "stdout",
     "output_type": "stream",
     "text": [
      "svc parameters combinations: 100\n"
     ]
    }
   ],
   "source": [
    "# Calculate the number of combinations\n",
    "num_combinations = len(list(product(*svc_param_grid.values())))\n",
    "num_combinations\n",
    "print(\"svc parameters combinations:\", num_combinations)"
   ]
  },
  {
   "cell_type": "code",
   "execution_count": 20,
   "id": "644b791c",
   "metadata": {
    "execution": {
     "iopub.execute_input": "2024-11-17T23:49:15.737851Z",
     "iopub.status.busy": "2024-11-17T23:49:15.737426Z",
     "iopub.status.idle": "2024-11-17T23:49:15.742827Z",
     "shell.execute_reply": "2024-11-17T23:49:15.741777Z"
    },
    "papermill": {
     "duration": 0.024608,
     "end_time": "2024-11-17T23:49:15.745188",
     "exception": false,
     "start_time": "2024-11-17T23:49:15.720580",
     "status": "completed"
    },
    "tags": []
   },
   "outputs": [],
   "source": [
    "n_iter_lgbm = 160\n",
    "n_iter_xgb = 300\n",
    "n_iter_svc = 100"
   ]
  },
  {
   "cell_type": "code",
   "execution_count": 21,
   "id": "4e6df1f8",
   "metadata": {
    "execution": {
     "iopub.execute_input": "2024-11-17T23:49:15.778576Z",
     "iopub.status.busy": "2024-11-17T23:49:15.778188Z",
     "iopub.status.idle": "2024-11-18T05:50:58.791251Z",
     "shell.execute_reply": "2024-11-18T05:50:58.789538Z"
    },
    "papermill": {
     "duration": 21703.034697,
     "end_time": "2024-11-18T05:50:58.795370",
     "exception": false,
     "start_time": "2024-11-17T23:49:15.760673",
     "status": "completed"
    },
    "tags": []
   },
   "outputs": [],
   "source": [
    "# Pipelines for each model with RandomizedSearchCV\n",
    "\n",
    "pipeline_lgbm = Pipeline(steps=[('preprocessor', preprocessor), ('lgbm', lgbm)])\n",
    "random_search_lgbm = RandomizedSearchCV(pipeline_lgbm, lgbm_param_grid, n_iter=n_iter_lgbm, cv=skf, scoring='accuracy', n_jobs=-1, random_state=42)\n",
    "random_search_lgbm.fit(X_train, y_train)\n",
    "best_lgbm_pipeline = random_search_lgbm.best_estimator_\n",
    "\n",
    "# XGBoost Pipeline\n",
    "pipeline_xgb = Pipeline(steps=[('preprocessor', preprocessor), ('xgb', xgb)])\n",
    "random_search_xgb = RandomizedSearchCV(pipeline_xgb, xgb_param_grid, n_iter=n_iter_xgb, cv=skf, scoring='accuracy', n_jobs=-1, random_state=42)\n",
    "random_search_xgb.fit(X_train, y_train)\n",
    "best_xgb_pipeline = random_search_xgb.best_estimator_\n",
    "\n",
    "# SVC Pipeline\n",
    "pipeline_svc = Pipeline(steps=[('preprocessor', preprocessor), ('svc', svc)])\n",
    "random_search_svc = RandomizedSearchCV(pipeline_svc, svc_param_grid, n_iter=n_iter_svc, cv=skf, scoring='accuracy', n_jobs=-1, random_state=42)\n",
    "random_search_svc.fit(X_train, y_train)\n",
    "best_svc_pipeline = random_search_svc.best_estimator_\n",
    "\n",
    "# Voting Classifier using the best pipelines\n",
    "voting_clf = VotingClassifier(estimators=[\n",
    "    ('lgbm', best_lgbm_pipeline), \n",
    "    ('xgb', best_xgb_pipeline), \n",
    "    ('svc', best_svc_pipeline)],\n",
    "    voting='soft')\n",
    "\n",
    "# No need for additional preprocessor in the final pipeline\n",
    "pipeline = Pipeline(steps=[('classifier', voting_clf)])"
   ]
  },
  {
   "cell_type": "code",
   "execution_count": 22,
   "id": "291163ac",
   "metadata": {
    "execution": {
     "iopub.execute_input": "2024-11-18T05:50:58.832095Z",
     "iopub.status.busy": "2024-11-18T05:50:58.831195Z",
     "iopub.status.idle": "2024-11-18T05:51:55.927299Z",
     "shell.execute_reply": "2024-11-18T05:51:55.926149Z"
    },
    "papermill": {
     "duration": 57.116567,
     "end_time": "2024-11-18T05:51:55.929916",
     "exception": false,
     "start_time": "2024-11-18T05:50:58.813349",
     "status": "completed"
    },
    "tags": []
   },
   "outputs": [
    {
     "name": "stdout",
     "output_type": "stream",
     "text": [
      "Ensemble Model Accuracy: 0.8007670182166826 ± 0.009043011407517985\n",
      "Accuracy: 0.7872340425531915\n",
      "Precision: 0.7592592592592593\n",
      "Recall: 0.8443935926773455\n",
      "F1 Score: 0.7995666305525461\n"
     ]
    }
   ],
   "source": [
    "# Training and evaluating the ensemble model\n",
    "cross_val_scores = cross_val_score(pipeline, X_train, y_train, cv=skf, scoring='accuracy')\n",
    "print(f\"Ensemble Model Accuracy: {cross_val_scores.mean()} ± {cross_val_scores.std()}\")\n",
    "\n",
    "# Fit the model on the entire training data and evaluate on the test set\n",
    "pipeline.fit(X_train, y_train)\n",
    "y_pred = pipeline.predict(X_test)\n",
    "\n",
    "# Calculating Metrics\n",
    "accuracy = accuracy_score(y_test, y_pred)\n",
    "precision = precision_score(y_test, y_pred)\n",
    "recall = recall_score(y_test, y_pred)\n",
    "f1 = f1_score(y_test, y_pred)\n",
    "\n",
    "print(\"Accuracy:\", accuracy)\n",
    "print(\"Precision:\", precision)\n",
    "print(\"Recall:\", recall)\n",
    "print(\"F1 Score:\", f1)"
   ]
  },
  {
   "cell_type": "markdown",
   "id": "4fa13de9",
   "metadata": {
    "papermill": {
     "duration": 0.016493,
     "end_time": "2024-11-18T05:51:55.962176",
     "exception": false,
     "start_time": "2024-11-18T05:51:55.945683",
     "status": "completed"
    },
    "tags": []
   },
   "source": [
    "# <div style=\"background-color:#0A0F29; font-family:'Poppins', cursive; color:#E0F7FA; font-size:140%; text-align:center; border: 2px solid #00FFFF; border-radius:15px; padding: 15px; box-shadow: 5px 5px 20px rgba(0, 0, 0, 0.5); font-weight: bold; letter-spacing: 1px; text-transform: uppercase;\">Prepare final submission</div>"
   ]
  },
  {
   "cell_type": "code",
   "execution_count": 23,
   "id": "7934e5cf",
   "metadata": {
    "execution": {
     "iopub.execute_input": "2024-11-18T05:51:55.995646Z",
     "iopub.status.busy": "2024-11-18T05:51:55.994727Z",
     "iopub.status.idle": "2024-11-18T05:52:10.826041Z",
     "shell.execute_reply": "2024-11-18T05:52:10.824966Z"
    },
    "papermill": {
     "duration": 14.851184,
     "end_time": "2024-11-18T05:52:10.829041",
     "exception": false,
     "start_time": "2024-11-18T05:51:55.977857",
     "status": "completed"
    },
    "tags": []
   },
   "outputs": [],
   "source": [
    "# Step 1: Train the model on the full training dataset\n",
    "pipeline.fit(X_train, y_train)\n",
    "\n",
    "# Step 2: Predictions on the test dataset\n",
    "# Ensure the test data is processed similarly to how train data was processed\n",
    "y_test_pred = pipeline.predict(test_data)\n",
    "\n",
    "# Step 3: Create the submission file\n",
    "# Assuming 'PassengerId' is the identifier in your test dataset\n",
    "submission = pd.DataFrame({\n",
    "    'PassengerId': test_data['PassengerId'],\n",
    "    'Transported': y_test_pred\n",
    "})\n",
    "\n",
    "# Ensure 'Transported' column contains boolean values (False or True)\n",
    "submission['Transported'] = submission['Transported'].astype(bool)\n",
    "\n",
    "# Save the submission file\n",
    "submission.to_csv('submission.csv', index=False)"
   ]
  }
 ],
 "metadata": {
  "kaggle": {
   "accelerator": "none",
   "dataSources": [
    {
     "databundleVersionId": 3220602,
     "sourceId": 34377,
     "sourceType": "competition"
    }
   ],
   "dockerImageVersionId": 30635,
   "isGpuEnabled": false,
   "isInternetEnabled": true,
   "language": "python",
   "sourceType": "notebook"
  },
  "kernelspec": {
   "display_name": "Python 3",
   "language": "python",
   "name": "python3"
  },
  "language_info": {
   "codemirror_mode": {
    "name": "ipython",
    "version": 3
   },
   "file_extension": ".py",
   "mimetype": "text/x-python",
   "name": "python",
   "nbconvert_exporter": "python",
   "pygments_lexer": "ipython3",
   "version": "3.10.12"
  },
  "papermill": {
   "default_parameters": {},
   "duration": 21860.088347,
   "end_time": "2024-11-18T05:52:12.222780",
   "environment_variables": {},
   "exception": null,
   "input_path": "__notebook__.ipynb",
   "output_path": "__notebook__.ipynb",
   "parameters": {},
   "start_time": "2024-11-17T23:47:52.134433",
   "version": "2.4.0"
  },
  "widgets": {
   "application/vnd.jupyter.widget-state+json": {
    "state": {
     "076e61f2430e4bd1ae8b8fc16aaf1088": {
      "model_module": "@jupyter-widgets/controls",
      "model_module_version": "1.5.0",
      "model_name": "ProgressStyleModel",
      "state": {
       "_model_module": "@jupyter-widgets/controls",
       "_model_module_version": "1.5.0",
       "_model_name": "ProgressStyleModel",
       "_view_count": null,
       "_view_module": "@jupyter-widgets/base",
       "_view_module_version": "1.2.0",
       "_view_name": "StyleView",
       "bar_color": null,
       "description_width": ""
      }
     },
     "0e830aa5b4ce4ea39bc987b0c4aa31d1": {
      "model_module": "@jupyter-widgets/controls",
      "model_module_version": "1.5.0",
      "model_name": "HBoxModel",
      "state": {
       "_dom_classes": [],
       "_model_module": "@jupyter-widgets/controls",
       "_model_module_version": "1.5.0",
       "_model_name": "HBoxModel",
       "_view_count": null,
       "_view_module": "@jupyter-widgets/controls",
       "_view_module_version": "1.5.0",
       "_view_name": "HBoxView",
       "box_style": "",
       "children": [
        "IPY_MODEL_98a7e94c329446b897f8f110989c2904",
        "IPY_MODEL_c701dddcc1284dab9eb1416649bb8c3f",
        "IPY_MODEL_0f8226390aa14464ac22c5b48701a9ee"
       ],
       "layout": "IPY_MODEL_cb9e2e93e6f94a9b8604ea8e5563cf93"
      }
     },
     "0f8226390aa14464ac22c5b48701a9ee": {
      "model_module": "@jupyter-widgets/controls",
      "model_module_version": "1.5.0",
      "model_name": "HTMLModel",
      "state": {
       "_dom_classes": [],
       "_model_module": "@jupyter-widgets/controls",
       "_model_module_version": "1.5.0",
       "_model_name": "HTMLModel",
       "_view_count": null,
       "_view_module": "@jupyter-widgets/controls",
       "_view_module_version": "1.5.0",
       "_view_name": "HTMLView",
       "description": "",
       "description_tooltip": null,
       "layout": "IPY_MODEL_a9e163ed7f914a78bb4c19a4f5836f21",
       "placeholder": "​",
       "style": "IPY_MODEL_a7b1e2be973e4846b7831d06b696ed37",
       "value": " [100%]   00:02 -&gt; (00:00 left)"
      }
     },
     "2a700d0cdb4c4e9d98ec9e4da19eb7e8": {
      "model_module": "@jupyter-widgets/base",
      "model_module_version": "1.2.0",
      "model_name": "LayoutModel",
      "state": {
       "_model_module": "@jupyter-widgets/base",
       "_model_module_version": "1.2.0",
       "_model_name": "LayoutModel",
       "_view_count": null,
       "_view_module": "@jupyter-widgets/base",
       "_view_module_version": "1.2.0",
       "_view_name": "LayoutView",
       "align_content": null,
       "align_items": null,
       "align_self": null,
       "border": null,
       "bottom": null,
       "display": null,
       "flex": "2",
       "flex_flow": null,
       "grid_area": null,
       "grid_auto_columns": null,
       "grid_auto_flow": null,
       "grid_auto_rows": null,
       "grid_column": null,
       "grid_gap": null,
       "grid_row": null,
       "grid_template_areas": null,
       "grid_template_columns": null,
       "grid_template_rows": null,
       "height": null,
       "justify_content": null,
       "justify_items": null,
       "left": null,
       "margin": null,
       "max_height": null,
       "max_width": null,
       "min_height": null,
       "min_width": null,
       "object_fit": null,
       "object_position": null,
       "order": null,
       "overflow": null,
       "overflow_x": null,
       "overflow_y": null,
       "padding": null,
       "right": null,
       "top": null,
       "visibility": null,
       "width": null
      }
     },
     "3786c0e41e8e4fedb93206c8af1b7289": {
      "model_module": "@jupyter-widgets/base",
      "model_module_version": "1.2.0",
      "model_name": "LayoutModel",
      "state": {
       "_model_module": "@jupyter-widgets/base",
       "_model_module_version": "1.2.0",
       "_model_name": "LayoutModel",
       "_view_count": null,
       "_view_module": "@jupyter-widgets/base",
       "_view_module_version": "1.2.0",
       "_view_name": "LayoutView",
       "align_content": null,
       "align_items": null,
       "align_self": null,
       "border": null,
       "bottom": null,
       "display": null,
       "flex": null,
       "flex_flow": null,
       "grid_area": null,
       "grid_auto_columns": null,
       "grid_auto_flow": null,
       "grid_auto_rows": null,
       "grid_column": null,
       "grid_gap": null,
       "grid_row": null,
       "grid_template_areas": null,
       "grid_template_columns": null,
       "grid_template_rows": null,
       "height": null,
       "justify_content": null,
       "justify_items": null,
       "left": null,
       "margin": null,
       "max_height": null,
       "max_width": null,
       "min_height": null,
       "min_width": null,
       "object_fit": null,
       "object_position": null,
       "order": null,
       "overflow": null,
       "overflow_x": null,
       "overflow_y": null,
       "padding": null,
       "right": null,
       "top": null,
       "visibility": null,
       "width": null
      }
     },
     "98a7e94c329446b897f8f110989c2904": {
      "model_module": "@jupyter-widgets/controls",
      "model_module_version": "1.5.0",
      "model_name": "HTMLModel",
      "state": {
       "_dom_classes": [],
       "_model_module": "@jupyter-widgets/controls",
       "_model_module_version": "1.5.0",
       "_model_name": "HTMLModel",
       "_view_count": null,
       "_view_module": "@jupyter-widgets/controls",
       "_view_module_version": "1.5.0",
       "_view_name": "HTMLView",
       "description": "",
       "description_tooltip": null,
       "layout": "IPY_MODEL_3786c0e41e8e4fedb93206c8af1b7289",
       "placeholder": "​",
       "style": "IPY_MODEL_ae39f33316e8413ebe4348207581bcfd",
       "value": "Done! Use &#x27;show&#x27; commands to display/save.   "
      }
     },
     "a7b1e2be973e4846b7831d06b696ed37": {
      "model_module": "@jupyter-widgets/controls",
      "model_module_version": "1.5.0",
      "model_name": "DescriptionStyleModel",
      "state": {
       "_model_module": "@jupyter-widgets/controls",
       "_model_module_version": "1.5.0",
       "_model_name": "DescriptionStyleModel",
       "_view_count": null,
       "_view_module": "@jupyter-widgets/base",
       "_view_module_version": "1.2.0",
       "_view_name": "StyleView",
       "description_width": ""
      }
     },
     "a9e163ed7f914a78bb4c19a4f5836f21": {
      "model_module": "@jupyter-widgets/base",
      "model_module_version": "1.2.0",
      "model_name": "LayoutModel",
      "state": {
       "_model_module": "@jupyter-widgets/base",
       "_model_module_version": "1.2.0",
       "_model_name": "LayoutModel",
       "_view_count": null,
       "_view_module": "@jupyter-widgets/base",
       "_view_module_version": "1.2.0",
       "_view_name": "LayoutView",
       "align_content": null,
       "align_items": null,
       "align_self": null,
       "border": null,
       "bottom": null,
       "display": null,
       "flex": null,
       "flex_flow": null,
       "grid_area": null,
       "grid_auto_columns": null,
       "grid_auto_flow": null,
       "grid_auto_rows": null,
       "grid_column": null,
       "grid_gap": null,
       "grid_row": null,
       "grid_template_areas": null,
       "grid_template_columns": null,
       "grid_template_rows": null,
       "height": null,
       "justify_content": null,
       "justify_items": null,
       "left": null,
       "margin": null,
       "max_height": null,
       "max_width": null,
       "min_height": null,
       "min_width": null,
       "object_fit": null,
       "object_position": null,
       "order": null,
       "overflow": null,
       "overflow_x": null,
       "overflow_y": null,
       "padding": null,
       "right": null,
       "top": null,
       "visibility": null,
       "width": null
      }
     },
     "ae39f33316e8413ebe4348207581bcfd": {
      "model_module": "@jupyter-widgets/controls",
      "model_module_version": "1.5.0",
      "model_name": "DescriptionStyleModel",
      "state": {
       "_model_module": "@jupyter-widgets/controls",
       "_model_module_version": "1.5.0",
       "_model_name": "DescriptionStyleModel",
       "_view_count": null,
       "_view_module": "@jupyter-widgets/base",
       "_view_module_version": "1.2.0",
       "_view_name": "StyleView",
       "description_width": ""
      }
     },
     "c701dddcc1284dab9eb1416649bb8c3f": {
      "model_module": "@jupyter-widgets/controls",
      "model_module_version": "1.5.0",
      "model_name": "FloatProgressModel",
      "state": {
       "_dom_classes": [],
       "_model_module": "@jupyter-widgets/controls",
       "_model_module_version": "1.5.0",
       "_model_name": "FloatProgressModel",
       "_view_count": null,
       "_view_module": "@jupyter-widgets/controls",
       "_view_module_version": "1.5.0",
       "_view_name": "ProgressView",
       "bar_style": "success",
       "description": "",
       "description_tooltip": null,
       "layout": "IPY_MODEL_2a700d0cdb4c4e9d98ec9e4da19eb7e8",
       "max": 1.0,
       "min": 0.0,
       "orientation": "horizontal",
       "style": "IPY_MODEL_076e61f2430e4bd1ae8b8fc16aaf1088",
       "value": 1.0
      }
     },
     "cb9e2e93e6f94a9b8604ea8e5563cf93": {
      "model_module": "@jupyter-widgets/base",
      "model_module_version": "1.2.0",
      "model_name": "LayoutModel",
      "state": {
       "_model_module": "@jupyter-widgets/base",
       "_model_module_version": "1.2.0",
       "_model_name": "LayoutModel",
       "_view_count": null,
       "_view_module": "@jupyter-widgets/base",
       "_view_module_version": "1.2.0",
       "_view_name": "LayoutView",
       "align_content": null,
       "align_items": null,
       "align_self": null,
       "border": null,
       "bottom": null,
       "display": "inline-flex",
       "flex": null,
       "flex_flow": "row wrap",
       "grid_area": null,
       "grid_auto_columns": null,
       "grid_auto_flow": null,
       "grid_auto_rows": null,
       "grid_column": null,
       "grid_gap": null,
       "grid_row": null,
       "grid_template_areas": null,
       "grid_template_columns": null,
       "grid_template_rows": null,
       "height": null,
       "justify_content": null,
       "justify_items": null,
       "left": null,
       "margin": null,
       "max_height": null,
       "max_width": null,
       "min_height": null,
       "min_width": null,
       "object_fit": null,
       "object_position": null,
       "order": null,
       "overflow": null,
       "overflow_x": null,
       "overflow_y": null,
       "padding": null,
       "right": null,
       "top": null,
       "visibility": null,
       "width": "100%"
      }
     }
    },
    "version_major": 2,
    "version_minor": 0
   }
  }
 },
 "nbformat": 4,
 "nbformat_minor": 5
}
