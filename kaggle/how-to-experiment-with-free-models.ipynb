{
 "cells": [
  {
   "cell_type": "markdown",
   "id": "b5e05cb8",
   "metadata": {
    "papermill": {
     "duration": 0.003387,
     "end_time": "2025-05-16T18:39:27.896111",
     "exception": false,
     "start_time": "2025-05-16T18:39:27.892724",
     "status": "completed"
    },
    "tags": []
   },
   "source": [
    "# Some models are avalaible via OPenAI compatible API"
   ]
  },
  {
   "cell_type": "markdown",
   "id": "1b17e589",
   "metadata": {
    "papermill": {
     "duration": 0.002325,
     "end_time": "2025-05-16T18:39:27.901680",
     "exception": false,
     "start_time": "2025-05-16T18:39:27.899355",
     "status": "completed"
    },
    "tags": []
   },
   "source": [
    "I often use OpenRouter, as the site offers a unified API for a wide range of models. Many of these are free, provided that the submitted prompts may be used for training. I’m not sure that using the API is 100% free—I assume you might still pay a small fee for calls—but it should be at least much cheaper when you’re experimenting. The code is compatible with the OpenAI package, which makes it easier to switch models toward the end of the challenge."
   ]
  },
  {
   "cell_type": "code",
   "execution_count": 1,
   "id": "ec53abd0",
   "metadata": {
    "execution": {
     "iopub.execute_input": "2025-05-16T18:39:27.908742Z",
     "iopub.status.busy": "2025-05-16T18:39:27.907842Z",
     "iopub.status.idle": "2025-05-16T18:39:34.439818Z",
     "shell.execute_reply": "2025-05-16T18:39:34.438584Z"
    },
    "papermill": {
     "duration": 6.537588,
     "end_time": "2025-05-16T18:39:34.441746",
     "exception": false,
     "start_time": "2025-05-16T18:39:27.904158",
     "status": "completed"
    },
    "tags": []
   },
   "outputs": [],
   "source": [
    "!pip install --upgrade openai  > /dev/null 2>&1"
   ]
  },
  {
   "cell_type": "code",
   "execution_count": 2,
   "id": "caa4321b",
   "metadata": {
    "execution": {
     "iopub.execute_input": "2025-05-16T18:39:34.449146Z",
     "iopub.status.busy": "2025-05-16T18:39:34.448817Z",
     "iopub.status.idle": "2025-05-16T18:39:35.678558Z",
     "shell.execute_reply": "2025-05-16T18:39:35.677701Z"
    },
    "papermill": {
     "duration": 1.235578,
     "end_time": "2025-05-16T18:39:35.680258",
     "exception": false,
     "start_time": "2025-05-16T18:39:34.444680",
     "status": "completed"
    },
    "tags": []
   },
   "outputs": [],
   "source": [
    "import os\n",
    "from openai import OpenAI\n",
    "from IPython.display import display, Markdown\n",
    "from kaggle_secrets import UserSecretsClient\n",
    "\n",
    "# Load API keys from secrets and set environment variables\n",
    "def _set_api_keys():\n",
    "    user_secrets = UserSecretsClient()\n",
    "    os.environ[\"OPENAI_API_KEY\"] = user_secrets.get_secret(\"openai_key\")\n",
    "    os.environ[\"OPEN_ROUTER_KEY\"] = user_secrets.get_secret(\"openrouter_key\")"
   ]
  },
  {
   "cell_type": "code",
   "execution_count": 3,
   "id": "83014b9a",
   "metadata": {
    "execution": {
     "iopub.execute_input": "2025-05-16T18:39:35.686900Z",
     "iopub.status.busy": "2025-05-16T18:39:35.686476Z",
     "iopub.status.idle": "2025-05-16T18:39:35.693132Z",
     "shell.execute_reply": "2025-05-16T18:39:35.692421Z"
    },
    "papermill": {
     "duration": 0.011476,
     "end_time": "2025-05-16T18:39:35.694500",
     "exception": false,
     "start_time": "2025-05-16T18:39:35.683024",
     "status": "completed"
    },
    "tags": []
   },
   "outputs": [],
   "source": [
    "# Choose the correct client based on the model identifier\n",
    "def _get_client_for_model(model: str) -> OpenAI:\n",
    "    _set_api_keys()\n",
    "    if model.startswith(\"gpt-\") or model.startswith(\"text-\"):\n",
    "        # Official OpenAI API\n",
    "        return OpenAI(api_key=os.getenv(\"OPENAI_API_KEY\"))\n",
    "    else:\n",
    "        # Free models via OpenRouter\n",
    "        return OpenAI(\n",
    "            base_url=\"https://openrouter.ai/api/v1\",\n",
    "            api_key=os.getenv(\"OPEN_ROUTER_KEY\")\n",
    "        )\n",
    "\n",
    "# Unified function to create chat completions\n",
    "def create_chat_completion(\n",
    "    model: str,\n",
    "    messages: list[dict],\n",
    "    extra_headers: dict | None = None,\n",
    "    extra_body: dict | None = None,\n",
    ") -> dict:\n",
    "    client = _get_client_for_model(model)\n",
    "    params = {\"model\": model, \"messages\": messages}\n",
    "    if extra_headers:\n",
    "        params.setdefault(\"extra_headers\", {}).update(extra_headers)\n",
    "    if extra_body:\n",
    "        params.setdefault(\"extra_body\", {}).update(extra_body)\n",
    "    return client.chat.completions.create(**params)"
   ]
  },
  {
   "cell_type": "code",
   "execution_count": 4,
   "id": "71c7baf6",
   "metadata": {
    "execution": {
     "iopub.execute_input": "2025-05-16T18:39:35.700944Z",
     "iopub.status.busy": "2025-05-16T18:39:35.700643Z",
     "iopub.status.idle": "2025-05-16T18:39:35.704878Z",
     "shell.execute_reply": "2025-05-16T18:39:35.704070Z"
    },
    "papermill": {
     "duration": 0.008937,
     "end_time": "2025-05-16T18:39:35.706226",
     "exception": false,
     "start_time": "2025-05-16T18:39:35.697289",
     "status": "completed"
    },
    "tags": []
   },
   "outputs": [],
   "source": [
    "messages = [\n",
    "    {\"role\": \"user\", \"content\": (\n",
    "        \"How have recent methods and technologies been used to uncover new archaeological sitesin the Amazon forest? return your answer in a mardown format\"\n",
    "    )}\n",
    "]"
   ]
  },
  {
   "cell_type": "code",
   "execution_count": 5,
   "id": "66eae484",
   "metadata": {
    "execution": {
     "iopub.execute_input": "2025-05-16T18:39:35.712660Z",
     "iopub.status.busy": "2025-05-16T18:39:35.712142Z",
     "iopub.status.idle": "2025-05-16T18:39:48.338276Z",
     "shell.execute_reply": "2025-05-16T18:39:48.337265Z"
    },
    "papermill": {
     "duration": 12.630975,
     "end_time": "2025-05-16T18:39:48.339767",
     "exception": false,
     "start_time": "2025-05-16T18:39:35.708792",
     "status": "completed"
    },
    "tags": []
   },
   "outputs": [
    {
     "data": {
      "text/markdown": [
       "# Uncovering Archaeological Sites in the Amazon Forest\n",
       "\n",
       "Recent advancements in technology and methodologies have significantly enhanced the ability to discover and study archaeological sites in the Amazon rainforest, which has historically been a challenging environment for such endeavors. Below are some of the key methods and technologies employed in this domain:\n",
       "\n",
       "## Remote Sensing and Aerial Technologies\n",
       "\n",
       "### LiDAR (Light Detection and Ranging)\n",
       "- **Description**: LiDAR is a remote sensing technology that uses laser pulses to create high-resolution maps. \n",
       "- **Application**: In the dense canopy of the Amazon, LiDAR can penetrate foliage to reveal underlying structures such as ancient settlements, roads, and terraces.\n",
       "- **Impact**: It has led to the discovery of hundreds of previously unknown sites, changing the perception of the Amazon as a pristine wilderness and revealing it as a landscape significantly altered by ancient civilizations.\n",
       "\n",
       "### Satellite Imagery\n",
       "- **Description**: Advanced satellite technologies provide high-resolution imagery that can be used to identify potential archaeological sites.\n",
       "- **Application**: By analyzing vegetation patterns, researchers can infer the presence of man-made structures or modifications to the landscape.\n",
       "- **Impact**: This method is crucial for large-scale surveys and identifying areas for more detailed ground investigations.\n",
       "\n",
       "## Geospatial Analysis\n",
       "\n",
       "- **GIS (Geographic Information Systems)**: GIS technology allows for the integration and analysis of spatial data collected from various sources, including LiDAR and satellite imagery.\n",
       "- **Impact**: It aids in the visualization of archaeological sites and their relationships with each other and their environments, providing insights into ancient agricultural practices and settlement patterns.\n",
       "\n",
       "## Ground-Penetrating Radar (GPR)\n",
       "\n",
       "- **Description**: GPR is a non-invasive method that uses radar pulses to image the subsurface.\n",
       "- **Application**: In the Amazon, GPR helps to explore beneath the forest floor without the need for extensive and potentially damaging excavations.\n",
       "- **Impact**: It assists in mapping the extent of archaeological features and understanding the depth and complexity of human occupation in the area.\n",
       "\n",
       "## Multi-Disciplinary Collaboration\n",
       "\n",
       "- **Integration of Disciplines**: Combining expertise from archaeology, anthropology, ecology, and other fields has been pivotal in interpreting the data collected through these technologies.\n",
       "- **Collaborative Projects**: International and interdisciplinary teams work together, sharing data and insights to create a more comprehensive understanding of Amazonian cultures.\n",
       "\n",
       "## Cultural and Historical Insights\n",
       "\n",
       "- The discoveries have revealed complex societies with advanced agricultural practices, challenging the notion of sparse, hunter-gatherer populations.\n",
       "- These findings contribute to a more nuanced understanding of indigenous land use, providing historical context to contemporary discussions on sustainable land management and conservation.\n",
       "\n",
       "## Ethical Considerations\n",
       "\n",
       "- **Local Community Involvement**: Engaging with indigenous populations and respecting their insights and rights is crucial.\n",
       "- **Data Management**: Ensuring that data about sacred and culturally sensitive sites is handled responsibly.\n",
       "\n",
       "In summary, the use of cutting-edge technologies and collaborative methodologies has transformed the field of Amazonian archaeology, uncovering a rich tapestry of past human activity and offering new perspectives on how we understand and conserve this vital region."
      ],
      "text/plain": [
       "<IPython.core.display.Markdown object>"
      ]
     },
     "metadata": {},
     "output_type": "display_data"
    }
   ],
   "source": [
    "# 1️⃣ Use an official OpenAI GPT model\n",
    "response = create_chat_completion(\n",
    "    model=\"gpt-4o\",\n",
    "    messages=messages\n",
    ")\n",
    "display(Markdown(response.choices[0].message.content))"
   ]
  },
  {
   "cell_type": "code",
   "execution_count": 6,
   "id": "081f7d31",
   "metadata": {
    "execution": {
     "iopub.execute_input": "2025-05-16T18:39:48.347411Z",
     "iopub.status.busy": "2025-05-16T18:39:48.346577Z",
     "iopub.status.idle": "2025-05-16T18:39:56.803987Z",
     "shell.execute_reply": "2025-05-16T18:39:56.803043Z"
    },
    "papermill": {
     "duration": 8.462888,
     "end_time": "2025-05-16T18:39:56.805713",
     "exception": false,
     "start_time": "2025-05-16T18:39:48.342825",
     "status": "completed"
    },
    "tags": []
   },
   "outputs": [
    {
     "data": {
      "text/markdown": [
       "# Recent Methods and Technologies Uncovering Archaeological Sites in the Amazon\n",
       "\n",
       "Advances in technology have dramatically shifted how archaeologists explore and uncover hidden sites beneath the dense Amazon rainforest. Below are some of the key methods and how they contribute to new discoveries:\n",
       "\n",
       "## LiDAR (Light Detection and Ranging)\n",
       "- **Penetrating Dense Canopies:** LiDAR emits laser pulses that can pierce through dense vegetation, providing high-resolution topographic maps of the ground.\n",
       "- **Revealing Hidden Structures:** It enables researchers to identify subtle structures such as ancient roads, terraces, and enclosures that are otherwise invisible under thick forest cover.\n",
       "- **Large-scale Surveys:** Rapid data collection over extensive areas helps in planning targeted excavations.\n",
       "\n",
       "## Satellite Imagery and Remote Sensing\n",
       "- **Identifying Anomalies:** High-resolution satellite images allow archaeologists to spot landscape changes and anomalies indicative of human alteration.\n",
       "- **Monitoring Environmental Changes:** These images facilitate the study of how natural and anthropogenic processes affect archaeological sites over time.\n",
       "- **Mapping and Analysis:** Combined with GIS (Geographic Information Systems), satellite data helps in creating predictive models to locate potential sites.\n",
       "\n",
       "## Drones and Aerial Photography\n",
       "- **Detailed Aerial Views:** Drones are used to capture detailed, low-altitude images, offering a new perspective on terrain features and possible human modifications.\n",
       "- **Flexible and Cost-effective:** They provide a flexible option for covering difficult terrains and complementing the broader data from satellites and LiDAR.\n",
       "- **Real-time Data Acquisition:** Immediate visual feedback supports rapid decision-making for field surveys.\n",
       "\n",
       "## Ground-Penetrating Radar (GPR) and Geophysical Surveys\n",
       "- **Subsurface Imaging:** GPR and related techniques help map subsurface features before any excavation begins, reducing the risk of damaging buried structures.\n",
       "- **Non-invasive Investigation:** They allow archaeologists to study what lies beneath without extensive digging, preserving the context of the site.\n",
       "- **Layer Differentiation:** These methods are effective in distinguishing between natural deposits and human-made structures.\n",
       "\n",
       "## Integration of Machine Learning and Big Data Analytics\n",
       "- **Pattern Recognition:** Advanced algorithms analyze remote sensing data to automatically identify patterns suggestive of archaeological significance.\n",
       "- **Data Synthesis:** Machine learning can combine information from various sources—LiDAR, satellites, drones—to generate comprehensive models of ancient landscapes.\n",
       "- **Efficient Resource Allocation:** Predictive modeling helps researchers focus efforts on the most promising areas for future excavation.\n",
       "\n",
       "## Interdisciplinary Collaboration\n",
       "- **Combining Expertise:** The integration of archaeologists, remote sensing experts, data scientists, and ecologists has led to robust methodologies.\n",
       "- **Holistic Understanding:** Collaborative projects ensure that both cultural and environmental aspects are considered, enriching interpretations of the archaeological record.\n",
       "\n",
       "## Conclusion\n",
       "Technological advancements such as LiDAR, satellite imagery, drones, geophysical surveys, and data analytics have revolutionized archaeological research in the Amazon. These methods have not only made it possible to discover previously unknown sites but also provided insights into the complex human-environment interactions that shaped the region’s past.\n",
       "\n"
      ],
      "text/plain": [
       "<IPython.core.display.Markdown object>"
      ]
     },
     "metadata": {},
     "output_type": "display_data"
    }
   ],
   "source": [
    "# 1️⃣ Use an official OpenAI GPT model\n",
    "response = create_chat_completion(\n",
    "    model=\"o3-mini\",\n",
    "    messages=messages\n",
    ")\n",
    "display(Markdown(response.choices[0].message.content))"
   ]
  },
  {
   "cell_type": "code",
   "execution_count": 7,
   "id": "09cf3df4",
   "metadata": {
    "execution": {
     "iopub.execute_input": "2025-05-16T18:39:56.813611Z",
     "iopub.status.busy": "2025-05-16T18:39:56.813284Z",
     "iopub.status.idle": "2025-05-16T18:40:15.448621Z",
     "shell.execute_reply": "2025-05-16T18:40:15.447742Z"
    },
    "papermill": {
     "duration": 18.64107,
     "end_time": "2025-05-16T18:40:15.450102",
     "exception": false,
     "start_time": "2025-05-16T18:39:56.809032",
     "status": "completed"
    },
    "tags": []
   },
   "outputs": [
    {
     "data": {
      "text/markdown": [
       "The question: \"How have recent methods and technologies been used to uncover new archaeological sites in the Amazon forest? return your answer in a mardown format.\" The answer should be a markdown format text that addresses use of remote sensing, LiDAR technology, satellite imagery, quads, etc. The answer in markdown using heading etc. Steps: \"How have recent methods and technologies been uncovered new archaeological sites.\"\n",
       "\n",
       "We have to produce an answer that is to be given in markdown formatting. We can use lists and markdown formatting structure.\n",
       "\n",
       "I can say that experiments and new methods used include remote sensing, LiDAR, high-resolution satellite imagery, drone-based mapping and so on. Actually \"return your answer in a markdown format\" means I need to deliver my answer in explicit Markdown formatting. I want to produce a answer in markdown. So I'll produce h3 sections and lists.\n",
       "\n",
       "Let's produce answer in markdown format with some code blocks if needed or bullet points as help.\n",
       "I'll produce answer in markdown.\n",
       "\n",
       "I'll produce an answer such as:\n",
       "```\n",
       "# Uncovering New Archaeological Sites in the Amazon Forest\n",
       "\n",
       " Researchers have increasingly turned to technologies for discovering new archaeological sites. The dense undergrowth and seasonal obstacles of the Amazon forest have historically hindered ground exploration. The modern methods have overcome these obstacles:\n",
       "\n",
       "## Remote Sensing and Satellite Imagery\n",
       "- Satellite imagery, through high resolution optical sensors, enables systematic scanning of large surface areas.\n",
       "- Altimeter and infrared sensors can detect soil disturbances suggesting human modifications.\n",
       "\n",
       "## LiDAR Technology (Light Detection and Ranging)\n",
       "- LiDAR uses laser pulses to measure distances - extremely beneficial in penetrating dense canopy.\n",
       "- It has identified ancient structures, roads, agricultural terraces, and earthworks hidden under forest.\n",
       "- LiDAR technology was heavily used in Maya regions; it is applied similarly in the Amazon region to uncover anthropic features.\n",
       "\n",
       "## Aerial Photography and UAV (Drones)\n",
       "- Unmanned aerial vehicles (drones) capture high-resolution images.\n",
       "- When overlaid with LiDAR data, produce extremely accurate topographical maps.\n",
       "- Drones lower operating costs and provide easy access to remote areas.\n",
       "\n",
       "## GIS and 3D Mapping\n",
       "- Geographical Information Systems (GIS) facilitate management of large datasets.\n",
       "- Data from remote sensing is integrated to produce layered maps.\n",
       "- These maps help in visualizing patterns or linking features with human settlement patterns.\n",
       "- They also provide 3D models of terrain and buried structures.\n",
       "\n",
       "## Combining Various Methods\n",
       "- Researchers combine multiple methods for best results.\n",
       "- Integration of remote sensing, field survey data, and on-the-ground archaeology confirmed validity of sites detected via remote sensing.\n",
       "- This multi-disciplinary approach enables tobridge remote sensing data and confirmional excavation/digs.\n",
       "\n",
       "## Case Studies\n",
       "- Mention well-known examples such as the \"lost cities\" of the Amazon, including the network of earthen mounds and geoglyphs discovered using LiDAR.\n",
       "- Notable example: In regions like Acre, Brazil, LiDAR has revealed hidden outlines of ancient villages and road networks.\n",
       "- Similarly, in other parts of the Amazon in Colombia, satellite images have tracked ancient agricultural features.\n",
       "\n",
       "All these methods lead to increased site numbers and better understanding of the history and distribution of ancient Amazonians.\n",
       "\n",
       "In summary, recent technologies like LiDAR and drone imaging, combined with remote sensing data integration, has revolutionized the capability to detect, map, and analyze ancient cultural landscape features over the centuries in the Amazon forest. They also guide efforts where conservation and archaeology interact and need to explore historically significant sites.\n",
       "\n",
       "Return answer inside markdown with proper heading marks.\n",
       "```\n",
       "\n",
       "I'll craft answer ensuring uses markdown formatting and maybe include code block formatting? But the question said \"return your answer in a markdown format,\" not using python code block or similar. I'll produce answer as markdown text starting with a header. I'll produce answer in markdown formatting.\n",
       "\n",
       "I'll produce answer using bullet lists, headers, and paragraphs.\n",
       "\n",
       "I'll produce my best final answer careful. I'll produce answer in simple markdown text. It says \"How have recent methods and technologies been used to uncover new archaeological sites in the Amazon forest?\" I'll answer: \"Through remote sensing techniques such as satellite imagery and LiDAR technology, combined with advanced GIS mapping and airborne surveying methods, archaeologists have uncovered vast networks of ancient human-made features hidden beneath the dense canopy of the Amazon. LiDAR scanning in particular has revolutionized the field by providing high-resolution three-dimensional maps of the forest floor, which reveal structures such as ancient roads, platform constructions, and agricultural fields.\"\n",
       "\n",
       "I'll produce details:\n",
       "- LiDAR technology: light pulses from aircraft, penetrate forest canopy, measure ground surface by capturing distances to the forest floor. That reveals subsurface shapes and formations that are otherwise hidden.\n",
       "\n",
       "- Satellite Imaging: from satellites like the ICESat, Terra or Frontier, high-resolution sensors capture data that is corrected for seasonal changes, revealing ground features.\n",
       "\n",
       "- UAV Technology: using drones allows capture of high-resolution images from the air, sometimes integrated with LiDAR or infrared imaging.\n",
       "\n",
       "- Remote Sensing artifacts: identifying soil anomalies, crop marks, or changes in vegetation growth patterns corresponding to buried archaeological features.\n",
       "\n",
       "- GIS Software: applied to integrate all this data, making predictions or verifying sites.\n",
       "\n",
       "- Digital Elevation Models are built with sophisticated computer programs. Also, sometimes detailed 3D mapping is derived from these data assets.\n",
       "\n",
       "Will produce final answer in markdown. That is to be given in pure markdown formatting without additional text formatting such as triple markdown bullet lists. Possibly I'll produce answer in markdown with mark headers.\n",
       "\n",
       "When the user said \"return your answer in a markdown format\". So produce my answer in markdown formatting. I'll produce answer with header [e.g., \"#\", \"##\"] steps bullet lists appropriate.\n",
       "\n",
       "I'll produce answer in form such as:\n",
       "\n",
       "\"In producing answer in markdown need to produce markdown text with headings and subheadings.\"\n",
       "\n",
       "I'll produce final answer accordingly. I'll produce answer in markdown including headings. I'll produce answer in markdown with something like:\n",
       "\n",
       "```\n",
       "# Uncovering New Archaeological Sites in the Amazon Forest\n",
       "\n",
       "Since recent years, new methods and technologies have drastically improved the ability to detect and analyze archaeological sites in regions such as the Amazon forest. Due to the dense canopy, traditional survey methods often missed hidden features that now have been revealed by cutting-edge remote sensing and geospatial technologies.\n",
       "\n",
       "## Remote Sensing Techniques\n",
       "\n",
       "- **Satellite Imagery**\n",
       "  - High-resolution satellite images help detect anomalies and disturbances in soil/landscape.\n",
       "  - Temporal changes and seasonal differences help highlight human activity patterns.\n",
       "\n",
       "- **LiDAR Technology**\n",
       "  - LiDAR (Light Detection and Ranging) employs laser pulses to generate high-detail three-dimensional maps.\n",
       "  - These maps are capable of penetrating dense forest canopy, revealing structures on the ground like ancient road systems, terraces, and geoglyphs.\n",
       "  - Notable successes: Detection of extensive pre-Columbian earthworks and settlement patterns in regions such as Acre, Brazil.\n",
       "\n",
       "## Unmanned Aerial Vehicles (UAVs) and Drones\n",
       "\n",
       "- UAV technology is increasingly used for mapping inaccessible or dense parts of the Amazon.\n",
       "- Drones capture high-resolution imagery and can be fitted with sensors (including infrared) that provide additional information about vegetation health and subsurface features, aiding in site identification.\n",
       "\n",
       "## GIS and Data Integration\n",
       "\n",
       "- Geographic Information Systems (GIS) are pivotal in managing and analyzing the large datasets acquired from remote sensing.\n",
       "- GIS allows archaeologists to overlay different kinds of geospatial data, overlaying LiDAR data with historical maps or satellite images, to interpret findings accurately.\n",
       "- Data integration supports 3D modeling of potential archaeological features, allowing for in-depth site analysis without immediate excavation.\n",
       "\n",
       "## Impact on Archaeological Understanding\n",
       "\n",
       "The integration of these technologies has led to a paradigm shift in Amazonian archaeology:\n",
       "- Thousands of previously unknown archaeological sites have been recorded, revealing complex human-environment interactions.\n",
       "- LiDAR surveys have uncovered elaborate networks such as ancient road systems and agricultural fields, challenging earlier assumptions about pre-Columbian land use.\n",
       "- The combination of airborne and drone-based imaging methods has accelerated the pace of discovery and enhanced conservation planning by showing the extent of cultural heritage buried beneath the Amazon rainforest.\n",
       "\n",
       "In summary, recent advancements in remote sensing, LiDAR, drone imaging, and GIS technologies have transformed the search for archaeological sites in one of the world's most challenging environments. These tools have enabled researchers to uncover hidden cultural landscapes, redefine the scale of human settlement in the Amazon, and shed light on the rich historical legacy of the indigenous populations.\n",
       "```\n",
       "\n",
       "That's the answer in markdown. I'll produce a markdown output answer. Let me produce answer in clear markdown text.\n",
       "\n",
       "I'll produce answer accordingly. In producing answer as well must mention impact research. I'll produce answer as detailed explanation.\n",
       "\n",
       "I'll produce answer as final answer in plain text markdown format. Let me produce final answer in markdown and check check check.\n",
       "\n",
       "I'll produce final answer in plain text.# Uncovering New Archaeological Sites in the Amazon Forest\n",
       "\n",
       "Recent advances in remote sensing, imaging, and geospatial technologies have fundamentally changed the way archaeologists and researchers explore the densely forested Amazon. Here are some of the key methods and technologies being used:\n",
       "\n",
       "## Remote Sensing and Satellite Imagery\n",
       "\n",
       "• **High-Resolution Satellite Images:**  \n",
       "  • These images capture fine details of the landscape, allowing researchers to detect subtle changes in soil texture or vegetation that may signal human activity.  \n",
       "  • Seasonal variations and temporal analyses help highlight anomalies indicative of ancient structures hidden below the forest canopy.\n",
       "\n",
       "• **Infrared and Multispectral Imaging:**  \n",
       "  • Sensors that capture data beyond the visible spectrum can reveal patterns or stress in vegetation that often correspond to subsurface archaeological features.\n",
       "\n",
       "## LiDAR Technology\n",
       "\n",
       "• **What It Is:**  \n",
       "  • Light Detection and Ranging (LiDAR) uses pulses of laser light to measure distances to the ground.  \n",
       "  • The technology can penetrate thick vegetation, making it possible to map the forest floor in exceptional detail.\n",
       "\n",
       "• **Impact in the Amazon:**  \n",
       "  • LiDAR has uncovered intricate networks of ancient roads, platforms, and agricultural terraces previously concealed by rainforest growth.  \n",
       "  • Notable findings include extensive earthworks and settlement patterns that reveal how early populations modified the environment over centuries.\n",
       "\n",
       "## Aerial Surveying with Drones (UAVs)\n",
       "\n",
       "• **Drones and UAVs:**  \n",
       "  • Equipped with high-resolution cameras and various sensors, drones provide close-ups of areas that are difficult to access by ground.  \n",
       "  • They are used to complement LiDAR and satellite data by capturing detailed, localized imagery.\n",
       "\n",
       "• **Benefits:**  \n",
       "  • Their flexibility and lower operational costs compared to manned aircraft make them a cost-effective option for rapid assessment and monitoring of archaeological sites.\n",
       "\n",
       "## Geographic Information Systems (GIS) and Data Integration\n",
       "\n",
       "• **Data Management and Visualization:**  \n",
       "  • GIS software is critical for integrating data from satellite imagery, LiDAR, and drone surveys.  \n",
       "  • It allows researchers to overlay multiple datasets, creating detailed maps and 3D models of the terrain that reveal hidden structures and landscape modifications made by ancient cultures.\n",
       "\n",
       "• **Analytical Advantages:**  \n",
       "  • By processing large datasets, GIS helps in predicting site locations, analyzing spatial relationships, and planning subsequent fieldwork.\n",
       "\n",
       "## Impact on Archaeological Understanding\n",
       "\n",
       "• **Revolutionizing Field Discoveries:**  \n",
       "  • The combination of these methods has led to the discovery of thousands of previously unknown sites, drastically increasing our understanding of pre-Columbian settlement in the Amazon.  \n",
       "  • Findings challenge earlier notions about the scale and complexity of ancient human activities in the region.\n",
       "\n",
       "• **Conservation and Research:**  \n",
       "  • The detailed mapping achieved through these technologies not only aids archaeological digs but also informs conservation strategies by outlining cultural heritage beneath the forest’s modern layers.\n",
       "\n",
       "In summary, the use of remote sensing techniques like satellite imagery, LiDAR, drone-based surveys, and the integration of these data through GIS has revolutionized the discovery and analysis of archaeological sites in the Amazon forest. These technologies are uncovering complex ancient landscapes that were previously hidden by dense vegetation, providing new insights into the cultural history and environmental management practices of early Amazonian societies."
      ],
      "text/plain": [
       "<IPython.core.display.Markdown object>"
      ]
     },
     "metadata": {},
     "output_type": "display_data"
    }
   ],
   "source": [
    "# 2️⃣ Use a free OpenRouter model\n",
    "response = create_chat_completion(\n",
    "    model=\"microsoft/phi-4-reasoning-plus:free\",\n",
    "    messages=messages,\n",
    "    extra_headers={\n",
    "        \"HTTP-Referer\": \"<YOUR_SITE_URL>\",\n",
    "        \"X-Title\": \"<YOUR_SITE_NAME>\"\n",
    "    }\n",
    ")\n",
    "display(Markdown(response.choices[0].message.content))"
   ]
  },
  {
   "cell_type": "code",
   "execution_count": 8,
   "id": "33cac26c",
   "metadata": {
    "execution": {
     "iopub.execute_input": "2025-05-16T18:40:15.459455Z",
     "iopub.status.busy": "2025-05-16T18:40:15.458894Z",
     "iopub.status.idle": "2025-05-16T18:40:18.913678Z",
     "shell.execute_reply": "2025-05-16T18:40:18.912945Z"
    },
    "papermill": {
     "duration": 3.46096,
     "end_time": "2025-05-16T18:40:18.915328",
     "exception": false,
     "start_time": "2025-05-16T18:40:15.454368",
     "status": "completed"
    },
    "tags": []
   },
   "outputs": [
    {
     "data": {
      "text/markdown": [
       "### Recent Methods and Technologies in Uncovering Amazon Forest Archaeological Sites\n",
       "#### Introduction\n",
       "The Amazon rainforest is a vast and complex ecosystem that has been home to numerous ancient civilizations. Recent advancements in technology and methods have enabled archaeologists to uncover new sites and gain a deeper understanding of the region's rich cultural heritage.\n",
       "\n",
       "#### LiDAR (Light Detection and Ranging) Technology\n",
       "* **Overview**: LiDAR technology uses laser pulses to create high-resolution 3D models of the forest canopy and underlying terrain.\n",
       "* **Application**: LiDAR has been used to identify previously invisible archaeological sites, such as ancient roads, settlements, and monuments.\n",
       "* **Example**: In 2019, a LiDAR survey in the Peruvian Amazon revealed a massive network of ancient earthworks, including roads, canals, and causeways.\n",
       "\n",
       "#### Satellite Imagery and Remote Sensing\n",
       "* **Overview**: Satellite imagery and remote sensing technologies, such as multispectral and hyperspectral imaging, allow archaeologists to analyze the forest from space.\n",
       "* **Application**: These technologies can detect subtle changes in the forest canopy, indicating the presence of archaeological sites.\n",
       "* **Example**: In 2020, a study using satellite imagery identified a previously unknown ancient city in the Brazilian Amazon.\n",
       "\n",
       "#### Ground-Penetrating Radar (GPR)\n",
       "* **Overview**: GPR is a non-invasive technique that uses radar pulses to image the subsurface of the earth.\n",
       "* **Application**: GPR has been used to locate ancient structures, such as buildings and roads, beneath the forest floor.\n",
       "* **Example**: In 2018, a GPR survey in the Ecuadorian Amazon revealed the presence of an ancient road network.\n",
       "\n",
       "#### Drones and Aerial Photography\n",
       "* **Overview**: Drones and aerial photography allow archaeologists to capture high-resolution images of the forest from the air.\n",
       "* **Application**: These technologies can be used to identify archaeological sites, monitor site degradation, and track changes in the forest environment.\n",
       "* **Example**: In 2019, a drone survey in the Colombian Amazon revealed a previously unknown ancient settlement.\n",
       "\n",
       "#### Open-Source Archaeological Software\n",
       "* **Overview**: Open-source software, such as QGIS and ArcGIS, allows archaeologists to analyze and process large datasets.\n",
       "* **Application**: These software tools can be used to integrate data from multiple sources, including LiDAR, satellite imagery, and GPR.\n",
       "* **Example**: In 2020, a study used open-source software to analyze LiDAR data and identify ancient earthworks in the Peruvian Amazon.\n",
       "\n",
       "#### Conclusion\n",
       "The combination of recent methods and technologies has revolutionized the field of Amazonian archaeology, enabling researchers to uncover new sites and gain a deeper understanding of the region's rich cultural heritage. As these technologies continue to evolve, we can expect to learn even more about the ancient civilizations that once thrived in the Amazon rainforest."
      ],
      "text/plain": [
       "<IPython.core.display.Markdown object>"
      ]
     },
     "metadata": {},
     "output_type": "display_data"
    }
   ],
   "source": [
    "# 2️⃣ Use a free OpenRouter model\n",
    "response = create_chat_completion(\n",
    "    model=\"meta-llama/llama-3.3-8b-instruct:free\",\n",
    "    messages=messages,\n",
    "    extra_headers={\n",
    "        \"HTTP-Referer\": \"<YOUR_SITE_URL>\",\n",
    "        \"X-Title\": \"<YOUR_SITE_NAME>\"\n",
    "    }\n",
    ")\n",
    "display(Markdown(response.choices[0].message.content))"
   ]
  },
  {
   "cell_type": "code",
   "execution_count": 9,
   "id": "9caa3d4b",
   "metadata": {
    "execution": {
     "iopub.execute_input": "2025-05-16T18:40:18.923923Z",
     "iopub.status.busy": "2025-05-16T18:40:18.923262Z",
     "iopub.status.idle": "2025-05-16T18:40:33.889276Z",
     "shell.execute_reply": "2025-05-16T18:40:33.888431Z"
    },
    "papermill": {
     "duration": 14.971783,
     "end_time": "2025-05-16T18:40:33.890790",
     "exception": false,
     "start_time": "2025-05-16T18:40:18.919007",
     "status": "completed"
    },
    "tags": []
   },
   "outputs": [
    {
     "data": {
      "text/markdown": [
       "# Recent Methods and Technologies for Uncovering Amazon Archaeological Sites  \n",
       "\n",
       "Recent advancements in technology and methodology have revolutionized the discovery of archaeological sites in the Amazon rainforest, which was once thought to be devoid of complex human civilizations. These innovations allow researchers to overcome the challenges of dense vegetation, difficult terrain, and limited accessibility. Below are key methods and technologies that have enabled groundbreaking findings:  \n",
       "\n",
       "## 1. **LiDAR (Light Detection and Ranging)**  \n",
       "   - **Application:** LiDAR uses laser pulses to create high-resolution 3D maps of the forest floor, even through thick canopy cover.  \n",
       "   - **Impact:** It has revealed **ancient cities, roads, and agricultural systems** previously hidden by the jungle. For example, in 2019, LiDAR scanning of the Amazon uncovered **60,000+ archaeological sites**, including pyramids, palaces, and irrigation channels, suggesting a highly developed pre-Columbian civilization.  \n",
       "   - **Key Findings:** Evidence of **large-scale human activity** (e.g., the city of **Loreto**, with a population of 150,000) that contradicted earlier assumptions about the Amazon’s \"pristine\" past.  \n",
       "\n",
       "## 2. **Satellite and Remote Sensing Technologies**  \n",
       "   - **Application:** High-resolution satellite imagery and multispectral analysis help detect subtle changes in vegetation, soil, or landforms that may indicate human activity.  \n",
       "   - **Impact:** Researchers have identified **ancient agricultural fields, terraces, and ceremonial sites** by analyzing soil moisture, organic material, and vegetation patterns.  \n",
       "   - **Example:** Satellites like **Sentinel-2** (from the European Space Agency) and **WorldView** have been used to trace human impact on the landscape, such as deforestation or terra preta (Amazonian dark earth) formations.  \n",
       "\n",
       "## 3. **Drones and UAVs (Unmanned Aerial Vehicles)**  \n",
       "   - **Application:** Drones equipped with high-resolution cameras and thermal imaging provide detailed aerial surveys of the Amazon.  \n",
       "   - **Impact:** They enable **quick, cost-effective mapping** of large areas and help locate potential sites for further investigation. Drones also reduce the need for risky fieldwork in remote regions.  \n",
       "\n",
       "## 4. **Ground-Penetrating Radar (GPR)**  \n",
       "   - **Application:** GPR sends electromagnetic waves to detect buried structures or anomalies beneath the soil.  \n",
       "   - **Impact:** Used to **identify underground features** like tombs, storage pits, or foundations without excavation. This is especially useful in areas where the soil is too hard for traditional methods.  \n",
       "\n",
       "## 5. **3D Scanning and GIS (Geographical Information Systems)**  \n",
       "   - **Application:** 3D laser scanning and GIS software integrate spatial data to create detailed models of sites and analyze patterns.  \n",
       "   - **Impact:** Facilitates **non-invasive documentation** and helps researchers understand the layout, scale, and environmental context of archaeological sites.  \n",
       "\n",
       "## 6. **Biomarker Analysis and Soil Science**  \n",
       "   - **Application:** Analyzing soil composition for microchemical traces (e.g., charcoal, ceramics, or heavy metals) to detect ancient human activity.  \n",
       "   - **Impact:** Revealed **agricultural practices** and **trade networks** by identifying areas with enriched soil or artifacts.  \n",
       "\n",
       "## 7. **Community and Indigenous Knowledge**  \n",
       "   - **Application:** Collaborating with local indigenous communities to leverage their oral histories and traditional land-use practices.  \n",
       "   - **Impact:** Helped identify sites through **eyewitness accounts** and **intuitive knowledge** of the landscape, ensuring culturally sensitive and ethical research.  \n",
       "\n",
       "## 8. **Machine Learning and AI**  \n",
       "   - **Application:** Algorithms analyze LiDAR and satellite data to detect patterns (e.g., roads, buildings) that might be missed by human researchers.  \n",
       "   - **Impact:** Accelerates the interpretation of vast datasets and highlights areas for targeted fieldwork.  \n",
       "\n",
       "## **Significance of Findings**  \n",
       "These technologies have **shattered the myth** that the Amazon was sparsely inhabited. Discoveries include:  \n",
       "- **Complex societies** with cities, roads, and agriculture.  \n",
       "- **Evidence of sustained human activity** for thousands of years.  \n",
       "- **Understanding of ecological engineering** (e.g., controlled fires, terracing).  \n",
       "\n",
       "## **Challenges and Considerations**  \n",
       "- **Sustainability:** Balancing archaeological research with environmental conservation.  \n",
       "- **Access:** Reaching remote areas often requires partnerships with local governments and NGOs.  \n",
       "- **Ethics:** Respecting indigenous rights and ensuring collaboration with local communities.  \n",
       "\n",
       "These methods have transformed the Amazon from a \"forgotten\" region to a focal point of global archaeological study, offering new insights into pre-Columbian civilizations and their interactions with the environment."
      ],
      "text/plain": [
       "<IPython.core.display.Markdown object>"
      ]
     },
     "metadata": {},
     "output_type": "display_data"
    }
   ],
   "source": [
    "# 2️⃣ Use a free OpenRouter model\n",
    "response = create_chat_completion(\n",
    "    model=\"qwen/qwen3-4b:free\",\n",
    "    messages=messages,\n",
    "    extra_headers={\n",
    "        \"HTTP-Referer\": \"<YOUR_SITE_URL>\",\n",
    "        \"X-Title\": \"<YOUR_SITE_NAME>\"\n",
    "    }\n",
    ")\n",
    "display(Markdown(response.choices[0].message.content))"
   ]
  },
  {
   "cell_type": "code",
   "execution_count": 10,
   "id": "db892caf",
   "metadata": {
    "execution": {
     "iopub.execute_input": "2025-05-16T18:40:33.899839Z",
     "iopub.status.busy": "2025-05-16T18:40:33.899264Z",
     "iopub.status.idle": "2025-05-16T18:40:49.393879Z",
     "shell.execute_reply": "2025-05-16T18:40:49.393064Z"
    },
    "papermill": {
     "duration": 15.500755,
     "end_time": "2025-05-16T18:40:49.395528",
     "exception": false,
     "start_time": "2025-05-16T18:40:33.894773",
     "status": "completed"
    },
    "tags": []
   },
   "outputs": [
    {
     "data": {
      "text/markdown": [
       "```markdown\n",
       "# Uncovering New Archaeological Sites in the Amazon Forest: Recent Methods and Technologies\n",
       "\n",
       "The Amazon rainforest, long considered a pristine wilderness with limited human habitation, has recently been revealed to be home to a much richer and more complex history of human settlement. This shift in understanding is largely due to the application of modern technologies and innovative methods that have enabled researchers to uncover and study previously unknown archaeological sites. Here, we explore some of the key approaches that have contributed to these discoveries.\n",
       "\n",
       "## 1. **Light Detection and Ranging (LiDAR)**\n",
       "\n",
       "**How it works:**  \n",
       "LiDAR is an aerial remote sensing technology that uses laser pulses to map the earth's surface in high resolution. It can penetrate dense vegetation to reveal topographic features hidden beneath the forest canopy.\n",
       "\n",
       "**Application in the Amazon:**  \n",
       "- **Mapping Ancient Structures:** LiDAR has been used to detect geoglyphs, ditches, mounds, and other earthworks that are often obscured by thick vegetation. For example, extensive LiDAR surveys have revealed complex pre-Columbian settlements in parts of Bolivia, Brazil, and possibly other areas.\n",
       "- **Large-scale Surveys:** The technology allows for rapid surveys of vast areas that would be impractical to study on foot. This has led to the discovery of interconnected networks of settlements and infrastructure (roads, canals, etc.).\n",
       "\n",
       "## 2. **Satellite Imagery and Remote Sensing**\n",
       "\n",
       "**How it works:**  \n",
       "High-resolution satellite imagery can detect subtle changes in vegetation patterns and soil moisture that may indicate the presence of buried archaeological features.\n",
       "\n",
       "**Application in the Amazon:**  \n",
       "- **Identifying Earthworks:** Researchers have identified large geometric earthworks (geoglyphs) by studying vegetation patterns and soil differences visible in satellite images.\n",
       "- **Deforestation and Site Detection:** Unfortunately, deforestation has also exposed previously hidden archaeological sites. Researchers have used satellite data to monitor deforestation and then investigate exposed areas for signs of past human activity.\n",
       "\n",
       "## 3. **Ground-Penetrating Radar (GPR)**\n",
       "\n",
       "**How it works:**  \n",
       "GPR is a geophysical method that uses radar pulses to image the subsurface. It can identify changes in soil composition and detect buried structures.\n",
       "\n",
       "**Application in the Amazon:**  \n",
       "- **Detailed Site Mapping:** Once potential sites are identified (through LiDAR or other means), GPR can be used to map the extent of subsurface features like floors, walls, or pits.\n",
       "- **Understanding Site Layout:** GPR has helped reveal the layout of ancient settlements, including residential areas and ceremonial spaces.\n",
       "\n",
       "## 4. **Unmanned Aerial Vehicles (UAVs or Drones)**\n",
       "\n",
       "**How it works:**  \n",
       "Drones equipped with cameras and sensors can capture high-resolution images and data over smaller areas, complementing broader-scale surveys.\n",
       "\n",
       "**Application in the Amazon:**  \n",
       "- **High-Resolution Imaging:** Drones provide detailed images of sites that can help in mapping and documentation.\n",
       "- **Access to Remote Areas:** They can reach areas that are difficult or dangerous for ground teams to access, such as heavily forested or swampy terrain.\n",
       "\n",
       "## 5. **Machine Learning and Artificial Intelligence**\n",
       "\n",
       "**How it works:**  \n",
       "Machine learning algorithms can analyze large datasets (e.g., LiDAR data, satellite imagery) to identify patterns indicative of archaeological features.\n",
       "\n",
       "**Application in the Amazon:**  \n",
       "- **Automated Site Detection:** AI can help sift through vast amounts of data to flag potential sites for further investigation, speeding up the process of discovery.\n",
       "- **Pattern Recognition:** Algorithms can learn to recognize specific shapes and features associated with human-made structures, such as mounds or linear earthworks.\n",
       "\n",
       "## 6. **Soil Chemistry and Analysis**\n",
       "\n",
       "**How it works:**  \n",
       "Human activity can alter soil chemistry, leaving traces that can be detected even centuries later. For example, areas with long-term human habitation may have higher levels of phosphorus (from waste and organic matter).\n",
       "\n",
       "**Application in the Amazon:**  \n",
       "- **Identifying Habitation Sites:** Soil analysis can reveal the presence of ancient human activity, even in areas where no visible structures remain.\n",
       "- **Understanding Land Use:** Soil studies have shown that indigenous populations in the Amazon practiced sustainable agriculture and enriched the soil (creating terra preta, or \"dark earth\"), leaving a chemical signature of their presence.\n",
       "\n",
       "## 7. **Ethnographic and Ethnohistoric Research**\n",
       "\n",
       "**How it works:**  \n",
       "Collaborative research with present-day indigenous communities can provide insights into traditional land use and potential site locations.\n",
       "\n",
       "**Application in the Amazon:**  \n",
       "- **Oral Histories:** Local knowledge can guide researchers to significant places or confirm the purpose of discovered features.\n",
       "- **Cultural Continuity:** Understanding contemporary practices can help interpret archaeological findings, such as land management techniques or the use of specific plants.\n",
       "\n",
       "## Conclusion\n",
       "\n",
       "The convergence of these methods and technologies has revolutionized our understanding of the Amazon’s human history. From the large-scale perspective of LiDAR and satellite imagery to the detailed insights of soil analysis and indigenous knowledge, researchers are now uncovering a far more diverse and extensive archaeological record in the Amazon than previously imagined. These discoveries are not only rewriting the history books but also highlighting the importance of preserving the Amazon’s cultural and ecological heritage.\n",
       "```"
      ],
      "text/plain": [
       "<IPython.core.display.Markdown object>"
      ]
     },
     "metadata": {},
     "output_type": "display_data"
    }
   ],
   "source": [
    "# 2️⃣ Use a free OpenRouter model\n",
    "response = create_chat_completion(\n",
    "    model=\"deepseek/deepseek-prover-v2:free\",\n",
    "    messages=messages,\n",
    "    extra_headers={\n",
    "        \"HTTP-Referer\": \"<YOUR_SITE_URL>\",\n",
    "        \"X-Title\": \"<YOUR_SITE_NAME>\"\n",
    "    }\n",
    ")\n",
    "display(Markdown(response.choices[0].message.content))"
   ]
  }
 ],
 "metadata": {
  "kaggle": {
   "accelerator": "none",
   "dataSources": [
    {
     "databundleVersionId": 12334818,
     "sourceId": 101597,
     "sourceType": "competition"
    }
   ],
   "dockerImageVersionId": 31040,
   "isGpuEnabled": false,
   "isInternetEnabled": true,
   "language": "python",
   "sourceType": "notebook"
  },
  "kernelspec": {
   "display_name": "Python 3",
   "language": "python",
   "name": "python3"
  },
  "language_info": {
   "codemirror_mode": {
    "name": "ipython",
    "version": 3
   },
   "file_extension": ".py",
   "mimetype": "text/x-python",
   "name": "python",
   "nbconvert_exporter": "python",
   "pygments_lexer": "ipython3",
   "version": "3.11.11"
  },
  "papermill": {
   "default_parameters": {},
   "duration": 87.387212,
   "end_time": "2025-05-16T18:40:50.022863",
   "environment_variables": {},
   "exception": null,
   "input_path": "__notebook__.ipynb",
   "output_path": "__notebook__.ipynb",
   "parameters": {},
   "start_time": "2025-05-16T18:39:22.635651",
   "version": "2.6.0"
  }
 },
 "nbformat": 4,
 "nbformat_minor": 5
}
