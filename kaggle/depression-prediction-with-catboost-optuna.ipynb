{
 "cells": [
  {
   "cell_type": "markdown",
   "id": "deeac68f",
   "metadata": {
    "papermill": {
     "duration": 0.005731,
     "end_time": "2024-11-14T08:28:04.973795",
     "exception": false,
     "start_time": "2024-11-14T08:28:04.968064",
     "status": "completed"
    },
    "tags": []
   },
   "source": [
    "<!-- PS4E11 | CatBoost Optuna -->\n",
    "<div style=\"font-family: 'Poppins'; font-weight: bold; letter-spacing: 0px; color: #FFFFFF; font-size: 300%; text-align: left; padding: 15px; background: #0A0F29; border: 8px solid #00FFFF; border-radius: 15px; box-shadow: 5px 5px 20px rgba(0, 0, 0, 0.5);\">\n",
    "    Depression Prediction with CatBoost & Optuna<br>\n",
    "</div>"
   ]
  },
  {
   "cell_type": "markdown",
   "id": "6ff921ee",
   "metadata": {
    "papermill": {
     "duration": 0.004842,
     "end_time": "2024-11-14T08:28:04.983798",
     "exception": false,
     "start_time": "2024-11-14T08:28:04.978956",
     "status": "completed"
    },
    "tags": []
   },
   "source": [
    "<div style=\"text-align: center;\">\n",
    "\n",
    "  <img src=\"https://i.imgur.com/EhXAhl1.jpg\" alt=\"Centered Image\" style=\"max-width: 60%; height: auto;\">\n",
    "\n",
    "</div>"
   ]
  },
  {
   "cell_type": "markdown",
   "id": "7d7761b4",
   "metadata": {
    "papermill": {
     "duration": 0.004533,
     "end_time": "2024-11-14T08:28:04.993176",
     "exception": false,
     "start_time": "2024-11-14T08:28:04.988643",
     "status": "completed"
    },
    "tags": []
   },
   "source": [
    "Photo de <a href=\"https://unsplash.com/fr/@dmey503?utm_content=creditCopyText&utm_medium=referral&utm_source=unsplash\">Dan Meyers</a> sur <a href=\"https://unsplash.com/fr/photos/nabandonnez-pas-vous-netes-pas-seul-vous-comptez-sur-la-signalisation-sur-la-cloture-metallique-hluOJZjLVXc?utm_content=creditCopyText&utm_medium=referral&utm_source=unsplash\">Unsplash</a>"
   ]
  },
  {
   "cell_type": "markdown",
   "id": "a3d3ea3f",
   "metadata": {
    "papermill": {
     "duration": 0.004648,
     "end_time": "2024-11-14T08:28:05.002695",
     "exception": false,
     "start_time": "2024-11-14T08:28:04.998047",
     "status": "completed"
    },
    "tags": []
   },
   "source": [
    "# <div style=\"background-color:#0A0F29; font-family:'Poppins', cursive; color:#E0F7FA; font-size:140%; text-align:center; border: 2px solid #00FFFF; border-radius:15px; padding: 15px; box-shadow: 5px 5px 20px rgba(0, 0, 0, 0.5); font-weight: bold; letter-spacing: 1px; text-transform: uppercase;\">Challenge Overview</div>"
   ]
  },
  {
   "cell_type": "markdown",
   "id": "7df09f37",
   "metadata": {
    "papermill": {
     "duration": 0.004562,
     "end_time": "2024-11-14T08:28:05.012031",
     "exception": false,
     "start_time": "2024-11-14T08:28:05.007469",
     "status": "completed"
    },
    "tags": []
   },
   "source": [
    "## <div style=\"background-color:#0A0F29; font-family:'Poppins', cursive; color:#E0F7FA; font-size:100%; text-align:center; border: 2px solid #0A0F29; border-radius:10px; padding: 10px; box-shadow: 5px 5px 20px rgba(0, 0, 0, 0.5); font-weight: bold; letter-spacing: 1px; text-transform: uppercase;\">Competition</div>"
   ]
  },
  {
   "cell_type": "markdown",
   "id": "7a062fe9",
   "metadata": {
    "papermill": {
     "duration": 0.00462,
     "end_time": "2024-11-14T08:28:05.021483",
     "exception": false,
     "start_time": "2024-11-14T08:28:05.016863",
     "status": "completed"
    },
    "tags": []
   },
   "source": [
    "- **Objective:** Participants analyze a synthetic dataset based on a mental health survey to identify factors linked to depression, predicting whether individuals are likely to experience depression.\n",
    "\n",
    "- **Evaluation:** Submissions are scored by accuracy, with predictions required for each row in the test set as either 0 (no depression) or 1 (depression)."
   ]
  },
  {
   "cell_type": "markdown",
   "id": "3802c9a0",
   "metadata": {
    "papermill": {
     "duration": 0.004753,
     "end_time": "2024-11-14T08:28:05.031158",
     "exception": false,
     "start_time": "2024-11-14T08:28:05.026405",
     "status": "completed"
    },
    "tags": []
   },
   "source": [
    "## <div style=\"background-color:#0A0F29; font-family:'Poppins', cursive; color:#E0F7FA; font-size:100%; text-align:center; border: 2px solid #0A0F29; border-radius:10px; padding: 10px; box-shadow: 5px 5px 20px rgba(0, 0, 0, 0.5); font-weight: bold; letter-spacing: 1px; text-transform: uppercase;\">Notebook aim</div>"
   ]
  },
  {
   "cell_type": "markdown",
   "id": "9e3439a1",
   "metadata": {
    "papermill": {
     "duration": 0.005586,
     "end_time": "2024-11-14T08:28:05.042092",
     "exception": false,
     "start_time": "2024-11-14T08:28:05.036506",
     "status": "completed"
    },
    "tags": []
   },
   "source": [
    "\n",
    "\n",
    "\n",
    "\n",
    "\n",
    "\n",
    "\n",
    "- In this notebook I train a Catboot model and save out of fold predictions for ensembling.\n",
    "\n",
    "- Model choise is based on this notebook: [PS4E11 | Explore Best Models](https://www.kaggle.com/code/wguesdon/ps4e11-explore-best-models)"
   ]
  },
  {
   "cell_type": "markdown",
   "id": "3b95c96b",
   "metadata": {
    "papermill": {
     "duration": 0.004577,
     "end_time": "2024-11-14T08:28:05.051951",
     "exception": false,
     "start_time": "2024-11-14T08:28:05.047374",
     "status": "completed"
    },
    "tags": []
   },
   "source": [
    "# <div style=\"background-color:#0A0F29; font-family:'Poppins', cursive; color:#E0F7FA; font-size:140%; text-align:center; border: 2px solid #00FFFF; border-radius:15px; padding: 15px; box-shadow: 5px 5px 20px rgba(0, 0, 0, 0.5); font-weight: bold; letter-spacing: 1px; text-transform: uppercase;\">Automated EDA</div>"
   ]
  },
  {
   "cell_type": "markdown",
   "id": "751a481e",
   "metadata": {
    "papermill": {
     "duration": 0.005025,
     "end_time": "2024-11-14T08:28:05.062913",
     "exception": false,
     "start_time": "2024-11-14T08:28:05.057888",
     "status": "completed"
    },
    "tags": []
   },
   "source": [
    "- see [PS4E11 | AutoML Baseline](https://www.kaggle.com/code/wguesdon/ps4e11-automl-baseline)"
   ]
  },
  {
   "cell_type": "markdown",
   "id": "87bea2d4",
   "metadata": {
    "papermill": {
     "duration": 0.004691,
     "end_time": "2024-11-14T08:28:05.073004",
     "exception": false,
     "start_time": "2024-11-14T08:28:05.068313",
     "status": "completed"
    },
    "tags": []
   },
   "source": [
    "# <div style=\"background-color:#0A0F29; font-family:'Poppins', cursive; color:#E0F7FA; font-size:140%; text-align:center; border: 2px solid #00FFFF; border-radius:15px; padding: 15px; box-shadow: 5px 5px 20px rgba(0, 0, 0, 0.5); font-weight: bold; letter-spacing: 1px; text-transform: uppercase;\">Model training</div>"
   ]
  },
  {
   "cell_type": "code",
   "execution_count": 1,
   "id": "15e302a2",
   "metadata": {
    "execution": {
     "iopub.execute_input": "2024-11-14T08:28:05.084417Z",
     "iopub.status.busy": "2024-11-14T08:28:05.084028Z",
     "iopub.status.idle": "2024-11-14T08:28:05.093396Z",
     "shell.execute_reply": "2024-11-14T08:28:05.092584Z"
    },
    "papermill": {
     "duration": 0.01748,
     "end_time": "2024-11-14T08:28:05.095434",
     "exception": false,
     "start_time": "2024-11-14T08:28:05.077954",
     "status": "completed"
    },
    "tags": []
   },
   "outputs": [],
   "source": [
    "# Constants\n",
    "\n",
    "ENV = 'Kaggle'  # Set to 'Colab', 'Kaggle', or 'Sagemaker'\n",
    "DEV = False  # Set to True to enable subsetting, False for full training data\n",
    "SUBSET_SIZE = 1000  # Number of samples for the subset during development\n",
    "TRIALS = 50 # Number of trials for Optuna\n",
    "GPU = False\n",
    "ID_COL = 'id'\n",
    "TARGET_COL = 'Depression'\n",
    "MODEL_TYPE = 'CatBoost'  # Set to 'CatBoost', 'XGBoost', or 'LightGBM'"
   ]
  },
  {
   "cell_type": "code",
   "execution_count": 2,
   "id": "756b422b",
   "metadata": {
    "execution": {
     "iopub.execute_input": "2024-11-14T08:28:05.106410Z",
     "iopub.status.busy": "2024-11-14T08:28:05.106050Z",
     "iopub.status.idle": "2024-11-14T08:28:06.156942Z",
     "shell.execute_reply": "2024-11-14T08:28:06.155801Z"
    },
    "papermill": {
     "duration": 1.058938,
     "end_time": "2024-11-14T08:28:06.159312",
     "exception": false,
     "start_time": "2024-11-14T08:28:05.100374",
     "status": "completed"
    },
    "tags": []
   },
   "outputs": [
    {
     "name": "stdout",
     "output_type": "stream",
     "text": [
      "Python 3.10.14\r\n"
     ]
    }
   ],
   "source": [
    "!python --version"
   ]
  },
  {
   "cell_type": "code",
   "execution_count": 3,
   "id": "abdb6c6d",
   "metadata": {
    "execution": {
     "iopub.execute_input": "2024-11-14T08:28:06.171757Z",
     "iopub.status.busy": "2024-11-14T08:28:06.171328Z",
     "iopub.status.idle": "2024-11-14T08:28:06.176427Z",
     "shell.execute_reply": "2024-11-14T08:28:06.175576Z"
    },
    "papermill": {
     "duration": 0.014004,
     "end_time": "2024-11-14T08:28:06.178617",
     "exception": false,
     "start_time": "2024-11-14T08:28:06.164613",
     "status": "completed"
    },
    "tags": []
   },
   "outputs": [],
   "source": [
    "if ENV == 'Colab':\n",
    "    from google.colab import drive\n",
    "    drive.mount('/content/drive')"
   ]
  },
  {
   "cell_type": "code",
   "execution_count": 4,
   "id": "b810144d",
   "metadata": {
    "execution": {
     "iopub.execute_input": "2024-11-14T08:28:06.190325Z",
     "iopub.status.busy": "2024-11-14T08:28:06.189958Z",
     "iopub.status.idle": "2024-11-14T08:30:04.253161Z",
     "shell.execute_reply": "2024-11-14T08:30:04.251782Z"
    },
    "papermill": {
     "duration": 118.072217,
     "end_time": "2024-11-14T08:30:04.255977",
     "exception": false,
     "start_time": "2024-11-14T08:28:06.183760",
     "status": "completed"
    },
    "tags": []
   },
   "outputs": [
    {
     "name": "stdout",
     "output_type": "stream",
     "text": [
      "configure Kaggle env\n"
     ]
    }
   ],
   "source": [
    "if ENV == 'Kaggle':\n",
    "    print('configure Kaggle env')\n",
    "    !pip install autogluon.tabular  > /dev/null 2>&1\n",
    "    !pip install optuna-integration[sklearn] > /dev/null 2>&1\n",
    "    !pip install langchain-core > /dev/null 2>&1\n",
    "    !pip install langchain-openai  > /dev/null 2>&1\n",
    "    !pip install sweetviz > /dev/null 2>&1\n",
    "    !pip install numba==0.58.1 visions==0.7.5 pandas==1.5.3 ydata-profiling==4.7.0 > /dev/null 2>&1\n",
    "\n",
    "if ENV == 'Colab':\n",
    "    print('configure Colab env')\n",
    "    !pip install -r /content/drive/MyDrive/Kaggle_analysis/PS4E11/requirements.txt > /dev/null 2>&1\n",
    "    !pip install scikit-learn==1.3.0\n",
    "    !pip install shap"
   ]
  },
  {
   "cell_type": "code",
   "execution_count": 5,
   "id": "597fba50",
   "metadata": {
    "execution": {
     "iopub.execute_input": "2024-11-14T08:30:04.268632Z",
     "iopub.status.busy": "2024-11-14T08:30:04.268216Z",
     "iopub.status.idle": "2024-11-14T08:30:06.663961Z",
     "shell.execute_reply": "2024-11-14T08:30:06.662904Z"
    },
    "papermill": {
     "duration": 2.405158,
     "end_time": "2024-11-14T08:30:06.666648",
     "exception": false,
     "start_time": "2024-11-14T08:30:04.261490",
     "status": "completed"
    },
    "tags": []
   },
   "outputs": [],
   "source": [
    "import pandas as pd\n",
    "import numpy as np\n",
    "import optuna\n",
    "import joblib\n",
    "import logging\n",
    "import json\n",
    "from datetime import datetime\n",
    "from sklearn.model_selection import StratifiedKFold\n",
    "from sklearn.metrics import accuracy_score\n",
    "from catboost import CatBoostClassifier\n",
    "from xgboost import XGBClassifier\n",
    "from lightgbm import LGBMClassifier"
   ]
  },
  {
   "cell_type": "code",
   "execution_count": 6,
   "id": "4baf188e",
   "metadata": {
    "execution": {
     "iopub.execute_input": "2024-11-14T08:30:06.679577Z",
     "iopub.status.busy": "2024-11-14T08:30:06.678508Z",
     "iopub.status.idle": "2024-11-14T08:30:06.683485Z",
     "shell.execute_reply": "2024-11-14T08:30:06.682568Z"
    },
    "papermill": {
     "duration": 0.01375,
     "end_time": "2024-11-14T08:30:06.685741",
     "exception": false,
     "start_time": "2024-11-14T08:30:06.671991",
     "status": "completed"
    },
    "tags": []
   },
   "outputs": [],
   "source": [
    "# Set up logging\n",
    "logging.basicConfig(level=logging.INFO, format='%(asctime)s - %(levelname)s - %(message)s')"
   ]
  },
  {
   "cell_type": "code",
   "execution_count": 7,
   "id": "a20a0abc",
   "metadata": {
    "execution": {
     "iopub.execute_input": "2024-11-14T08:30:06.698126Z",
     "iopub.status.busy": "2024-11-14T08:30:06.697749Z",
     "iopub.status.idle": "2024-11-14T08:30:06.731332Z",
     "shell.execute_reply": "2024-11-14T08:30:06.730398Z"
    },
    "papermill": {
     "duration": 0.04253,
     "end_time": "2024-11-14T08:30:06.733602",
     "exception": false,
     "start_time": "2024-11-14T08:30:06.691072",
     "status": "completed"
    },
    "tags": []
   },
   "outputs": [],
   "source": [
    "def load_data():\n",
    "\n",
    "    \"\"\"Load the dataset based on the environment.\"\"\"\n",
    "\n",
    "    paths = {\n",
    "        'Kaggle': '/kaggle/input/playground-series-s4e11/',\n",
    "        'Sagemaker': '/home/ec2-user/SageMaker/data/PS4E11/',\n",
    "        'Colab': '/content/drive/MyDrive/Kaggle_analysis/PS4E11/data/'\n",
    "    }\n",
    "\n",
    "    base_path = paths.get(ENV)\n",
    "\n",
    "    if not base_path:\n",
    "        raise ValueError(\"Invalid environment specified\")\n",
    "\n",
    "    \n",
    "\n",
    "    train_data = pd.read_csv(base_path + 'train.csv')\n",
    "    test_data = pd.read_csv(base_path + 'test.csv')\n",
    "    sample_submission = pd.read_csv(base_path + 'sample_submission.csv')\n",
    "\n",
    "    return train_data, test_data, sample_submission\n",
    "\n",
    "def preprocess_data(train_data, test_data):\n",
    "\n",
    "    \"\"\"Preprocess training and testing data.\"\"\"\n",
    "\n",
    "    # Separate features and target\n",
    "    X = train_data.drop(columns=[ID_COL, TARGET_COL])\n",
    "    y = train_data[TARGET_COL]\n",
    "    X_test = test_data.drop(columns=[ID_COL])\n",
    "\n",
    "    # Subset the training data if DEV is True\n",
    "\n",
    "    if DEV:\n",
    "        subset_indices = np.random.choice(X.index, size=min(SUBSET_SIZE, len(X)), replace=False)\n",
    "        X = X.loc[subset_indices]\n",
    "        y = y.loc[subset_indices]\n",
    "        X_test = X_test.loc[subset_indices]\n",
    "\n",
    "    # Detect categorical columns (assuming all non-numeric columns are categorical)\n",
    "    cat_features = X.select_dtypes(include=['object', 'category']).columns.tolist()\n",
    "\n",
    "    # Fill missing values\n",
    "    X[cat_features] = X[cat_features].fillna('missing')\n",
    "    X_test[cat_features] = X_test[cat_features].fillna('missing')\n",
    "\n",
    "    return X, y, X_test, cat_features\n",
    "\n",
    "from sklearn.model_selection import train_test_split\n",
    "\n",
    "def objective(trial, X, y, cat_features):\n",
    "\n",
    "    \"\"\"Objective function for Optuna hyperparameter optimization.\"\"\"\n",
    "\n",
    "    if MODEL_TYPE == 'CatBoost':\n",
    "        params = {\n",
    "            'iterations': trial.suggest_int('iterations', 500, 3000),\n",
    "            'depth': trial.suggest_int('depth', 4, 10),\n",
    "            'learning_rate': trial.suggest_float('learning_rate', 0.01, 0.3, log=True),\n",
    "            'l2_leaf_reg': trial.suggest_float('l2_leaf_reg', 1e-3, 10, log=True),\n",
    "            'random_strength': trial.suggest_float('random_strength', 0, 10),\n",
    "            'bagging_temperature': trial.suggest_float('bagging_temperature', 0, 10),\n",
    "            'border_count': trial.suggest_int('border_count', 32, 255),\n",
    "            'task_type': 'GPU' if GPU else 'CPU',\n",
    "            'verbose': 0,\n",
    "        }\n",
    "\n",
    "    elif MODEL_TYPE == 'XGBoost':\n",
    "        params = {\n",
    "            'n_estimators': trial.suggest_int('n_estimators', 500, 3000),\n",
    "            'max_depth': trial.suggest_int('max_depth', 3, 10),\n",
    "            'learning_rate': trial.suggest_float('learning_rate', 0.01, 0.3, log=True),\n",
    "            'subsample': trial.suggest_float('subsample', 0.5, 1.0),\n",
    "            'colsample_bytree': trial.suggest_float('colsample_bytree', 0.5, 1.0),\n",
    "            'reg_alpha': trial.suggest_float('reg_alpha', 1e-3, 10, log=True),\n",
    "            'reg_lambda': trial.suggest_float('reg_lambda', 1e-3, 10, log=True),\n",
    "            'gamma': trial.suggest_float('gamma', 0, 10),\n",
    "            'tree_method': 'gpu_hist' if GPU else 'auto',\n",
    "        }\n",
    "\n",
    "    elif MODEL_TYPE == 'LightGBM':\n",
    "        params = {\n",
    "            'n_estimators': trial.suggest_int('n_estimators', 500, 3000),\n",
    "            'max_depth': trial.suggest_int('max_depth', -1, 10),\n",
    "            'learning_rate': trial.suggest_float('learning_rate', 0.01, 0.3, log=True),\n",
    "            'num_leaves': trial.suggest_int('num_leaves', 20, 300),\n",
    "            'feature_fraction': trial.suggest_float('feature_fraction', 0.5, 1.0),\n",
    "            'bagging_fraction': trial.suggest_float('bagging_fraction', 0.5, 1.0),\n",
    "            'bagging_freq': trial.suggest_int('bagging_freq', 1, 10),\n",
    "            'lambda_l1': trial.suggest_float('lambda_l1', 1e-3, 10, log=True),\n",
    "            'lambda_l2': trial.suggest_float('lambda_l2', 1e-3, 10, log=True),\n",
    "            'min_child_samples': trial.suggest_int('min_child_samples', 5, 100),\n",
    "            'device': 'gpu' if GPU else 'cpu',\n",
    "        }\n",
    "\n",
    "    else:\n",
    "        raise ValueError(f\"Invalid model type: {MODEL_TYPE}\")\n",
    "\n",
    "    # Single train-validation split\n",
    "    X_train, X_valid, y_train, y_valid = train_test_split(X, y, test_size=0.2, random_state=42, stratify=y)\n",
    "\n",
    "    model = get_model(params)\n",
    "    model.fit(\n",
    "        X_train, y_train, \n",
    "        cat_features=cat_features if MODEL_TYPE == 'CatBoost' else None,\n",
    "        eval_set=(X_valid, y_valid),\n",
    "        early_stopping_rounds=100,\n",
    "        verbose=0\n",
    "    )\n",
    "\n",
    "    # Evaluate model on validation set\n",
    "    valid_preds = model.predict(X_valid)\n",
    "    score = accuracy_score(y_valid, valid_preds.round())\n",
    "\n",
    "    return score\n",
    "\n",
    "def save_best_params(best_params):\n",
    "    \"\"\"Save the best parameters to JSON and joblib files.\"\"\"\n",
    "    \n",
    "    timestamp = datetime.now().strftime(\"%Y%m%d_%H%M%S\")\n",
    "    file_prefix = f\"{MODEL_TYPE}_best_params_{timestamp}\"\n",
    "\n",
    "    # Save to JSON\n",
    "    with open(f\"{file_prefix}.json\", 'w') as json_file:\n",
    "        json.dump(best_params, json_file)\n",
    "    \n",
    "    # Save to joblib\n",
    "    joblib.dump(best_params, f\"{file_prefix}.joblib\")\n",
    "\n",
    "def get_model(params):\n",
    "\n",
    "    \"\"\"Returns the appropriate model based on MODEL_TYPE.\"\"\"\n",
    "\n",
    "    if MODEL_TYPE == 'CatBoost':\n",
    "        return CatBoostClassifier(**params)\n",
    "\n",
    "    elif MODEL_TYPE == 'XGBoost':\n",
    "        return XGBClassifier(**params)\n",
    "\n",
    "    elif MODEL_TYPE == 'LightGBM':\n",
    "        return LGBMClassifier(**params)\n",
    "\n",
    "    else:\n",
    "        raise ValueError(f\"Invalid model type: {MODEL_TYPE}\")\n",
    "\n",
    "def run_hyperparameter_optimization(X, y, cat_features, trials=TRIALS):\n",
    "\n",
    "    \"\"\"Run Optuna hyperparameter optimization.\"\"\"\n",
    "\n",
    "    study = optuna.create_study(direction='maximize')\n",
    "    study.optimize(lambda trial: objective(trial, X, y, cat_features), n_trials=trials)\n",
    "    logging.info(f\"Best parameters: {study.best_params}\")\n",
    "    \n",
    "    return study.best_params\n",
    "\n",
    "def train_and_predict(X, y, X_test, best_params, cat_features):\n",
    "\n",
    "    \"\"\"Train final model using the best parameters and make OOF and test predictions.\"\"\"\n",
    "\n",
    "    skf = StratifiedKFold(n_splits=5, shuffle=True, random_state=42)\n",
    "    oof_preds = np.zeros(len(X))\n",
    "    test_preds = np.zeros(len(X_test))\n",
    "\n",
    "    for fold, (train_idx, valid_idx) in enumerate(skf.split(X, y)):\n",
    "        X_train, X_valid = X.iloc[train_idx], X.iloc[valid_idx]\n",
    "        y_train, y_valid = y.iloc[train_idx], y.iloc[valid_idx]\n",
    "\n",
    "        model = get_model(best_params)\n",
    "        model.fit(X_train, y_train, cat_features=cat_features if MODEL_TYPE == 'CatBoost' else None, \n",
    "                  eval_set=(X_valid, y_valid), early_stopping_rounds=100, verbose=100)\n",
    "\n",
    "        # Save out-of-fold predictions\n",
    "        oof_preds[valid_idx] = model.predict(X_valid)\n",
    "        test_preds += model.predict(X_test) / skf.n_splits\n",
    "\n",
    "    return oof_preds, test_preds\n",
    "\n",
    "def save_predictions(oof_preds, test_preds, train_data, test_data):\n",
    "\n",
    "    \"\"\"Save out-of-fold predictions and test predictions for meta-model.\"\"\"\n",
    "\n",
    "    oof_df = pd.DataFrame({ID_COL: train_data[ID_COL], 'oof_preds': oof_preds})\n",
    "    oof_df.to_csv('oof_predictions.csv', index=False)\n",
    "\n",
    "    # Convert test predictions to 0 or 1 integers\n",
    "    test_preds = (test_preds >= 0.5).astype(int)\n",
    "\n",
    "    # Prepare the submission DataFrame\n",
    "    submission = pd.DataFrame({ID_COL: test_data[ID_COL]})\n",
    "    submission['Depression'] = test_preds\n",
    "    submission.to_csv('submission.csv', index=False)\n",
    "\n",
    "    logging.info(\"Training complete. OOF predictions and submission file are saved.\")\n",
    "\n",
    "    # Ensemble with additional external submissions\n",
    "\n",
    "    try:\n",
    "        sub2 = pd.read_csv('/kaggle/input/ps4e11-submissions-for-ensemble/catboost_optuna_new_top5_features.csv').sort_values(by='id').reset_index(drop=True)\n",
    "        sub3 = pd.read_csv('/kaggle/input/ps4e11-submissions-for-ensemble/mental_health_automl_baseline.csv').sort_values(by='id').reset_index(drop=True)\n",
    "        sub4 = pd.read_csv('/kaggle/input/ps4e11-submissions-for-ensemble/mental_health_catboost_edited.csv').sort_values(by='id').reset_index(drop=True)\n",
    "        sub5 = pd.read_csv('/kaggle/input/ps4e11-submissions-for-ensemble/this_code_fixed_my_depression.csv').sort_values(by='id').reset_index(drop=True)\n",
    "\n",
    "        # List of submission dataframes\n",
    "\n",
    "        submissions = [submission, sub2, sub3, sub4, sub5]\n",
    "\n",
    "        # Ensuring all values are integers\n",
    "\n",
    "        for sub in submissions:\n",
    "            sub['Depression'] = sub['Depression'].astype(int)\n",
    "\n",
    "        # Creating a copy of the 'id' column from the first submission\n",
    "        ensemble = submissions[0][['id']].copy()\n",
    "\n",
    "        # Stack all predictions into a 2D numpy array and calculate the majority vote\n",
    "        predictions = np.array([sub['Depression'].values for sub in submissions])\n",
    "        ensemble['Depression'] = (np.sum(predictions, axis=0) >= len(submissions) / 2).astype(int)  # Majority vote logic\n",
    "\n",
    "        # Saving the output to a CSV file\n",
    "\n",
    "        ensemble.to_csv('final_ensemble.csv', index=False)\n",
    "        logging.info(\"Ensemble submission file is saved.\")\n",
    "\n",
    "    except FileNotFoundError as e:\n",
    "        logging.warning(f\"Ensembling skipped due to missing files: {e}\")"
   ]
  },
  {
   "cell_type": "code",
   "execution_count": 8,
   "id": "b8b0dd96",
   "metadata": {
    "execution": {
     "iopub.execute_input": "2024-11-14T08:30:06.745951Z",
     "iopub.status.busy": "2024-11-14T08:30:06.745580Z",
     "iopub.status.idle": "2024-11-14T09:52:36.694867Z",
     "shell.execute_reply": "2024-11-14T09:52:36.693727Z"
    },
    "papermill": {
     "duration": 4949.958021,
     "end_time": "2024-11-14T09:52:36.697375",
     "exception": false,
     "start_time": "2024-11-14T08:30:06.739354",
     "status": "completed"
    },
    "tags": []
   },
   "outputs": [
    {
     "name": "stderr",
     "output_type": "stream",
     "text": [
      "[I 2024-11-14 08:30:08,240] A new study created in memory with name: no-name-b36f837d-a3f9-4fea-bc64-836cfb720c1b\n",
      "[I 2024-11-14 08:30:48,293] Trial 0 finished with value: 0.939410092395167 and parameters: {'iterations': 1896, 'depth': 8, 'learning_rate': 0.15866364733217117, 'l2_leaf_reg': 0.019191484725770352, 'random_strength': 9.122320001210516, 'bagging_temperature': 4.374612226312661, 'border_count': 132}. Best is trial 0 with value: 0.939410092395167.\n",
      "[I 2024-11-14 08:33:33,441] Trial 1 finished with value: 0.9400852878464819 and parameters: {'iterations': 2794, 'depth': 6, 'learning_rate': 0.02794385618534179, 'l2_leaf_reg': 3.806243007424324, 'random_strength': 7.468772883334623, 'bagging_temperature': 7.904540125455123, 'border_count': 175}. Best is trial 1 with value: 0.9400852878464819.\n",
      "[I 2024-11-14 08:34:50,828] Trial 2 finished with value: 0.9399431414356787 and parameters: {'iterations': 1917, 'depth': 7, 'learning_rate': 0.09158029325651064, 'l2_leaf_reg': 0.5283989783553927, 'random_strength': 6.699409424595065, 'bagging_temperature': 1.8936820287249756, 'border_count': 57}. Best is trial 1 with value: 0.9400852878464819.\n",
      "[I 2024-11-14 08:38:11,130] Trial 3 finished with value: 0.9401918976545842 and parameters: {'iterations': 1576, 'depth': 6, 'learning_rate': 0.021575472126005843, 'l2_leaf_reg': 0.6294176576141435, 'random_strength': 1.5545110920465288, 'bagging_temperature': 6.783124354629716, 'border_count': 101}. Best is trial 3 with value: 0.9401918976545842.\n",
      "[I 2024-11-14 08:39:54,492] Trial 4 finished with value: 0.9398365316275764 and parameters: {'iterations': 1120, 'depth': 10, 'learning_rate': 0.07106830180492114, 'l2_leaf_reg': 1.026162682546462, 'random_strength': 7.665796564907833, 'bagging_temperature': 5.252572525786179, 'border_count': 105}. Best is trial 3 with value: 0.9401918976545842.\n",
      "[I 2024-11-14 08:41:15,976] Trial 5 finished with value: 0.939729921819474 and parameters: {'iterations': 1183, 'depth': 8, 'learning_rate': 0.05888736138747861, 'l2_leaf_reg': 0.02859281757976826, 'random_strength': 1.604802455791402, 'bagging_temperature': 2.2524608537911153, 'border_count': 35}. Best is trial 3 with value: 0.9401918976545842.\n",
      "[I 2024-11-14 08:42:03,022] Trial 6 finished with value: 0.9401208244491827 and parameters: {'iterations': 1328, 'depth': 5, 'learning_rate': 0.11403941164402534, 'l2_leaf_reg': 1.0886749071827078, 'random_strength': 1.895278522597671, 'bagging_temperature': 2.9457902656307033, 'border_count': 46}. Best is trial 3 with value: 0.9401918976545842.\n",
      "[I 2024-11-14 08:44:03,283] Trial 7 finished with value: 0.9399431414356787 and parameters: {'iterations': 2555, 'depth': 6, 'learning_rate': 0.03904991350956233, 'l2_leaf_reg': 1.2223096947255727, 'random_strength': 1.940693657654533, 'bagging_temperature': 3.9390653939635802, 'border_count': 220}. Best is trial 3 with value: 0.9401918976545842.\n",
      "[I 2024-11-14 08:46:47,634] Trial 8 finished with value: 0.9405828002842929 and parameters: {'iterations': 2871, 'depth': 6, 'learning_rate': 0.03559108923267499, 'l2_leaf_reg': 0.3234206115963894, 'random_strength': 2.8715041285216367, 'bagging_temperature': 3.22701101437211, 'border_count': 203}. Best is trial 8 with value: 0.9405828002842929.\n",
      "[I 2024-11-14 08:48:31,320] Trial 9 finished with value: 0.9403340440653873 and parameters: {'iterations': 980, 'depth': 7, 'learning_rate': 0.058900529683147636, 'l2_leaf_reg': 1.4758020780661676, 'random_strength': 5.543548486720789, 'bagging_temperature': 1.950664086096754, 'border_count': 57}. Best is trial 8 with value: 0.9405828002842929.\n",
      "[I 2024-11-14 08:49:15,674] Trial 10 finished with value: 0.935820895522388 and parameters: {'iterations': 521, 'depth': 4, 'learning_rate': 0.010339356613231064, 'l2_leaf_reg': 0.0010252828426380186, 'random_strength': 4.168902152208686, 'bagging_temperature': 0.15018471513830622, 'border_count': 243}. Best is trial 8 with value: 0.9405828002842929.\n",
      "[I 2024-11-14 08:49:43,483] Trial 11 finished with value: 0.938770433546553 and parameters: {'iterations': 2372, 'depth': 8, 'learning_rate': 0.25133952342723503, 'l2_leaf_reg': 0.06100012467478777, 'random_strength': 4.552618372199605, 'bagging_temperature': 0.045202271937568206, 'border_count': 187}. Best is trial 8 with value: 0.9405828002842929.\n",
      "[I 2024-11-14 08:51:53,523] Trial 12 finished with value: 0.9391257995735608 and parameters: {'iterations': 527, 'depth': 10, 'learning_rate': 0.02156402009106408, 'l2_leaf_reg': 9.472805634090648, 'random_strength': 3.5232449482892765, 'bagging_temperature': 1.4921327671004958, 'border_count': 177}. Best is trial 8 with value: 0.9405828002842929.\n",
      "[I 2024-11-14 08:54:31,014] Trial 13 finished with value: 0.9397654584221748 and parameters: {'iterations': 2946, 'depth': 7, 'learning_rate': 0.039134521935548776, 'l2_leaf_reg': 0.1787453169639007, 'random_strength': 5.751217198322779, 'bagging_temperature': 5.694666884784705, 'border_count': 83}. Best is trial 8 with value: 0.9405828002842929.\n",
      "[I 2024-11-14 08:57:30,747] Trial 14 finished with value: 0.9398720682302771 and parameters: {'iterations': 2180, 'depth': 4, 'learning_rate': 0.013552915525225095, 'l2_leaf_reg': 0.13765873921808305, 'random_strength': 0.23731862425050299, 'bagging_temperature': 9.475471222414193, 'border_count': 148}. Best is trial 8 with value: 0.9405828002842929.\n",
      "[I 2024-11-14 08:59:44,129] Trial 15 finished with value: 0.9399786780383795 and parameters: {'iterations': 879, 'depth': 9, 'learning_rate': 0.036046909980163286, 'l2_leaf_reg': 0.009200383359482929, 'random_strength': 3.029934676351301, 'bagging_temperature': 3.4629392251620876, 'border_count': 218}. Best is trial 8 with value: 0.9405828002842929.\n",
      "[I 2024-11-14 09:01:23,305] Trial 16 finished with value: 0.9398365316275764 and parameters: {'iterations': 1589, 'depth': 5, 'learning_rate': 0.05705564024267105, 'l2_leaf_reg': 4.032611834609401, 'random_strength': 6.291799552653815, 'bagging_temperature': 1.1464940714353027, 'border_count': 147}. Best is trial 8 with value: 0.9405828002842929.\n",
      "[I 2024-11-14 09:02:12,373] Trial 17 finished with value: 0.9402629708599858 and parameters: {'iterations': 935, 'depth': 5, 'learning_rate': 0.1369272142037812, 'l2_leaf_reg': 0.22088553981777154, 'random_strength': 5.266763047257934, 'bagging_temperature': 2.947580802117868, 'border_count': 255}. Best is trial 8 with value: 0.9405828002842929.\n",
      "[I 2024-11-14 09:03:35,863] Trial 18 finished with value: 0.9404761904761905 and parameters: {'iterations': 2105, 'depth': 7, 'learning_rate': 0.08253611742926382, 'l2_leaf_reg': 2.6773482173555627, 'random_strength': 9.430537583648682, 'bagging_temperature': 6.23778049700685, 'border_count': 209}. Best is trial 8 with value: 0.9405828002842929.\n",
      "[I 2024-11-14 09:04:13,950] Trial 19 finished with value: 0.9398365316275764 and parameters: {'iterations': 2680, 'depth': 9, 'learning_rate': 0.2044776921251746, 'l2_leaf_reg': 3.162242342238673, 'random_strength': 9.858610126957116, 'bagging_temperature': 6.626373458856555, 'border_count': 208}. Best is trial 8 with value: 0.9405828002842929.\n",
      "[I 2024-11-14 09:05:25,264] Trial 20 finished with value: 0.9401918976545842 and parameters: {'iterations': 2160, 'depth': 6, 'learning_rate': 0.09610796267616703, 'l2_leaf_reg': 0.35668387713529726, 'random_strength': 8.024316614544512, 'bagging_temperature': 8.646591563106288, 'border_count': 197}. Best is trial 8 with value: 0.9405828002842929.\n",
      "[I 2024-11-14 09:06:38,426] Trial 21 finished with value: 0.9396943852167733 and parameters: {'iterations': 2391, 'depth': 7, 'learning_rate': 0.07355101027512351, 'l2_leaf_reg': 2.139643216340507, 'random_strength': 2.5960593785954593, 'bagging_temperature': 4.52652662066367, 'border_count': 232}. Best is trial 8 with value: 0.9405828002842929.\n",
      "[I 2024-11-14 09:08:26,165] Trial 22 finished with value: 0.9393390191897655 and parameters: {'iterations': 2981, 'depth': 7, 'learning_rate': 0.04739778762334505, 'l2_leaf_reg': 9.03466788592795, 'random_strength': 0.215146499354832, 'bagging_temperature': 6.394675626617689, 'border_count': 163}. Best is trial 8 with value: 0.9405828002842929.\n",
      "[I 2024-11-14 09:12:15,267] Trial 23 finished with value: 0.9398720682302771 and parameters: {'iterations': 1653, 'depth': 8, 'learning_rate': 0.026334097015214702, 'l2_leaf_reg': 1.8505655011933686, 'random_strength': 8.817043963931784, 'bagging_temperature': 2.616699366670712, 'border_count': 122}. Best is trial 8 with value: 0.9405828002842929.\n",
      "[I 2024-11-14 09:13:12,189] Trial 24 finished with value: 0.9401918976545842 and parameters: {'iterations': 2108, 'depth': 6, 'learning_rate': 0.08383017458933782, 'l2_leaf_reg': 0.0669733657980251, 'random_strength': 4.2903663314273075, 'bagging_temperature': 0.9848727260164525, 'border_count': 79}. Best is trial 8 with value: 0.9405828002842929.\n",
      "[I 2024-11-14 09:15:28,446] Trial 25 finished with value: 0.9398365316275764 and parameters: {'iterations': 1445, 'depth': 7, 'learning_rate': 0.0494625445924134, 'l2_leaf_reg': 0.3781409986328461, 'random_strength': 3.5099411837600427, 'bagging_temperature': 3.558756890987818, 'border_count': 206}. Best is trial 8 with value: 0.9405828002842929.\n",
      "[I 2024-11-14 09:18:15,337] Trial 26 finished with value: 0.9398720682302771 and parameters: {'iterations': 1861, 'depth': 5, 'learning_rate': 0.03041611112110047, 'l2_leaf_reg': 4.356954670004776, 'random_strength': 9.881870513325339, 'bagging_temperature': 7.464366113317956, 'border_count': 160}. Best is trial 8 with value: 0.9405828002842929.\n",
      "[I 2024-11-14 09:19:42,625] Trial 27 finished with value: 0.9393034825870646 and parameters: {'iterations': 799, 'depth': 9, 'learning_rate': 0.06588527810405946, 'l2_leaf_reg': 0.6921419777022421, 'random_strength': 5.240101156661639, 'bagging_temperature': 4.724385139159327, 'border_count': 231}. Best is trial 8 with value: 0.9405828002842929.\n",
      "[I 2024-11-14 09:24:23,525] Trial 28 finished with value: 0.9402985074626866 and parameters: {'iterations': 2463, 'depth': 7, 'learning_rate': 0.018771744763774224, 'l2_leaf_reg': 1.8183321609914886, 'random_strength': 6.507755102434035, 'bagging_temperature': 5.983937181771247, 'border_count': 193}. Best is trial 8 with value: 0.9405828002842929.\n",
      "[I 2024-11-14 09:25:05,801] Trial 29 finished with value: 0.9399786780383795 and parameters: {'iterations': 1891, 'depth': 8, 'learning_rate': 0.14631217061754762, 'l2_leaf_reg': 0.006773807776860045, 'random_strength': 8.691266937675476, 'bagging_temperature': 4.152312287653845, 'border_count': 127}. Best is trial 8 with value: 0.9405828002842929.\n",
      "[I 2024-11-14 09:25:55,556] Trial 30 finished with value: 0.9403340440653873 and parameters: {'iterations': 2715, 'depth': 6, 'learning_rate': 0.11522031252280812, 'l2_leaf_reg': 0.2878408840212166, 'random_strength': 7.179105192435953, 'bagging_temperature': 5.188589320832445, 'border_count': 61}. Best is trial 8 with value: 0.9405828002842929.\n",
      "[I 2024-11-14 09:26:28,816] Trial 31 finished with value: 0.9407960199004975 and parameters: {'iterations': 2759, 'depth': 6, 'learning_rate': 0.16869122369670184, 'l2_leaf_reg': 0.2633632131175593, 'random_strength': 6.919318255297062, 'bagging_temperature': 5.215416204635389, 'border_count': 63}. Best is trial 31 with value: 0.9407960199004975.\n",
      "[I 2024-11-14 09:26:59,873] Trial 32 finished with value: 0.9389836531627577 and parameters: {'iterations': 2843, 'depth': 7, 'learning_rate': 0.222815338707906, 'l2_leaf_reg': 0.12214064986521027, 'random_strength': 5.780104937589275, 'bagging_temperature': 7.718740986450017, 'border_count': 65}. Best is trial 31 with value: 0.9407960199004975.\n",
      "[I 2024-11-14 09:27:36,957] Trial 33 finished with value: 0.9395522388059702 and parameters: {'iterations': 2590, 'depth': 6, 'learning_rate': 0.1822755361767733, 'l2_leaf_reg': 0.06532866613931768, 'random_strength': 8.34154991181222, 'bagging_temperature': 5.697696057164975, 'border_count': 77}. Best is trial 31 with value: 0.9407960199004975.\n",
      "[I 2024-11-14 09:28:01,000] Trial 34 finished with value: 0.9395877754086709 and parameters: {'iterations': 2283, 'depth': 6, 'learning_rate': 0.2865271262775412, 'l2_leaf_reg': 0.9006297287524597, 'random_strength': 7.286457220369132, 'bagging_temperature': 7.231829368216699, 'border_count': 105}. Best is trial 31 with value: 0.9407960199004975.\n",
      "[I 2024-11-14 09:29:07,400] Trial 35 finished with value: 0.9402985074626866 and parameters: {'iterations': 2842, 'depth': 7, 'learning_rate': 0.10798554081328614, 'l2_leaf_reg': 0.48808344097079814, 'random_strength': 9.20164906576592, 'bagging_temperature': 1.9624729117053343, 'border_count': 32}. Best is trial 31 with value: 0.9407960199004975.\n",
      "[I 2024-11-14 09:29:49,325] Trial 36 finished with value: 0.9401208244491827 and parameters: {'iterations': 2549, 'depth': 5, 'learning_rate': 0.16443927307506603, 'l2_leaf_reg': 5.607362523933372, 'random_strength': 5.931990803876837, 'bagging_temperature': 4.999263383330939, 'border_count': 89}. Best is trial 31 with value: 0.9407960199004975.\n",
      "[I 2024-11-14 09:31:44,047] Trial 37 finished with value: 0.9398365316275764 and parameters: {'iterations': 2019, 'depth': 8, 'learning_rate': 0.04682128425321565, 'l2_leaf_reg': 2.3915195783905223, 'random_strength': 1.066575338026201, 'bagging_temperature': 8.39292688906647, 'border_count': 180}. Best is trial 31 with value: 0.9407960199004975.\n",
      "[I 2024-11-14 09:32:54,612] Trial 38 finished with value: 0.9401563610518835 and parameters: {'iterations': 1751, 'depth': 6, 'learning_rate': 0.0796206972399951, 'l2_leaf_reg': 1.2672899758719298, 'random_strength': 6.826073782041889, 'bagging_temperature': 3.581836632351802, 'border_count': 48}. Best is trial 31 with value: 0.9407960199004975.\n",
      "[I 2024-11-14 09:34:48,969] Trial 39 finished with value: 0.9401918976545842 and parameters: {'iterations': 1226, 'depth': 6, 'learning_rate': 0.06243898066974703, 'l2_leaf_reg': 0.028291462064532816, 'random_strength': 4.858049016096286, 'bagging_temperature': 2.752232776765527, 'border_count': 112}. Best is trial 31 with value: 0.9407960199004975.\n",
      "[I 2024-11-14 09:37:20,047] Trial 40 finished with value: 0.9401918976545842 and parameters: {'iterations': 2743, 'depth': 5, 'learning_rate': 0.03273497969123822, 'l2_leaf_reg': 0.5164427550294391, 'random_strength': 3.769643703634644, 'bagging_temperature': 4.220739257162874, 'border_count': 70}. Best is trial 31 with value: 0.9407960199004975.\n",
      "[I 2024-11-14 09:38:10,165] Trial 41 finished with value: 0.9395877754086709 and parameters: {'iterations': 2670, 'depth': 6, 'learning_rate': 0.1207207148696289, 'l2_leaf_reg': 0.24819273556670407, 'random_strength': 7.666552248487035, 'bagging_temperature': 5.625899165092964, 'border_count': 54}. Best is trial 31 with value: 0.9407960199004975.\n",
      "[I 2024-11-14 09:39:20,156] Trial 42 finished with value: 0.9399786780383795 and parameters: {'iterations': 2795, 'depth': 7, 'learning_rate': 0.08999780354134553, 'l2_leaf_reg': 0.2637501513873773, 'random_strength': 6.98351021776237, 'bagging_temperature': 5.061466462037247, 'border_count': 95}. Best is trial 31 with value: 0.9407960199004975.\n",
      "[I 2024-11-14 09:40:06,915] Trial 43 finished with value: 0.9396588486140725 and parameters: {'iterations': 2899, 'depth': 7, 'learning_rate': 0.12470023194313148, 'l2_leaf_reg': 0.7466682489486203, 'random_strength': 9.275561385346451, 'bagging_temperature': 6.158497301429797, 'border_count': 64}. Best is trial 31 with value: 0.9407960199004975.\n",
      "[I 2024-11-14 09:41:03,033] Trial 44 finished with value: 0.9399786780383795 and parameters: {'iterations': 2285, 'depth': 6, 'learning_rate': 0.09748779242203835, 'l2_leaf_reg': 0.10365647282551688, 'random_strength': 8.013187639275529, 'bagging_temperature': 5.234511003033643, 'border_count': 50}. Best is trial 31 with value: 0.9407960199004975.\n",
      "[I 2024-11-14 09:41:40,612] Trial 45 finished with value: 0.9391968727789624 and parameters: {'iterations': 2998, 'depth': 8, 'learning_rate': 0.17622818458462933, 'l2_leaf_reg': 1.3791673405778675, 'random_strength': 7.34378143352391, 'bagging_temperature': 7.203016624356534, 'border_count': 60}. Best is trial 31 with value: 0.9407960199004975.\n",
      "[I 2024-11-14 09:44:08,912] Trial 46 finished with value: 0.9399786780383795 and parameters: {'iterations': 2514, 'depth': 6, 'learning_rate': 0.04110264288941457, 'l2_leaf_reg': 0.3296816567991575, 'random_strength': 6.13101659395446, 'bagging_temperature': 1.5626313659018565, 'border_count': 43}. Best is trial 31 with value: 0.9407960199004975.\n",
      "[I 2024-11-14 09:45:23,458] Trial 47 finished with value: 0.939907604832978 and parameters: {'iterations': 2662, 'depth': 5, 'learning_rate': 0.06797801825912132, 'l2_leaf_reg': 0.041009565612135625, 'random_strength': 2.606104529251785, 'bagging_temperature': 0.49911457387284663, 'border_count': 40}. Best is trial 31 with value: 0.9407960199004975.\n",
      "[I 2024-11-14 09:47:25,401] Trial 48 finished with value: 0.9399786780383795 and parameters: {'iterations': 1450, 'depth': 4, 'learning_rate': 0.025573469453086573, 'l2_leaf_reg': 0.1579246900280825, 'random_strength': 5.428052884924524, 'bagging_temperature': 3.2123820919383332, 'border_count': 167}. Best is trial 31 with value: 0.9407960199004975.\n",
      "[I 2024-11-14 09:48:44,866] Trial 49 finished with value: 0.9395167022032693 and parameters: {'iterations': 745, 'depth': 7, 'learning_rate': 0.10994341987919347, 'l2_leaf_reg': 0.48648813960826853, 'random_strength': 4.775189800573909, 'bagging_temperature': 2.283385435938293, 'border_count': 142}. Best is trial 31 with value: 0.9407960199004975.\n"
     ]
    },
    {
     "name": "stdout",
     "output_type": "stream",
     "text": [
      "0:\tlearn: 0.4967540\ttest: 0.4973229\tbest: 0.4973229 (0)\ttotal: 143ms\tremaining: 6m 33s\n",
      "100:\tlearn: 0.1469359\ttest: 0.1510172\tbest: 0.1510172 (100)\ttotal: 11.7s\tremaining: 5m 7s\n",
      "200:\tlearn: 0.1399991\ttest: 0.1498412\tbest: 0.1496234 (191)\ttotal: 24.6s\tremaining: 5m 13s\n",
      "300:\tlearn: 0.1347966\ttest: 0.1495291\tbest: 0.1494977 (293)\ttotal: 37.4s\tremaining: 5m 5s\n",
      "Stopped by overfitting detector  (100 iterations wait)\n",
      "\n",
      "bestTest = 0.1494976536\n",
      "bestIteration = 293\n",
      "\n",
      "Shrink model to first 294 iterations.\n",
      "0:\tlearn: 0.4947772\ttest: 0.4962570\tbest: 0.4962570 (0)\ttotal: 144ms\tremaining: 6m 35s\n",
      "100:\tlearn: 0.1449935\ttest: 0.1540889\tbest: 0.1540889 (100)\ttotal: 12.1s\tremaining: 5m 17s\n",
      "200:\tlearn: 0.1375747\ttest: 0.1528607\tbest: 0.1526687 (180)\ttotal: 24.5s\tremaining: 5m 12s\n",
      "Stopped by overfitting detector  (100 iterations wait)\n",
      "\n",
      "bestTest = 0.1526686865\n",
      "bestIteration = 180\n",
      "\n",
      "Shrink model to first 181 iterations.\n",
      "0:\tlearn: 0.4963095\ttest: 0.4961536\tbest: 0.4961536 (0)\ttotal: 142ms\tremaining: 6m 32s\n",
      "100:\tlearn: 0.1465082\ttest: 0.1500668\tbest: 0.1500668 (100)\ttotal: 11.7s\tremaining: 5m 8s\n",
      "200:\tlearn: 0.1390272\ttest: 0.1485332\tbest: 0.1485332 (200)\ttotal: 23.9s\tremaining: 5m 3s\n",
      "300:\tlearn: 0.1335875\ttest: 0.1484554\tbest: 0.1484379 (272)\ttotal: 36.9s\tremaining: 5m 1s\n",
      "400:\tlearn: 0.1289041\ttest: 0.1488253\tbest: 0.1484126 (313)\ttotal: 49.3s\tremaining: 4m 49s\n",
      "Stopped by overfitting detector  (100 iterations wait)\n",
      "\n",
      "bestTest = 0.1484126042\n",
      "bestIteration = 313\n",
      "\n",
      "Shrink model to first 314 iterations.\n",
      "0:\tlearn: 0.4980604\ttest: 0.4961531\tbest: 0.4961531 (0)\ttotal: 147ms\tremaining: 6m 44s\n",
      "100:\tlearn: 0.1478286\ttest: 0.1461519\tbest: 0.1461519 (100)\ttotal: 12.3s\tremaining: 5m 23s\n",
      "200:\tlearn: 0.1400723\ttest: 0.1451020\tbest: 0.1449906 (164)\ttotal: 24.4s\tremaining: 5m 10s\n",
      "300:\tlearn: 0.1347501\ttest: 0.1448211\tbest: 0.1447979 (299)\ttotal: 36.9s\tremaining: 5m 1s\n",
      "Stopped by overfitting detector  (100 iterations wait)\n",
      "\n",
      "bestTest = 0.1447979334\n",
      "bestIteration = 299\n",
      "\n",
      "Shrink model to first 300 iterations.\n",
      "0:\tlearn: 0.4961820\ttest: 0.4965318\tbest: 0.4965318 (0)\ttotal: 144ms\tremaining: 6m 36s\n",
      "100:\tlearn: 0.1473197\ttest: 0.1516161\tbest: 0.1516161 (100)\ttotal: 11.4s\tremaining: 4m 58s\n",
      "200:\tlearn: 0.1397639\ttest: 0.1502004\tbest: 0.1501383 (187)\ttotal: 24.1s\tremaining: 5m 6s\n",
      "300:\tlearn: 0.1345063\ttest: 0.1500665\tbest: 0.1499037 (233)\ttotal: 36.4s\tremaining: 4m 57s\n",
      "Stopped by overfitting detector  (100 iterations wait)\n",
      "\n",
      "bestTest = 0.1499037407\n",
      "bestIteration = 233\n",
      "\n",
      "Shrink model to first 234 iterations.\n"
     ]
    }
   ],
   "source": [
    "train_data, test_data, _ = load_data()\n",
    "X, y, X_test, cat_features = preprocess_data(train_data, test_data)\n",
    "best_params = run_hyperparameter_optimization(X, y, cat_features, trials=TRIALS)\n",
    "\n",
    "# Save the best parameters\n",
    "save_best_params(best_params)\n",
    "\n",
    "# training and prediction\n",
    "oof_preds, test_preds = train_and_predict(X, y, X_test, best_params, cat_features)"
   ]
  },
  {
   "cell_type": "markdown",
   "id": "2082032b",
   "metadata": {
    "papermill": {
     "duration": 0.010004,
     "end_time": "2024-11-14T09:52:36.717874",
     "exception": false,
     "start_time": "2024-11-14T09:52:36.707870",
     "status": "completed"
    },
    "tags": []
   },
   "source": [
    "# <div style=\"background-color:#0A0F29; font-family:'Poppins', cursive; color:#E0F7FA; font-size:140%; text-align:center; border: 2px solid #00FFFF; border-radius:15px; padding: 15px; box-shadow: 5px 5px 20px rgba(0, 0, 0, 0.5); font-weight: bold; letter-spacing: 1px; text-transform: uppercase;\">Final Ensemble</div>"
   ]
  },
  {
   "cell_type": "markdown",
   "id": "45754177",
   "metadata": {
    "papermill": {
     "duration": 0.009795,
     "end_time": "2024-11-14T09:52:36.738060",
     "exception": false,
     "start_time": "2024-11-14T09:52:36.728265",
     "status": "completed"
    },
    "tags": []
   },
   "source": [
    "## Submission Generation\n",
    "\n",
    "This notebook generates two submissions for scoring:\n",
    "\n",
    "- `depression_prediction_autogluon_sub.csv`\n",
    "- `final_ensemble.csv`\n",
    "\n",
    "## Final Ensemble Submission\n",
    "\n",
    "For the final ensemble submission, I combine the predictions from this notebook with results from four public notebooks, each utilizing different methods. Importantly, these public notebooks do not contain ensemble predictions from other sources. While the ensemble submission scores higher on the public leaderboard, it carries a greater risk of overfitting, particularly because this competition is based on accuracy metrics.\n",
    "\n",
    "## Best Ensembling Approach\n",
    "\n",
    "The most effective ensembling approach involves combining out-of-fold predictions from models trained using cross-validation with a unified cross-validation scoring strategy. A simple meta-model, such as logistic regression or a voting method, can then be applied to enhance performance.\n",
    "\n",
    "## Notebooks used for the Ensemble Submission\n",
    "\n",
    "- [This code fixed my depression](https://www.kaggle.com/code/adyiemaz/this-code-fixed-my-depression/notebook)\n",
    "- [Mental health | Catboost | Edited](https://www.kaggle.com/code/abdmental01/mental-health-catboost-edited)\n",
    "- [[0.94317] 🚀 Catboost + Optuna | New Top5 Features](https://www.kaggle.com/code/harshg97/0-94317-catboost-optuna-new-top5-features)\n",
    "- [Mental health - automl baseline](https://www.kaggle.com/code/thomasmeiner/mental-health-automl-baseline)"
   ]
  },
  {
   "cell_type": "code",
   "execution_count": 9,
   "id": "5167e006",
   "metadata": {
    "execution": {
     "iopub.execute_input": "2024-11-14T09:52:36.761917Z",
     "iopub.status.busy": "2024-11-14T09:52:36.761484Z",
     "iopub.status.idle": "2024-11-14T09:52:37.272782Z",
     "shell.execute_reply": "2024-11-14T09:52:37.271693Z"
    },
    "papermill": {
     "duration": 0.526993,
     "end_time": "2024-11-14T09:52:37.275230",
     "exception": false,
     "start_time": "2024-11-14T09:52:36.748237",
     "status": "completed"
    },
    "tags": []
   },
   "outputs": [],
   "source": [
    "save_predictions(oof_preds, test_preds, train_data, test_data)"
   ]
  }
 ],
 "metadata": {
  "kaggle": {
   "accelerator": "none",
   "dataSources": [
    {
     "databundleVersionId": 10008389,
     "sourceId": 84895,
     "sourceType": "competition"
    },
    {
     "datasetId": 6048801,
     "sourceId": 9864000,
     "sourceType": "datasetVersion"
    }
   ],
   "dockerImageVersionId": 30786,
   "isGpuEnabled": false,
   "isInternetEnabled": true,
   "language": "python",
   "sourceType": "notebook"
  },
  "kernelspec": {
   "display_name": "Python 3",
   "language": "python",
   "name": "python3"
  },
  "language_info": {
   "codemirror_mode": {
    "name": "ipython",
    "version": 3
   },
   "file_extension": ".py",
   "mimetype": "text/x-python",
   "name": "python",
   "nbconvert_exporter": "python",
   "pygments_lexer": "ipython3",
   "version": "3.10.14"
  },
  "papermill": {
   "default_parameters": {},
   "duration": 5075.787629,
   "end_time": "2024-11-14T09:52:38.107873",
   "environment_variables": {},
   "exception": null,
   "input_path": "__notebook__.ipynb",
   "output_path": "__notebook__.ipynb",
   "parameters": {},
   "start_time": "2024-11-14T08:28:02.320244",
   "version": "2.6.0"
  }
 },
 "nbformat": 4,
 "nbformat_minor": 5
}
