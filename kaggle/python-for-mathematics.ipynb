{
 "cells": [
  {
   "cell_type": "markdown",
   "id": "37f947dd",
   "metadata": {
    "papermill": {
     "duration": 0.011785,
     "end_time": "2025-02-08T13:31:43.282285",
     "exception": false,
     "start_time": "2025-02-08T13:31:43.270500",
     "status": "completed"
    },
    "tags": []
   },
   "source": [
    "# Python for Mathematics"
   ]
  },
  {
   "cell_type": "markdown",
   "id": "b99f53ce",
   "metadata": {
    "papermill": {
     "duration": 0.010229,
     "end_time": "2025-02-08T13:31:43.303831",
     "exception": false,
     "start_time": "2025-02-08T13:31:43.293602",
     "status": "completed"
    },
    "tags": []
   },
   "source": [
    "- **Ongoing work. The aim is to list useful tools for mathematics using Python and Jupyter notebooks**"
   ]
  },
  {
   "cell_type": "code",
   "execution_count": 1,
   "id": "e0481228",
   "metadata": {
    "_kg_hide-input": true,
    "_kg_hide-output": true,
    "execution": {
     "iopub.execute_input": "2025-02-08T13:31:43.326647Z",
     "iopub.status.busy": "2025-02-08T13:31:43.326266Z",
     "iopub.status.idle": "2025-02-08T13:31:56.424068Z",
     "shell.execute_reply": "2025-02-08T13:31:56.422862Z"
    },
    "papermill": {
     "duration": 13.111654,
     "end_time": "2025-02-08T13:31:56.426101",
     "exception": false,
     "start_time": "2025-02-08T13:31:43.314447",
     "status": "completed"
    },
    "tags": []
   },
   "outputs": [
    {
     "name": "stdout",
     "output_type": "stream",
     "text": [
      "Collecting latexify-py\r\n",
      "  Downloading latexify_py-0.4.4-py3-none-any.whl.metadata (4.2 kB)\r\n",
      "Requirement already satisfied: dill>=0.3.2 in /usr/local/lib/python3.10/dist-packages (from latexify-py) (0.3.8)\r\n",
      "Downloading latexify_py-0.4.4-py3-none-any.whl (38 kB)\r\n",
      "Installing collected packages: latexify-py\r\n",
      "Successfully installed latexify-py-0.4.4\r\n",
      "Collecting openai==1.58.1\r\n",
      "  Downloading openai-1.58.1-py3-none-any.whl.metadata (27 kB)\r\n",
      "Requirement already satisfied: langchain-core in /usr/local/lib/python3.10/dist-packages (0.3.25)\r\n",
      "Collecting langchain-openai\r\n",
      "  Downloading langchain_openai-0.3.4-py3-none-any.whl.metadata (2.3 kB)\r\n",
      "Requirement already satisfied: anyio<5,>=3.5.0 in /usr/local/lib/python3.10/dist-packages (from openai==1.58.1) (3.7.1)\r\n",
      "Requirement already satisfied: distro<2,>=1.7.0 in /usr/local/lib/python3.10/dist-packages (from openai==1.58.1) (1.9.0)\r\n",
      "Requirement already satisfied: httpx<1,>=0.23.0 in /usr/local/lib/python3.10/dist-packages (from openai==1.58.1) (0.28.1)\r\n",
      "Requirement already satisfied: jiter<1,>=0.4.0 in /usr/local/lib/python3.10/dist-packages (from openai==1.58.1) (0.8.2)\r\n",
      "Requirement already satisfied: pydantic<3,>=1.9.0 in /usr/local/lib/python3.10/dist-packages (from openai==1.58.1) (2.10.3)\r\n",
      "Requirement already satisfied: sniffio in /usr/local/lib/python3.10/dist-packages (from openai==1.58.1) (1.3.1)\r\n",
      "Requirement already satisfied: tqdm>4 in /usr/local/lib/python3.10/dist-packages (from openai==1.58.1) (4.67.1)\r\n",
      "Requirement already satisfied: typing-extensions<5,>=4.11 in /usr/local/lib/python3.10/dist-packages (from openai==1.58.1) (4.12.2)\r\n",
      "Requirement already satisfied: PyYAML>=5.3 in /usr/local/lib/python3.10/dist-packages (from langchain-core) (6.0.2)\r\n",
      "Requirement already satisfied: jsonpatch<2.0,>=1.33 in /usr/local/lib/python3.10/dist-packages (from langchain-core) (1.33)\r\n",
      "Requirement already satisfied: langsmith<0.3,>=0.1.125 in /usr/local/lib/python3.10/dist-packages (from langchain-core) (0.2.3)\r\n",
      "Requirement already satisfied: packaging<25,>=23.2 in /usr/local/lib/python3.10/dist-packages (from langchain-core) (24.2)\r\n",
      "Requirement already satisfied: tenacity!=8.4.0,<10.0.0,>=8.1.0 in /usr/local/lib/python3.10/dist-packages (from langchain-core) (9.0.0)\r\n",
      "Collecting langchain-core\r\n",
      "  Downloading langchain_core-0.3.34-py3-none-any.whl.metadata (5.9 kB)\r\n",
      "Requirement already satisfied: tiktoken<1,>=0.7 in /usr/local/lib/python3.10/dist-packages (from langchain-openai) (0.8.0)\r\n",
      "Requirement already satisfied: idna>=2.8 in /usr/local/lib/python3.10/dist-packages (from anyio<5,>=3.5.0->openai==1.58.1) (3.10)\r\n",
      "Requirement already satisfied: exceptiongroup in /usr/local/lib/python3.10/dist-packages (from anyio<5,>=3.5.0->openai==1.58.1) (1.2.2)\r\n",
      "Requirement already satisfied: certifi in /usr/local/lib/python3.10/dist-packages (from httpx<1,>=0.23.0->openai==1.58.1) (2024.12.14)\r\n",
      "Requirement already satisfied: httpcore==1.* in /usr/local/lib/python3.10/dist-packages (from httpx<1,>=0.23.0->openai==1.58.1) (1.0.7)\r\n",
      "Requirement already satisfied: h11<0.15,>=0.13 in /usr/local/lib/python3.10/dist-packages (from httpcore==1.*->httpx<1,>=0.23.0->openai==1.58.1) (0.14.0)\r\n",
      "Requirement already satisfied: jsonpointer>=1.9 in /usr/local/lib/python3.10/dist-packages (from jsonpatch<2.0,>=1.33->langchain-core) (3.0.0)\r\n",
      "Requirement already satisfied: orjson<4.0.0,>=3.9.14 in /usr/local/lib/python3.10/dist-packages (from langsmith<0.3,>=0.1.125->langchain-core) (3.10.12)\r\n",
      "Requirement already satisfied: requests<3,>=2 in /usr/local/lib/python3.10/dist-packages (from langsmith<0.3,>=0.1.125->langchain-core) (2.32.3)\r\n",
      "Requirement already satisfied: requests-toolbelt<2.0.0,>=1.0.0 in /usr/local/lib/python3.10/dist-packages (from langsmith<0.3,>=0.1.125->langchain-core) (1.0.0)\r\n",
      "Requirement already satisfied: annotated-types>=0.6.0 in /usr/local/lib/python3.10/dist-packages (from pydantic<3,>=1.9.0->openai==1.58.1) (0.7.0)\r\n",
      "Requirement already satisfied: pydantic-core==2.27.1 in /usr/local/lib/python3.10/dist-packages (from pydantic<3,>=1.9.0->openai==1.58.1) (2.27.1)\r\n",
      "Requirement already satisfied: regex>=2022.1.18 in /usr/local/lib/python3.10/dist-packages (from tiktoken<1,>=0.7->langchain-openai) (2024.11.6)\r\n",
      "Requirement already satisfied: charset-normalizer<4,>=2 in /usr/local/lib/python3.10/dist-packages (from requests<3,>=2->langsmith<0.3,>=0.1.125->langchain-core) (3.4.0)\r\n",
      "Requirement already satisfied: urllib3<3,>=1.21.1 in /usr/local/lib/python3.10/dist-packages (from requests<3,>=2->langsmith<0.3,>=0.1.125->langchain-core) (2.2.3)\r\n",
      "Downloading openai-1.58.1-py3-none-any.whl (454 kB)\r\n",
      "\u001b[2K   \u001b[90m━━━━━━━━━━━━━━━━━━━━━━━━━━━━━━━━━━━━━━━━\u001b[0m \u001b[32m454.3/454.3 kB\u001b[0m \u001b[31m17.5 MB/s\u001b[0m eta \u001b[36m0:00:00\u001b[0m\r\n",
      "\u001b[?25hDownloading langchain_openai-0.3.4-py3-none-any.whl (54 kB)\r\n",
      "\u001b[2K   \u001b[90m━━━━━━━━━━━━━━━━━━━━━━━━━━━━━━━━━━━━━━━━\u001b[0m \u001b[32m54.7/54.7 kB\u001b[0m \u001b[31m2.5 MB/s\u001b[0m eta \u001b[36m0:00:00\u001b[0m\r\n",
      "\u001b[?25hDownloading langchain_core-0.3.34-py3-none-any.whl (412 kB)\r\n",
      "\u001b[2K   \u001b[90m━━━━━━━━━━━━━━━━━━━━━━━━━━━━━━━━━━━━━━━━\u001b[0m \u001b[32m413.0/413.0 kB\u001b[0m \u001b[31m19.0 MB/s\u001b[0m eta \u001b[36m0:00:00\u001b[0m\r\n",
      "\u001b[?25hInstalling collected packages: openai, langchain-core, langchain-openai\r\n",
      "  Attempting uninstall: openai\r\n",
      "    Found existing installation: openai 1.57.4\r\n",
      "    Uninstalling openai-1.57.4:\r\n",
      "      Successfully uninstalled openai-1.57.4\r\n",
      "  Attempting uninstall: langchain-core\r\n",
      "    Found existing installation: langchain-core 0.3.25\r\n",
      "    Uninstalling langchain-core-0.3.25:\r\n",
      "      Successfully uninstalled langchain-core-0.3.25\r\n",
      "Successfully installed langchain-core-0.3.34 langchain-openai-0.3.4 openai-1.58.1\r\n"
     ]
    }
   ],
   "source": [
    "!pip install latexify-py\n",
    "!pip install openai==1.58.1 langchain-core langchain-openai"
   ]
  },
  {
   "cell_type": "code",
   "execution_count": 2,
   "id": "3e469f89",
   "metadata": {
    "_kg_hide-input": true,
    "_kg_hide-output": true,
    "execution": {
     "iopub.execute_input": "2025-02-08T13:31:56.452770Z",
     "iopub.status.busy": "2025-02-08T13:31:56.452236Z",
     "iopub.status.idle": "2025-02-08T13:31:59.563073Z",
     "shell.execute_reply": "2025-02-08T13:31:59.561817Z"
    },
    "papermill": {
     "duration": 3.126703,
     "end_time": "2025-02-08T13:31:59.565436",
     "exception": false,
     "start_time": "2025-02-08T13:31:56.438733",
     "status": "completed"
    },
    "tags": []
   },
   "outputs": [],
   "source": [
    "import math\n",
    "import latexify\n",
    "from IPython.display import display, Math, Latex\n",
    "from sympy import *"
   ]
  },
  {
   "cell_type": "markdown",
   "id": "662f7963",
   "metadata": {
    "papermill": {
     "duration": 0.012339,
     "end_time": "2025-02-08T13:31:59.601147",
     "exception": false,
     "start_time": "2025-02-08T13:31:59.588808",
     "status": "completed"
    },
    "tags": []
   },
   "source": [
    "# 1. Latex"
   ]
  },
  {
   "cell_type": "markdown",
   "id": "ed5a8fdc",
   "metadata": {
    "papermill": {
     "duration": 0.014093,
     "end_time": "2025-02-08T13:31:59.628586",
     "exception": false,
     "start_time": "2025-02-08T13:31:59.614493",
     "status": "completed"
    },
    "tags": []
   },
   "source": [
    "Euler's formula is $e^{i\\pi} + 1 = 0$."
   ]
  },
  {
   "cell_type": "markdown",
   "id": "8add6914",
   "metadata": {
    "execution": {
     "iopub.execute_input": "2025-01-21T16:12:10.832475Z",
     "iopub.status.busy": "2025-01-21T16:12:10.832147Z",
     "iopub.status.idle": "2025-01-21T16:12:10.839196Z",
     "shell.execute_reply": "2025-01-21T16:12:10.837714Z",
     "shell.execute_reply.started": "2025-01-21T16:12:10.832444Z"
    },
    "papermill": {
     "duration": 0.011713,
     "end_time": "2025-02-08T13:31:59.652850",
     "exception": false,
     "start_time": "2025-02-08T13:31:59.641137",
     "status": "completed"
    },
    "tags": []
   },
   "source": [
    "$$\\int_{a}^{b} x^2 \\,dx = \\frac{b^3}{3} - \\frac{a^3}{3}$$"
   ]
  },
  {
   "cell_type": "markdown",
   "id": "d32837de",
   "metadata": {
    "papermill": {
     "duration": 0.01267,
     "end_time": "2025-02-08T13:31:59.677511",
     "exception": false,
     "start_time": "2025-02-08T13:31:59.664841",
     "status": "completed"
    },
    "tags": []
   },
   "source": [
    "## LaTeX Commands"
   ]
  },
  {
   "cell_type": "markdown",
   "id": "b7bedee8",
   "metadata": {
    "papermill": {
     "duration": 0.011564,
     "end_time": "2025-02-08T13:31:59.701589",
     "exception": false,
     "start_time": "2025-02-08T13:31:59.690025",
     "status": "completed"
    },
    "tags": []
   },
   "source": [
    "- Superscripts and Subscripts : $x_i^2$\n",
    "- Fractions:    $\\frac{a}{b}$\n",
    "- Square Roots: $\\sqrt[n]{x}$\n",
    "- Greek Letters: $\\alpha, \\beta, \\gamma$\n",
    "- Integrals:\t$\\int_{a}^{b} x^2 \\,dx$\n",
    "- Summation:\t$\\sum_{i=1}^{n} i^2$\n",
    "- Products: $\\prod_{i=1}^{n} i^2$\n",
    "- Limits\t$\\lim_{x \\to \\infty} f(x)$"
   ]
  },
  {
   "cell_type": "markdown",
   "id": "1ba5dcfb",
   "metadata": {
    "papermill": {
     "duration": 0.011789,
     "end_time": "2025-02-08T13:31:59.725299",
     "exception": false,
     "start_time": "2025-02-08T13:31:59.713510",
     "status": "completed"
    },
    "tags": []
   },
   "source": [
    "## Latex equation examples"
   ]
  },
  {
   "cell_type": "markdown",
   "id": "e0a0bfd2",
   "metadata": {
    "papermill": {
     "duration": 0.011852,
     "end_time": "2025-02-08T13:31:59.749203",
     "exception": false,
     "start_time": "2025-02-08T13:31:59.737351",
     "status": "completed"
    },
    "tags": []
   },
   "source": [
    "**Different Types of Means:**\n",
    "\n",
    "1. Arithmetic Mean: $\\bar{x} = \\frac{1}{n} \\sum_{i=1}^n x_i$\n",
    "2. Geometric Mean: $G = \\left( \\prod_{i=1}^n x_i \\right)^{\\frac{1}{n}}$\n",
    "3. Harmonic Mean: $H = \\frac{n}{\\sum_{i=1}^n \\frac{1}{x_i}}$\n",
    "4. Quadratic Mean (RMS): $Q = \\sqrt{\\frac{1}{n} \\sum_{i=1}^n x_i^2}$"
   ]
  },
  {
   "cell_type": "code",
   "execution_count": 3,
   "id": "2d62eb35",
   "metadata": {
    "execution": {
     "iopub.execute_input": "2025-02-08T13:31:59.774653Z",
     "iopub.status.busy": "2025-02-08T13:31:59.774175Z",
     "iopub.status.idle": "2025-02-08T13:31:59.781433Z",
     "shell.execute_reply": "2025-02-08T13:31:59.780312Z"
    },
    "papermill": {
     "duration": 0.022095,
     "end_time": "2025-02-08T13:31:59.783218",
     "exception": false,
     "start_time": "2025-02-08T13:31:59.761123",
     "status": "completed"
    },
    "tags": []
   },
   "outputs": [
    {
     "data": {
      "text/latex": [
       "\\(\\sqrt[3]x\\)"
      ],
      "text/plain": [
       "<IPython.core.display.Latex object>"
      ]
     },
     "metadata": {},
     "output_type": "display_data"
    }
   ],
   "source": [
    "display(Latex(f'\\(\\sqrt[{3}]x\\)'))"
   ]
  },
  {
   "cell_type": "code",
   "execution_count": 4,
   "id": "27a41512",
   "metadata": {
    "execution": {
     "iopub.execute_input": "2025-02-08T13:31:59.808845Z",
     "iopub.status.busy": "2025-02-08T13:31:59.808510Z",
     "iopub.status.idle": "2025-02-08T13:31:59.821374Z",
     "shell.execute_reply": "2025-02-08T13:31:59.820388Z"
    },
    "papermill": {
     "duration": 0.027534,
     "end_time": "2025-02-08T13:31:59.823002",
     "exception": false,
     "start_time": "2025-02-08T13:31:59.795468",
     "status": "completed"
    },
    "tags": []
   },
   "outputs": [
    {
     "data": {
      "text/latex": [
       "$\\displaystyle \\text{Euler's formula is: } $e^{i\\pi} + 1 = 0$.$"
      ],
      "text/plain": [
       "<IPython.core.display.Math object>"
      ]
     },
     "metadata": {},
     "output_type": "display_data"
    },
    {
     "data": {
      "text/latex": [
       "$\\displaystyle \\text{Arithmetic Mean: } \\bar{x} = \\frac{1}{n} \\sum_{i=1}^n x_i$"
      ],
      "text/plain": [
       "<IPython.core.display.Math object>"
      ]
     },
     "metadata": {},
     "output_type": "display_data"
    },
    {
     "data": {
      "text/latex": [
       "$\\displaystyle \\text{Geometric Mean: } G = \\left( \\prod_{i=1}^n x_i \\right)^{\\frac{1}{n}}$"
      ],
      "text/plain": [
       "<IPython.core.display.Math object>"
      ]
     },
     "metadata": {},
     "output_type": "display_data"
    },
    {
     "data": {
      "text/latex": [
       "$\\displaystyle \\text{Harmonic Mean: } H = \\frac{n}{\\sum_{i=1}^n \\frac{1}{x_i}}$"
      ],
      "text/plain": [
       "<IPython.core.display.Math object>"
      ]
     },
     "metadata": {},
     "output_type": "display_data"
    },
    {
     "data": {
      "text/latex": [
       "$\\displaystyle \\text{Quadratic Mean: } Q = \\sqrt{\\frac{1}{n} \\sum_{i=1}^n x_i^2}$"
      ],
      "text/plain": [
       "<IPython.core.display.Math object>"
      ]
     },
     "metadata": {},
     "output_type": "display_data"
    }
   ],
   "source": [
    "display(Math(r\"\\text{Euler's formula is: } $e^{i\\pi} + 1 = 0$.\"))\n",
    "display(Math(r\"\\text{Arithmetic Mean: } \\bar{x} = \\frac{1}{n} \\sum_{i=1}^n x_i\"))\n",
    "display(Math(r\"\\text{Geometric Mean: } G = \\left( \\prod_{i=1}^n x_i \\right)^{\\frac{1}{n}}\"))\n",
    "display(Math(r\"\\text{Harmonic Mean: } H = \\frac{n}{\\sum_{i=1}^n \\frac{1}{x_i}}\"))\n",
    "display(Math(r\"\\text{Quadratic Mean: } Q = \\sqrt{\\frac{1}{n} \\sum_{i=1}^n x_i^2}\"))"
   ]
  },
  {
   "cell_type": "markdown",
   "id": "a32c6f68",
   "metadata": {
    "execution": {
     "iopub.execute_input": "2025-01-21T19:40:38.763666Z",
     "iopub.status.busy": "2025-01-21T19:40:38.763279Z",
     "iopub.status.idle": "2025-01-21T19:40:38.77113Z",
     "shell.execute_reply": "2025-01-21T19:40:38.769264Z",
     "shell.execute_reply.started": "2025-01-21T19:40:38.763634Z"
    },
    "papermill": {
     "duration": 0.012188,
     "end_time": "2025-02-08T13:31:59.847964",
     "exception": false,
     "start_time": "2025-02-08T13:31:59.835776",
     "status": "completed"
    },
    "tags": []
   },
   "source": [
    "$$\\text{simplify: } t \\cdot \\sqrt[3]{2t^2} + \\sqrt[3]{2t^5} + \\sqrt[3]{54t^2}$$"
   ]
  },
  {
   "cell_type": "code",
   "execution_count": 5,
   "id": "79e56d36",
   "metadata": {
    "execution": {
     "iopub.execute_input": "2025-02-08T13:31:59.875040Z",
     "iopub.status.busy": "2025-02-08T13:31:59.874613Z",
     "iopub.status.idle": "2025-02-08T13:31:59.881244Z",
     "shell.execute_reply": "2025-02-08T13:31:59.879913Z"
    },
    "papermill": {
     "duration": 0.022282,
     "end_time": "2025-02-08T13:31:59.882993",
     "exception": false,
     "start_time": "2025-02-08T13:31:59.860711",
     "status": "completed"
    },
    "tags": []
   },
   "outputs": [
    {
     "data": {
      "text/latex": [
       "$\\displaystyle \\text{simplify: } t \\cdot \\sqrt[3]{2t^2} + \\sqrt[3]{2t^5} + \\sqrt[3]{54t^2}$"
      ],
      "text/plain": [
       "<IPython.core.display.Math object>"
      ]
     },
     "metadata": {},
     "output_type": "display_data"
    }
   ],
   "source": [
    "display(Math(r\"\\text{simplify: } t \\cdot \\sqrt[3]{2t^2} + \\sqrt[3]{2t^5} + \\sqrt[3]{54t^2}\"))"
   ]
  },
  {
   "cell_type": "markdown",
   "id": "fb6da4a1",
   "metadata": {
    "papermill": {
     "duration": 0.014004,
     "end_time": "2025-02-08T13:31:59.910292",
     "exception": false,
     "start_time": "2025-02-08T13:31:59.896288",
     "status": "completed"
    },
    "tags": []
   },
   "source": [
    "# 2. Sympy"
   ]
  },
  {
   "cell_type": "markdown",
   "id": "a8a5c7e2",
   "metadata": {
    "papermill": {
     "duration": 0.012776,
     "end_time": "2025-02-08T13:31:59.936589",
     "exception": false,
     "start_time": "2025-02-08T13:31:59.923813",
     "status": "completed"
    },
    "tags": []
   },
   "source": [
    "[Sympy](https://www.sympy.org/en/index.html) is a Python library for symbolic mathematics. It aims to become a full-featured computer algebra system (CAS) while keeping the code as simple as possible in order to be comprehensible and easily extensible. SymPy is written entirely in Python."
   ]
  },
  {
   "cell_type": "code",
   "execution_count": 6,
   "id": "5983ec4f",
   "metadata": {
    "execution": {
     "iopub.execute_input": "2025-02-08T13:31:59.963445Z",
     "iopub.status.busy": "2025-02-08T13:31:59.963097Z",
     "iopub.status.idle": "2025-02-08T13:31:59.971165Z",
     "shell.execute_reply": "2025-02-08T13:31:59.970034Z"
    },
    "papermill": {
     "duration": 0.02377,
     "end_time": "2025-02-08T13:31:59.973040",
     "exception": false,
     "start_time": "2025-02-08T13:31:59.949270",
     "status": "completed"
    },
    "tags": []
   },
   "outputs": [
    {
     "data": {
      "text/latex": [
       "$\\displaystyle \\sqrt[3]{x}$"
      ],
      "text/plain": [
       "x**(1/3)"
      ]
     },
     "execution_count": 6,
     "metadata": {},
     "output_type": "execute_result"
    }
   ],
   "source": [
    "x = symbols('x')\n",
    "cube_root = root(x, 3)\n",
    "cube_root"
   ]
  },
  {
   "cell_type": "code",
   "execution_count": 7,
   "id": "e207f1b8",
   "metadata": {
    "execution": {
     "iopub.execute_input": "2025-02-08T13:32:00.000364Z",
     "iopub.status.busy": "2025-02-08T13:31:59.999889Z",
     "iopub.status.idle": "2025-02-08T13:32:00.253686Z",
     "shell.execute_reply": "2025-02-08T13:32:00.252507Z"
    },
    "papermill": {
     "duration": 0.269569,
     "end_time": "2025-02-08T13:32:00.255651",
     "exception": false,
     "start_time": "2025-02-08T13:31:59.986082",
     "status": "completed"
    },
    "tags": []
   },
   "outputs": [
    {
     "data": {
      "text/latex": [
       "$\\displaystyle x + 1$"
      ],
      "text/plain": [
       "x + 1"
      ]
     },
     "execution_count": 7,
     "metadata": {},
     "output_type": "execute_result"
    }
   ],
   "source": [
    "x = symbols('x')\n",
    "expr = x + 1\n",
    "expr"
   ]
  },
  {
   "cell_type": "code",
   "execution_count": 8,
   "id": "e384318e",
   "metadata": {
    "execution": {
     "iopub.execute_input": "2025-02-08T13:32:00.283122Z",
     "iopub.status.busy": "2025-02-08T13:32:00.282715Z",
     "iopub.status.idle": "2025-02-08T13:32:00.293403Z",
     "shell.execute_reply": "2025-02-08T13:32:00.292294Z"
    },
    "papermill": {
     "duration": 0.026133,
     "end_time": "2025-02-08T13:32:00.294975",
     "exception": false,
     "start_time": "2025-02-08T13:32:00.268842",
     "status": "completed"
    },
    "tags": []
   },
   "outputs": [
    {
     "data": {
      "text/latex": [
       "$\\displaystyle \\frac{x \\sqrt[3]{y^{2}}}{4}$"
      ],
      "text/plain": [
       "x*(y**2)**(1/3)/4"
      ]
     },
     "execution_count": 8,
     "metadata": {},
     "output_type": "execute_result"
    }
   ],
   "source": [
    "x = symbols('x')\n",
    "y = symbols('y')\n",
    "expr = (x * root(y**2, 3)) / 4\n",
    "expr"
   ]
  },
  {
   "cell_type": "code",
   "execution_count": 9,
   "id": "7dbad3d4",
   "metadata": {
    "execution": {
     "iopub.execute_input": "2025-02-08T13:32:00.323685Z",
     "iopub.status.busy": "2025-02-08T13:32:00.323308Z",
     "iopub.status.idle": "2025-02-08T13:32:00.332024Z",
     "shell.execute_reply": "2025-02-08T13:32:00.330730Z"
    },
    "papermill": {
     "duration": 0.025408,
     "end_time": "2025-02-08T13:32:00.334166",
     "exception": false,
     "start_time": "2025-02-08T13:32:00.308758",
     "status": "completed"
    },
    "tags": []
   },
   "outputs": [
    {
     "data": {
      "text/latex": [
       "$\\displaystyle x^{3} + 4 x y - z$"
      ],
      "text/plain": [
       "x**3 + 4*x*y - z"
      ]
     },
     "execution_count": 9,
     "metadata": {},
     "output_type": "execute_result"
    }
   ],
   "source": [
    "z = symbols('z')\n",
    "expr = x**3 + 4*x*y - z\n",
    "expr"
   ]
  },
  {
   "cell_type": "code",
   "execution_count": 10,
   "id": "8290f220",
   "metadata": {
    "execution": {
     "iopub.execute_input": "2025-02-08T13:32:00.363269Z",
     "iopub.status.busy": "2025-02-08T13:32:00.362801Z",
     "iopub.status.idle": "2025-02-08T13:32:00.591559Z",
     "shell.execute_reply": "2025-02-08T13:32:00.590448Z"
    },
    "papermill": {
     "duration": 0.24506,
     "end_time": "2025-02-08T13:32:00.593190",
     "exception": false,
     "start_time": "2025-02-08T13:32:00.348130",
     "status": "completed"
    },
    "tags": []
   },
   "outputs": [
    {
     "data": {
      "text/latex": [
       "$\\displaystyle t \\sqrt[3]{t^{2}}$"
      ],
      "text/plain": [
       "t*(t**2)**(1/3)"
      ]
     },
     "execution_count": 10,
     "metadata": {},
     "output_type": "execute_result"
    }
   ],
   "source": [
    "t = symbols('t')\n",
    "expr = t * root((t**2), 3)\n",
    "simplify(expr)"
   ]
  },
  {
   "cell_type": "code",
   "execution_count": 11,
   "id": "4e5eadd6",
   "metadata": {
    "execution": {
     "iopub.execute_input": "2025-02-08T13:32:00.622117Z",
     "iopub.status.busy": "2025-02-08T13:32:00.621657Z",
     "iopub.status.idle": "2025-02-08T13:32:00.629856Z",
     "shell.execute_reply": "2025-02-08T13:32:00.628807Z"
    },
    "papermill": {
     "duration": 0.025133,
     "end_time": "2025-02-08T13:32:00.631699",
     "exception": false,
     "start_time": "2025-02-08T13:32:00.606566",
     "status": "completed"
    },
    "tags": []
   },
   "outputs": [
    {
     "data": {
      "text/latex": [
       "$\\displaystyle \\sqrt[3]{2} t \\sqrt[3]{t^{2}}$"
      ],
      "text/plain": [
       "2**(1/3)*t*(t**2)**(1/3)"
      ]
     },
     "execution_count": 11,
     "metadata": {},
     "output_type": "execute_result"
    }
   ],
   "source": [
    "from sympy import symbols, root\n",
    "\n",
    "# Define the variable\n",
    "t = symbols('t')\n",
    "\n",
    "# Define the expression\n",
    "expr = t * root(2 * t**2, 3)\n",
    "\n",
    "expr\n",
    "\n"
   ]
  },
  {
   "cell_type": "code",
   "execution_count": 12,
   "id": "f1953e3d",
   "metadata": {
    "execution": {
     "iopub.execute_input": "2025-02-08T13:32:00.660697Z",
     "iopub.status.busy": "2025-02-08T13:32:00.660359Z",
     "iopub.status.idle": "2025-02-08T13:32:00.681223Z",
     "shell.execute_reply": "2025-02-08T13:32:00.680232Z"
    },
    "papermill": {
     "duration": 0.037679,
     "end_time": "2025-02-08T13:32:00.683050",
     "exception": false,
     "start_time": "2025-02-08T13:32:00.645371",
     "status": "completed"
    },
    "tags": []
   },
   "outputs": [
    {
     "name": "stdout",
     "output_type": "stream",
     "text": [
      "Expression: 2**(1/3)*t*(t**2)**(1/3)\n",
      "Simplified Expression: 2**(1/3)*t*(t**2)**(1/3)\n"
     ]
    }
   ],
   "source": [
    "from sympy import symbols, root\n",
    "\n",
    "# Define the variable\n",
    "t = symbols('t')\n",
    "\n",
    "# Define the expression directly as t multiplied by the cubic root of (2 * t^2)\n",
    "expr = t * root(2 * t**2, 3)\n",
    "\n",
    "# Simplify the expression (optional)\n",
    "simplified_expr = expr.simplify()\n",
    "\n",
    "# Display the expressions\n",
    "print(f\"Expression: {expr}\")\n",
    "print(f\"Simplified Expression: {simplified_expr}\")"
   ]
  },
  {
   "cell_type": "code",
   "execution_count": 13,
   "id": "05d93a6e",
   "metadata": {
    "execution": {
     "iopub.execute_input": "2025-02-08T13:32:00.711828Z",
     "iopub.status.busy": "2025-02-08T13:32:00.711475Z",
     "iopub.status.idle": "2025-02-08T13:32:00.718314Z",
     "shell.execute_reply": "2025-02-08T13:32:00.717033Z"
    },
    "papermill": {
     "duration": 0.023511,
     "end_time": "2025-02-08T13:32:00.720171",
     "exception": false,
     "start_time": "2025-02-08T13:32:00.696660",
     "status": "completed"
    },
    "tags": []
   },
   "outputs": [
    {
     "data": {
      "text/latex": [
       "$\\displaystyle \\sqrt[3]{2} t \\sqrt[3]{t^{2}}$"
      ],
      "text/plain": [
       "2**(1/3)*t*(t**2)**(1/3)"
      ]
     },
     "execution_count": 13,
     "metadata": {},
     "output_type": "execute_result"
    }
   ],
   "source": [
    "expr"
   ]
  },
  {
   "cell_type": "code",
   "execution_count": 14,
   "id": "f79b892c",
   "metadata": {
    "execution": {
     "iopub.execute_input": "2025-02-08T13:32:00.750305Z",
     "iopub.status.busy": "2025-02-08T13:32:00.749958Z",
     "iopub.status.idle": "2025-02-08T13:32:00.762959Z",
     "shell.execute_reply": "2025-02-08T13:32:00.761762Z"
    },
    "papermill": {
     "duration": 0.030658,
     "end_time": "2025-02-08T13:32:00.764626",
     "exception": false,
     "start_time": "2025-02-08T13:32:00.733968",
     "status": "completed"
    },
    "tags": []
   },
   "outputs": [
    {
     "name": "stdout",
     "output_type": "stream",
     "text": [
      "Expression: 2**(1/3)*t*(t**2)**(1/3)\n",
      "Simplified Expression: 2**(1/3)*t*(t**2)**(1/3)\n"
     ]
    }
   ],
   "source": [
    "# Simplify the expression (optional)\n",
    "simplified_expr = expr.simplify()\n",
    "\n",
    "# Display the expressions\n",
    "print(f\"Expression: {expr}\")\n",
    "print(f\"Simplified Expression: {simplified_expr}\")"
   ]
  },
  {
   "cell_type": "code",
   "execution_count": 15,
   "id": "7268fcc6",
   "metadata": {
    "execution": {
     "iopub.execute_input": "2025-02-08T13:32:00.793882Z",
     "iopub.status.busy": "2025-02-08T13:32:00.793528Z",
     "iopub.status.idle": "2025-02-08T13:32:00.820097Z",
     "shell.execute_reply": "2025-02-08T13:32:00.819005Z"
    },
    "papermill": {
     "duration": 0.043493,
     "end_time": "2025-02-08T13:32:00.821999",
     "exception": false,
     "start_time": "2025-02-08T13:32:00.778506",
     "status": "completed"
    },
    "tags": []
   },
   "outputs": [
    {
     "data": {
      "text/latex": [
       "$\\displaystyle 2 x^{2} + 2 x + 1$"
      ],
      "text/plain": [
       "2*x**2 + 2*x + 1"
      ]
     },
     "execution_count": 15,
     "metadata": {},
     "output_type": "execute_result"
    }
   ],
   "source": [
    "simplify(2*x**2 + 2*x + 1)"
   ]
  },
  {
   "cell_type": "code",
   "execution_count": 16,
   "id": "d56eb528",
   "metadata": {
    "execution": {
     "iopub.execute_input": "2025-02-08T13:32:00.851824Z",
     "iopub.status.busy": "2025-02-08T13:32:00.851468Z",
     "iopub.status.idle": "2025-02-08T13:32:00.862261Z",
     "shell.execute_reply": "2025-02-08T13:32:00.861040Z"
    },
    "papermill": {
     "duration": 0.028229,
     "end_time": "2025-02-08T13:32:00.864233",
     "exception": false,
     "start_time": "2025-02-08T13:32:00.836004",
     "status": "completed"
    },
    "tags": []
   },
   "outputs": [
    {
     "data": {
      "text/latex": [
       "$\\displaystyle \\sqrt[3]{2} t \\sqrt[3]{t^{2}} + \\sqrt[3]{2} \\sqrt[3]{t^{5}}$"
      ],
      "text/plain": [
       "2**(1/3)*t*(t**2)**(1/3) + 2**(1/3)*(t**5)**(1/3)"
      ]
     },
     "execution_count": 16,
     "metadata": {},
     "output_type": "execute_result"
    }
   ],
   "source": [
    "from sympy import symbols, root\n",
    "\n",
    "# Define the variable\n",
    "t = symbols('t')\n",
    "\n",
    "# Define the expression directly as t multiplied by the cubic root of (2 * t^2)\n",
    "expr = t * root(2 * t**2, 3) + root(2 * t**5, 3)\n",
    "\n",
    "expr "
   ]
  },
  {
   "cell_type": "code",
   "execution_count": 17,
   "id": "07366d32",
   "metadata": {
    "execution": {
     "iopub.execute_input": "2025-02-08T13:32:00.894145Z",
     "iopub.status.busy": "2025-02-08T13:32:00.893730Z",
     "iopub.status.idle": "2025-02-08T13:32:00.932484Z",
     "shell.execute_reply": "2025-02-08T13:32:00.931410Z"
    },
    "papermill": {
     "duration": 0.055808,
     "end_time": "2025-02-08T13:32:00.934473",
     "exception": false,
     "start_time": "2025-02-08T13:32:00.878665",
     "status": "completed"
    },
    "tags": []
   },
   "outputs": [
    {
     "name": "stdout",
     "output_type": "stream",
     "text": [
      "Expression: 2**(1/3)*t*(t**2)**(1/3) + 2**(1/3)*(t**5)**(1/3)\n",
      "Simplified Expression: 2**(1/3)*(t*(t**2)**(1/3) + (t**5)**(1/3))\n"
     ]
    }
   ],
   "source": [
    "# Simplify the expression (optional)\n",
    "simplified_expr = expr.simplify()\n",
    "\n",
    "# Display the expressions\n",
    "print(f\"Expression: {expr}\")\n",
    "print(f\"Simplified Expression: {simplified_expr}\")"
   ]
  },
  {
   "cell_type": "code",
   "execution_count": 18,
   "id": "213b70f7",
   "metadata": {
    "execution": {
     "iopub.execute_input": "2025-02-08T13:32:00.964482Z",
     "iopub.status.busy": "2025-02-08T13:32:00.964116Z",
     "iopub.status.idle": "2025-02-08T13:32:00.975156Z",
     "shell.execute_reply": "2025-02-08T13:32:00.974064Z"
    },
    "papermill": {
     "duration": 0.02834,
     "end_time": "2025-02-08T13:32:00.977221",
     "exception": false,
     "start_time": "2025-02-08T13:32:00.948881",
     "status": "completed"
    },
    "tags": []
   },
   "outputs": [
    {
     "data": {
      "text/latex": [
       "$\\displaystyle \\sqrt[3]{2} t \\sqrt[3]{t^{2}} + 3 \\sqrt[3]{2} \\sqrt[3]{t^{2}} + \\sqrt[3]{2} \\sqrt[3]{t^{5}}$"
      ],
      "text/plain": [
       "2**(1/3)*t*(t**2)**(1/3) + 3*2**(1/3)*(t**2)**(1/3) + 2**(1/3)*(t**5)**(1/3)"
      ]
     },
     "execution_count": 18,
     "metadata": {},
     "output_type": "execute_result"
    }
   ],
   "source": [
    "from sympy import symbols, simplify, cbrt\n",
    "\n",
    "# Define the variable\n",
    "t = symbols('t')\n",
    "\n",
    "# Define the expression\n",
    "expr = t * cbrt(2 * t**2) + cbrt(2 * t**5) + cbrt(54 * t**2)\n",
    "expr"
   ]
  },
  {
   "cell_type": "code",
   "execution_count": 19,
   "id": "49b56d40",
   "metadata": {
    "execution": {
     "iopub.execute_input": "2025-02-08T13:32:01.008144Z",
     "iopub.status.busy": "2025-02-08T13:32:01.007583Z",
     "iopub.status.idle": "2025-02-08T13:32:01.048294Z",
     "shell.execute_reply": "2025-02-08T13:32:01.047032Z"
    },
    "papermill": {
     "duration": 0.058338,
     "end_time": "2025-02-08T13:32:01.050461",
     "exception": false,
     "start_time": "2025-02-08T13:32:00.992123",
     "status": "completed"
    },
    "tags": []
   },
   "outputs": [
    {
     "data": {
      "text/latex": [
       "$\\displaystyle \\sqrt[3]{2} \\left(t \\sqrt[3]{t^{2}} + 3 \\sqrt[3]{t^{2}} + \\sqrt[3]{t^{5}}\\right)$"
      ],
      "text/plain": [
       "2**(1/3)*(t*(t**2)**(1/3) + 3*(t**2)**(1/3) + (t**5)**(1/3))"
      ]
     },
     "execution_count": 19,
     "metadata": {},
     "output_type": "execute_result"
    }
   ],
   "source": [
    "# Simplify the expression\n",
    "simplified_expr = simplify(expr)\n",
    "\n",
    "# Display the simplified expression\n",
    "simplified_expr"
   ]
  },
  {
   "cell_type": "markdown",
   "id": "e120060e",
   "metadata": {
    "papermill": {
     "duration": 0.013782,
     "end_time": "2025-02-08T13:32:01.078405",
     "exception": false,
     "start_time": "2025-02-08T13:32:01.064623",
     "status": "completed"
    },
    "tags": []
   },
   "source": [
    "# 3. Latexify"
   ]
  },
  {
   "cell_type": "markdown",
   "id": "07b3a674",
   "metadata": {
    "papermill": {
     "duration": 0.014483,
     "end_time": "2025-02-08T13:32:01.107612",
     "exception": false,
     "start_time": "2025-02-08T13:32:01.093129",
     "status": "completed"
    },
    "tags": []
   },
   "source": [
    "- [Python Latexify Library | Compile Python Code to Math Expression | Use LaTeX in Python | Clean Code](https://www.youtube.com/watch?v=tm8ftWAldI8)"
   ]
  },
  {
   "cell_type": "code",
   "execution_count": 20,
   "id": "a61a4544",
   "metadata": {
    "execution": {
     "iopub.execute_input": "2025-02-08T13:32:01.137656Z",
     "iopub.status.busy": "2025-02-08T13:32:01.137241Z",
     "iopub.status.idle": "2025-02-08T13:32:01.146086Z",
     "shell.execute_reply": "2025-02-08T13:32:01.144866Z"
    },
    "papermill": {
     "duration": 0.026139,
     "end_time": "2025-02-08T13:32:01.148098",
     "exception": false,
     "start_time": "2025-02-08T13:32:01.121959",
     "status": "completed"
    },
    "tags": []
   },
   "outputs": [
    {
     "data": {
      "text/latex": [
       "$\\displaystyle \\mathrm{custom\\_function}(x) = x^{2} + 2 x + 1$"
      ],
      "text/plain": [
       "<IPython.core.display.Math object>"
      ]
     },
     "execution_count": 20,
     "metadata": {},
     "output_type": "execute_result"
    }
   ],
   "source": [
    "def custom_function(x):\n",
    "    return x ** 2 + 2 * x + 1\n",
    "\n",
    "latex_expression = latexify.get_latex(custom_function)\n",
    "Math(latex_expression)"
   ]
  },
  {
   "cell_type": "code",
   "execution_count": 21,
   "id": "cf4259fe",
   "metadata": {
    "execution": {
     "iopub.execute_input": "2025-02-08T13:32:01.178526Z",
     "iopub.status.busy": "2025-02-08T13:32:01.178088Z",
     "iopub.status.idle": "2025-02-08T13:32:01.185236Z",
     "shell.execute_reply": "2025-02-08T13:32:01.184177Z"
    },
    "papermill": {
     "duration": 0.024469,
     "end_time": "2025-02-08T13:32:01.187002",
     "exception": false,
     "start_time": "2025-02-08T13:32:01.162533",
     "status": "completed"
    },
    "tags": []
   },
   "outputs": [
    {
     "name": "stdout",
     "output_type": "stream",
     "text": [
      "-1.0\n"
     ]
    }
   ],
   "source": [
    "def solve(a, b, c):\n",
    "    return (-b + math.sqrt(b**2 - 4*a*c)) / (2*a)\n",
    "\n",
    "latex_expression = latexify.get_latex(solve)\n",
    "Math(latex_expression)\n",
    "\n",
    "print(solve(1, 4, 3))"
   ]
  },
  {
   "cell_type": "code",
   "execution_count": 22,
   "id": "8e523a1b",
   "metadata": {
    "execution": {
     "iopub.execute_input": "2025-02-08T13:32:01.217374Z",
     "iopub.status.busy": "2025-02-08T13:32:01.216960Z",
     "iopub.status.idle": "2025-02-08T13:32:01.224080Z",
     "shell.execute_reply": "2025-02-08T13:32:01.223180Z"
    },
    "papermill": {
     "duration": 0.024244,
     "end_time": "2025-02-08T13:32:01.225812",
     "exception": false,
     "start_time": "2025-02-08T13:32:01.201568",
     "status": "completed"
    },
    "tags": []
   },
   "outputs": [
    {
     "data": {
      "text/latex": [
       "$\\displaystyle \\mathrm{solve}(x) = 5 \\sqrt{ x }$"
      ],
      "text/plain": [
       "<IPython.core.display.Math object>"
      ]
     },
     "execution_count": 22,
     "metadata": {},
     "output_type": "execute_result"
    }
   ],
   "source": [
    "def solve(x):\n",
    "    return (5*math.sqrt(x))\n",
    "\n",
    "latex_expression = latexify.get_latex(solve)\n",
    "Math(latex_expression)"
   ]
  },
  {
   "cell_type": "code",
   "execution_count": 23,
   "id": "a7a04ee9",
   "metadata": {
    "execution": {
     "iopub.execute_input": "2025-02-08T13:32:01.256036Z",
     "iopub.status.busy": "2025-02-08T13:32:01.255595Z",
     "iopub.status.idle": "2025-02-08T13:32:01.261945Z",
     "shell.execute_reply": "2025-02-08T13:32:01.260956Z"
    },
    "papermill": {
     "duration": 0.023236,
     "end_time": "2025-02-08T13:32:01.263644",
     "exception": false,
     "start_time": "2025-02-08T13:32:01.240408",
     "status": "completed"
    },
    "tags": []
   },
   "outputs": [
    {
     "data": {
      "text/plain": [
       "10.0"
      ]
     },
     "execution_count": 23,
     "metadata": {},
     "output_type": "execute_result"
    }
   ],
   "source": [
    "solve(4)"
   ]
  },
  {
   "cell_type": "code",
   "execution_count": 24,
   "id": "42af5d76",
   "metadata": {
    "execution": {
     "iopub.execute_input": "2025-02-08T13:32:01.295246Z",
     "iopub.status.busy": "2025-02-08T13:32:01.294806Z",
     "iopub.status.idle": "2025-02-08T13:32:01.303356Z",
     "shell.execute_reply": "2025-02-08T13:32:01.302063Z"
    },
    "papermill": {
     "duration": 0.025925,
     "end_time": "2025-02-08T13:32:01.305119",
     "exception": false,
     "start_time": "2025-02-08T13:32:01.279194",
     "status": "completed"
    },
    "tags": []
   },
   "outputs": [
    {
     "data": {
      "text/latex": [
       "$\\displaystyle \\mathrm{solve}(t) = t \\cdot \\mathopen{}\\left( 2 t^{2} \\mathclose{}\\right)^{\\frac{1}{3}} + \\mathopen{}\\left( 2 t^{5} \\mathclose{}\\right)^{\\frac{1}{3}} + \\mathopen{}\\left( 54 t^{2} \\mathclose{}\\right)^{\\frac{1}{3}}$"
      ],
      "text/plain": [
       "<IPython.core.display.Math object>"
      ]
     },
     "execution_count": 24,
     "metadata": {},
     "output_type": "execute_result"
    }
   ],
   "source": [
    "def solve(t):\n",
    "    return t * (2 * t**2)**(1/3) + (2 * t**5)**(1/3) + (54 * t**2)**(1/3)\n",
    "    \n",
    "latex_expression = latexify.get_latex(solve)\n",
    "Math(latex_expression)"
   ]
  },
  {
   "cell_type": "markdown",
   "id": "eccc4d0a",
   "metadata": {
    "papermill": {
     "duration": 0.014883,
     "end_time": "2025-02-08T13:32:01.334580",
     "exception": false,
     "start_time": "2025-02-08T13:32:01.319697",
     "status": "completed"
    },
    "tags": []
   },
   "source": [
    "# 4. Use LLMs to solve Math problem"
   ]
  },
  {
   "cell_type": "markdown",
   "id": "872ebb59",
   "metadata": {
    "papermill": {
     "duration": 0.014735,
     "end_time": "2025-02-08T13:32:01.364182",
     "exception": false,
     "start_time": "2025-02-08T13:32:01.349447",
     "status": "completed"
    },
    "tags": []
   },
   "source": [
    "## 4.1 OpenAI"
   ]
  },
  {
   "cell_type": "code",
   "execution_count": 25,
   "id": "80db5e78",
   "metadata": {
    "execution": {
     "iopub.execute_input": "2025-02-08T13:32:01.395840Z",
     "iopub.status.busy": "2025-02-08T13:32:01.395493Z",
     "iopub.status.idle": "2025-02-08T13:32:01.401906Z",
     "shell.execute_reply": "2025-02-08T13:32:01.400642Z"
    },
    "papermill": {
     "duration": 0.025215,
     "end_time": "2025-02-08T13:32:01.404124",
     "exception": false,
     "start_time": "2025-02-08T13:32:01.378909",
     "status": "completed"
    },
    "tags": []
   },
   "outputs": [
    {
     "data": {
      "text/latex": [
       "$\\displaystyle \\text{simplify: } t \\cdot \\sqrt[3]{2t^2} + \\sqrt[3]{2t^5} + \\sqrt[3]{54t^2}$"
      ],
      "text/plain": [
       "<IPython.core.display.Math object>"
      ]
     },
     "metadata": {},
     "output_type": "display_data"
    }
   ],
   "source": [
    "display(Math(r\"\\text{simplify: } t \\cdot \\sqrt[3]{2t^2} + \\sqrt[3]{2t^5} + \\sqrt[3]{54t^2}\"))"
   ]
  },
  {
   "cell_type": "code",
   "execution_count": 26,
   "id": "54f16592",
   "metadata": {
    "execution": {
     "iopub.execute_input": "2025-02-08T13:32:01.438755Z",
     "iopub.status.busy": "2025-02-08T13:32:01.438354Z",
     "iopub.status.idle": "2025-02-08T13:32:04.062715Z",
     "shell.execute_reply": "2025-02-08T13:32:04.061702Z"
    },
    "papermill": {
     "duration": 2.643249,
     "end_time": "2025-02-08T13:32:04.064748",
     "exception": false,
     "start_time": "2025-02-08T13:32:01.421499",
     "status": "completed"
    },
    "tags": []
   },
   "outputs": [],
   "source": [
    "import os\n",
    "import datetime\n",
    "import json\n",
    "import traceback\n",
    "\n",
    "## LLM\n",
    "from langchain_core.output_parsers import StrOutputParser\n",
    "from langchain_core.prompts import ChatPromptTemplate\n",
    "from langchain_openai import ChatOpenAI\n",
    "from langchain_core.messages import HumanMessage, SystemMessage\n",
    "\n",
    "from IPython.display import display, Markdown\n",
    "\n",
    "from kaggle_secrets import UserSecretsClient\n",
    "user_secrets = UserSecretsClient()\n",
    "OPENAI_API_KEY = user_secrets.get_secret(\"openai_key\")"
   ]
  },
  {
   "cell_type": "code",
   "execution_count": 27,
   "id": "39784bf4",
   "metadata": {
    "execution": {
     "iopub.execute_input": "2025-02-08T13:32:04.096820Z",
     "iopub.status.busy": "2025-02-08T13:32:04.096332Z",
     "iopub.status.idle": "2025-02-08T13:32:04.101084Z",
     "shell.execute_reply": "2025-02-08T13:32:04.099958Z"
    },
    "papermill": {
     "duration": 0.023066,
     "end_time": "2025-02-08T13:32:04.102843",
     "exception": false,
     "start_time": "2025-02-08T13:32:04.079777",
     "status": "completed"
    },
    "tags": []
   },
   "outputs": [],
   "source": [
    "BASE_LLM = 'gpt-4o-2024-05-13'\n",
    "ADVANCED_LLM = 'o3-mini'\n",
    "SELECTED_LLM = ADVANCED_LLM\n",
    "TEMPERATURE = 0\n",
    "MAX_TOKENS=3000"
   ]
  },
  {
   "cell_type": "code",
   "execution_count": 28,
   "id": "e40aa4c9",
   "metadata": {
    "execution": {
     "iopub.execute_input": "2025-02-08T13:32:04.135265Z",
     "iopub.status.busy": "2025-02-08T13:32:04.134660Z",
     "iopub.status.idle": "2025-02-08T13:32:04.139774Z",
     "shell.execute_reply": "2025-02-08T13:32:04.138397Z"
    },
    "papermill": {
     "duration": 0.023637,
     "end_time": "2025-02-08T13:32:04.141790",
     "exception": false,
     "start_time": "2025-02-08T13:32:04.118153",
     "status": "completed"
    },
    "tags": []
   },
   "outputs": [],
   "source": [
    "context = \"\"\"\n",
    "Simplify the equation below: \n",
    "t \\cdot \\sqrt[3]{2t^2} + \\sqrt[3]{2t^5} + \\sqrt[3]{54t^2}\n",
    "\"\"\""
   ]
  },
  {
   "cell_type": "code",
   "execution_count": 29,
   "id": "26e47991",
   "metadata": {
    "execution": {
     "iopub.execute_input": "2025-02-08T13:32:04.174378Z",
     "iopub.status.busy": "2025-02-08T13:32:04.173973Z",
     "iopub.status.idle": "2025-02-08T13:32:04.179575Z",
     "shell.execute_reply": "2025-02-08T13:32:04.177230Z"
    },
    "papermill": {
     "duration": 0.024552,
     "end_time": "2025-02-08T13:32:04.182081",
     "exception": false,
     "start_time": "2025-02-08T13:32:04.157529",
     "status": "completed"
    },
    "tags": []
   },
   "outputs": [],
   "source": [
    "template = \"\"\"\n",
    "Solve the problem below. Explain your reasonning step by step. Return the result in markdown format.\n",
    "When returning equations in the Latex format make sure to use $$ $$ around them to make sure they will render in the markdown format.  \n",
    "{context}\n",
    "\"\"\""
   ]
  },
  {
   "cell_type": "code",
   "execution_count": 30,
   "id": "219fa3e3",
   "metadata": {
    "execution": {
     "iopub.execute_input": "2025-02-08T13:32:04.214015Z",
     "iopub.status.busy": "2025-02-08T13:32:04.213582Z",
     "iopub.status.idle": "2025-02-08T13:32:18.895219Z",
     "shell.execute_reply": "2025-02-08T13:32:18.894032Z"
    },
    "papermill": {
     "duration": 14.699653,
     "end_time": "2025-02-08T13:32:18.897095",
     "exception": false,
     "start_time": "2025-02-08T13:32:04.197442",
     "status": "completed"
    },
    "tags": []
   },
   "outputs": [
    {
     "data": {
      "text/markdown": [
       "**selected model: o3-mini**"
      ],
      "text/plain": [
       "<IPython.core.display.Markdown object>"
      ]
     },
     "metadata": {},
     "output_type": "display_data"
    },
    {
     "data": {
      "text/markdown": [
       "We wish to simplify the expression\n",
       "\n",
       "$$\n",
       "t \\cdot \\sqrt[3]{2t^2} + \\sqrt[3]{2t^5} + \\sqrt[3]{54t^2}.\n",
       "$$\n",
       "\n",
       "Let's work through the problem step by step.\n",
       "\n",
       "### Step 1. Rewrite Each Term Using Exponents\n",
       "\n",
       "Recall that the cube root of a number is the same as raising that number to the power of \\( \\frac{1}{3} \\). Thus, we can write:\n",
       "- The first term: \n",
       "  $$\n",
       "  t \\cdot \\sqrt[3]{2t^2} = t \\cdot (2t^2)^{\\frac{1}{3}}.\n",
       "  $$\n",
       "- The second term:\n",
       "  $$\n",
       "  \\sqrt[3]{2t^5} = (2t^5)^{\\frac{1}{3}}.\n",
       "  $$\n",
       "- The third term:\n",
       "  $$\n",
       "  \\sqrt[3]{54t^2} = (54t^2)^{\\frac{1}{3}}.\n",
       "  $$\n",
       "\n",
       "### Step 2. Simplify Each Term\n",
       "\n",
       "1. **First Term Simplification:**\n",
       "\n",
       "   Rewrite \\( t \\) as \\( t^1 \\) and distribute the exponent in the cube root:\n",
       "   \n",
       "   $$\n",
       "   t \\cdot (2t^2)^{\\frac{1}{3}} = t \\cdot 2^{\\frac{1}{3}} (t^2)^{\\frac{1}{3}} = t \\cdot 2^{\\frac{1}{3}} t^{\\frac{2}{3}} = 2^{\\frac{1}{3}} t^{1 + \\frac{2}{3}} = 2^{\\frac{1}{3}} t^{\\frac{5}{3}}.\n",
       "   $$\n",
       "\n",
       "2. **Second Term Simplification:**\n",
       "\n",
       "   Similarly, apply the exponent:\n",
       "   \n",
       "   $$\n",
       "   \\sqrt[3]{2t^5} = (2t^5)^{\\frac{1}{3}} = 2^{\\frac{1}{3}} (t^5)^{\\frac{1}{3}} = 2^{\\frac{1}{3}} t^{\\frac{5}{3}}.\n",
       "   $$\n",
       "\n",
       "3. **Third Term Simplification:**\n",
       "\n",
       "   Notice that \\(54\\) can be factored as \\(54 = 2 \\cdot 27\\) where \\(27 = 3^3\\). Now, distribute the exponent:\n",
       "   \n",
       "   $$\n",
       "   \\sqrt[3]{54t^2} = (54t^2)^{\\frac{1}{3}} = (2 \\cdot 3^3 t^2)^{\\frac{1}{3}} = 2^{\\frac{1}{3}} (3^3)^{\\frac{1}{3}} (t^2)^{\\frac{1}{3}} = 2^{\\frac{1}{3}} \\cdot 3 \\cdot t^{\\frac{2}{3}}.\n",
       "   $$\n",
       "\n",
       "### Step 3. Combine Like Terms\n",
       "\n",
       "Now our expression becomes:\n",
       "\n",
       "$$\n",
       "2^{\\frac{1}{3}} t^{\\frac{5}{3}} + 2^{\\frac{1}{3}} t^{\\frac{5}{3}} + 3 \\cdot 2^{\\frac{1}{3}} t^{\\frac{2}{3}}.\n",
       "$$\n",
       "\n",
       "Notice that the first two terms are like terms. Adding them gives:\n",
       "\n",
       "$$\n",
       "2^{\\frac{1}{3}} t^{\\frac{5}{3}} + 2^{\\frac{1}{3}} t^{\\frac{5}{3}} = 2 \\cdot 2^{\\frac{1}{3}} t^{\\frac{5}{3}} = 2^{\\frac{4}{3}} t^{\\frac{5}{3}}.\n",
       "$$\n",
       "\n",
       "So, the expression becomes:\n",
       "\n",
       "$$\n",
       "2^{\\frac{4}{3}} t^{\\frac{5}{3}} + 3 \\cdot 2^{\\frac{1}{3}} t^{\\frac{2}{3}}.\n",
       "$$\n",
       "\n",
       "### Step 4. Factor Out the Common Factor\n",
       "\n",
       "Both terms share a common factor of \\(2^{\\frac{1}{3}} t^{\\frac{2}{3}}\\). Factor this out:\n",
       "\n",
       "$$\n",
       "2^{\\frac{4}{3}} t^{\\frac{5}{3}} = 2^{\\frac{1}{3}} t^{\\frac{2}{3}} \\cdot \\left(2^{\\frac{4}{3} - \\frac{1}{3}} t^{\\frac{5}{3} - \\frac{2}{3}}\\right) = 2^{\\frac{1}{3}} t^{\\frac{2}{3}} \\cdot \\left(2^{1} t^{1}\\right) = 2^{\\frac{1}{3}} t^{\\frac{2}{3}} \\cdot (2t),\n",
       "$$\n",
       "\n",
       "and\n",
       "\n",
       "$$\n",
       "3 \\cdot 2^{\\frac{1}{3}} t^{\\frac{2}{3}} = 2^{\\frac{1}{3}} t^{\\frac{2}{3}} \\cdot 3.\n",
       "$$\n",
       "\n",
       "Thus, the entire expression factors to:\n",
       "\n",
       "$$\n",
       "2^{\\frac{1}{3}} t^{\\frac{2}{3}} (2t + 3).\n",
       "$$\n",
       "\n",
       "### Final Answer\n",
       "\n",
       "The simplified expression is:\n",
       "\n",
       "$$\n",
       "\\boxed{2^{\\frac{1}{3}} t^{\\frac{2}{3}} (2t + 3)}.\n",
       "$$"
      ],
      "text/plain": [
       "<IPython.core.display.Markdown object>"
      ]
     },
     "metadata": {},
     "output_type": "display_data"
    },
    {
     "data": {
      "text/markdown": [
       "**Markdown report saved to: /kaggle/working/problem_solution.md**"
      ],
      "text/plain": [
       "<IPython.core.display.Markdown object>"
      ]
     },
     "metadata": {},
     "output_type": "display_data"
    }
   ],
   "source": [
    "# Create a ChatPromptTemplate\n",
    "prompt = ChatPromptTemplate.from_template(template)\n",
    "\n",
    "# Prepare parameters for ChatOpenAI\n",
    "model_params = {\n",
    "    \"model\": SELECTED_LLM,\n",
    "    \"api_key\": OPENAI_API_KEY\n",
    "}\n",
    "\n",
    "display(Markdown(f'**selected model: {SELECTED_LLM}**'))\n",
    "\n",
    "# Conditionally set temperature if supported\n",
    "if SELECTED_LLM != ADVANCED_LLM:\n",
    "    model_params[\"temperature\"] = TEMPERATURE \n",
    "    model_params[\"max_tokens\"] = MAX_TOKENS\n",
    "\n",
    "# Initialize the model with the appropriate parameters\n",
    "model = ChatOpenAI(**model_params)\n",
    "\n",
    "# Create the processing chain\n",
    "chain = prompt | model | StrOutputParser()\n",
    "\n",
    "try:\n",
    "    # Invoke the chain to get the result\n",
    "    result = chain.invoke(context)\n",
    "\n",
    "    # Save both the prompt and the result to a Markdown file\n",
    "    file_path = '/kaggle/working/problem_solution.md'\n",
    "    with open(file_path, 'w') as f:\n",
    "        f.write(\"# Question\\n\\n\")\n",
    "        f.write(\"## Prompt\\n\")\n",
    "        f.write(template.format(context=context))\n",
    "        f.write(\"\\n\\n## Answer\\n\")\n",
    "        f.write(result)\n",
    "\n",
    "    # Display the result as Markdown in the notebook\n",
    "    display(Markdown(result))\n",
    "\n",
    "    display(Markdown(f\"**Markdown report saved to: {file_path}**\"))\n",
    "\n",
    "except BadRequestError as e:\n",
    "    print(f\"An error occurred: {e}\")"
   ]
  },
  {
   "cell_type": "markdown",
   "id": "6cd6f489",
   "metadata": {
    "papermill": {
     "duration": 0.015369,
     "end_time": "2025-02-08T13:32:18.928555",
     "exception": false,
     "start_time": "2025-02-08T13:32:18.913186",
     "status": "completed"
    },
    "tags": []
   },
   "source": [
    "## 4.2 DeepSeek R1\n",
    "\n",
    "- Ongoing"
   ]
  },
  {
   "cell_type": "markdown",
   "id": "41e2a736",
   "metadata": {
    "papermill": {
     "duration": 0.01567,
     "end_time": "2025-02-08T13:32:18.960368",
     "exception": false,
     "start_time": "2025-02-08T13:32:18.944698",
     "status": "completed"
    },
    "tags": []
   },
   "source": [
    "# Combinations\n",
    "\n",
    "- https://www.mathacademy.com/tasks/2903305/topics/705/review"
   ]
  },
  {
   "cell_type": "markdown",
   "id": "a132d01d",
   "metadata": {
    "papermill": {
     "duration": 0.014871,
     "end_time": "2025-02-08T13:32:18.990211",
     "exception": false,
     "start_time": "2025-02-08T13:32:18.975340",
     "status": "completed"
    },
    "tags": []
   },
   "source": [
    "### Question 1\n",
    "\n",
    "A calculator is required to answer this question.\n",
    "\n",
    "Out of the ten contestants in an Olympic event, how many possible groups of 3 medalists are there, regardless of which medal they win?\n",
    "\n",
    "a) 5 040  \n",
    "b) 920  \n",
    "c) 120  \n",
    "d) 720  \n",
    "e) 604 800"
   ]
  },
  {
   "cell_type": "code",
   "execution_count": 31,
   "id": "3ec3481c",
   "metadata": {
    "execution": {
     "iopub.execute_input": "2025-02-08T13:32:19.021892Z",
     "iopub.status.busy": "2025-02-08T13:32:19.021515Z",
     "iopub.status.idle": "2025-02-08T13:32:19.027751Z",
     "shell.execute_reply": "2025-02-08T13:32:19.026872Z"
    },
    "papermill": {
     "duration": 0.024419,
     "end_time": "2025-02-08T13:32:19.029571",
     "exception": false,
     "start_time": "2025-02-08T13:32:19.005152",
     "status": "completed"
    },
    "tags": []
   },
   "outputs": [
    {
     "data": {
      "text/plain": [
       "120"
      ]
     },
     "execution_count": 31,
     "metadata": {},
     "output_type": "execute_result"
    }
   ],
   "source": [
    "import math\n",
    "\n",
    "# Total number of contestants\n",
    "n = 10\n",
    "\n",
    "# Number of medalists to choose\n",
    "r = 3\n",
    "\n",
    "# Calculate the number of combinations\n",
    "# Using the formula: nCr = n! / (r! * (n - r)!)\n",
    "combinations = math.comb(n, r)\n",
    "combinations"
   ]
  },
  {
   "cell_type": "code",
   "execution_count": 32,
   "id": "5342ff6c",
   "metadata": {
    "execution": {
     "iopub.execute_input": "2025-02-08T13:32:19.062082Z",
     "iopub.status.busy": "2025-02-08T13:32:19.061685Z",
     "iopub.status.idle": "2025-02-08T13:32:19.068255Z",
     "shell.execute_reply": "2025-02-08T13:32:19.067073Z"
    },
    "papermill": {
     "duration": 0.024127,
     "end_time": "2025-02-08T13:32:19.069969",
     "exception": false,
     "start_time": "2025-02-08T13:32:19.045842",
     "status": "completed"
    },
    "tags": []
   },
   "outputs": [
    {
     "data": {
      "text/plain": [
       "126"
      ]
     },
     "execution_count": 32,
     "metadata": {},
     "output_type": "execute_result"
    }
   ],
   "source": [
    "# Total number of contestants\n",
    "n = 9\n",
    "\n",
    "# Number of medalists to choose\n",
    "r = 4\n",
    "\n",
    "# Calculate the number of combinations\n",
    "# Using the formula: nCr = n! / (r! * (n - r)!)\n",
    "combinations = math.comb(n, r)\n",
    "combinations"
   ]
  },
  {
   "cell_type": "markdown",
   "id": "bd1a291e",
   "metadata": {
    "papermill": {
     "duration": 0.014927,
     "end_time": "2025-02-08T13:32:19.100709",
     "exception": false,
     "start_time": "2025-02-08T13:32:19.085782",
     "status": "completed"
    },
    "tags": []
   },
   "source": [
    "## Combining the Rules of Exponents With Algebraic Expressions"
   ]
  },
  {
   "cell_type": "markdown",
   "id": "008ca652",
   "metadata": {
    "papermill": {
     "duration": 0.015022,
     "end_time": "2025-02-08T13:32:19.131212",
     "exception": false,
     "start_time": "2025-02-08T13:32:19.116190",
     "status": "completed"
    },
    "tags": []
   },
   "source": [
    "### 1 Combining the Rules of Exponents Without Fractions"
   ]
  },
  {
   "cell_type": "markdown",
   "id": "e17bdc3f",
   "metadata": {
    "papermill": {
     "duration": 0.077986,
     "end_time": "2025-02-08T13:32:19.224514",
     "exception": false,
     "start_time": "2025-02-08T13:32:19.146528",
     "status": "completed"
    },
    "tags": []
   },
   "source": [
    "$(xy^4)^3=$"
   ]
  },
  {
   "cell_type": "code",
   "execution_count": 33,
   "id": "9b1e87e7",
   "metadata": {
    "execution": {
     "iopub.execute_input": "2025-02-08T13:32:19.257156Z",
     "iopub.status.busy": "2025-02-08T13:32:19.256756Z",
     "iopub.status.idle": "2025-02-08T13:32:19.265464Z",
     "shell.execute_reply": "2025-02-08T13:32:19.264399Z"
    },
    "papermill": {
     "duration": 0.0268,
     "end_time": "2025-02-08T13:32:19.267206",
     "exception": false,
     "start_time": "2025-02-08T13:32:19.240406",
     "status": "completed"
    },
    "tags": []
   },
   "outputs": [],
   "source": [
    "import datetime\n",
    "\n",
    "def solve_math_problem(context, file_path='/kaggle/working/problem_solution.md'):\n",
    "    \"\"\"\n",
    "    Solve a math problem by constructing a prompt, invoking the LLM chain,\n",
    "    and saving the result to a Markdown file with a timestamp in its name.\n",
    "\n",
    "    Parameters:\n",
    "        context (str): The problem statement or context.\n",
    "        file_path (str): The base path where the Markdown report will be saved.\n",
    "                         The timestamp will be appended to this filename.\n",
    "                         Defaults to '/kaggle/working/problem_solution.md'.\n",
    "\n",
    "    Returns:\n",
    "        result (str): The generated answer in markdown format, or None if an error occurred.\n",
    "    \"\"\"\n",
    "    # Append a timestamp to the file name\n",
    "    timestamp = datetime.datetime.now().strftime(\"%Y%m%d_%H%M%S\")\n",
    "    # Split the file_path into the base and extension (assumes file_path has an extension)\n",
    "    base, ext = file_path.rsplit('.', 1)\n",
    "    file_path_with_timestamp = f\"{base}_{timestamp}.{ext}\"\n",
    "\n",
    "    # Define a default template with a placeholder for the context\n",
    "    template = \"\"\"\n",
    "Solve the problem below. Explain your reasoning step by step. Return the result in markdown format.\n",
    "When returning equations in the Latex format make sure to use $$ $$ around them to ensure they render in markdown.\n",
    "{context}\n",
    "    \"\"\"\n",
    "    \n",
    "    # Create a ChatPromptTemplate from the template\n",
    "    prompt = ChatPromptTemplate.from_template(template)\n",
    "    \n",
    "    # Prepare parameters for ChatOpenAI\n",
    "    model_params = {\n",
    "        \"model\": SELECTED_LLM,\n",
    "        \"api_key\": OPENAI_API_KEY\n",
    "    }\n",
    "    \n",
    "    display(Markdown(f'**Selected model: {SELECTED_LLM}**'))\n",
    "    \n",
    "    # Conditionally set temperature and max_tokens if the model supports these parameters\n",
    "    if SELECTED_LLM != ADVANCED_LLM:\n",
    "        model_params[\"temperature\"] = TEMPERATURE \n",
    "        model_params[\"max_tokens\"] = MAX_TOKENS\n",
    "    \n",
    "    # Initialize the ChatOpenAI model with the specified parameters\n",
    "    model = ChatOpenAI(**model_params)\n",
    "    \n",
    "    # Create the processing chain by composing the prompt, model, and output parser\n",
    "    chain = prompt | model | StrOutputParser()\n",
    "    \n",
    "    try:\n",
    "        # Invoke the chain to generate the answer based on the context\n",
    "        result = chain.invoke(context)\n",
    "    \n",
    "        # Save both the prompt and the result to a Markdown file with a timestamp in its name\n",
    "        with open(file_path_with_timestamp, 'w') as f:\n",
    "            f.write(\"# Question\\n\\n\")\n",
    "            f.write(\"## Prompt\\n\")\n",
    "            f.write(template.format(context=context))\n",
    "            f.write(\"\\n\\n## Answer\\n\")\n",
    "            f.write(result)\n",
    "    \n",
    "        # Display the result and the file path in the notebook\n",
    "        display(Markdown(result))\n",
    "        display(Markdown(f\"**Markdown report saved to: {file_path_with_timestamp}**\"))\n",
    "    \n",
    "        return result\n",
    "    \n",
    "    except BadRequestError as e:\n",
    "        print(f\"An error occurred: {e}\")\n",
    "        return None"
   ]
  },
  {
   "cell_type": "code",
   "execution_count": 34,
   "id": "87b89b8e",
   "metadata": {
    "execution": {
     "iopub.execute_input": "2025-02-08T13:32:19.298825Z",
     "iopub.status.busy": "2025-02-08T13:32:19.298487Z",
     "iopub.status.idle": "2025-02-08T13:32:22.594609Z",
     "shell.execute_reply": "2025-02-08T13:32:22.593504Z"
    },
    "papermill": {
     "duration": 3.314117,
     "end_time": "2025-02-08T13:32:22.596509",
     "exception": false,
     "start_time": "2025-02-08T13:32:19.282392",
     "status": "completed"
    },
    "tags": []
   },
   "outputs": [
    {
     "data": {
      "text/markdown": [
       "**Selected model: gpt-4o-2024-05-13**"
      ],
      "text/plain": [
       "<IPython.core.display.Markdown object>"
      ]
     },
     "metadata": {},
     "output_type": "display_data"
    },
    {
     "data": {
      "text/markdown": [
       "To solve the problem \\((xy^4)^3\\), we need to apply the rules of exponents. Specifically, we will use the power of a product rule and the power of a power rule.\n",
       "\n",
       "### Step-by-Step Solution\n",
       "\n",
       "1. **Identify the expression inside the parentheses:**\n",
       "   $$(xy^4)$$\n",
       "\n",
       "2. **Apply the power of a product rule:**\n",
       "   The power of a product rule states that \\((ab)^n = a^n b^n\\). In this case, \\(a = x\\) and \\(b = y^4\\), and \\(n = 3\\).\n",
       "\n",
       "   So, we can rewrite the expression as:\n",
       "   $$(xy^4)^3 = x^3 (y^4)^3$$\n",
       "\n",
       "3. **Apply the power of a power rule:**\n",
       "   The power of a power rule states that \\((a^m)^n = a^{m \\cdot n}\\). Here, \\(a = y\\), \\(m = 4\\), and \\(n = 3\\).\n",
       "\n",
       "   So, we can simplify \\((y^4)^3\\) as:\n",
       "   $$(y^4)^3 = y^{4 \\cdot 3} = y^{12}$$\n",
       "\n",
       "4. **Combine the results:**\n",
       "   Now, we combine the results from the previous steps:\n",
       "   $$x^3 (y^4)^3 = x^3 y^{12}$$\n",
       "\n",
       "### Final Answer\n",
       "\n",
       "The simplified form of \\((xy^4)^3\\) is:\n",
       "$$\n",
       "(xy^4)^3 = x^3 y^{12}\n",
       "$$"
      ],
      "text/plain": [
       "<IPython.core.display.Markdown object>"
      ]
     },
     "metadata": {},
     "output_type": "display_data"
    },
    {
     "data": {
      "text/markdown": [
       "**Markdown report saved to: /kaggle/working/problem_solution_20250208_133219.md**"
      ],
      "text/plain": [
       "<IPython.core.display.Markdown object>"
      ]
     },
     "metadata": {},
     "output_type": "display_data"
    }
   ],
   "source": [
    "SELECTED_LLM = BASE_LLM \n",
    "\n",
    "# Define your problem context\n",
    "problem_context = \"\"\"\n",
    "Combining the Rules of Exponents Without Fractions\n",
    "$(xy^4)^3=$\n",
    "\"\"\"\n",
    "\n",
    "# Solve the problem and get the result\n",
    "result = solve_math_problem(problem_context)"
   ]
  },
  {
   "cell_type": "code",
   "execution_count": 35,
   "id": "3fdd87f6",
   "metadata": {
    "execution": {
     "iopub.execute_input": "2025-02-08T13:32:22.628508Z",
     "iopub.status.busy": "2025-02-08T13:32:22.628131Z",
     "iopub.status.idle": "2025-02-08T13:32:29.856530Z",
     "shell.execute_reply": "2025-02-08T13:32:29.855279Z"
    },
    "papermill": {
     "duration": 7.246489,
     "end_time": "2025-02-08T13:32:29.858458",
     "exception": false,
     "start_time": "2025-02-08T13:32:22.611969",
     "status": "completed"
    },
    "tags": []
   },
   "outputs": [
    {
     "data": {
      "text/markdown": [
       "**Selected model: o3-mini**"
      ],
      "text/plain": [
       "<IPython.core.display.Markdown object>"
      ]
     },
     "metadata": {},
     "output_type": "display_data"
    },
    {
     "data": {
      "text/markdown": [
       "We start with the expression:\n",
       "\n",
       "$$\n",
       "(xy^4)^3\n",
       "$$\n",
       "\n",
       "Our goal is to simplify this by applying the rules of exponents.\n",
       "\n",
       "### Step 1: Distribute the Exponent\n",
       "\n",
       "In general, if you have a product raised to an exponent, you can apply the exponent to each factor in the product. That is, \n",
       "\n",
       "$$\n",
       "(ab)^c = a^c \\cdot b^c.\n",
       "$$\n",
       "\n",
       "Here, let \\( a = x \\) and \\( b = y^4 \\). Thus,\n",
       "\n",
       "$$\n",
       "(xy^4)^3 = x^3 \\cdot (y^4)^3.\n",
       "$$\n",
       "\n",
       "### Step 2: Simplify the Exponential Expression\n",
       "\n",
       "Now, we use another rule of exponents which states that when you power a power, you multiply the exponents:\n",
       "\n",
       "$$\n",
       "(a^b)^c = a^{b \\cdot c}.\n",
       "$$\n",
       "\n",
       "So, for \\( (y^4)^3 \\):\n",
       "\n",
       "$$\n",
       "(y^4)^3 = y^{4 \\cdot 3} = y^{12}.\n",
       "$$\n",
       "\n",
       "### Step 3: Write the Final Simplified Form\n",
       "\n",
       "Putting everything together, we have:\n",
       "\n",
       "$$\n",
       "(xy^4)^3 = x^3 \\cdot y^{12}.\n",
       "$$\n",
       "\n",
       "### Final Answer\n",
       "\n",
       "$$\n",
       "x^3 y^{12}\n",
       "$$"
      ],
      "text/plain": [
       "<IPython.core.display.Markdown object>"
      ]
     },
     "metadata": {},
     "output_type": "display_data"
    },
    {
     "data": {
      "text/markdown": [
       "**Markdown report saved to: /kaggle/working/problem_solution_20250208_133222.md**"
      ],
      "text/plain": [
       "<IPython.core.display.Markdown object>"
      ]
     },
     "metadata": {},
     "output_type": "display_data"
    }
   ],
   "source": [
    "SELECTED_LLM = ADVANCED_LLM\n",
    "\n",
    "# Define your problem context\n",
    "problem_context = \"\"\"\n",
    "Combining the Rules of Exponents Without Fractions\n",
    "$(xy^4)^3=$\n",
    "\"\"\"\n",
    "\n",
    "# Solve the problem and get the result\n",
    "result = solve_math_problem(problem_context)"
   ]
  },
  {
   "cell_type": "markdown",
   "id": "15263cd8",
   "metadata": {
    "papermill": {
     "duration": 0.015902,
     "end_time": "2025-02-08T13:32:29.890519",
     "exception": false,
     "start_time": "2025-02-08T13:32:29.874617",
     "status": "completed"
    },
    "tags": []
   },
   "source": [
    " Find the point on the line $  y = -\\frac{3}{2}x + 3 $ that is closest to the point $ (-3, 4). $"
   ]
  },
  {
   "cell_type": "code",
   "execution_count": 36,
   "id": "300dd9f2",
   "metadata": {
    "execution": {
     "iopub.execute_input": "2025-02-08T13:32:29.924277Z",
     "iopub.status.busy": "2025-02-08T13:32:29.923834Z",
     "iopub.status.idle": "2025-02-08T13:32:39.987712Z",
     "shell.execute_reply": "2025-02-08T13:32:39.986644Z"
    },
    "papermill": {
     "duration": 10.082633,
     "end_time": "2025-02-08T13:32:39.989646",
     "exception": false,
     "start_time": "2025-02-08T13:32:29.907013",
     "status": "completed"
    },
    "tags": []
   },
   "outputs": [
    {
     "data": {
      "text/markdown": [
       "**Selected model: o3-mini**"
      ],
      "text/plain": [
       "<IPython.core.display.Markdown object>"
      ]
     },
     "metadata": {},
     "output_type": "display_data"
    },
    {
     "data": {
      "text/markdown": [
       "We are given the line\n",
       "\n",
       "$$\n",
       "y = -\\frac{3}{2}x + 3\n",
       "$$\n",
       "\n",
       "and we need to find the point on this line that is closest to the point \\((-3, 4)\\). The closest point will lie along the perpendicular from \\((-3, 4)\\) to the given line.\n",
       "\n",
       "### Step 1. Determine the Slope of the Given Line\n",
       "\n",
       "The equation of the given line is\n",
       "\n",
       "$$\n",
       "y = -\\frac{3}{2}x + 3,\n",
       "$$\n",
       "\n",
       "so its slope is\n",
       "\n",
       "$$\n",
       "m_1 = -\\frac{3}{2}.\n",
       "$$\n",
       "\n",
       "### Step 2. Find the Slope of the Perpendicular Line\n",
       "\n",
       "The slope of a line perpendicular to another is the negative reciprocal of the original slope. Thus, if\n",
       "\n",
       "$$\n",
       "m_1 = -\\frac{3}{2},\n",
       "$$\n",
       "\n",
       "then the slope of the perpendicular line, \\( m_2 \\), is\n",
       "\n",
       "$$\n",
       "m_2 = -\\frac{1}{m_1} = -\\frac{1}{-\\frac{3}{2}} = \\frac{2}{3}.\n",
       "$$\n",
       "\n",
       "### Step 3. Write the Equation of the Perpendicular Line Through \\((-3, 4)\\)\n",
       "\n",
       "Using the point-slope form, the equation of the line through \\((-3, 4)\\) with slope \\(\\frac{2}{3}\\) is\n",
       "\n",
       "$$\n",
       "y - 4 = \\frac{2}{3}(x + 3).\n",
       "$$\n",
       "\n",
       "Solving for \\(y\\):\n",
       "\n",
       "$$\n",
       "y = \\frac{2}{3}(x + 3) + 4.\n",
       "$$\n",
       "\n",
       "Expanding:\n",
       "\n",
       "$$\n",
       "y = \\frac{2}{3}x + 2 + 4,\n",
       "$$\n",
       "\n",
       "which simplifies to\n",
       "\n",
       "$$\n",
       "y = \\frac{2}{3}x + 6.\n",
       "$$\n",
       "\n",
       "### Step 4. Find the Intersection of the Two Lines\n",
       "\n",
       "The point on the given line that is closest to \\((-3, 4)\\) is the intersection of\n",
       "\n",
       "$$\n",
       "y = -\\frac{3}{2}x + 3\n",
       "$$\n",
       "\n",
       "and\n",
       "\n",
       "$$\n",
       "y = \\frac{2}{3}x + 6.\n",
       "$$\n",
       "\n",
       "Set the two expressions for \\(y\\) equal to each other:\n",
       "\n",
       "$$\n",
       "-\\frac{3}{2}x + 3 = \\frac{2}{3}x + 6.\n",
       "$$\n",
       "\n",
       "To eliminate fractions, multiply every term by 6:\n",
       "\n",
       "$$\n",
       "6\\left(-\\frac{3}{2}x\\right) + 6(3) = 6\\left(\\frac{2}{3}x\\right) + 6(6).\n",
       "$$\n",
       "\n",
       "This gives:\n",
       "\n",
       "$$\n",
       "-9x + 18 = 4x + 36.\n",
       "$$\n",
       "\n",
       "Now, solve for \\(x\\):\n",
       "\n",
       "1. Combine like terms:\n",
       "\n",
       "   $$\n",
       "   -9x - 4x = 36 - 18,\n",
       "   $$\n",
       "\n",
       "   which simplifies to:\n",
       "\n",
       "   $$\n",
       "   -13x = 18.\n",
       "   $$\n",
       "\n",
       "2. Solve for \\(x\\):\n",
       "\n",
       "   $$\n",
       "   x = -\\frac{18}{13}.\n",
       "   $$\n",
       "\n",
       "### Step 5. Find the Corresponding \\(y\\) Coordinate\n",
       "\n",
       "Substitute \\(x = -\\frac{18}{13}\\) back into the equation of the given line:\n",
       "\n",
       "$$\n",
       "y = -\\frac{3}{2}\\left(-\\frac{18}{13}\\right) + 3.\n",
       "$$\n",
       "\n",
       "Simplify the multiplication:\n",
       "\n",
       "$$\n",
       "y = \\frac{3 \\cdot 18}{2 \\cdot 13} + 3 = \\frac{54}{26} + 3.\n",
       "$$\n",
       "\n",
       "Simplify the fraction \\(\\frac{54}{26}\\) by dividing numerator and denominator by 2:\n",
       "\n",
       "$$\n",
       "\\frac{54}{26} = \\frac{27}{13}.\n",
       "$$\n",
       "\n",
       "Now add:\n",
       "\n",
       "$$\n",
       "y = \\frac{27}{13} + 3 = \\frac{27}{13} + \\frac{39}{13} = \\frac{66}{13}.\n",
       "$$\n",
       "\n",
       "### Final Answer\n",
       "\n",
       "Thus, the point on the line closest to \\((-3, 4)\\) is\n",
       "\n",
       "$$\n",
       "\\left(-\\frac{18}{13}, \\frac{66}{13}\\right).\n",
       "$$\n",
       "\n",
       "This is the required result."
      ],
      "text/plain": [
       "<IPython.core.display.Markdown object>"
      ]
     },
     "metadata": {},
     "output_type": "display_data"
    },
    {
     "data": {
      "text/markdown": [
       "**Markdown report saved to: /kaggle/working/problem_solution_20250208_133229.md**"
      ],
      "text/plain": [
       "<IPython.core.display.Markdown object>"
      ]
     },
     "metadata": {},
     "output_type": "display_data"
    }
   ],
   "source": [
    "SELECTED_LLM = ADVANCED_LLM\n",
    "\n",
    "# Define your problem context\n",
    "problem_context = \"\"\"\n",
    "Find the point on the line $  y = -\\frac{3}{2}x + 3 $ that is closest to the point $ (-3, 4). $\n",
    "\"\"\"\n",
    "\n",
    "# Solve the problem and get the result\n",
    "result = solve_math_problem(problem_context)"
   ]
  },
  {
   "cell_type": "code",
   "execution_count": 37,
   "id": "34e431b6",
   "metadata": {
    "execution": {
     "iopub.execute_input": "2025-02-08T13:32:40.024282Z",
     "iopub.status.busy": "2025-02-08T13:32:40.023888Z",
     "iopub.status.idle": "2025-02-08T13:32:50.714776Z",
     "shell.execute_reply": "2025-02-08T13:32:50.713512Z"
    },
    "papermill": {
     "duration": 10.710311,
     "end_time": "2025-02-08T13:32:50.716882",
     "exception": false,
     "start_time": "2025-02-08T13:32:40.006571",
     "status": "completed"
    },
    "tags": []
   },
   "outputs": [
    {
     "data": {
      "text/markdown": [
       "**Selected model: o3-mini**"
      ],
      "text/plain": [
       "<IPython.core.display.Markdown object>"
      ]
     },
     "metadata": {},
     "output_type": "display_data"
    },
    {
     "data": {
      "text/markdown": [
       "Below is a step-by-step explanation of how to find the point on the line \n",
       "$$ y = -\\frac{3}{2}x + 3 $$\n",
       "that is closest to the point \\( (-3, 4) \\).\n",
       "\n",
       "---\n",
       "\n",
       "### Step 1. Find the Slope of the Given Line\n",
       "\n",
       "The given line is:\n",
       "$$ y = -\\frac{3}{2}x + 3 $$\n",
       "Thus, its slope is:\n",
       "$$ m = -\\frac{3}{2} $$\n",
       "\n",
       "---\n",
       "\n",
       "### Step 2. Determine the Slope of the Perpendicular Line\n",
       "\n",
       "The line perpendicular to the given line will have a slope that is the negative reciprocal of \\( m \\). Therefore:\n",
       "$$ m_{\\perp} = -\\frac{1}{m} = -\\frac{1}{-\\frac{3}{2}} = \\frac{2}{3} $$\n",
       "\n",
       "---\n",
       "\n",
       "### Step 3. Write the Equation of the Perpendicular Line Through \\( (-3,4) \\)\n",
       "\n",
       "We use the point-slope form of the equation:\n",
       "$$ y - y_1 = m_{\\perp}(x - x_1) $$\n",
       "Plugging in \\( x_1 = -3 \\), \\( y_1 = 4 \\), and \\( m_{\\perp} = \\frac{2}{3} \\), we get:\n",
       "$$ y - 4 = \\frac{2}{3}(x + 3) $$\n",
       "\n",
       "Expanding and solving for \\( y \\):\n",
       "$$ y = \\frac{2}{3}x + \\frac{2}{3}(3) + 4 $$\n",
       "$$ y = \\frac{2}{3}x + 2 + 4 $$\n",
       "$$ y = \\frac{2}{3}x + 6 $$\n",
       "\n",
       "---\n",
       "\n",
       "### Step 4. Find the Intersection of the Two Lines\n",
       "\n",
       "To find the point on the original line that is closest to \\( (-3,4) \\), set the \\( y \\)-values of the two lines equal:\n",
       "$$ -\\frac{3}{2}x + 3 = \\frac{2}{3}x + 6 $$\n",
       "\n",
       "Multiply every term by 6 (the least common multiple of 2 and 3) to eliminate the fractions:\n",
       "$$ 6\\left(-\\frac{3}{2}x\\right) + 6(3) = 6\\left(\\frac{2}{3}x\\right) + 6(6) $$\n",
       "$$ -9x + 18 = 4x + 36 $$\n",
       "\n",
       "Solve for \\( x \\):\n",
       "$$ -9x - 4x = 36 - 18 $$\n",
       "$$ -13x = 18 $$\n",
       "$$ x = -\\frac{18}{13} $$\n",
       "\n",
       "Substitute \\( x = -\\frac{18}{13} \\) back into one of the line equations (we use the original line):\n",
       "$$ y = -\\frac{3}{2}\\left(-\\frac{18}{13}\\right) + 3 $$\n",
       "$$ y = \\frac{3}{2}\\cdot\\frac{18}{13} + 3 $$\n",
       "$$ y = \\frac{54}{26} + 3 $$\n",
       "Simplify \\( \\frac{54}{26} \\) by dividing numerator and denominator by 2:\n",
       "$$ y = \\frac{27}{13} + 3 $$\n",
       "Write 3 as \\( \\frac{39}{13} \\):\n",
       "$$ y = \\frac{27}{13} + \\frac{39}{13} $$\n",
       "$$ y = \\frac{66}{13} $$\n",
       "\n",
       "Thus, the point on the line closest to \\( (-3,4) \\) is:\n",
       "$$ \\left(-\\frac{18}{13}, \\frac{66}{13}\\right) $$\n",
       "\n",
       "---\n",
       "\n",
       "### Step 5. Python Script to Solve the Problem\n",
       "\n",
       "Below is a Python script that uses the sympy library to solve the system of equations:\n",
       "\n",
       "```python\n",
       "import sympy as sp\n",
       "\n",
       "# Define the symbols\n",
       "x, y = sp.symbols('x y')\n",
       "\n",
       "# Define the equations\n",
       "# Equation of the given line\n",
       "eq1 = sp.Eq(y, -sp.Rational(3, 2) * x + 3)\n",
       "# Equation of the perpendicular line passing through (-3, 4)\n",
       "eq2 = sp.Eq(y, sp.Rational(2, 3) * (x + 3) + 4)\n",
       "\n",
       "# Solve the system of equations\n",
       "solution = sp.solve((eq1, eq2), (x, y))\n",
       "print(\"The point on the line closest to (-3, 4) is:\", solution)\n",
       "```\n",
       "\n",
       "When you run this script, the output will be:\n",
       "```\n",
       "The point on the line closest to (-3, 4) is: {x: -18/13, y: 66/13}\n",
       "```\n",
       "\n",
       "---\n",
       "\n",
       "### Final Answer\n",
       "\n",
       "The point on the line \n",
       "$$ y = -\\frac{3}{2}x + 3 $$\n",
       "that is closest to \\( (-3, 4) \\) is:\n",
       "$$ \\left(-\\frac{18}{13}, \\frac{66}{13}\\right) $$\n"
      ],
      "text/plain": [
       "<IPython.core.display.Markdown object>"
      ]
     },
     "metadata": {},
     "output_type": "display_data"
    },
    {
     "data": {
      "text/markdown": [
       "**Markdown report saved to: /kaggle/working/problem_solution_20250208_133240.md**"
      ],
      "text/plain": [
       "<IPython.core.display.Markdown object>"
      ]
     },
     "metadata": {},
     "output_type": "display_data"
    }
   ],
   "source": [
    "SELECTED_LLM = ADVANCED_LLM\n",
    "\n",
    "# Define your problem context\n",
    "problem_context = \"\"\"\n",
    "Find the point on the line $  y = -\\frac{3}{2}x + 3 $ that is closest to the point $ (-3, 4). $\n",
    "\n",
    "Write a Python script to solve this problem\n",
    "\"\"\"\n",
    "\n",
    "# Solve the problem and get the result\n",
    "result = solve_math_problem(problem_context)"
   ]
  },
  {
   "cell_type": "code",
   "execution_count": 38,
   "id": "c44ba9de",
   "metadata": {
    "execution": {
     "iopub.execute_input": "2025-02-08T13:32:50.753506Z",
     "iopub.status.busy": "2025-02-08T13:32:50.753173Z",
     "iopub.status.idle": "2025-02-08T13:32:50.783912Z",
     "shell.execute_reply": "2025-02-08T13:32:50.782474Z"
    },
    "papermill": {
     "duration": 0.051256,
     "end_time": "2025-02-08T13:32:50.785771",
     "exception": false,
     "start_time": "2025-02-08T13:32:50.734515",
     "status": "completed"
    },
    "tags": []
   },
   "outputs": [
    {
     "name": "stdout",
     "output_type": "stream",
     "text": [
      "The point on the line closest to (-3, 4) is:\n",
      "(-18/13, 66/13)\n"
     ]
    }
   ],
   "source": [
    "import sympy as sp\n",
    "\n",
    "# Define the symbols\n",
    "x = sp.symbols('x')\n",
    "\n",
    "# Define the line equation: y = -3/2 x + 3\n",
    "y_line = -sp.Rational(3, 2)*x + 3\n",
    "\n",
    "# Define the point (-3, 4)\n",
    "point = (-3, 4)\n",
    "\n",
    "# Define the squared distance between a point on the line and the point (-3,4)\n",
    "D_squared = (x - point[0])**2 + (y_line - point[1])**2\n",
    "\n",
    "# Compute the derivative with respect to x and set it equal to zero to minimize D_squared\n",
    "derivative = sp.diff(D_squared, x)\n",
    "critical_point = sp.solve(derivative, x)[0]\n",
    "\n",
    "# Compute the corresponding y-coordinate on the line\n",
    "y_coord = y_line.subs(x, critical_point)\n",
    "\n",
    "# Simplify the result\n",
    "critical_point = sp.nsimplify(critical_point)\n",
    "y_coord = sp.nsimplify(y_coord)\n",
    "\n",
    "print(\"The point on the line closest to (-3, 4) is:\")\n",
    "print(f\"({critical_point}, {y_coord})\")"
   ]
  },
  {
   "cell_type": "markdown",
   "id": "d56c941e",
   "metadata": {
    "execution": {
     "iopub.execute_input": "2025-02-08T13:20:54.162466Z",
     "iopub.status.busy": "2025-02-08T13:20:54.162090Z",
     "iopub.status.idle": "2025-02-08T13:20:54.169203Z",
     "shell.execute_reply": "2025-02-08T13:20:54.167906Z",
     "shell.execute_reply.started": "2025-02-08T13:20:54.162439Z"
    },
    "papermill": {
     "duration": 0.01675,
     "end_time": "2025-02-08T13:32:50.820305",
     "exception": false,
     "start_time": "2025-02-08T13:32:50.803555",
     "status": "completed"
    },
    "tags": []
   },
   "source": [
    "- Find the point on the line $  y = 5x - 3 $ that is closest to the point $ (-4, 3). $"
   ]
  },
  {
   "cell_type": "code",
   "execution_count": 39,
   "id": "4ee4045c",
   "metadata": {
    "execution": {
     "iopub.execute_input": "2025-02-08T13:32:50.856061Z",
     "iopub.status.busy": "2025-02-08T13:32:50.855651Z",
     "iopub.status.idle": "2025-02-08T13:32:57.692344Z",
     "shell.execute_reply": "2025-02-08T13:32:57.691204Z"
    },
    "papermill": {
     "duration": 6.856792,
     "end_time": "2025-02-08T13:32:57.694061",
     "exception": false,
     "start_time": "2025-02-08T13:32:50.837269",
     "status": "completed"
    },
    "tags": []
   },
   "outputs": [
    {
     "data": {
      "text/markdown": [
       "**Selected model: o3-mini**"
      ],
      "text/plain": [
       "<IPython.core.display.Markdown object>"
      ]
     },
     "metadata": {},
     "output_type": "display_data"
    },
    {
     "data": {
      "text/markdown": [
       "We need to find the point on the line  \n",
       "$$ y = 5x - 3 $$  \n",
       "that is closest to the point  \n",
       "$$ (-4,3). $$  \n",
       "\n",
       "### Step 1. Represent the Point on the Line\n",
       "\n",
       "Let the point on the line be  \n",
       "$$ (x, 5x-3). $$\n",
       "\n",
       "### Step 2. Write the Expression for the Squared Distance\n",
       "\n",
       "The squared distance, \\(D^2\\), from the point \\((x, 5x-3)\\) on the line to \\((-4,3)\\) is given by:\n",
       "$$\n",
       "D^2 = (x - (-4))^2 + (5x - 3 - 3)^2 = (x + 4)^2 + (5x - 6)^2.\n",
       "$$  \n",
       "Minimizing \\(D^2\\) will also minimize the distance \\(D\\), and working with \\(D^2\\) avoids square root complications.\n",
       "\n",
       "### Step 3. Expand the Squared Distance Expression\n",
       "\n",
       "Expand each term:\n",
       "$$\n",
       "(x+4)^2 = x^2 + 8x + 16,\n",
       "$$\n",
       "$$\n",
       "(5x-6)^2 = 25x^2 - 60x + 36.\n",
       "$$  \n",
       "Thus, the total squared distance is:\n",
       "$$\n",
       "D^2 = x^2 + 8x + 16 + 25x^2 - 60x + 36.\n",
       "$$\n",
       "\n",
       "Combine like terms:\n",
       "$$\n",
       "D^2 = (1+25)x^2 + (8-60)x + (16+36) = 26x^2 - 52x + 52.\n",
       "$$\n",
       "\n",
       "### Step 4. Minimize the Squared Distance\n",
       "\n",
       "The quadratic function in \\(x\\):\n",
       "$$\n",
       "26x^2 - 52x + 52\n",
       "$$  \n",
       "has a minimum at\n",
       "$$\n",
       "x = -\\frac{b}{2a},\n",
       "$$  \n",
       "where \\(a = 26\\) and \\(b = -52\\). Thus,\n",
       "$$\n",
       "x = -\\frac{-52}{2 \\cdot 26} = \\frac{52}{52} = 1.\n",
       "$$\n",
       "\n",
       "### Step 5. Find the Corresponding y-coordinate\n",
       "\n",
       "Substitute \\(x = 1\\) into the line equation:\n",
       "$$\n",
       "y = 5(1) - 3 = 5 - 3 = 2.\n",
       "$$  \n",
       "\n",
       "### Final Answer\n",
       "\n",
       "The point on the line that is closest to \\((-4, 3)\\) is:\n",
       "$$\n",
       "\\boxed{(1,2)}\n",
       "$$."
      ],
      "text/plain": [
       "<IPython.core.display.Markdown object>"
      ]
     },
     "metadata": {},
     "output_type": "display_data"
    },
    {
     "data": {
      "text/markdown": [
       "**Markdown report saved to: /kaggle/working/problem_solution_20250208_133250.md**"
      ],
      "text/plain": [
       "<IPython.core.display.Markdown object>"
      ]
     },
     "metadata": {},
     "output_type": "display_data"
    }
   ],
   "source": [
    "SELECTED_LLM = ADVANCED_LLM\n",
    "\n",
    "# Define your problem context\n",
    "problem_context = \"\"\"\n",
    "Find the point on the line $  y = 5x - 3 $ that is closest to the point $ (-4, 3). $\n",
    "\"\"\"\n",
    "\n",
    "# Solve the problem and get the result\n",
    "result = solve_math_problem(problem_context)"
   ]
  },
  {
   "cell_type": "markdown",
   "id": "d2125ab1",
   "metadata": {
    "execution": {
     "iopub.execute_input": "2025-02-08T13:25:43.136504Z",
     "iopub.status.busy": "2025-02-08T13:25:43.136163Z",
     "iopub.status.idle": "2025-02-08T13:25:43.142688Z",
     "shell.execute_reply": "2025-02-08T13:25:43.141502Z",
     "shell.execute_reply.started": "2025-02-08T13:25:43.136477Z"
    },
    "papermill": {
     "duration": 0.016634,
     "end_time": "2025-02-08T13:32:57.727893",
     "exception": false,
     "start_time": "2025-02-08T13:32:57.711259",
     "status": "completed"
    },
    "tags": []
   },
   "source": [
    "- Find the shortest distance between the point $(5,1)$ and the line $y-x=0$ "
   ]
  },
  {
   "cell_type": "code",
   "execution_count": 40,
   "id": "2beffdf5",
   "metadata": {
    "execution": {
     "iopub.execute_input": "2025-02-08T13:32:57.764184Z",
     "iopub.status.busy": "2025-02-08T13:32:57.763759Z",
     "iopub.status.idle": "2025-02-08T13:33:03.958905Z",
     "shell.execute_reply": "2025-02-08T13:33:03.957715Z"
    },
    "papermill": {
     "duration": 6.215948,
     "end_time": "2025-02-08T13:33:03.961144",
     "exception": false,
     "start_time": "2025-02-08T13:32:57.745196",
     "status": "completed"
    },
    "tags": []
   },
   "outputs": [
    {
     "data": {
      "text/markdown": [
       "**Selected model: o3-mini**"
      ],
      "text/plain": [
       "<IPython.core.display.Markdown object>"
      ]
     },
     "metadata": {},
     "output_type": "display_data"
    },
    {
     "data": {
      "text/markdown": [
       "To find the shortest distance between the point $$ (5, 1) $$ and the line given by the equation $$ y - x = 0 $$, we can use the formula for the distance from a point to a line.\n",
       "\n",
       "### Step 1: Write the Equation of the Line in Standard Form\n",
       "\n",
       "The standard form for the equation of a line is  \n",
       "$$ Ax + By + C = 0. $$\n",
       "\n",
       "The given line is  \n",
       "$$ y - x = 0. $$\n",
       "\n",
       "We can rewrite this as  \n",
       "$$ -x + y + 0 = 0, $$  \n",
       "where  \n",
       "$$ A = -1, \\quad B = 1, \\quad \\text{and} \\quad C = 0. $$\n",
       "\n",
       "### Step 2: Use the Distance Formula\n",
       "\n",
       "The distance $$ d $$ from a point $$ (x_0, y_0) $$ to a line $$ Ax + By + C = 0 $$ is given by:  \n",
       "\n",
       "$$\n",
       "d = \\frac{\\left| Ax_0 + By_0 + C \\right|}{\\sqrt{A^2 + B^2}}.\n",
       "$$\n",
       "\n",
       "### Step 3: Substitute the Given Values\n",
       "\n",
       "For the point $$ (5,1) $$, we have $$ x_0 = 5 $$ and $$ y_0 = 1 $$. Substituting the values of $$ A, B, C $$:\n",
       "\n",
       "$$\n",
       "d = \\frac{\\left| -1 \\cdot 5 + 1 \\cdot 1 + 0 \\right|}{\\sqrt{(-1)^2 + 1^2}}.\n",
       "$$\n",
       "\n",
       "Simplify the numerator:\n",
       "\n",
       "$$\n",
       "-1 \\cdot 5 + 1 \\cdot 1 = -5 + 1 = -4.\n",
       "$$\n",
       "\n",
       "Taking the absolute value, we get:\n",
       "\n",
       "$$\n",
       "| -4 | = 4.\n",
       "$$\n",
       "\n",
       "Now, simplify the denominator:\n",
       "\n",
       "$$\n",
       "\\sqrt{(-1)^2 + 1^2} = \\sqrt{1 + 1} = \\sqrt{2}.\n",
       "$$\n",
       "\n",
       "### Step 4: Compute the Distance\n",
       "\n",
       "Substitute the simplified numerator and denominator back into the formula:\n",
       "\n",
       "$$\n",
       "d = \\frac{4}{\\sqrt{2}}.\n",
       "$$\n",
       "\n",
       "To rationalize the denominator, multiply the numerator and denominator by $$ \\sqrt{2} $$:\n",
       "\n",
       "$$\n",
       "d = \\frac{4 \\sqrt{2}}{2} = 2\\sqrt{2}.\n",
       "$$\n",
       "\n",
       "### Final Answer\n",
       "\n",
       "The shortest distance between the point $$ (5, 1) $$ and the line $$ y - x = 0 $$ is\n",
       "\n",
       "$$\n",
       "\\boxed{2\\sqrt{2}}.\n",
       "$$"
      ],
      "text/plain": [
       "<IPython.core.display.Markdown object>"
      ]
     },
     "metadata": {},
     "output_type": "display_data"
    },
    {
     "data": {
      "text/markdown": [
       "**Markdown report saved to: /kaggle/working/problem_solution_20250208_133257.md**"
      ],
      "text/plain": [
       "<IPython.core.display.Markdown object>"
      ]
     },
     "metadata": {},
     "output_type": "display_data"
    }
   ],
   "source": [
    "SELECTED_LLM = ADVANCED_LLM\n",
    "\n",
    "# Define your problem context\n",
    "problem_context = \"\"\"\n",
    "Find the shortest distance between the point $(5,1)$ and the line $y-x=0$ \n",
    "\"\"\"\n",
    "\n",
    "# Solve the problem and get the result\n",
    "result = solve_math_problem(problem_context)"
   ]
  },
  {
   "cell_type": "markdown",
   "id": "95c04d11",
   "metadata": {
    "papermill": {
     "duration": 0.017084,
     "end_time": "2025-02-08T13:33:03.997769",
     "exception": false,
     "start_time": "2025-02-08T13:33:03.980685",
     "status": "completed"
    },
    "tags": []
   },
   "source": [
    "# References\n",
    "\n",
    "- https://stackoverflow.com/questions/4028267/how-to-render-latex-markup-using-python\n",
    "- https://www.kaggle.com/code/venkatkumar001/latexify-code-to-mathematicalexpression/notebook"
   ]
  }
 ],
 "metadata": {
  "kaggle": {
   "accelerator": "none",
   "dataSources": [],
   "dockerImageVersionId": 30839,
   "isGpuEnabled": false,
   "isInternetEnabled": true,
   "language": "python",
   "sourceType": "notebook"
  },
  "kernelspec": {
   "display_name": "Python 3",
   "language": "python",
   "name": "python3"
  },
  "language_info": {
   "codemirror_mode": {
    "name": "ipython",
    "version": 3
   },
   "file_extension": ".py",
   "mimetype": "text/x-python",
   "name": "python",
   "nbconvert_exporter": "python",
   "pygments_lexer": "ipython3",
   "version": "3.10.12"
  },
  "papermill": {
   "default_parameters": {},
   "duration": 84.953827,
   "end_time": "2025-02-08T13:33:05.139575",
   "environment_variables": {},
   "exception": null,
   "input_path": "__notebook__.ipynb",
   "output_path": "__notebook__.ipynb",
   "parameters": {},
   "start_time": "2025-02-08T13:31:40.185748",
   "version": "2.6.0"
  }
 },
 "nbformat": 4,
 "nbformat_minor": 5
}
